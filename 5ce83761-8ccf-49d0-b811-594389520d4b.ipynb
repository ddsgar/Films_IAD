{
 "cells": [
  {
   "cell_type": "markdown",
   "metadata": {
    "id": "sIfNaMOxgFyK"
   },
   "source": [
    "## Исследование данных о российском кинопрокате\n",
    "\n"
   ]
  },
  {
   "cell_type": "markdown",
   "metadata": {},
   "source": [
    "**Описание проекта анализа рынка российского кинопроката**\n",
    "\n",
    "**Заказчик проекта**:\n",
    "Министерство культуры Российской Федерации.\n",
    "\n",
    "**Цель проекта**:\n",
    "Исследование рынка российского кинопроката с целью выявления текущих трендов, с особым вниманием к фильмам, получившим государственную поддержку. Основная задача - оценить интерес зрителя к таким фильмам.\n",
    "\n",
    "**Исходные данные для анализа**:\n",
    "Для выполнения проекта предоставлены данные, опубликованные на портале открытых данных Министерства культуры. Набор данных включает в себя информацию о прокатных удостоверениях, сборах и государственной поддержке фильмов, а также данные с сайта КиноПоиск.\n",
    "\n",
    "**Этапы выполнения проекта**:\n",
    "\n",
    "1. **Подготовка данных:**\n",
    "   - Объединение файлов с данными в один датафрейм, обеспечивая включение всех объектов из датасета mkrf_movies.\n",
    "   - Проверка типов данных и их преобразование при необходимости.\n",
    "   - Анализ и обработка пропусков в данных.\n",
    "   - Поиск и обработка дубликатов.\n",
    "   - Корректировка категориальных и количественных значений, включая исправление проблемных значений и обработку подозрительных данных.\n",
    "   - Добавление новых столбцов с информацией о годе проката, именем и фамилией главного режиссёра, основным жанром фильма и долей государственной поддержки от общего бюджета фильма.\n",
    "\n",
    "2. **Исследовательский анализ данных:**\n",
    "   - Анализ количества фильмов, выходивших в прокат каждый год, и доли фильмов с указанной информацией о прокате.\n",
    "   - Изучение динамики проката по годам, включая анализ минимальных и максимальных сумм сборов.\n",
    "   - Сравнение средних и медианных сумм сборов по годам.\n",
    "   - Оценка влияния возрастного ограничения на сборы фильма в прокате.\n",
    "\n",
    "3. **Анализ фильмов с государственной поддержкой:**\n",
    "   - Исследование объемов государственной поддержки и окупаемости таких фильмов.\n",
    "   - Анализ рейтинга фильмов с государственной поддержкой.\n",
    "\n",
    "**Общий вывод**:\n",
    "В ходе проекта будет проведен комплексный анализ рынка российского кинопроката с акцентом на фильмы, получившие государственную поддержку. Основываясь на данных о прокатных удостоверениях, сборах, государственной поддержке и рейтингах с КиноПоиска, будут выявлены ключевые тренды и предпочтения зрителей. Результаты исследования помогут заказчику - Министерству культуры Российской Федерации - в формировании стратегии развития отечественного кинематографа и распределении средств государственной поддержки."
   ]
  },
  {
   "cell_type": "markdown",
   "metadata": {
    "id": "3bSlkCsbgFyL"
   },
   "source": [
    "### Шаг 1. Открытие файлов с данными и объедините их в один датафрейм. \n",
    "\n",
    "Объедините данные таким образом, чтобы все объекты из датасета `mkrf_movies` обязательно вошли в получившийся датафрейм. \n",
    "\n",
    "<div id=\"accordion\">\n",
    "    <div class=\"card\">\n",
    "        <div class=\"card-header\" id=\"headingThree\">\n",
    "            <button class=\"btn btn-link collapsed\" data-toggle=\"collapse\" data-target=\"#collapseHint_0\" aria-expanded=\"false\" aria-controls=\"collapseHint_0\">Подсказка</button>\n",
    "        </div>\n",
    "        <div id=\"collapseHint_0\" class=\"collapse\" aria-labelledby=\"headingThree\" data-parent=\"#accordion\">\n",
    "            <div class=\"card-body\">\n",
    "Обратите внимание на тип данных столбца, по которому будете соединять датафреймы. Тип данных этих столбцов должен быть одинаковым в обоих датафреймах.\n",
    "            </div>\n",
    "        </div>\n",
    "    </div>\n",
    "</div>"
   ]
  },
  {
   "cell_type": "code",
   "execution_count": 1,
   "metadata": {},
   "outputs": [],
   "source": [
    "import pandas as pd\n",
    "import matplotlib.pyplot as plt\n",
    "\n",
    "pd.set_option('display.max_columns', None)\n",
    "pd.set_option('display.float_format', '{:.0f}'.format)"
   ]
  },
  {
   "cell_type": "code",
   "execution_count": 2,
   "metadata": {},
   "outputs": [],
   "source": [
    "data_movies = pd.read_csv('/datasets/mkrf_movies.csv', parse_dates=['show_start_date'])\n",
    "data_shows = pd.read_csv('/datasets/mkrf_shows.csv')"
   ]
  },
  {
   "cell_type": "markdown",
   "metadata": {
    "id": "dw87FlzMgFyM"
   },
   "source": [
    "Выведем общую информацию о каждом датафрейме, чтобы понять, по какому столбцу стоить объединять их."
   ]
  },
  {
   "cell_type": "code",
   "execution_count": 3,
   "metadata": {},
   "outputs": [
    {
     "name": "stdout",
     "output_type": "stream",
     "text": [
      "<class 'pandas.core.frame.DataFrame'>\n",
      "RangeIndex: 7486 entries, 0 to 7485\n",
      "Data columns (total 15 columns):\n",
      " #   Column                 Non-Null Count  Dtype              \n",
      "---  ------                 --------------  -----              \n",
      " 0   title                  7486 non-null   object             \n",
      " 1   puNumber               7486 non-null   object             \n",
      " 2   show_start_date        7486 non-null   datetime64[ns, UTC]\n",
      " 3   type                   7486 non-null   object             \n",
      " 4   film_studio            7468 non-null   object             \n",
      " 5   production_country     7484 non-null   object             \n",
      " 6   director               7477 non-null   object             \n",
      " 7   producer               6918 non-null   object             \n",
      " 8   age_restriction        7486 non-null   object             \n",
      " 9   refundable_support     332 non-null    float64            \n",
      " 10  nonrefundable_support  332 non-null    float64            \n",
      " 11  budget                 332 non-null    float64            \n",
      " 12  financing_source       332 non-null    object             \n",
      " 13  ratings                6519 non-null   object             \n",
      " 14  genres                 6510 non-null   object             \n",
      "dtypes: datetime64[ns, UTC](1), float64(3), object(11)\n",
      "memory usage: 877.4+ KB\n"
     ]
    }
   ],
   "source": [
    "data_movies.info()"
   ]
  },
  {
   "cell_type": "code",
   "execution_count": 4,
   "metadata": {},
   "outputs": [
    {
     "name": "stdout",
     "output_type": "stream",
     "text": [
      "<class 'pandas.core.frame.DataFrame'>\n",
      "RangeIndex: 3158 entries, 0 to 3157\n",
      "Data columns (total 2 columns):\n",
      " #   Column      Non-Null Count  Dtype  \n",
      "---  ------      --------------  -----  \n",
      " 0   puNumber    3158 non-null   int64  \n",
      " 1   box_office  3158 non-null   float64\n",
      "dtypes: float64(1), int64(1)\n",
      "memory usage: 49.5 KB\n"
     ]
    }
   ],
   "source": [
    "data_shows.info()"
   ]
  },
  {
   "cell_type": "markdown",
   "metadata": {},
   "source": [
    "Как мы видим, столбец `puNumber` есть в обоих датафреймах, но типы данных в них разные - строка и целое число."
   ]
  },
  {
   "cell_type": "markdown",
   "metadata": {},
   "source": [
    "Заметим, что в столбце `puNumber` в датафрейме `data_movies` присутствует такое значение как \"нет\". Как поступить в данном случае? Проще изменить тип данных во втором датафрейме. Это никак не повлияет на дальнейшую работу."
   ]
  },
  {
   "cell_type": "code",
   "execution_count": 5,
   "metadata": {},
   "outputs": [],
   "source": [
    "data_shows['puNumber'] = data_shows['puNumber'].astype(str)"
   ]
  },
  {
   "cell_type": "code",
   "execution_count": 6,
   "metadata": {},
   "outputs": [
    {
     "name": "stdout",
     "output_type": "stream",
     "text": [
      "<class 'pandas.core.frame.DataFrame'>\n",
      "RangeIndex: 3158 entries, 0 to 3157\n",
      "Data columns (total 2 columns):\n",
      " #   Column      Non-Null Count  Dtype  \n",
      "---  ------      --------------  -----  \n",
      " 0   puNumber    3158 non-null   object \n",
      " 1   box_office  3158 non-null   float64\n",
      "dtypes: float64(1), object(1)\n",
      "memory usage: 49.5+ KB\n"
     ]
    }
   ],
   "source": [
    "data_shows.info()"
   ]
  },
  {
   "cell_type": "markdown",
   "metadata": {},
   "source": [
    "Объединим датафреймы по этому столбцу:"
   ]
  },
  {
   "cell_type": "code",
   "execution_count": 7,
   "metadata": {
    "scrolled": true
   },
   "outputs": [
    {
     "data": {
      "text/html": [
       "<div>\n",
       "<style scoped>\n",
       "    .dataframe tbody tr th:only-of-type {\n",
       "        vertical-align: middle;\n",
       "    }\n",
       "\n",
       "    .dataframe tbody tr th {\n",
       "        vertical-align: top;\n",
       "    }\n",
       "\n",
       "    .dataframe thead th {\n",
       "        text-align: right;\n",
       "    }\n",
       "</style>\n",
       "<table border=\"1\" class=\"dataframe\">\n",
       "  <thead>\n",
       "    <tr style=\"text-align: right;\">\n",
       "      <th></th>\n",
       "      <th>title</th>\n",
       "      <th>puNumber</th>\n",
       "      <th>show_start_date</th>\n",
       "      <th>type</th>\n",
       "      <th>film_studio</th>\n",
       "      <th>production_country</th>\n",
       "      <th>director</th>\n",
       "      <th>producer</th>\n",
       "      <th>age_restriction</th>\n",
       "      <th>refundable_support</th>\n",
       "      <th>nonrefundable_support</th>\n",
       "      <th>budget</th>\n",
       "      <th>financing_source</th>\n",
       "      <th>ratings</th>\n",
       "      <th>genres</th>\n",
       "      <th>box_office</th>\n",
       "    </tr>\n",
       "  </thead>\n",
       "  <tbody>\n",
       "    <tr>\n",
       "      <th>0</th>\n",
       "      <td>Открытый простор</td>\n",
       "      <td>221048915</td>\n",
       "      <td>2015-11-27 12:00:00+00:00</td>\n",
       "      <td>Художественный</td>\n",
       "      <td>Тачстоун Пикчерз, Кобальт Пикчерз, Бикон Пикче...</td>\n",
       "      <td>США</td>\n",
       "      <td>Кевин Костнер</td>\n",
       "      <td>Дэвид Валдес, Кевин Костнер, Джейк Эбертс</td>\n",
       "      <td>«18+» - запрещено для детей</td>\n",
       "      <td>NaN</td>\n",
       "      <td>NaN</td>\n",
       "      <td>NaN</td>\n",
       "      <td>NaN</td>\n",
       "      <td>7.2</td>\n",
       "      <td>боевик,драма,мелодрама</td>\n",
       "      <td>NaN</td>\n",
       "    </tr>\n",
       "    <tr>\n",
       "      <th>1</th>\n",
       "      <td>Особо важное задание</td>\n",
       "      <td>111013716</td>\n",
       "      <td>2016-09-13 12:00:00+00:00</td>\n",
       "      <td>Художественный</td>\n",
       "      <td>Киностудия \"Мосфильм\"</td>\n",
       "      <td>СССР</td>\n",
       "      <td>Е.Матвеев</td>\n",
       "      <td>NaN</td>\n",
       "      <td>«6+» - для детей старше 6 лет</td>\n",
       "      <td>NaN</td>\n",
       "      <td>NaN</td>\n",
       "      <td>NaN</td>\n",
       "      <td>NaN</td>\n",
       "      <td>6.6</td>\n",
       "      <td>драма,военный</td>\n",
       "      <td>NaN</td>\n",
       "    </tr>\n",
       "    <tr>\n",
       "      <th>2</th>\n",
       "      <td>Особо опасен</td>\n",
       "      <td>221038416</td>\n",
       "      <td>2016-10-10 12:00:00+00:00</td>\n",
       "      <td>Художественный</td>\n",
       "      <td>Юниверсал Пикчерз, Кикстарт Продакшнз, Марк Пл...</td>\n",
       "      <td>США</td>\n",
       "      <td>Тимур Бекмамбетов</td>\n",
       "      <td>Джим Лемли, Джейсон Нетер, Марк Е.Платт, Яйн Смит</td>\n",
       "      <td>«18+» - запрещено для детей</td>\n",
       "      <td>NaN</td>\n",
       "      <td>NaN</td>\n",
       "      <td>NaN</td>\n",
       "      <td>NaN</td>\n",
       "      <td>6.8</td>\n",
       "      <td>фантастика,боевик,триллер</td>\n",
       "      <td>NaN</td>\n",
       "    </tr>\n",
       "    <tr>\n",
       "      <th>3</th>\n",
       "      <td>Особо опасен</td>\n",
       "      <td>221026916</td>\n",
       "      <td>2016-06-10 12:00:00+00:00</td>\n",
       "      <td>Художественный</td>\n",
       "      <td>Юниверсал Пикчерз, Кикстарт Продакшнз, Марк Пл...</td>\n",
       "      <td>США</td>\n",
       "      <td>Тимур Бекмамбетов</td>\n",
       "      <td>Джим Лемли, Джейсон Нетер, Марк Е.Платт, Яйн Смит</td>\n",
       "      <td>«18+» - запрещено для детей</td>\n",
       "      <td>NaN</td>\n",
       "      <td>NaN</td>\n",
       "      <td>NaN</td>\n",
       "      <td>NaN</td>\n",
       "      <td>6.8</td>\n",
       "      <td>фантастика,боевик,триллер</td>\n",
       "      <td>NaN</td>\n",
       "    </tr>\n",
       "    <tr>\n",
       "      <th>4</th>\n",
       "      <td>Особо опасен</td>\n",
       "      <td>221030815</td>\n",
       "      <td>2015-07-29 12:00:00+00:00</td>\n",
       "      <td>Художественный</td>\n",
       "      <td>Юниверсал Пикчерз, Кикстарт Продакшнз, Марк Пл...</td>\n",
       "      <td>США</td>\n",
       "      <td>Тимур Бекмамбетов</td>\n",
       "      <td>Джим Лемли, Джейсон Нетер, Марк Е.Платт, Яйн Смит</td>\n",
       "      <td>«18+» - запрещено для детей</td>\n",
       "      <td>NaN</td>\n",
       "      <td>NaN</td>\n",
       "      <td>NaN</td>\n",
       "      <td>NaN</td>\n",
       "      <td>6.8</td>\n",
       "      <td>фантастика,боевик,триллер</td>\n",
       "      <td>NaN</td>\n",
       "    </tr>\n",
       "  </tbody>\n",
       "</table>\n",
       "</div>"
      ],
      "text/plain": [
       "                  title   puNumber           show_start_date            type  \\\n",
       "0      Открытый простор  221048915 2015-11-27 12:00:00+00:00  Художественный   \n",
       "1  Особо важное задание  111013716 2016-09-13 12:00:00+00:00  Художественный   \n",
       "2          Особо опасен  221038416 2016-10-10 12:00:00+00:00  Художественный   \n",
       "3          Особо опасен  221026916 2016-06-10 12:00:00+00:00  Художественный   \n",
       "4          Особо опасен  221030815 2015-07-29 12:00:00+00:00  Художественный   \n",
       "\n",
       "                                         film_studio production_country  \\\n",
       "0  Тачстоун Пикчерз, Кобальт Пикчерз, Бикон Пикче...                США   \n",
       "1                              Киностудия \"Мосфильм\"               СССР   \n",
       "2  Юниверсал Пикчерз, Кикстарт Продакшнз, Марк Пл...                США   \n",
       "3  Юниверсал Пикчерз, Кикстарт Продакшнз, Марк Пл...                США   \n",
       "4  Юниверсал Пикчерз, Кикстарт Продакшнз, Марк Пл...                США   \n",
       "\n",
       "            director                                           producer  \\\n",
       "0      Кевин Костнер          Дэвид Валдес, Кевин Костнер, Джейк Эбертс   \n",
       "1          Е.Матвеев                                                NaN   \n",
       "2  Тимур Бекмамбетов  Джим Лемли, Джейсон Нетер, Марк Е.Платт, Яйн Смит   \n",
       "3  Тимур Бекмамбетов  Джим Лемли, Джейсон Нетер, Марк Е.Платт, Яйн Смит   \n",
       "4  Тимур Бекмамбетов  Джим Лемли, Джейсон Нетер, Марк Е.Платт, Яйн Смит   \n",
       "\n",
       "                 age_restriction  refundable_support  nonrefundable_support  \\\n",
       "0    «18+» - запрещено для детей                 NaN                    NaN   \n",
       "1  «6+» - для детей старше 6 лет                 NaN                    NaN   \n",
       "2    «18+» - запрещено для детей                 NaN                    NaN   \n",
       "3    «18+» - запрещено для детей                 NaN                    NaN   \n",
       "4    «18+» - запрещено для детей                 NaN                    NaN   \n",
       "\n",
       "   budget financing_source ratings                     genres  box_office  \n",
       "0     NaN              NaN     7.2     боевик,драма,мелодрама         NaN  \n",
       "1     NaN              NaN     6.6              драма,военный         NaN  \n",
       "2     NaN              NaN     6.8  фантастика,боевик,триллер         NaN  \n",
       "3     NaN              NaN     6.8  фантастика,боевик,триллер         NaN  \n",
       "4     NaN              NaN     6.8  фантастика,боевик,триллер         NaN  "
      ]
     },
     "execution_count": 7,
     "metadata": {},
     "output_type": "execute_result"
    }
   ],
   "source": [
    "data = pd.merge(data_movies, data_shows, on='puNumber', how='left')\n",
    "data.head(5)"
   ]
  },
  {
   "cell_type": "markdown",
   "metadata": {},
   "source": [
    "#### Промежуточный вывод\n",
    "\n",
    "## Промежуточный вывод\n",
    "\n",
    "В этом шаге были выполнены следующие действия:\n",
    "\n",
    "1. **Объединены данные:**\n",
    "    - Объединили два датафрейма `data_movies` и `data_shows` с помощью функции `pd.merge`.Объединили по столбцу `puNumber`, который присутствовал в обоих датафреймах.\n",
    "    - При этом, тип данных в столбце `puNumber` был изменен с целого числа на строку в датафрейме `data_shows`.\n",
    "    - В результате получилось 7486 строк и 16 столбцов в объединенном датафрейме `data`.\n",
    "2. **Изучены данные:**\n",
    "    - Вывели информацию о столбцах датафреймов `data_movies` и `data_shows` с помощью функции `info`.\n",
    "    - Это помогло нам понять, по какому столбцу стоит объединять датафреймы, и какой тип данных имеет каждый столбец.\n",
    "    - Также мы заметили, что в столбце `puNumber` датафрейма `data_movies` присутствует значение `нет`. "
   ]
  },
  {
   "cell_type": "markdown",
   "metadata": {
    "id": "KLDGpPG0gFyM"
   },
   "source": [
    "### Шаг 2. Предобработка данных"
   ]
  },
  {
   "cell_type": "markdown",
   "metadata": {
    "id": "ssWwKXsxgFyO"
   },
   "source": [
    "#### Шаг 2.1. Проверьте типы данных\n",
    "\n",
    "- Проверьте типы данных в датафрейме и преобразуйте их там, где это необходимо."
   ]
  },
  {
   "cell_type": "code",
   "execution_count": 8,
   "metadata": {
    "id": "kVGSplJOgFyO"
   },
   "outputs": [
    {
     "name": "stdout",
     "output_type": "stream",
     "text": [
      "<class 'pandas.core.frame.DataFrame'>\n",
      "Int64Index: 7486 entries, 0 to 7485\n",
      "Data columns (total 16 columns):\n",
      " #   Column                 Non-Null Count  Dtype              \n",
      "---  ------                 --------------  -----              \n",
      " 0   title                  7486 non-null   object             \n",
      " 1   puNumber               7486 non-null   object             \n",
      " 2   show_start_date        7486 non-null   datetime64[ns, UTC]\n",
      " 3   type                   7486 non-null   object             \n",
      " 4   film_studio            7468 non-null   object             \n",
      " 5   production_country     7484 non-null   object             \n",
      " 6   director               7477 non-null   object             \n",
      " 7   producer               6918 non-null   object             \n",
      " 8   age_restriction        7486 non-null   object             \n",
      " 9   refundable_support     332 non-null    float64            \n",
      " 10  nonrefundable_support  332 non-null    float64            \n",
      " 11  budget                 332 non-null    float64            \n",
      " 12  financing_source       332 non-null    object             \n",
      " 13  ratings                6519 non-null   object             \n",
      " 14  genres                 6510 non-null   object             \n",
      " 15  box_office             3158 non-null   float64            \n",
      "dtypes: datetime64[ns, UTC](1), float64(4), object(11)\n",
      "memory usage: 994.2+ KB\n"
     ]
    }
   ],
   "source": [
    "data.info()"
   ]
  },
  {
   "cell_type": "markdown",
   "metadata": {
    "id": "i0MOLbF-gFyP"
   },
   "source": [
    "#### Шаг 2.2. Изучите пропуски в датафрейме\n",
    "\n",
    "- Объясните, почему заполнили пропуски определённым образом или почему не стали этого делать."
   ]
  },
  {
   "cell_type": "markdown",
   "metadata": {},
   "source": [
    "Взглянем на хитмап пропусков в данных по каждому стобцу в процентах:"
   ]
  },
  {
   "cell_type": "code",
   "execution_count": 9,
   "metadata": {
    "id": "8MJD_lkngFyP"
   },
   "outputs": [
    {
     "data": {
      "text/html": [
       "<style  type=\"text/css\" >\n",
       "#T_2cbdd_row0_col0,#T_2cbdd_row1_col0,#T_2cbdd_row2_col0,#T_2cbdd_row3_col0,#T_2cbdd_row4_col0,#T_2cbdd_row5_col0,#T_2cbdd_row6_col0,#T_2cbdd_row8_col0{\n",
       "            background-color:  #3b4cc0;\n",
       "            color:  #f1f1f1;\n",
       "        }#T_2cbdd_row7_col0{\n",
       "            background-color:  #536edd;\n",
       "            color:  #000000;\n",
       "        }#T_2cbdd_row9_col0,#T_2cbdd_row10_col0,#T_2cbdd_row11_col0,#T_2cbdd_row12_col0{\n",
       "            background-color:  #b40426;\n",
       "            color:  #f1f1f1;\n",
       "        }#T_2cbdd_row13_col0,#T_2cbdd_row14_col0{\n",
       "            background-color:  #6485ec;\n",
       "            color:  #000000;\n",
       "        }#T_2cbdd_row15_col0{\n",
       "            background-color:  #f2cab5;\n",
       "            color:  #000000;\n",
       "        }</style><table id=\"T_2cbdd_\" ><thead>    <tr>        <th class=\"blank level0\" ></th>        <th class=\"col_heading level0 col0\" >0</th>    </tr></thead><tbody>\n",
       "                <tr>\n",
       "                        <th id=\"T_2cbdd_level0_row0\" class=\"row_heading level0 row0\" >title</th>\n",
       "                        <td id=\"T_2cbdd_row0_col0\" class=\"data row0 col0\" >0.000000</td>\n",
       "            </tr>\n",
       "            <tr>\n",
       "                        <th id=\"T_2cbdd_level0_row1\" class=\"row_heading level0 row1\" >puNumber</th>\n",
       "                        <td id=\"T_2cbdd_row1_col0\" class=\"data row1 col0\" >0.000000</td>\n",
       "            </tr>\n",
       "            <tr>\n",
       "                        <th id=\"T_2cbdd_level0_row2\" class=\"row_heading level0 row2\" >show_start_date</th>\n",
       "                        <td id=\"T_2cbdd_row2_col0\" class=\"data row2 col0\" >0.000000</td>\n",
       "            </tr>\n",
       "            <tr>\n",
       "                        <th id=\"T_2cbdd_level0_row3\" class=\"row_heading level0 row3\" >type</th>\n",
       "                        <td id=\"T_2cbdd_row3_col0\" class=\"data row3 col0\" >0.000000</td>\n",
       "            </tr>\n",
       "            <tr>\n",
       "                        <th id=\"T_2cbdd_level0_row4\" class=\"row_heading level0 row4\" >film_studio</th>\n",
       "                        <td id=\"T_2cbdd_row4_col0\" class=\"data row4 col0\" >0.200000</td>\n",
       "            </tr>\n",
       "            <tr>\n",
       "                        <th id=\"T_2cbdd_level0_row5\" class=\"row_heading level0 row5\" >production_country</th>\n",
       "                        <td id=\"T_2cbdd_row5_col0\" class=\"data row5 col0\" >0.000000</td>\n",
       "            </tr>\n",
       "            <tr>\n",
       "                        <th id=\"T_2cbdd_level0_row6\" class=\"row_heading level0 row6\" >director</th>\n",
       "                        <td id=\"T_2cbdd_row6_col0\" class=\"data row6 col0\" >0.100000</td>\n",
       "            </tr>\n",
       "            <tr>\n",
       "                        <th id=\"T_2cbdd_level0_row7\" class=\"row_heading level0 row7\" >producer</th>\n",
       "                        <td id=\"T_2cbdd_row7_col0\" class=\"data row7 col0\" >7.600000</td>\n",
       "            </tr>\n",
       "            <tr>\n",
       "                        <th id=\"T_2cbdd_level0_row8\" class=\"row_heading level0 row8\" >age_restriction</th>\n",
       "                        <td id=\"T_2cbdd_row8_col0\" class=\"data row8 col0\" >0.000000</td>\n",
       "            </tr>\n",
       "            <tr>\n",
       "                        <th id=\"T_2cbdd_level0_row9\" class=\"row_heading level0 row9\" >refundable_support</th>\n",
       "                        <td id=\"T_2cbdd_row9_col0\" class=\"data row9 col0\" >95.600000</td>\n",
       "            </tr>\n",
       "            <tr>\n",
       "                        <th id=\"T_2cbdd_level0_row10\" class=\"row_heading level0 row10\" >nonrefundable_support</th>\n",
       "                        <td id=\"T_2cbdd_row10_col0\" class=\"data row10 col0\" >95.600000</td>\n",
       "            </tr>\n",
       "            <tr>\n",
       "                        <th id=\"T_2cbdd_level0_row11\" class=\"row_heading level0 row11\" >budget</th>\n",
       "                        <td id=\"T_2cbdd_row11_col0\" class=\"data row11 col0\" >95.600000</td>\n",
       "            </tr>\n",
       "            <tr>\n",
       "                        <th id=\"T_2cbdd_level0_row12\" class=\"row_heading level0 row12\" >financing_source</th>\n",
       "                        <td id=\"T_2cbdd_row12_col0\" class=\"data row12 col0\" >95.600000</td>\n",
       "            </tr>\n",
       "            <tr>\n",
       "                        <th id=\"T_2cbdd_level0_row13\" class=\"row_heading level0 row13\" >ratings</th>\n",
       "                        <td id=\"T_2cbdd_row13_col0\" class=\"data row13 col0\" >12.900000</td>\n",
       "            </tr>\n",
       "            <tr>\n",
       "                        <th id=\"T_2cbdd_level0_row14\" class=\"row_heading level0 row14\" >genres</th>\n",
       "                        <td id=\"T_2cbdd_row14_col0\" class=\"data row14 col0\" >13.000000</td>\n",
       "            </tr>\n",
       "            <tr>\n",
       "                        <th id=\"T_2cbdd_level0_row15\" class=\"row_heading level0 row15\" >box_office</th>\n",
       "                        <td id=\"T_2cbdd_row15_col0\" class=\"data row15 col0\" >57.800000</td>\n",
       "            </tr>\n",
       "    </tbody></table>"
      ],
      "text/plain": [
       "<pandas.io.formats.style.Styler at 0x7f183aeea730>"
      ]
     },
     "execution_count": 9,
     "metadata": {},
     "output_type": "execute_result"
    }
   ],
   "source": [
    "pd.DataFrame(round(data.isna().mean()*100,1)).style.background_gradient('coolwarm')"
   ]
  },
  {
   "cell_type": "markdown",
   "metadata": {},
   "source": [
    "#####  Студия-производитель"
   ]
  },
  {
   "cell_type": "markdown",
   "metadata": {},
   "source": [
    "В столбце `film_studio` всего 0.2% пропусков. Это достаточно маленькое значение, а значит, правильным решением будет удалить эти строки из датафрейма. То же самое ждет и столбец `director` - там пропусков еще меньше.\n",
    "\n",
    "Пару слов о том, как могли возникнуть пропуски в этих столбцах. Скорее всего, данные просто не были добавлены в датасет, так как обычно режиссер и студия-производитель есть у любого фильма. С достаточно большим шансом мы можем сказать, что виноват человеческий фактор."
   ]
  },
  {
   "cell_type": "code",
   "execution_count": 10,
   "metadata": {},
   "outputs": [
    {
     "data": {
      "text/html": [
       "<style  type=\"text/css\" >\n",
       "#T_8c663_row0_col0,#T_8c663_row1_col0,#T_8c663_row2_col0,#T_8c663_row3_col0,#T_8c663_row4_col0,#T_8c663_row5_col0,#T_8c663_row6_col0,#T_8c663_row8_col0{\n",
       "            background-color:  #3b4cc0;\n",
       "            color:  #f1f1f1;\n",
       "        }#T_8c663_row7_col0{\n",
       "            background-color:  #536edd;\n",
       "            color:  #000000;\n",
       "        }#T_8c663_row9_col0,#T_8c663_row10_col0,#T_8c663_row11_col0,#T_8c663_row12_col0{\n",
       "            background-color:  #b40426;\n",
       "            color:  #f1f1f1;\n",
       "        }#T_8c663_row13_col0,#T_8c663_row14_col0{\n",
       "            background-color:  #6485ec;\n",
       "            color:  #000000;\n",
       "        }#T_8c663_row15_col0{\n",
       "            background-color:  #f2cab5;\n",
       "            color:  #000000;\n",
       "        }</style><table id=\"T_8c663_\" ><thead>    <tr>        <th class=\"blank level0\" ></th>        <th class=\"col_heading level0 col0\" >0</th>    </tr></thead><tbody>\n",
       "                <tr>\n",
       "                        <th id=\"T_8c663_level0_row0\" class=\"row_heading level0 row0\" >title</th>\n",
       "                        <td id=\"T_8c663_row0_col0\" class=\"data row0 col0\" >0.000000</td>\n",
       "            </tr>\n",
       "            <tr>\n",
       "                        <th id=\"T_8c663_level0_row1\" class=\"row_heading level0 row1\" >puNumber</th>\n",
       "                        <td id=\"T_8c663_row1_col0\" class=\"data row1 col0\" >0.000000</td>\n",
       "            </tr>\n",
       "            <tr>\n",
       "                        <th id=\"T_8c663_level0_row2\" class=\"row_heading level0 row2\" >show_start_date</th>\n",
       "                        <td id=\"T_8c663_row2_col0\" class=\"data row2 col0\" >0.000000</td>\n",
       "            </tr>\n",
       "            <tr>\n",
       "                        <th id=\"T_8c663_level0_row3\" class=\"row_heading level0 row3\" >type</th>\n",
       "                        <td id=\"T_8c663_row3_col0\" class=\"data row3 col0\" >0.000000</td>\n",
       "            </tr>\n",
       "            <tr>\n",
       "                        <th id=\"T_8c663_level0_row4\" class=\"row_heading level0 row4\" >film_studio</th>\n",
       "                        <td id=\"T_8c663_row4_col0\" class=\"data row4 col0\" >0.000000</td>\n",
       "            </tr>\n",
       "            <tr>\n",
       "                        <th id=\"T_8c663_level0_row5\" class=\"row_heading level0 row5\" >production_country</th>\n",
       "                        <td id=\"T_8c663_row5_col0\" class=\"data row5 col0\" >0.000000</td>\n",
       "            </tr>\n",
       "            <tr>\n",
       "                        <th id=\"T_8c663_level0_row6\" class=\"row_heading level0 row6\" >director</th>\n",
       "                        <td id=\"T_8c663_row6_col0\" class=\"data row6 col0\" >0.000000</td>\n",
       "            </tr>\n",
       "            <tr>\n",
       "                        <th id=\"T_8c663_level0_row7\" class=\"row_heading level0 row7\" >producer</th>\n",
       "                        <td id=\"T_8c663_row7_col0\" class=\"data row7 col0\" >7.600000</td>\n",
       "            </tr>\n",
       "            <tr>\n",
       "                        <th id=\"T_8c663_level0_row8\" class=\"row_heading level0 row8\" >age_restriction</th>\n",
       "                        <td id=\"T_8c663_row8_col0\" class=\"data row8 col0\" >0.000000</td>\n",
       "            </tr>\n",
       "            <tr>\n",
       "                        <th id=\"T_8c663_level0_row9\" class=\"row_heading level0 row9\" >refundable_support</th>\n",
       "                        <td id=\"T_8c663_row9_col0\" class=\"data row9 col0\" >95.500000</td>\n",
       "            </tr>\n",
       "            <tr>\n",
       "                        <th id=\"T_8c663_level0_row10\" class=\"row_heading level0 row10\" >nonrefundable_support</th>\n",
       "                        <td id=\"T_8c663_row10_col0\" class=\"data row10 col0\" >95.500000</td>\n",
       "            </tr>\n",
       "            <tr>\n",
       "                        <th id=\"T_8c663_level0_row11\" class=\"row_heading level0 row11\" >budget</th>\n",
       "                        <td id=\"T_8c663_row11_col0\" class=\"data row11 col0\" >95.500000</td>\n",
       "            </tr>\n",
       "            <tr>\n",
       "                        <th id=\"T_8c663_level0_row12\" class=\"row_heading level0 row12\" >financing_source</th>\n",
       "                        <td id=\"T_8c663_row12_col0\" class=\"data row12 col0\" >95.500000</td>\n",
       "            </tr>\n",
       "            <tr>\n",
       "                        <th id=\"T_8c663_level0_row13\" class=\"row_heading level0 row13\" >ratings</th>\n",
       "                        <td id=\"T_8c663_row13_col0\" class=\"data row13 col0\" >12.700000</td>\n",
       "            </tr>\n",
       "            <tr>\n",
       "                        <th id=\"T_8c663_level0_row14\" class=\"row_heading level0 row14\" >genres</th>\n",
       "                        <td id=\"T_8c663_row14_col0\" class=\"data row14 col0\" >12.800000</td>\n",
       "            </tr>\n",
       "            <tr>\n",
       "                        <th id=\"T_8c663_level0_row15\" class=\"row_heading level0 row15\" >box_office</th>\n",
       "                        <td id=\"T_8c663_row15_col0\" class=\"data row15 col0\" >57.700000</td>\n",
       "            </tr>\n",
       "    </tbody></table>"
      ],
      "text/plain": [
       "<pandas.io.formats.style.Styler at 0x7f183aeeab50>"
      ]
     },
     "execution_count": 10,
     "metadata": {},
     "output_type": "execute_result"
    }
   ],
   "source": [
    "data = data.dropna(subset=['film_studio', 'director']).reset_index(drop=True)\n",
    "pd.DataFrame(round(data.isna().mean()*100,1)).style.background_gradient('coolwarm')"
   ]
  },
  {
   "cell_type": "markdown",
   "metadata": {},
   "source": [
    "##### Продюсер"
   ]
  },
  {
   "cell_type": "markdown",
   "metadata": {},
   "source": [
    "Приличный процент значений в столбце с продюсером отсутствует. С чем это может быть связано? Посмотрим на эти данные:"
   ]
  },
  {
   "cell_type": "code",
   "execution_count": 11,
   "metadata": {},
   "outputs": [
    {
     "data": {
      "text/html": [
       "<div>\n",
       "<style scoped>\n",
       "    .dataframe tbody tr th:only-of-type {\n",
       "        vertical-align: middle;\n",
       "    }\n",
       "\n",
       "    .dataframe tbody tr th {\n",
       "        vertical-align: top;\n",
       "    }\n",
       "\n",
       "    .dataframe thead th {\n",
       "        text-align: right;\n",
       "    }\n",
       "</style>\n",
       "<table border=\"1\" class=\"dataframe\">\n",
       "  <thead>\n",
       "    <tr style=\"text-align: right;\">\n",
       "      <th></th>\n",
       "      <th>title</th>\n",
       "      <th>puNumber</th>\n",
       "      <th>show_start_date</th>\n",
       "      <th>type</th>\n",
       "      <th>film_studio</th>\n",
       "      <th>production_country</th>\n",
       "      <th>director</th>\n",
       "      <th>producer</th>\n",
       "      <th>age_restriction</th>\n",
       "      <th>refundable_support</th>\n",
       "      <th>nonrefundable_support</th>\n",
       "      <th>budget</th>\n",
       "      <th>financing_source</th>\n",
       "      <th>ratings</th>\n",
       "      <th>genres</th>\n",
       "      <th>box_office</th>\n",
       "    </tr>\n",
       "  </thead>\n",
       "  <tbody>\n",
       "    <tr>\n",
       "      <th>1</th>\n",
       "      <td>Особо важное задание</td>\n",
       "      <td>111013716</td>\n",
       "      <td>2016-09-13 12:00:00+00:00</td>\n",
       "      <td>Художественный</td>\n",
       "      <td>Киностудия \"Мосфильм\"</td>\n",
       "      <td>СССР</td>\n",
       "      <td>Е.Матвеев</td>\n",
       "      <td>NaN</td>\n",
       "      <td>«6+» - для детей старше 6 лет</td>\n",
       "      <td>NaN</td>\n",
       "      <td>NaN</td>\n",
       "      <td>NaN</td>\n",
       "      <td>NaN</td>\n",
       "      <td>6.6</td>\n",
       "      <td>драма,военный</td>\n",
       "      <td>NaN</td>\n",
       "    </tr>\n",
       "    <tr>\n",
       "      <th>5</th>\n",
       "      <td>Остановился поезд</td>\n",
       "      <td>111013816</td>\n",
       "      <td>2016-09-13 12:00:00+00:00</td>\n",
       "      <td>Художественный</td>\n",
       "      <td>Киностудия \"Мосфильм\"</td>\n",
       "      <td>СССР</td>\n",
       "      <td>В.Абдрашитов</td>\n",
       "      <td>NaN</td>\n",
       "      <td>«6+» - для детей старше 6 лет</td>\n",
       "      <td>NaN</td>\n",
       "      <td>NaN</td>\n",
       "      <td>NaN</td>\n",
       "      <td>NaN</td>\n",
       "      <td>7.7</td>\n",
       "      <td>драма</td>\n",
       "      <td>NaN</td>\n",
       "    </tr>\n",
       "    <tr>\n",
       "      <th>6</th>\n",
       "      <td>Любовь и голуби</td>\n",
       "      <td>111007013</td>\n",
       "      <td>2013-10-18 12:00:00+00:00</td>\n",
       "      <td>Художественный</td>\n",
       "      <td>Киностудия \"Мосфильм\"</td>\n",
       "      <td>СССР</td>\n",
       "      <td>В.Меньшов</td>\n",
       "      <td>NaN</td>\n",
       "      <td>«12+» - для детей старше 12 лет</td>\n",
       "      <td>NaN</td>\n",
       "      <td>NaN</td>\n",
       "      <td>NaN</td>\n",
       "      <td>NaN</td>\n",
       "      <td>8.3</td>\n",
       "      <td>мелодрама,комедия</td>\n",
       "      <td>2700</td>\n",
       "    </tr>\n",
       "    <tr>\n",
       "      <th>9</th>\n",
       "      <td>Отпуск за свой счет</td>\n",
       "      <td>111019114</td>\n",
       "      <td>2014-12-01 12:00:00+00:00</td>\n",
       "      <td>Художественный</td>\n",
       "      <td>Киностудия \"Мосфильм\", Телевидение ВНР</td>\n",
       "      <td>СССР, Венгрия</td>\n",
       "      <td>В.Титов</td>\n",
       "      <td>NaN</td>\n",
       "      <td>«12+» - для детей старше 12 лет</td>\n",
       "      <td>NaN</td>\n",
       "      <td>NaN</td>\n",
       "      <td>NaN</td>\n",
       "      <td>NaN</td>\n",
       "      <td>7.8</td>\n",
       "      <td>мелодрама,комедия</td>\n",
       "      <td>NaN</td>\n",
       "    </tr>\n",
       "    <tr>\n",
       "      <th>11</th>\n",
       "      <td>Ответный ход</td>\n",
       "      <td>111019014</td>\n",
       "      <td>2014-12-01 12:00:00+00:00</td>\n",
       "      <td>Художественный</td>\n",
       "      <td>Киностудия \"Мосфильм\"</td>\n",
       "      <td>СССР</td>\n",
       "      <td>М.Туманишвили</td>\n",
       "      <td>NaN</td>\n",
       "      <td>«12+» - для детей старше 12 лет</td>\n",
       "      <td>NaN</td>\n",
       "      <td>NaN</td>\n",
       "      <td>NaN</td>\n",
       "      <td>NaN</td>\n",
       "      <td>7.8</td>\n",
       "      <td>боевик,драма,приключения</td>\n",
       "      <td>NaN</td>\n",
       "    </tr>\n",
       "  </tbody>\n",
       "</table>\n",
       "</div>"
      ],
      "text/plain": [
       "                   title   puNumber           show_start_date            type  \\\n",
       "1   Особо важное задание  111013716 2016-09-13 12:00:00+00:00  Художественный   \n",
       "5      Остановился поезд  111013816 2016-09-13 12:00:00+00:00  Художественный   \n",
       "6        Любовь и голуби  111007013 2013-10-18 12:00:00+00:00  Художественный   \n",
       "9    Отпуск за свой счет  111019114 2014-12-01 12:00:00+00:00  Художественный   \n",
       "11          Ответный ход  111019014 2014-12-01 12:00:00+00:00  Художественный   \n",
       "\n",
       "                               film_studio production_country       director  \\\n",
       "1                    Киностудия \"Мосфильм\"               СССР      Е.Матвеев   \n",
       "5                    Киностудия \"Мосфильм\"               СССР   В.Абдрашитов   \n",
       "6                    Киностудия \"Мосфильм\"               СССР      В.Меньшов   \n",
       "9   Киностудия \"Мосфильм\", Телевидение ВНР      СССР, Венгрия        В.Титов   \n",
       "11                   Киностудия \"Мосфильм\"               СССР  М.Туманишвили   \n",
       "\n",
       "   producer                  age_restriction  refundable_support  \\\n",
       "1       NaN    «6+» - для детей старше 6 лет                 NaN   \n",
       "5       NaN    «6+» - для детей старше 6 лет                 NaN   \n",
       "6       NaN  «12+» - для детей старше 12 лет                 NaN   \n",
       "9       NaN  «12+» - для детей старше 12 лет                 NaN   \n",
       "11      NaN  «12+» - для детей старше 12 лет                 NaN   \n",
       "\n",
       "    nonrefundable_support  budget financing_source ratings  \\\n",
       "1                     NaN     NaN              NaN     6.6   \n",
       "5                     NaN     NaN              NaN     7.7   \n",
       "6                     NaN     NaN              NaN     8.3   \n",
       "9                     NaN     NaN              NaN     7.8   \n",
       "11                    NaN     NaN              NaN     7.8   \n",
       "\n",
       "                      genres  box_office  \n",
       "1              драма,военный         NaN  \n",
       "5                      драма         NaN  \n",
       "6          мелодрама,комедия        2700  \n",
       "9          мелодрама,комедия         NaN  \n",
       "11  боевик,драма,приключения         NaN  "
      ]
     },
     "execution_count": 11,
     "metadata": {},
     "output_type": "execute_result"
    }
   ],
   "source": [
    "data_prod_nan = data.query('producer.isna() == True')\n",
    "data_prod_nan.head(5)"
   ]
  },
  {
   "cell_type": "markdown",
   "metadata": {},
   "source": [
    "Что объединяет все эти данные? Предположительно, они были сняты во времена СССР, либо же имеют достаточно много стран производства. Убедимся в этом."
   ]
  },
  {
   "cell_type": "code",
   "execution_count": 12,
   "metadata": {},
   "outputs": [
    {
     "data": {
      "text/plain": [
       "array(['СССР', 'СССР, Венгрия', 'Чехословакия', 'США',\n",
       "       'Россия, Казахстан, США', 'СССР, Швеция',\n",
       "       'СССР, Франция, Англия, Куба, ГДР',\n",
       "       'СССР, ЧССР, Западный Берлин, ПНР', 'СССР, Италия',\n",
       "       'Франция - Италия - Великобритания - США', 'Чехия',\n",
       "       'СССР, Финляндия', 'Великобритания - США', 'Япония',\n",
       "       'СССР, Польша', 'СССР - Швейцария - Франция', 'Франция',\n",
       "       'Великобритания', 'Австралия', 'Италия', 'Украина',\n",
       "       'Франция-Бельгия', 'Мексика - Франция',\n",
       "       'Великобритания - Германия', 'Россия', 'Иран',\n",
       "       'Республика Узбекистан', 'Бразилия', 'Италия ', 'Франция - Россия',\n",
       "       'Индонезия', 'СССР, ФРГ, Западный Берлин',\n",
       "       'США - Канада - Афганистан - Бельгия - Франция',\n",
       "       'США - Великобритания - Германия - Новая Зеландия - Бельгия - Франция',\n",
       "       'Бельгия - Испания - Канада - Нидерланды',\n",
       "       'СССР, Венгрия, ЧССР, ГДР', 'СССР  ', 'СССР ', ' СССР ', 'СССР   ',\n",
       "       ' СССР   ', 'СССР     ', 'Индия - Мексика', 'СССР    ', ' СССР',\n",
       "       'СССР, Афганистан', 'СССР, Монголия', 'СССР, Албания',\n",
       "       'Великобритания - США - Австралия - Ирландия - Германия - Куба - Канада',\n",
       "       'Грузия', 'СССР, Румыния, Франция', 'СССР, ГДР', 'Австрия',\n",
       "       'СССР, ВНР', 'Канада', 'Корея', 'Германия-Кения',\n",
       "       'Франция-Австралия', 'Великобритания - Австрия - Германия',\n",
       "       'Франция-Грузия-Германия-Россия-Украина-Бельгия', 'США-Германия',\n",
       "       'Испания', 'Германия', 'СССР, ФРГ',\n",
       "       'Испания, Франция, Великобритания, Дания, Бельгия, Германия',\n",
       "       'Румыния, ЮАР, Иран, Франция, Канада, Великобритания', 'Индия',\n",
       "       'США - Великобритания - Италия - Израиль - Сербия - Индия', 'КНР',\n",
       "       'Польша - Франция - Испания - Бразилия - Швеция'], dtype=object)"
      ]
     },
     "execution_count": 12,
     "metadata": {},
     "output_type": "execute_result"
    }
   ],
   "source": [
    "data_prod_nan['production_country'].unique()"
   ]
  },
  {
   "cell_type": "markdown",
   "metadata": {},
   "source": [
    "Да, так и есть. В данном случае, никак заполнить пропуски мы не можем, ровно как и удалить строки из исходного датафрейма - потерям почти 8% данных.\n",
    "\n",
    "Скорее всего, это связано с тем, что в Союзе продюсером чаще всего выступало государство или сама киностудия. А если кино снимало сразу несколько государств, то одного продюсера обычно и нет. Следовательно, эти данные не нуждаются в заполнении. "
   ]
  },
  {
   "cell_type": "markdown",
   "metadata": {},
   "source": [
    "##### Государственная поддержка"
   ]
  },
  {
   "cell_type": "markdown",
   "metadata": {},
   "source": [
    "Следующие несколько столбцов связаны с государственной поддержкой кино. Взглянем на эти данные:"
   ]
  },
  {
   "cell_type": "code",
   "execution_count": 13,
   "metadata": {
    "scrolled": false
   },
   "outputs": [
    {
     "data": {
      "text/html": [
       "<div>\n",
       "<style scoped>\n",
       "    .dataframe tbody tr th:only-of-type {\n",
       "        vertical-align: middle;\n",
       "    }\n",
       "\n",
       "    .dataframe tbody tr th {\n",
       "        vertical-align: top;\n",
       "    }\n",
       "\n",
       "    .dataframe thead th {\n",
       "        text-align: right;\n",
       "    }\n",
       "</style>\n",
       "<table border=\"1\" class=\"dataframe\">\n",
       "  <thead>\n",
       "    <tr style=\"text-align: right;\">\n",
       "      <th></th>\n",
       "      <th>title</th>\n",
       "      <th>puNumber</th>\n",
       "      <th>show_start_date</th>\n",
       "      <th>type</th>\n",
       "      <th>film_studio</th>\n",
       "      <th>production_country</th>\n",
       "      <th>director</th>\n",
       "      <th>producer</th>\n",
       "      <th>age_restriction</th>\n",
       "      <th>refundable_support</th>\n",
       "      <th>nonrefundable_support</th>\n",
       "      <th>budget</th>\n",
       "      <th>financing_source</th>\n",
       "      <th>ratings</th>\n",
       "      <th>genres</th>\n",
       "      <th>box_office</th>\n",
       "    </tr>\n",
       "  </thead>\n",
       "  <tbody>\n",
       "    <tr>\n",
       "      <th>1280</th>\n",
       "      <td>Пока еще жива</td>\n",
       "      <td>111005313</td>\n",
       "      <td>2013-10-11 12:00:00+00:00</td>\n",
       "      <td>Художественный</td>\n",
       "      <td>АНО содействия развитию кинематографии \"Ангел-...</td>\n",
       "      <td>Россия</td>\n",
       "      <td>А.Атанесян</td>\n",
       "      <td>А.Атанесян, М.Бабаханов, Р.Бутко</td>\n",
       "      <td>«16+» - для детей старше 16 лет</td>\n",
       "      <td>0</td>\n",
       "      <td>26500000</td>\n",
       "      <td>79411900</td>\n",
       "      <td>Министерство культуры</td>\n",
       "      <td>8.1</td>\n",
       "      <td>драма,мелодрама</td>\n",
       "      <td>365354</td>\n",
       "    </tr>\n",
       "    <tr>\n",
       "      <th>1446</th>\n",
       "      <td>Бесславные придурки</td>\n",
       "      <td>111003314</td>\n",
       "      <td>2014-03-28 12:00:00+00:00</td>\n",
       "      <td>Художественный</td>\n",
       "      <td>ООО \"Компания \"АТК-Студио\"</td>\n",
       "      <td>Россия</td>\n",
       "      <td>А.Якимчук</td>\n",
       "      <td>А.Тютрюмов</td>\n",
       "      <td>«12+» - для детей старше 12 лет</td>\n",
       "      <td>0</td>\n",
       "      <td>26000000</td>\n",
       "      <td>37142857</td>\n",
       "      <td>Министерство культуры</td>\n",
       "      <td>NaN</td>\n",
       "      <td>NaN</td>\n",
       "      <td>28140</td>\n",
       "    </tr>\n",
       "    <tr>\n",
       "      <th>1496</th>\n",
       "      <td>Невидимки</td>\n",
       "      <td>111004213</td>\n",
       "      <td>2013-09-10 12:00:00+00:00</td>\n",
       "      <td>Художественный</td>\n",
       "      <td>ООО \"Компания \"РЕАЛ-ДАКОТА\"</td>\n",
       "      <td>Россия</td>\n",
       "      <td>Р.Давлетьяров, С.Комаров</td>\n",
       "      <td>Р.Давлетьяров, А.Котелевский, А.Олейников</td>\n",
       "      <td>«12+» - для детей старше 12 лет</td>\n",
       "      <td>0</td>\n",
       "      <td>107847945</td>\n",
       "      <td>176023490</td>\n",
       "      <td>Фонд кино</td>\n",
       "      <td>5.3</td>\n",
       "      <td>комедия,фантастика</td>\n",
       "      <td>19957032</td>\n",
       "    </tr>\n",
       "    <tr>\n",
       "      <th>1522</th>\n",
       "      <td>БЕРЦЫ</td>\n",
       "      <td>111004314</td>\n",
       "      <td>2014-05-05 12:00:00+00:00</td>\n",
       "      <td>Художественный</td>\n",
       "      <td>ООО \"Студия \"Пассажир\"</td>\n",
       "      <td>Россия</td>\n",
       "      <td>Е.Миндадзе (псевдоним Катя Шагалова)</td>\n",
       "      <td>Л.Антонова</td>\n",
       "      <td>«16+» - для детей старше 16 лет</td>\n",
       "      <td>0</td>\n",
       "      <td>28000000</td>\n",
       "      <td>40574140</td>\n",
       "      <td>Министерство культуры</td>\n",
       "      <td>4.2</td>\n",
       "      <td>драма</td>\n",
       "      <td>55918</td>\n",
       "    </tr>\n",
       "    <tr>\n",
       "      <th>1789</th>\n",
       "      <td>Братья Ч</td>\n",
       "      <td>111004414</td>\n",
       "      <td>2014-04-23 12:00:00+00:00</td>\n",
       "      <td>Художественный</td>\n",
       "      <td>ООО \"Студия \"Пассажир\"</td>\n",
       "      <td>Россия</td>\n",
       "      <td>М.Угаров</td>\n",
       "      <td>А.Миндадзе, Л.Антонова</td>\n",
       "      <td>«16+» - для детей старше 16 лет</td>\n",
       "      <td>0</td>\n",
       "      <td>25000000</td>\n",
       "      <td>40015122</td>\n",
       "      <td>Министерство культуры</td>\n",
       "      <td>6.4</td>\n",
       "      <td>драма</td>\n",
       "      <td>232100</td>\n",
       "    </tr>\n",
       "  </tbody>\n",
       "</table>\n",
       "</div>"
      ],
      "text/plain": [
       "                    title   puNumber           show_start_date  \\\n",
       "1280        Пока еще жива  111005313 2013-10-11 12:00:00+00:00   \n",
       "1446  Бесславные придурки  111003314 2014-03-28 12:00:00+00:00   \n",
       "1496            Невидимки  111004213 2013-09-10 12:00:00+00:00   \n",
       "1522                БЕРЦЫ  111004314 2014-05-05 12:00:00+00:00   \n",
       "1789             Братья Ч  111004414 2014-04-23 12:00:00+00:00   \n",
       "\n",
       "                type                                        film_studio  \\\n",
       "1280  Художественный  АНО содействия развитию кинематографии \"Ангел-...   \n",
       "1446  Художественный                         ООО \"Компания \"АТК-Студио\"   \n",
       "1496  Художественный                        ООО \"Компания \"РЕАЛ-ДАКОТА\"   \n",
       "1522  Художественный                             ООО \"Студия \"Пассажир\"   \n",
       "1789  Художественный                             ООО \"Студия \"Пассажир\"   \n",
       "\n",
       "     production_country                              director  \\\n",
       "1280             Россия                            А.Атанесян   \n",
       "1446             Россия                             А.Якимчук   \n",
       "1496             Россия              Р.Давлетьяров, С.Комаров   \n",
       "1522             Россия  Е.Миндадзе (псевдоним Катя Шагалова)   \n",
       "1789             Россия                              М.Угаров   \n",
       "\n",
       "                                       producer  \\\n",
       "1280           А.Атанесян, М.Бабаханов, Р.Бутко   \n",
       "1446                                 А.Тютрюмов   \n",
       "1496  Р.Давлетьяров, А.Котелевский, А.Олейников   \n",
       "1522                                 Л.Антонова   \n",
       "1789                     А.Миндадзе, Л.Антонова   \n",
       "\n",
       "                      age_restriction  refundable_support  \\\n",
       "1280  «16+» - для детей старше 16 лет                   0   \n",
       "1446  «12+» - для детей старше 12 лет                   0   \n",
       "1496  «12+» - для детей старше 12 лет                   0   \n",
       "1522  «16+» - для детей старше 16 лет                   0   \n",
       "1789  «16+» - для детей старше 16 лет                   0   \n",
       "\n",
       "      nonrefundable_support    budget       financing_source ratings  \\\n",
       "1280               26500000  79411900  Министерство культуры     8.1   \n",
       "1446               26000000  37142857  Министерство культуры     NaN   \n",
       "1496              107847945 176023490              Фонд кино     5.3   \n",
       "1522               28000000  40574140  Министерство культуры     4.2   \n",
       "1789               25000000  40015122  Министерство культуры     6.4   \n",
       "\n",
       "                  genres  box_office  \n",
       "1280     драма,мелодрама      365354  \n",
       "1446                 NaN       28140  \n",
       "1496  комедия,фантастика    19957032  \n",
       "1522               драма       55918  \n",
       "1789               драма      232100  "
      ]
     },
     "execution_count": 13,
     "metadata": {},
     "output_type": "execute_result"
    }
   ],
   "source": [
    "data.query('budget.isna() == False').head(5)"
   ]
  },
  {
   "cell_type": "markdown",
   "metadata": {},
   "source": [
    "Да, действительно все эти фильмы сняты в России. В таком случае эти столбцы мы снова трогать не будем - они будут отдельно изучены во время проведения исследовательского анализа данных.\n",
    "\n",
    "Причина пропуска в данных - принадлежность некоторых фильмов к РФ."
   ]
  },
  {
   "cell_type": "markdown",
   "metadata": {},
   "source": [
    "##### Рейтинг и жанры"
   ]
  },
  {
   "cell_type": "code",
   "execution_count": 14,
   "metadata": {},
   "outputs": [
    {
     "data": {
      "text/html": [
       "<div>\n",
       "<style scoped>\n",
       "    .dataframe tbody tr th:only-of-type {\n",
       "        vertical-align: middle;\n",
       "    }\n",
       "\n",
       "    .dataframe tbody tr th {\n",
       "        vertical-align: top;\n",
       "    }\n",
       "\n",
       "    .dataframe thead th {\n",
       "        text-align: right;\n",
       "    }\n",
       "</style>\n",
       "<table border=\"1\" class=\"dataframe\">\n",
       "  <thead>\n",
       "    <tr style=\"text-align: right;\">\n",
       "      <th></th>\n",
       "      <th>title</th>\n",
       "      <th>puNumber</th>\n",
       "      <th>show_start_date</th>\n",
       "      <th>type</th>\n",
       "      <th>film_studio</th>\n",
       "      <th>production_country</th>\n",
       "      <th>director</th>\n",
       "      <th>producer</th>\n",
       "      <th>age_restriction</th>\n",
       "      <th>refundable_support</th>\n",
       "      <th>nonrefundable_support</th>\n",
       "      <th>budget</th>\n",
       "      <th>financing_source</th>\n",
       "      <th>ratings</th>\n",
       "      <th>genres</th>\n",
       "      <th>box_office</th>\n",
       "    </tr>\n",
       "  </thead>\n",
       "  <tbody>\n",
       "    <tr>\n",
       "      <th>43</th>\n",
       "      <td>Мемуары гейши (по роману Артура Голдена)</td>\n",
       "      <td>121000606</td>\n",
       "      <td>2012-12-14 12:00:00+00:00</td>\n",
       "      <td>Художественный</td>\n",
       "      <td>Коламбия Пикчерз Корпорейшн, ДримУоркс ЭсКейДж...</td>\n",
       "      <td>США</td>\n",
       "      <td>Роб Маршалл</td>\n",
       "      <td>Стивен Спилберг, Люси Фишер, Дуглас Уик, Джон ...</td>\n",
       "      <td>«12+» - для детей старше 12 лет</td>\n",
       "      <td>NaN</td>\n",
       "      <td>NaN</td>\n",
       "      <td>NaN</td>\n",
       "      <td>NaN</td>\n",
       "      <td>NaN</td>\n",
       "      <td>NaN</td>\n",
       "      <td>NaN</td>\n",
       "    </tr>\n",
       "    <tr>\n",
       "      <th>150</th>\n",
       "      <td>Жди меня</td>\n",
       "      <td>111013615</td>\n",
       "      <td>2015-08-25 12:00:00+00:00</td>\n",
       "      <td>Художественный</td>\n",
       "      <td>Киностудия \"Мосфильм\"</td>\n",
       "      <td>СССР</td>\n",
       "      <td>А.Столпер, Б.Иванов</td>\n",
       "      <td>NaN</td>\n",
       "      <td>«6+» - для детей старше 6 лет</td>\n",
       "      <td>NaN</td>\n",
       "      <td>NaN</td>\n",
       "      <td>NaN</td>\n",
       "      <td>NaN</td>\n",
       "      <td>NaN</td>\n",
       "      <td>NaN</td>\n",
       "      <td>NaN</td>\n",
       "    </tr>\n",
       "    <tr>\n",
       "      <th>154</th>\n",
       "      <td>Дом из песка и тумана (по книге Андре Дюбуи III)</td>\n",
       "      <td>221037813</td>\n",
       "      <td>2013-10-25 12:00:00+00:00</td>\n",
       "      <td>Художественный</td>\n",
       "      <td>Кобальт Пикчерз</td>\n",
       "      <td>США</td>\n",
       "      <td>Вадим Перельман</td>\n",
       "      <td>Майкл Лондон</td>\n",
       "      <td>«16+» - для детей старше 16 лет</td>\n",
       "      <td>NaN</td>\n",
       "      <td>NaN</td>\n",
       "      <td>NaN</td>\n",
       "      <td>NaN</td>\n",
       "      <td>NaN</td>\n",
       "      <td>NaN</td>\n",
       "      <td>NaN</td>\n",
       "    </tr>\n",
       "    <tr>\n",
       "      <th>159</th>\n",
       "      <td>Жемчужная девушка</td>\n",
       "      <td>224011014</td>\n",
       "      <td>2014-08-28 12:00:00+00:00</td>\n",
       "      <td>Художественный</td>\n",
       "      <td>Чешское телевидение,Студия \"Три брата\" агентск...</td>\n",
       "      <td>Чехия</td>\n",
       "      <td>Владимир Дрга</td>\n",
       "      <td>NaN</td>\n",
       "      <td>«0+» - для любой зрительской аудитории</td>\n",
       "      <td>NaN</td>\n",
       "      <td>NaN</td>\n",
       "      <td>NaN</td>\n",
       "      <td>NaN</td>\n",
       "      <td>NaN</td>\n",
       "      <td>NaN</td>\n",
       "      <td>NaN</td>\n",
       "    </tr>\n",
       "    <tr>\n",
       "      <th>227</th>\n",
       "      <td>Полустанок</td>\n",
       "      <td>111026714</td>\n",
       "      <td>2014-12-24 12:00:00+00:00</td>\n",
       "      <td>Художественный</td>\n",
       "      <td>Киностудия \"Мосфильм\"</td>\n",
       "      <td>СССР</td>\n",
       "      <td>Б.Барнет</td>\n",
       "      <td>NaN</td>\n",
       "      <td>«12+» - для детей старше 12 лет</td>\n",
       "      <td>NaN</td>\n",
       "      <td>NaN</td>\n",
       "      <td>NaN</td>\n",
       "      <td>NaN</td>\n",
       "      <td>NaN</td>\n",
       "      <td>NaN</td>\n",
       "      <td>NaN</td>\n",
       "    </tr>\n",
       "  </tbody>\n",
       "</table>\n",
       "</div>"
      ],
      "text/plain": [
       "                                                title   puNumber  \\\n",
       "43           Мемуары гейши (по роману Артура Голдена)  121000606   \n",
       "150                                          Жди меня  111013615   \n",
       "154  Дом из песка и тумана (по книге Андре Дюбуи III)  221037813   \n",
       "159                                 Жемчужная девушка  224011014   \n",
       "227                                        Полустанок  111026714   \n",
       "\n",
       "              show_start_date            type  \\\n",
       "43  2012-12-14 12:00:00+00:00  Художественный   \n",
       "150 2015-08-25 12:00:00+00:00  Художественный   \n",
       "154 2013-10-25 12:00:00+00:00  Художественный   \n",
       "159 2014-08-28 12:00:00+00:00  Художественный   \n",
       "227 2014-12-24 12:00:00+00:00  Художественный   \n",
       "\n",
       "                                           film_studio production_country  \\\n",
       "43   Коламбия Пикчерз Корпорейшн, ДримУоркс ЭсКейДж...                США   \n",
       "150                              Киностудия \"Мосфильм\"               СССР   \n",
       "154                                    Кобальт Пикчерз                США   \n",
       "159  Чешское телевидение,Студия \"Три брата\" агентск...              Чехия   \n",
       "227                              Киностудия \"Мосфильм\"               СССР   \n",
       "\n",
       "                director                                           producer  \\\n",
       "43           Роб Маршалл  Стивен Спилберг, Люси Фишер, Дуглас Уик, Джон ...   \n",
       "150  А.Столпер, Б.Иванов                                                NaN   \n",
       "154      Вадим Перельман                                       Майкл Лондон   \n",
       "159        Владимир Дрга                                                NaN   \n",
       "227             Б.Барнет                                                NaN   \n",
       "\n",
       "                            age_restriction  refundable_support  \\\n",
       "43          «12+» - для детей старше 12 лет                 NaN   \n",
       "150           «6+» - для детей старше 6 лет                 NaN   \n",
       "154         «16+» - для детей старше 16 лет                 NaN   \n",
       "159  «0+» - для любой зрительской аудитории                 NaN   \n",
       "227         «12+» - для детей старше 12 лет                 NaN   \n",
       "\n",
       "     nonrefundable_support  budget financing_source ratings genres  box_office  \n",
       "43                     NaN     NaN              NaN     NaN    NaN         NaN  \n",
       "150                    NaN     NaN              NaN     NaN    NaN         NaN  \n",
       "154                    NaN     NaN              NaN     NaN    NaN         NaN  \n",
       "159                    NaN     NaN              NaN     NaN    NaN         NaN  \n",
       "227                    NaN     NaN              NaN     NaN    NaN         NaN  "
      ]
     },
     "execution_count": 14,
     "metadata": {},
     "output_type": "execute_result"
    }
   ],
   "source": [
    "data.query('ratings.isna() == True').head(5)"
   ]
  },
  {
   "cell_type": "markdown",
   "metadata": {},
   "source": [
    "Каких-то закономерностей не наблюдается. Вероятно, значения были потеряны при создании исходных датасетов. Кстати, это же произошло со столбцом `genres`.\n",
    "\n",
    "Правильным решением в данном случае будет заполнить пропуски медианным значением рейтинга."
   ]
  },
  {
   "cell_type": "code",
   "execution_count": 15,
   "metadata": {},
   "outputs": [
    {
     "data": {
      "text/plain": [
       "array(['7.2', '6.6', '6.8', '7.7', '8.3', '8.0', '7.8', '8.1', '7.1',\n",
       "       '6.0', '7.4', '5.8', '8.7', '6.3', '6.9', '5.0', '4.3', '7.3',\n",
       "       '7.0', '6.4', nan, '8.2', '7.5', '6.7', '7.9', '5.9', '6.2', '5.6',\n",
       "       '6.5', '2.4', '7.6', '6.1', '8.6', '8.5', '8.8', '5.5', '5.1',\n",
       "       '5.7', '5.4', '99%', '4.4', '4.5', '5.3', '4.1', '8.4', '2.6',\n",
       "       '3.8', '4.6', '4.8', '4.0', '3.0', '1.6', '4.2', '5.2', '4.7',\n",
       "       '4.9', '3.9', '2.7', '3.3', '2.9', '28%', '3.7', '1.4', '3.1',\n",
       "       '97%', '3.5', '3.2', '2.8', '1.5', '2.1', '2.5', '9.2', '3.4',\n",
       "       '1.1', '3.6', '83%', '64%', '91%', '94%', '62%', '79%', '90%',\n",
       "       '19%', '88%', '1.0', '89%', '1.3', '1.9', '1.8', '1.2', '1.7',\n",
       "       '9.0', '98%', '8.9', '9.1'], dtype=object)"
      ]
     },
     "execution_count": 15,
     "metadata": {},
     "output_type": "execute_result"
    }
   ],
   "source": [
    "data['ratings'].unique()"
   ]
  },
  {
   "cell_type": "markdown",
   "metadata": {},
   "source": [
    "Напишем фукнцию, которая конвертирует значения в процентах в значения по десятибалльной шкале:"
   ]
  },
  {
   "cell_type": "code",
   "execution_count": 16,
   "metadata": {},
   "outputs": [
    {
     "data": {
      "text/plain": [
       "array([7.2, 6.6, 6.8, 7.7, 8.3, 8. , 7.8, 8.1, 7.1, 6. , 7.4, 5.8, 8.7,\n",
       "       6.3, 6.9, 5. , 4.3, 7.3, 7. , 6.4, nan, 8.2, 7.5, 6.7, 7.9, 5.9,\n",
       "       6.2, 5.6, 6.5, 2.4, 7.6, 6.1, 8.6, 8.5, 8.8, 5.5, 5.1, 5.7, 5.4,\n",
       "       9.9, 4.4, 4.5, 5.3, 4.1, 8.4, 2.6, 3.8, 4.6, 4.8, 4. , 3. , 1.6,\n",
       "       4.2, 5.2, 4.7, 4.9, 3.9, 2.7, 3.3, 2.9, 2.8, 3.7, 1.4, 3.1, 9.7,\n",
       "       3.5, 3.2, 1.5, 2.1, 2.5, 9.2, 3.4, 1.1, 3.6, 9.1, 9.4, 9. , 1.9,\n",
       "       1. , 8.9, 1.3, 1.8, 1.2, 1.7, 9.8])"
      ]
     },
     "execution_count": 16,
     "metadata": {},
     "output_type": "execute_result"
    }
   ],
   "source": [
    "def convert_percentage(percentage_str):\n",
    "    if isinstance(percentage_str, str):\n",
    "        if '%' in percentage_str:\n",
    "            number = float(percentage_str.replace('%', ''))\n",
    "            return number / 10\n",
    "        \n",
    "        else:\n",
    "            try:\n",
    "                return float(percentage_str)\n",
    "            except ValueError:\n",
    "                return None\n",
    "            \n",
    "    elif pd.isna(percentage_str):\n",
    "        return percentage_str\n",
    "    \n",
    "    else:\n",
    "        return percentage_str\n",
    "    \n",
    "data['ratings'] = data['ratings'].apply(convert_percentage)\n",
    "data['ratings'].unique()"
   ]
  },
  {
   "cell_type": "code",
   "execution_count": 17,
   "metadata": {},
   "outputs": [
    {
     "data": {
      "text/plain": [
       "6.6"
      ]
     },
     "execution_count": 17,
     "metadata": {},
     "output_type": "execute_result"
    }
   ],
   "source": [
    "data['ratings'].median()"
   ]
  },
  {
   "cell_type": "markdown",
   "metadata": {},
   "source": [
    "Названия жанра так же заполнить не получится, так что придется оставить их пустыми."
   ]
  },
  {
   "cell_type": "code",
   "execution_count": 18,
   "metadata": {},
   "outputs": [
    {
     "data": {
      "text/html": [
       "<style  type=\"text/css\" >\n",
       "#T_29c1f_row0_col0,#T_29c1f_row1_col0,#T_29c1f_row2_col0,#T_29c1f_row3_col0,#T_29c1f_row4_col0,#T_29c1f_row5_col0,#T_29c1f_row6_col0,#T_29c1f_row8_col0{\n",
       "            background-color:  #3b4cc0;\n",
       "            color:  #f1f1f1;\n",
       "        }#T_29c1f_row7_col0{\n",
       "            background-color:  #536edd;\n",
       "            color:  #000000;\n",
       "        }#T_29c1f_row9_col0,#T_29c1f_row10_col0,#T_29c1f_row11_col0,#T_29c1f_row12_col0{\n",
       "            background-color:  #b40426;\n",
       "            color:  #f1f1f1;\n",
       "        }#T_29c1f_row13_col0,#T_29c1f_row14_col0{\n",
       "            background-color:  #6485ec;\n",
       "            color:  #000000;\n",
       "        }#T_29c1f_row15_col0{\n",
       "            background-color:  #f2cab5;\n",
       "            color:  #000000;\n",
       "        }</style><table id=\"T_29c1f_\" ><thead>    <tr>        <th class=\"blank level0\" ></th>        <th class=\"col_heading level0 col0\" >0</th>    </tr></thead><tbody>\n",
       "                <tr>\n",
       "                        <th id=\"T_29c1f_level0_row0\" class=\"row_heading level0 row0\" >title</th>\n",
       "                        <td id=\"T_29c1f_row0_col0\" class=\"data row0 col0\" >0.000000</td>\n",
       "            </tr>\n",
       "            <tr>\n",
       "                        <th id=\"T_29c1f_level0_row1\" class=\"row_heading level0 row1\" >puNumber</th>\n",
       "                        <td id=\"T_29c1f_row1_col0\" class=\"data row1 col0\" >0.000000</td>\n",
       "            </tr>\n",
       "            <tr>\n",
       "                        <th id=\"T_29c1f_level0_row2\" class=\"row_heading level0 row2\" >show_start_date</th>\n",
       "                        <td id=\"T_29c1f_row2_col0\" class=\"data row2 col0\" >0.000000</td>\n",
       "            </tr>\n",
       "            <tr>\n",
       "                        <th id=\"T_29c1f_level0_row3\" class=\"row_heading level0 row3\" >type</th>\n",
       "                        <td id=\"T_29c1f_row3_col0\" class=\"data row3 col0\" >0.000000</td>\n",
       "            </tr>\n",
       "            <tr>\n",
       "                        <th id=\"T_29c1f_level0_row4\" class=\"row_heading level0 row4\" >film_studio</th>\n",
       "                        <td id=\"T_29c1f_row4_col0\" class=\"data row4 col0\" >0.000000</td>\n",
       "            </tr>\n",
       "            <tr>\n",
       "                        <th id=\"T_29c1f_level0_row5\" class=\"row_heading level0 row5\" >production_country</th>\n",
       "                        <td id=\"T_29c1f_row5_col0\" class=\"data row5 col0\" >0.000000</td>\n",
       "            </tr>\n",
       "            <tr>\n",
       "                        <th id=\"T_29c1f_level0_row6\" class=\"row_heading level0 row6\" >director</th>\n",
       "                        <td id=\"T_29c1f_row6_col0\" class=\"data row6 col0\" >0.000000</td>\n",
       "            </tr>\n",
       "            <tr>\n",
       "                        <th id=\"T_29c1f_level0_row7\" class=\"row_heading level0 row7\" >producer</th>\n",
       "                        <td id=\"T_29c1f_row7_col0\" class=\"data row7 col0\" >7.600000</td>\n",
       "            </tr>\n",
       "            <tr>\n",
       "                        <th id=\"T_29c1f_level0_row8\" class=\"row_heading level0 row8\" >age_restriction</th>\n",
       "                        <td id=\"T_29c1f_row8_col0\" class=\"data row8 col0\" >0.000000</td>\n",
       "            </tr>\n",
       "            <tr>\n",
       "                        <th id=\"T_29c1f_level0_row9\" class=\"row_heading level0 row9\" >refundable_support</th>\n",
       "                        <td id=\"T_29c1f_row9_col0\" class=\"data row9 col0\" >95.500000</td>\n",
       "            </tr>\n",
       "            <tr>\n",
       "                        <th id=\"T_29c1f_level0_row10\" class=\"row_heading level0 row10\" >nonrefundable_support</th>\n",
       "                        <td id=\"T_29c1f_row10_col0\" class=\"data row10 col0\" >95.500000</td>\n",
       "            </tr>\n",
       "            <tr>\n",
       "                        <th id=\"T_29c1f_level0_row11\" class=\"row_heading level0 row11\" >budget</th>\n",
       "                        <td id=\"T_29c1f_row11_col0\" class=\"data row11 col0\" >95.500000</td>\n",
       "            </tr>\n",
       "            <tr>\n",
       "                        <th id=\"T_29c1f_level0_row12\" class=\"row_heading level0 row12\" >financing_source</th>\n",
       "                        <td id=\"T_29c1f_row12_col0\" class=\"data row12 col0\" >95.500000</td>\n",
       "            </tr>\n",
       "            <tr>\n",
       "                        <th id=\"T_29c1f_level0_row13\" class=\"row_heading level0 row13\" >ratings</th>\n",
       "                        <td id=\"T_29c1f_row13_col0\" class=\"data row13 col0\" >12.700000</td>\n",
       "            </tr>\n",
       "            <tr>\n",
       "                        <th id=\"T_29c1f_level0_row14\" class=\"row_heading level0 row14\" >genres</th>\n",
       "                        <td id=\"T_29c1f_row14_col0\" class=\"data row14 col0\" >12.800000</td>\n",
       "            </tr>\n",
       "            <tr>\n",
       "                        <th id=\"T_29c1f_level0_row15\" class=\"row_heading level0 row15\" >box_office</th>\n",
       "                        <td id=\"T_29c1f_row15_col0\" class=\"data row15 col0\" >57.700000</td>\n",
       "            </tr>\n",
       "    </tbody></table>"
      ],
      "text/plain": [
       "<pandas.io.formats.style.Styler at 0x7f183ad1cac0>"
      ]
     },
     "execution_count": 18,
     "metadata": {},
     "output_type": "execute_result"
    }
   ],
   "source": [
    "pd.DataFrame(round(data.isna().mean()*100,1)).style.background_gradient('coolwarm')"
   ]
  },
  {
   "cell_type": "markdown",
   "metadata": {},
   "source": [
    "#####  Сборы"
   ]
  },
  {
   "cell_type": "markdown",
   "metadata": {},
   "source": [
    "Большой процент пропусков в столбце со сборами связан с тем, что многие фильмы не были в прокате в России (не имели прокатного удостоверения в списке `mkrf_shows`. \n",
    "\n",
    "Заполнить пропуски нельзя - сборы конкретное значение для каждого фильма."
   ]
  },
  {
   "cell_type": "markdown",
   "metadata": {
    "id": "4c6k1t9ygFyQ"
   },
   "source": [
    "#### Шаг 2.3. Изучите дубликаты в датафрейме\n",
    "- Проверьте, есть ли в данных дубликаты. Опишите причины, которые могли повлиять на появление дублей."
   ]
  },
  {
   "cell_type": "markdown",
   "metadata": {},
   "source": [
    "Проверим наличие явных пропусков:"
   ]
  },
  {
   "cell_type": "code",
   "execution_count": 19,
   "metadata": {
    "id": "aKck8RIdgFyQ"
   },
   "outputs": [
    {
     "data": {
      "text/plain": [
       "array([False])"
      ]
     },
     "execution_count": 19,
     "metadata": {},
     "output_type": "execute_result"
    }
   ],
   "source": [
    "data.duplicated().unique()"
   ]
  },
  {
   "cell_type": "markdown",
   "metadata": {},
   "source": [
    "Явные дубликаты отсутствуют, теперь рассмотрим важные столбцы. К примеру, `title` - название. Также стоит изучать столбец с прокатными удостоверениями. Остальные столбцы нет смысла рассматривать, так как режиссеры, продюсеры, страны и т.п. могут повторяться и в данном случае являются некоторыми идентификаторами, хоть и являются дубликатами с точки зрения анализа данных."
   ]
  },
  {
   "cell_type": "code",
   "execution_count": 20,
   "metadata": {},
   "outputs": [
    {
     "data": {
      "text/plain": [
       "7460"
      ]
     },
     "execution_count": 20,
     "metadata": {},
     "output_type": "execute_result"
    }
   ],
   "source": [
    "len(data['title'])"
   ]
  },
  {
   "cell_type": "code",
   "execution_count": null,
   "metadata": {},
   "outputs": [],
   "source": []
  },
  {
   "cell_type": "code",
   "execution_count": 21,
   "metadata": {
    "scrolled": true
   },
   "outputs": [
    {
     "data": {
      "text/html": [
       "<div>\n",
       "<style scoped>\n",
       "    .dataframe tbody tr th:only-of-type {\n",
       "        vertical-align: middle;\n",
       "    }\n",
       "\n",
       "    .dataframe tbody tr th {\n",
       "        vertical-align: top;\n",
       "    }\n",
       "\n",
       "    .dataframe thead th {\n",
       "        text-align: right;\n",
       "    }\n",
       "</style>\n",
       "<table border=\"1\" class=\"dataframe\">\n",
       "  <thead>\n",
       "    <tr style=\"text-align: right;\">\n",
       "      <th></th>\n",
       "      <th>title</th>\n",
       "      <th>puNumber</th>\n",
       "      <th>show_start_date</th>\n",
       "      <th>type</th>\n",
       "      <th>film_studio</th>\n",
       "      <th>production_country</th>\n",
       "      <th>director</th>\n",
       "      <th>producer</th>\n",
       "      <th>age_restriction</th>\n",
       "      <th>refundable_support</th>\n",
       "      <th>nonrefundable_support</th>\n",
       "      <th>budget</th>\n",
       "      <th>financing_source</th>\n",
       "      <th>ratings</th>\n",
       "      <th>genres</th>\n",
       "      <th>box_office</th>\n",
       "    </tr>\n",
       "  </thead>\n",
       "  <tbody>\n",
       "    <tr>\n",
       "      <th>3</th>\n",
       "      <td>Особо опасен</td>\n",
       "      <td>221026916</td>\n",
       "      <td>2016-06-10 12:00:00+00:00</td>\n",
       "      <td>Художественный</td>\n",
       "      <td>Юниверсал Пикчерз, Кикстарт Продакшнз, Марк Пл...</td>\n",
       "      <td>США</td>\n",
       "      <td>Тимур Бекмамбетов</td>\n",
       "      <td>Джим Лемли, Джейсон Нетер, Марк Е.Платт, Яйн Смит</td>\n",
       "      <td>«18+» - запрещено для детей</td>\n",
       "      <td>NaN</td>\n",
       "      <td>NaN</td>\n",
       "      <td>NaN</td>\n",
       "      <td>NaN</td>\n",
       "      <td>7</td>\n",
       "      <td>фантастика,боевик,триллер</td>\n",
       "      <td>NaN</td>\n",
       "    </tr>\n",
       "    <tr>\n",
       "      <th>4</th>\n",
       "      <td>Особо опасен</td>\n",
       "      <td>221030815</td>\n",
       "      <td>2015-07-29 12:00:00+00:00</td>\n",
       "      <td>Художественный</td>\n",
       "      <td>Юниверсал Пикчерз, Кикстарт Продакшнз, Марк Пл...</td>\n",
       "      <td>США</td>\n",
       "      <td>Тимур Бекмамбетов</td>\n",
       "      <td>Джим Лемли, Джейсон Нетер, Марк Е.Платт, Яйн Смит</td>\n",
       "      <td>«18+» - запрещено для детей</td>\n",
       "      <td>NaN</td>\n",
       "      <td>NaN</td>\n",
       "      <td>NaN</td>\n",
       "      <td>NaN</td>\n",
       "      <td>7</td>\n",
       "      <td>фантастика,боевик,триллер</td>\n",
       "      <td>NaN</td>\n",
       "    </tr>\n",
       "    <tr>\n",
       "      <th>41</th>\n",
       "      <td>Алекс и Эмма</td>\n",
       "      <td>221004616</td>\n",
       "      <td>2016-02-09 12:00:00+00:00</td>\n",
       "      <td>Художественный</td>\n",
       "      <td>Эскейп Артистс, Франчайз Пикчерз, Рейнер-Грэйс...</td>\n",
       "      <td>США</td>\n",
       "      <td>Роб Райнер</td>\n",
       "      <td>Тодд Блэк, Элан Грейсман, Джереми Левен, Роб Р...</td>\n",
       "      <td>«16+» - для детей старше 16 лет</td>\n",
       "      <td>NaN</td>\n",
       "      <td>NaN</td>\n",
       "      <td>NaN</td>\n",
       "      <td>NaN</td>\n",
       "      <td>6</td>\n",
       "      <td>мелодрама,комедия</td>\n",
       "      <td>NaN</td>\n",
       "    </tr>\n",
       "    <tr>\n",
       "      <th>110</th>\n",
       "      <td>Гарри Поттер и орден Феникса /По роману Дж.К.Р...</td>\n",
       "      <td>121026316</td>\n",
       "      <td>2016-09-23 12:00:00+00:00</td>\n",
       "      <td>Художественный</td>\n",
       "      <td>Уорнер Бразерс, Хэйдей Филмз</td>\n",
       "      <td>США - Великобритания</td>\n",
       "      <td>Дэвид Йетс</td>\n",
       "      <td>Дэйвид Баррон, Дэйвид Хейман</td>\n",
       "      <td>«16+» - для детей старше 16 лет</td>\n",
       "      <td>NaN</td>\n",
       "      <td>NaN</td>\n",
       "      <td>NaN</td>\n",
       "      <td>NaN</td>\n",
       "      <td>8</td>\n",
       "      <td>фэнтези,приключения,семейный</td>\n",
       "      <td>759526</td>\n",
       "    </tr>\n",
       "    <tr>\n",
       "      <th>113</th>\n",
       "      <td>Гарри Поттер и узник Азкабана /По роману Дж.К....</td>\n",
       "      <td>121026116</td>\n",
       "      <td>2016-09-23 12:00:00+00:00</td>\n",
       "      <td>Художественный</td>\n",
       "      <td>Хэйдей Филмз, 1492 Пикчерз, Уорнер Бразерс</td>\n",
       "      <td>США</td>\n",
       "      <td>Альфонсо Куарон</td>\n",
       "      <td>Майкл Барната</td>\n",
       "      <td>«12+» - для детей старше 12 лет</td>\n",
       "      <td>NaN</td>\n",
       "      <td>NaN</td>\n",
       "      <td>NaN</td>\n",
       "      <td>NaN</td>\n",
       "      <td>8</td>\n",
       "      <td>фэнтези,приключения,семейный</td>\n",
       "      <td>1125302</td>\n",
       "    </tr>\n",
       "    <tr>\n",
       "      <th>...</th>\n",
       "      <td>...</td>\n",
       "      <td>...</td>\n",
       "      <td>...</td>\n",
       "      <td>...</td>\n",
       "      <td>...</td>\n",
       "      <td>...</td>\n",
       "      <td>...</td>\n",
       "      <td>...</td>\n",
       "      <td>...</td>\n",
       "      <td>...</td>\n",
       "      <td>...</td>\n",
       "      <td>...</td>\n",
       "      <td>...</td>\n",
       "      <td>...</td>\n",
       "      <td>...</td>\n",
       "      <td>...</td>\n",
       "    </tr>\n",
       "    <tr>\n",
       "      <th>7343</th>\n",
       "      <td>Невиновен</td>\n",
       "      <td>111019319</td>\n",
       "      <td>2019-11-07 12:00:00+00:00</td>\n",
       "      <td>Художественный</td>\n",
       "      <td>ООО \"Кавказфильм\"</td>\n",
       "      <td>Россия</td>\n",
       "      <td>А.Емкужев</td>\n",
       "      <td>А.Емкужев, А.Хуажева, ООО \"Корпорация Русская ...</td>\n",
       "      <td>«16+» - для детей старше 16 лет</td>\n",
       "      <td>NaN</td>\n",
       "      <td>NaN</td>\n",
       "      <td>NaN</td>\n",
       "      <td>NaN</td>\n",
       "      <td>8</td>\n",
       "      <td>триллер,детектив,криминал</td>\n",
       "      <td>NaN</td>\n",
       "    </tr>\n",
       "    <tr>\n",
       "      <th>7390</th>\n",
       "      <td>Отель \"Гранд Будапешт\"</td>\n",
       "      <td>121035119</td>\n",
       "      <td>2019-12-13 12:00:00+00:00</td>\n",
       "      <td>Художественный</td>\n",
       "      <td>Американ Эмпирикал, Индиан Пэинтбраш, Скотт Ру...</td>\n",
       "      <td>Германия, США</td>\n",
       "      <td>Уэс Андерсен</td>\n",
       "      <td>Уэс Андерсон, Джереми Доусон, Стивен Рейлс</td>\n",
       "      <td>«16+» - для детей старше 16 лет</td>\n",
       "      <td>NaN</td>\n",
       "      <td>NaN</td>\n",
       "      <td>NaN</td>\n",
       "      <td>NaN</td>\n",
       "      <td>8</td>\n",
       "      <td>комедия,приключения,детектив</td>\n",
       "      <td>NaN</td>\n",
       "    </tr>\n",
       "    <tr>\n",
       "      <th>7412</th>\n",
       "      <td>Зверь</td>\n",
       "      <td>121035919</td>\n",
       "      <td>2019-12-05 12:00:00+00:00</td>\n",
       "      <td>Художественный</td>\n",
       "      <td>Студио энд Нью</td>\n",
       "      <td>Южная Корея</td>\n",
       "      <td>Ли Джон-хо</td>\n",
       "      <td>Чан Гён-ик, Чон Джи-хун, Пэк Кён сук</td>\n",
       "      <td>«18+» - запрещено для детей</td>\n",
       "      <td>NaN</td>\n",
       "      <td>NaN</td>\n",
       "      <td>NaN</td>\n",
       "      <td>NaN</td>\n",
       "      <td>6</td>\n",
       "      <td>триллер,драма</td>\n",
       "      <td>175004</td>\n",
       "    </tr>\n",
       "    <tr>\n",
       "      <th>7424</th>\n",
       "      <td>В тихом омуте</td>\n",
       "      <td>121036919</td>\n",
       "      <td>2019-12-09 12:00:00+00:00</td>\n",
       "      <td>Художественный</td>\n",
       "      <td>Хэд Гир Филмз, Крео Филмз, Локал Хироу, Метрол...</td>\n",
       "      <td>США</td>\n",
       "      <td>Адам Рэндолл</td>\n",
       "      <td>Мэтт Уолдек</td>\n",
       "      <td>«18+» - запрещено для детей</td>\n",
       "      <td>NaN</td>\n",
       "      <td>NaN</td>\n",
       "      <td>NaN</td>\n",
       "      <td>NaN</td>\n",
       "      <td>7</td>\n",
       "      <td>триллер,криминал,детектив</td>\n",
       "      <td>NaN</td>\n",
       "    </tr>\n",
       "    <tr>\n",
       "      <th>7448</th>\n",
       "      <td>Вторжение</td>\n",
       "      <td>111022519</td>\n",
       "      <td>2019-12-23 12:00:00+00:00</td>\n",
       "      <td>Художественный</td>\n",
       "      <td>ООО \"Арт Пикчерс Студия\", ООО \"Водород 2011\"</td>\n",
       "      <td>Россия</td>\n",
       "      <td>Ф.Бондарчук</td>\n",
       "      <td>Ф.Бондарчук, М.Врубель, А.Андрющенко, Д.Рудовский</td>\n",
       "      <td>«12+» - для детей старше 12 лет</td>\n",
       "      <td>100000000</td>\n",
       "      <td>400000000</td>\n",
       "      <td>944000000</td>\n",
       "      <td>Фонд кино</td>\n",
       "      <td>6</td>\n",
       "      <td>фантастика,боевик</td>\n",
       "      <td>NaN</td>\n",
       "    </tr>\n",
       "  </tbody>\n",
       "</table>\n",
       "<p>713 rows × 16 columns</p>\n",
       "</div>"
      ],
      "text/plain": [
       "                                                  title   puNumber  \\\n",
       "3                                          Особо опасен  221026916   \n",
       "4                                          Особо опасен  221030815   \n",
       "41                                         Алекс и Эмма  221004616   \n",
       "110   Гарри Поттер и орден Феникса /По роману Дж.К.Р...  121026316   \n",
       "113   Гарри Поттер и узник Азкабана /По роману Дж.К....  121026116   \n",
       "...                                                 ...        ...   \n",
       "7343                                          Невиновен  111019319   \n",
       "7390                             Отель \"Гранд Будапешт\"  121035119   \n",
       "7412                                              Зверь  121035919   \n",
       "7424                                      В тихом омуте  121036919   \n",
       "7448                                          Вторжение  111022519   \n",
       "\n",
       "               show_start_date             type  \\\n",
       "3    2016-06-10 12:00:00+00:00   Художественный   \n",
       "4    2015-07-29 12:00:00+00:00   Художественный   \n",
       "41   2016-02-09 12:00:00+00:00   Художественный   \n",
       "110  2016-09-23 12:00:00+00:00   Художественный   \n",
       "113  2016-09-23 12:00:00+00:00   Художественный   \n",
       "...                        ...              ...   \n",
       "7343 2019-11-07 12:00:00+00:00   Художественный   \n",
       "7390 2019-12-13 12:00:00+00:00   Художественный   \n",
       "7412 2019-12-05 12:00:00+00:00   Художественный   \n",
       "7424 2019-12-09 12:00:00+00:00   Художественный   \n",
       "7448 2019-12-23 12:00:00+00:00   Художественный   \n",
       "\n",
       "                                            film_studio    production_country  \\\n",
       "3     Юниверсал Пикчерз, Кикстарт Продакшнз, Марк Пл...                   США   \n",
       "4     Юниверсал Пикчерз, Кикстарт Продакшнз, Марк Пл...                   США   \n",
       "41    Эскейп Артистс, Франчайз Пикчерз, Рейнер-Грэйс...                   США   \n",
       "110                        Уорнер Бразерс, Хэйдей Филмз  США - Великобритания   \n",
       "113          Хэйдей Филмз, 1492 Пикчерз, Уорнер Бразерс                   США   \n",
       "...                                                 ...                   ...   \n",
       "7343                                  ООО \"Кавказфильм\"                Россия   \n",
       "7390  Американ Эмпирикал, Индиан Пэинтбраш, Скотт Ру...         Германия, США   \n",
       "7412                                     Студио энд Нью           Южная Корея   \n",
       "7424  Хэд Гир Филмз, Крео Филмз, Локал Хироу, Метрол...                   США   \n",
       "7448       ООО \"Арт Пикчерс Студия\", ООО \"Водород 2011\"                Россия   \n",
       "\n",
       "               director                                           producer  \\\n",
       "3     Тимур Бекмамбетов  Джим Лемли, Джейсон Нетер, Марк Е.Платт, Яйн Смит   \n",
       "4     Тимур Бекмамбетов  Джим Лемли, Джейсон Нетер, Марк Е.Платт, Яйн Смит   \n",
       "41           Роб Райнер  Тодд Блэк, Элан Грейсман, Джереми Левен, Роб Р...   \n",
       "110          Дэвид Йетс                       Дэйвид Баррон, Дэйвид Хейман   \n",
       "113     Альфонсо Куарон                                      Майкл Барната   \n",
       "...                 ...                                                ...   \n",
       "7343          А.Емкужев  А.Емкужев, А.Хуажева, ООО \"Корпорация Русская ...   \n",
       "7390       Уэс Андерсен         Уэс Андерсон, Джереми Доусон, Стивен Рейлс   \n",
       "7412         Ли Джон-хо               Чан Гён-ик, Чон Джи-хун, Пэк Кён сук   \n",
       "7424       Адам Рэндолл                                        Мэтт Уолдек   \n",
       "7448        Ф.Бондарчук  Ф.Бондарчук, М.Врубель, А.Андрющенко, Д.Рудовский   \n",
       "\n",
       "                      age_restriction  refundable_support  \\\n",
       "3         «18+» - запрещено для детей                 NaN   \n",
       "4         «18+» - запрещено для детей                 NaN   \n",
       "41    «16+» - для детей старше 16 лет                 NaN   \n",
       "110   «16+» - для детей старше 16 лет                 NaN   \n",
       "113   «12+» - для детей старше 12 лет                 NaN   \n",
       "...                               ...                 ...   \n",
       "7343  «16+» - для детей старше 16 лет                 NaN   \n",
       "7390  «16+» - для детей старше 16 лет                 NaN   \n",
       "7412      «18+» - запрещено для детей                 NaN   \n",
       "7424      «18+» - запрещено для детей                 NaN   \n",
       "7448  «12+» - для детей старше 12 лет           100000000   \n",
       "\n",
       "      nonrefundable_support    budget financing_source  ratings  \\\n",
       "3                       NaN       NaN              NaN        7   \n",
       "4                       NaN       NaN              NaN        7   \n",
       "41                      NaN       NaN              NaN        6   \n",
       "110                     NaN       NaN              NaN        8   \n",
       "113                     NaN       NaN              NaN        8   \n",
       "...                     ...       ...              ...      ...   \n",
       "7343                    NaN       NaN              NaN        8   \n",
       "7390                    NaN       NaN              NaN        8   \n",
       "7412                    NaN       NaN              NaN        6   \n",
       "7424                    NaN       NaN              NaN        7   \n",
       "7448              400000000 944000000        Фонд кино        6   \n",
       "\n",
       "                            genres  box_office  \n",
       "3        фантастика,боевик,триллер         NaN  \n",
       "4        фантастика,боевик,триллер         NaN  \n",
       "41               мелодрама,комедия         NaN  \n",
       "110   фэнтези,приключения,семейный      759526  \n",
       "113   фэнтези,приключения,семейный     1125302  \n",
       "...                            ...         ...  \n",
       "7343     триллер,детектив,криминал         NaN  \n",
       "7390  комедия,приключения,детектив         NaN  \n",
       "7412                 триллер,драма      175004  \n",
       "7424     триллер,криминал,детектив         NaN  \n",
       "7448             фантастика,боевик         NaN  \n",
       "\n",
       "[713 rows x 16 columns]"
      ]
     },
     "execution_count": 21,
     "metadata": {},
     "output_type": "execute_result"
    }
   ],
   "source": [
    "data[data['title'].duplicated()]"
   ]
  },
  {
   "cell_type": "markdown",
   "metadata": {},
   "source": [
    "Чтобы данные при анализе не оказались искажены, придется удалить строки, где названия повторяются. \n",
    "\n",
    "Какая причина может быть у таких пропусков? Мы видим, что у фильмов с одинаковым названием отличается номер прокатного удостоверения и дата выхода. Как так? Разные даты выхода? Да, очень часто фильмы выходят в прокат несколько раз в течение какого-то срока. Это не было учтено при формировании датасета, поэтому и появились вот такие дубликаты. То же самое и с прокатным удостоверением - оно тоже обновляется."
   ]
  },
  {
   "cell_type": "code",
   "execution_count": 22,
   "metadata": {},
   "outputs": [
    {
     "data": {
      "text/html": [
       "<div>\n",
       "<style scoped>\n",
       "    .dataframe tbody tr th:only-of-type {\n",
       "        vertical-align: middle;\n",
       "    }\n",
       "\n",
       "    .dataframe tbody tr th {\n",
       "        vertical-align: top;\n",
       "    }\n",
       "\n",
       "    .dataframe thead th {\n",
       "        text-align: right;\n",
       "    }\n",
       "</style>\n",
       "<table border=\"1\" class=\"dataframe\">\n",
       "  <thead>\n",
       "    <tr style=\"text-align: right;\">\n",
       "      <th></th>\n",
       "      <th>title</th>\n",
       "      <th>puNumber</th>\n",
       "      <th>show_start_date</th>\n",
       "      <th>type</th>\n",
       "      <th>film_studio</th>\n",
       "      <th>production_country</th>\n",
       "      <th>director</th>\n",
       "      <th>producer</th>\n",
       "      <th>age_restriction</th>\n",
       "      <th>refundable_support</th>\n",
       "      <th>nonrefundable_support</th>\n",
       "      <th>budget</th>\n",
       "      <th>financing_source</th>\n",
       "      <th>ratings</th>\n",
       "      <th>genres</th>\n",
       "      <th>box_office</th>\n",
       "    </tr>\n",
       "  </thead>\n",
       "  <tbody>\n",
       "    <tr>\n",
       "      <th>2</th>\n",
       "      <td>Особо опасен</td>\n",
       "      <td>221038416</td>\n",
       "      <td>2016-10-10 12:00:00+00:00</td>\n",
       "      <td>Художественный</td>\n",
       "      <td>Юниверсал Пикчерз, Кикстарт Продакшнз, Марк Пл...</td>\n",
       "      <td>США</td>\n",
       "      <td>Тимур Бекмамбетов</td>\n",
       "      <td>Джим Лемли, Джейсон Нетер, Марк Е.Платт, Яйн Смит</td>\n",
       "      <td>«18+» - запрещено для детей</td>\n",
       "      <td>NaN</td>\n",
       "      <td>NaN</td>\n",
       "      <td>NaN</td>\n",
       "      <td>NaN</td>\n",
       "      <td>7</td>\n",
       "      <td>фантастика,боевик,триллер</td>\n",
       "      <td>NaN</td>\n",
       "    </tr>\n",
       "    <tr>\n",
       "      <th>3</th>\n",
       "      <td>Особо опасен</td>\n",
       "      <td>221026916</td>\n",
       "      <td>2016-06-10 12:00:00+00:00</td>\n",
       "      <td>Художественный</td>\n",
       "      <td>Юниверсал Пикчерз, Кикстарт Продакшнз, Марк Пл...</td>\n",
       "      <td>США</td>\n",
       "      <td>Тимур Бекмамбетов</td>\n",
       "      <td>Джим Лемли, Джейсон Нетер, Марк Е.Платт, Яйн Смит</td>\n",
       "      <td>«18+» - запрещено для детей</td>\n",
       "      <td>NaN</td>\n",
       "      <td>NaN</td>\n",
       "      <td>NaN</td>\n",
       "      <td>NaN</td>\n",
       "      <td>7</td>\n",
       "      <td>фантастика,боевик,триллер</td>\n",
       "      <td>NaN</td>\n",
       "    </tr>\n",
       "    <tr>\n",
       "      <th>4</th>\n",
       "      <td>Особо опасен</td>\n",
       "      <td>221030815</td>\n",
       "      <td>2015-07-29 12:00:00+00:00</td>\n",
       "      <td>Художественный</td>\n",
       "      <td>Юниверсал Пикчерз, Кикстарт Продакшнз, Марк Пл...</td>\n",
       "      <td>США</td>\n",
       "      <td>Тимур Бекмамбетов</td>\n",
       "      <td>Джим Лемли, Джейсон Нетер, Марк Е.Платт, Яйн Смит</td>\n",
       "      <td>«18+» - запрещено для детей</td>\n",
       "      <td>NaN</td>\n",
       "      <td>NaN</td>\n",
       "      <td>NaN</td>\n",
       "      <td>NaN</td>\n",
       "      <td>7</td>\n",
       "      <td>фантастика,боевик,триллер</td>\n",
       "      <td>NaN</td>\n",
       "    </tr>\n",
       "    <tr>\n",
       "      <th>12</th>\n",
       "      <td>Малышка на миллион /По мотивам рассказов Ф.Х.Т...</td>\n",
       "      <td>221011415</td>\n",
       "      <td>2015-04-03 12:00:00+00:00</td>\n",
       "      <td>Художественный</td>\n",
       "      <td>Уорнер Бразерс, Лейкшор Интертейнмент, Малпасо...</td>\n",
       "      <td>США</td>\n",
       "      <td>Клинт Иствуд</td>\n",
       "      <td>Клинт Иствуд, Том Розенберг, Альберт С.Рудди, ...</td>\n",
       "      <td>«16+» - для детей старше 16 лет</td>\n",
       "      <td>NaN</td>\n",
       "      <td>NaN</td>\n",
       "      <td>NaN</td>\n",
       "      <td>NaN</td>\n",
       "      <td>8</td>\n",
       "      <td>драма,спорт</td>\n",
       "      <td>NaN</td>\n",
       "    </tr>\n",
       "    <tr>\n",
       "      <th>26</th>\n",
       "      <td>Оружейный барон</td>\n",
       "      <td>221012515</td>\n",
       "      <td>2015-04-03 12:00:00+00:00</td>\n",
       "      <td>Художественный</td>\n",
       "      <td>Вэ И Пэ Медиенфондс 3, Асендант Пикчерз, Сатур...</td>\n",
       "      <td>США - Франция - Турция</td>\n",
       "      <td>Эндрю Никкол</td>\n",
       "      <td>Норман Голуайтли, Энди Грош, Николас Кейдж, Эн...</td>\n",
       "      <td>«18+» - запрещено для детей</td>\n",
       "      <td>NaN</td>\n",
       "      <td>NaN</td>\n",
       "      <td>NaN</td>\n",
       "      <td>NaN</td>\n",
       "      <td>8</td>\n",
       "      <td>боевик,драма,криминал</td>\n",
       "      <td>NaN</td>\n",
       "    </tr>\n",
       "    <tr>\n",
       "      <th>...</th>\n",
       "      <td>...</td>\n",
       "      <td>...</td>\n",
       "      <td>...</td>\n",
       "      <td>...</td>\n",
       "      <td>...</td>\n",
       "      <td>...</td>\n",
       "      <td>...</td>\n",
       "      <td>...</td>\n",
       "      <td>...</td>\n",
       "      <td>...</td>\n",
       "      <td>...</td>\n",
       "      <td>...</td>\n",
       "      <td>...</td>\n",
       "      <td>...</td>\n",
       "      <td>...</td>\n",
       "      <td>...</td>\n",
       "    </tr>\n",
       "    <tr>\n",
       "      <th>7343</th>\n",
       "      <td>Невиновен</td>\n",
       "      <td>111019319</td>\n",
       "      <td>2019-11-07 12:00:00+00:00</td>\n",
       "      <td>Художественный</td>\n",
       "      <td>ООО \"Кавказфильм\"</td>\n",
       "      <td>Россия</td>\n",
       "      <td>А.Емкужев</td>\n",
       "      <td>А.Емкужев, А.Хуажева, ООО \"Корпорация Русская ...</td>\n",
       "      <td>«16+» - для детей старше 16 лет</td>\n",
       "      <td>NaN</td>\n",
       "      <td>NaN</td>\n",
       "      <td>NaN</td>\n",
       "      <td>NaN</td>\n",
       "      <td>8</td>\n",
       "      <td>триллер,детектив,криминал</td>\n",
       "      <td>NaN</td>\n",
       "    </tr>\n",
       "    <tr>\n",
       "      <th>7390</th>\n",
       "      <td>Отель \"Гранд Будапешт\"</td>\n",
       "      <td>121035119</td>\n",
       "      <td>2019-12-13 12:00:00+00:00</td>\n",
       "      <td>Художественный</td>\n",
       "      <td>Американ Эмпирикал, Индиан Пэинтбраш, Скотт Ру...</td>\n",
       "      <td>Германия, США</td>\n",
       "      <td>Уэс Андерсен</td>\n",
       "      <td>Уэс Андерсон, Джереми Доусон, Стивен Рейлс</td>\n",
       "      <td>«16+» - для детей старше 16 лет</td>\n",
       "      <td>NaN</td>\n",
       "      <td>NaN</td>\n",
       "      <td>NaN</td>\n",
       "      <td>NaN</td>\n",
       "      <td>8</td>\n",
       "      <td>комедия,приключения,детектив</td>\n",
       "      <td>NaN</td>\n",
       "    </tr>\n",
       "    <tr>\n",
       "      <th>7412</th>\n",
       "      <td>Зверь</td>\n",
       "      <td>121035919</td>\n",
       "      <td>2019-12-05 12:00:00+00:00</td>\n",
       "      <td>Художественный</td>\n",
       "      <td>Студио энд Нью</td>\n",
       "      <td>Южная Корея</td>\n",
       "      <td>Ли Джон-хо</td>\n",
       "      <td>Чан Гён-ик, Чон Джи-хун, Пэк Кён сук</td>\n",
       "      <td>«18+» - запрещено для детей</td>\n",
       "      <td>NaN</td>\n",
       "      <td>NaN</td>\n",
       "      <td>NaN</td>\n",
       "      <td>NaN</td>\n",
       "      <td>6</td>\n",
       "      <td>триллер,драма</td>\n",
       "      <td>175004</td>\n",
       "    </tr>\n",
       "    <tr>\n",
       "      <th>7424</th>\n",
       "      <td>В тихом омуте</td>\n",
       "      <td>121036919</td>\n",
       "      <td>2019-12-09 12:00:00+00:00</td>\n",
       "      <td>Художественный</td>\n",
       "      <td>Хэд Гир Филмз, Крео Филмз, Локал Хироу, Метрол...</td>\n",
       "      <td>США</td>\n",
       "      <td>Адам Рэндолл</td>\n",
       "      <td>Мэтт Уолдек</td>\n",
       "      <td>«18+» - запрещено для детей</td>\n",
       "      <td>NaN</td>\n",
       "      <td>NaN</td>\n",
       "      <td>NaN</td>\n",
       "      <td>NaN</td>\n",
       "      <td>7</td>\n",
       "      <td>триллер,криминал,детектив</td>\n",
       "      <td>NaN</td>\n",
       "    </tr>\n",
       "    <tr>\n",
       "      <th>7448</th>\n",
       "      <td>Вторжение</td>\n",
       "      <td>111022519</td>\n",
       "      <td>2019-12-23 12:00:00+00:00</td>\n",
       "      <td>Художественный</td>\n",
       "      <td>ООО \"Арт Пикчерс Студия\", ООО \"Водород 2011\"</td>\n",
       "      <td>Россия</td>\n",
       "      <td>Ф.Бондарчук</td>\n",
       "      <td>Ф.Бондарчук, М.Врубель, А.Андрющенко, Д.Рудовский</td>\n",
       "      <td>«12+» - для детей старше 12 лет</td>\n",
       "      <td>100000000</td>\n",
       "      <td>400000000</td>\n",
       "      <td>944000000</td>\n",
       "      <td>Фонд кино</td>\n",
       "      <td>6</td>\n",
       "      <td>фантастика,боевик</td>\n",
       "      <td>NaN</td>\n",
       "    </tr>\n",
       "  </tbody>\n",
       "</table>\n",
       "<p>1258 rows × 16 columns</p>\n",
       "</div>"
      ],
      "text/plain": [
       "                                                  title   puNumber  \\\n",
       "2                                          Особо опасен  221038416   \n",
       "3                                          Особо опасен  221026916   \n",
       "4                                          Особо опасен  221030815   \n",
       "12    Малышка на миллион /По мотивам рассказов Ф.Х.Т...  221011415   \n",
       "26                                      Оружейный барон  221012515   \n",
       "...                                                 ...        ...   \n",
       "7343                                          Невиновен  111019319   \n",
       "7390                             Отель \"Гранд Будапешт\"  121035119   \n",
       "7412                                              Зверь  121035919   \n",
       "7424                                      В тихом омуте  121036919   \n",
       "7448                                          Вторжение  111022519   \n",
       "\n",
       "               show_start_date             type  \\\n",
       "2    2016-10-10 12:00:00+00:00   Художественный   \n",
       "3    2016-06-10 12:00:00+00:00   Художественный   \n",
       "4    2015-07-29 12:00:00+00:00   Художественный   \n",
       "12   2015-04-03 12:00:00+00:00   Художественный   \n",
       "26   2015-04-03 12:00:00+00:00   Художественный   \n",
       "...                        ...              ...   \n",
       "7343 2019-11-07 12:00:00+00:00   Художественный   \n",
       "7390 2019-12-13 12:00:00+00:00   Художественный   \n",
       "7412 2019-12-05 12:00:00+00:00   Художественный   \n",
       "7424 2019-12-09 12:00:00+00:00   Художественный   \n",
       "7448 2019-12-23 12:00:00+00:00   Художественный   \n",
       "\n",
       "                                            film_studio  \\\n",
       "2     Юниверсал Пикчерз, Кикстарт Продакшнз, Марк Пл...   \n",
       "3     Юниверсал Пикчерз, Кикстарт Продакшнз, Марк Пл...   \n",
       "4     Юниверсал Пикчерз, Кикстарт Продакшнз, Марк Пл...   \n",
       "12    Уорнер Бразерс, Лейкшор Интертейнмент, Малпасо...   \n",
       "26    Вэ И Пэ Медиенфондс 3, Асендант Пикчерз, Сатур...   \n",
       "...                                                 ...   \n",
       "7343                                  ООО \"Кавказфильм\"   \n",
       "7390  Американ Эмпирикал, Индиан Пэинтбраш, Скотт Ру...   \n",
       "7412                                     Студио энд Нью   \n",
       "7424  Хэд Гир Филмз, Крео Филмз, Локал Хироу, Метрол...   \n",
       "7448       ООО \"Арт Пикчерс Студия\", ООО \"Водород 2011\"   \n",
       "\n",
       "          production_country           director  \\\n",
       "2                        США  Тимур Бекмамбетов   \n",
       "3                        США  Тимур Бекмамбетов   \n",
       "4                        США  Тимур Бекмамбетов   \n",
       "12                       США       Клинт Иствуд   \n",
       "26    США - Франция - Турция       Эндрю Никкол   \n",
       "...                      ...                ...   \n",
       "7343                  Россия          А.Емкужев   \n",
       "7390           Германия, США       Уэс Андерсен   \n",
       "7412             Южная Корея         Ли Джон-хо   \n",
       "7424                     США       Адам Рэндолл   \n",
       "7448                  Россия        Ф.Бондарчук   \n",
       "\n",
       "                                               producer  \\\n",
       "2     Джим Лемли, Джейсон Нетер, Марк Е.Платт, Яйн Смит   \n",
       "3     Джим Лемли, Джейсон Нетер, Марк Е.Платт, Яйн Смит   \n",
       "4     Джим Лемли, Джейсон Нетер, Марк Е.Платт, Яйн Смит   \n",
       "12    Клинт Иствуд, Том Розенберг, Альберт С.Рудди, ...   \n",
       "26    Норман Голуайтли, Энди Грош, Николас Кейдж, Эн...   \n",
       "...                                                 ...   \n",
       "7343  А.Емкужев, А.Хуажева, ООО \"Корпорация Русская ...   \n",
       "7390         Уэс Андерсон, Джереми Доусон, Стивен Рейлс   \n",
       "7412               Чан Гён-ик, Чон Джи-хун, Пэк Кён сук   \n",
       "7424                                        Мэтт Уолдек   \n",
       "7448  Ф.Бондарчук, М.Врубель, А.Андрющенко, Д.Рудовский   \n",
       "\n",
       "                      age_restriction  refundable_support  \\\n",
       "2         «18+» - запрещено для детей                 NaN   \n",
       "3         «18+» - запрещено для детей                 NaN   \n",
       "4         «18+» - запрещено для детей                 NaN   \n",
       "12    «16+» - для детей старше 16 лет                 NaN   \n",
       "26        «18+» - запрещено для детей                 NaN   \n",
       "...                               ...                 ...   \n",
       "7343  «16+» - для детей старше 16 лет                 NaN   \n",
       "7390  «16+» - для детей старше 16 лет                 NaN   \n",
       "7412      «18+» - запрещено для детей                 NaN   \n",
       "7424      «18+» - запрещено для детей                 NaN   \n",
       "7448  «12+» - для детей старше 12 лет           100000000   \n",
       "\n",
       "      nonrefundable_support    budget financing_source  ratings  \\\n",
       "2                       NaN       NaN              NaN        7   \n",
       "3                       NaN       NaN              NaN        7   \n",
       "4                       NaN       NaN              NaN        7   \n",
       "12                      NaN       NaN              NaN        8   \n",
       "26                      NaN       NaN              NaN        8   \n",
       "...                     ...       ...              ...      ...   \n",
       "7343                    NaN       NaN              NaN        8   \n",
       "7390                    NaN       NaN              NaN        8   \n",
       "7412                    NaN       NaN              NaN        6   \n",
       "7424                    NaN       NaN              NaN        7   \n",
       "7448              400000000 944000000        Фонд кино        6   \n",
       "\n",
       "                            genres  box_office  \n",
       "2        фантастика,боевик,триллер         NaN  \n",
       "3        фантастика,боевик,триллер         NaN  \n",
       "4        фантастика,боевик,триллер         NaN  \n",
       "12                     драма,спорт         NaN  \n",
       "26           боевик,драма,криминал         NaN  \n",
       "...                            ...         ...  \n",
       "7343     триллер,детектив,криминал         NaN  \n",
       "7390  комедия,приключения,детектив         NaN  \n",
       "7412                 триллер,драма      175004  \n",
       "7424     триллер,криминал,детектив         NaN  \n",
       "7448             фантастика,боевик         NaN  \n",
       "\n",
       "[1258 rows x 16 columns]"
      ]
     },
     "execution_count": 22,
     "metadata": {},
     "output_type": "execute_result"
    }
   ],
   "source": [
    "#3158\n",
    "\n",
    "duplicates_with_different_box_office = data.groupby('title').filter(lambda x: x['show_start_date'].nunique() > 1)\n",
    "\n",
    "duplicates_with_different_box_office"
   ]
  },
  {
   "cell_type": "code",
   "execution_count": 23,
   "metadata": {},
   "outputs": [
    {
     "data": {
      "text/plain": [
       "count         3156\n",
       "mean      76527135\n",
       "std      240421585\n",
       "min              0\n",
       "25%          87443\n",
       "50%        2334077\n",
       "75%       23989289\n",
       "max     3073568691\n",
       "Name: box_office, dtype: float64"
      ]
     },
     "execution_count": 23,
     "metadata": {},
     "output_type": "execute_result"
    }
   ],
   "source": [
    "data['box_office'].describe()"
   ]
  },
  {
   "cell_type": "code",
   "execution_count": 24,
   "metadata": {},
   "outputs": [
    {
     "data": {
      "text/html": [
       "<div>\n",
       "<style scoped>\n",
       "    .dataframe tbody tr th:only-of-type {\n",
       "        vertical-align: middle;\n",
       "    }\n",
       "\n",
       "    .dataframe tbody tr th {\n",
       "        vertical-align: top;\n",
       "    }\n",
       "\n",
       "    .dataframe thead th {\n",
       "        text-align: right;\n",
       "    }\n",
       "</style>\n",
       "<table border=\"1\" class=\"dataframe\">\n",
       "  <thead>\n",
       "    <tr style=\"text-align: right;\">\n",
       "      <th></th>\n",
       "      <th>title</th>\n",
       "      <th>puNumber</th>\n",
       "      <th>show_start_date</th>\n",
       "      <th>type</th>\n",
       "      <th>film_studio</th>\n",
       "      <th>production_country</th>\n",
       "      <th>director</th>\n",
       "      <th>producer</th>\n",
       "      <th>age_restriction</th>\n",
       "      <th>refundable_support</th>\n",
       "      <th>nonrefundable_support</th>\n",
       "      <th>budget</th>\n",
       "      <th>financing_source</th>\n",
       "      <th>ratings</th>\n",
       "      <th>genres</th>\n",
       "      <th>box_office</th>\n",
       "    </tr>\n",
       "  </thead>\n",
       "  <tbody>\n",
       "    <tr>\n",
       "      <th>4631</th>\n",
       "      <td>Иоанна - женщина на папском престоле /По роман...</td>\n",
       "      <td>221154310</td>\n",
       "      <td>2010-12-17 12:00:00+00:00</td>\n",
       "      <td>Художественный</td>\n",
       "      <td>Константин Фильм, А Эр Ди Дегето Фильм, Дюне ...</td>\n",
       "      <td>Германия - Великобритания - Италия - Испания</td>\n",
       "      <td>Зенке Вортманн</td>\n",
       "      <td>Оливер Бербен, Дорис Д.Хайнце, Фарук Элтан</td>\n",
       "      <td>«16+» - для детей старше 16 лет</td>\n",
       "      <td>NaN</td>\n",
       "      <td>NaN</td>\n",
       "      <td>NaN</td>\n",
       "      <td>NaN</td>\n",
       "      <td>8</td>\n",
       "      <td>драма,мелодрама,история</td>\n",
       "      <td>NaN</td>\n",
       "    </tr>\n",
       "    <tr>\n",
       "      <th>5058</th>\n",
       "      <td>Анализируй то!</td>\n",
       "      <td>221054410</td>\n",
       "      <td>2010-05-25 12:00:00+00:00</td>\n",
       "      <td>Художественный</td>\n",
       "      <td>Уорнер Бразерс, Виллидж Роадшоу Пикчерз, Эн-Пи...</td>\n",
       "      <td>США</td>\n",
       "      <td>Гарольд Реймис</td>\n",
       "      <td>Джейн Розенталь, Паул Уэйнстейн</td>\n",
       "      <td>«12+» - для детей старше 12 лет</td>\n",
       "      <td>NaN</td>\n",
       "      <td>NaN</td>\n",
       "      <td>NaN</td>\n",
       "      <td>NaN</td>\n",
       "      <td>7</td>\n",
       "      <td>комедия,криминал</td>\n",
       "      <td>NaN</td>\n",
       "    </tr>\n",
       "  </tbody>\n",
       "</table>\n",
       "</div>"
      ],
      "text/plain": [
       "                                                  title   puNumber  \\\n",
       "4631  Иоанна - женщина на папском престоле /По роман...  221154310   \n",
       "5058                                     Анализируй то!  221054410   \n",
       "\n",
       "               show_start_date            type  \\\n",
       "4631 2010-12-17 12:00:00+00:00  Художественный   \n",
       "5058 2010-05-25 12:00:00+00:00  Художественный   \n",
       "\n",
       "                                            film_studio  \\\n",
       "4631   Константин Фильм, А Эр Ди Дегето Фильм, Дюне ...   \n",
       "5058  Уорнер Бразерс, Виллидж Роадшоу Пикчерз, Эн-Пи...   \n",
       "\n",
       "                                production_country        director  \\\n",
       "4631  Германия - Великобритания - Италия - Испания  Зенке Вортманн   \n",
       "5058                                           США  Гарольд Реймис   \n",
       "\n",
       "                                        producer  \\\n",
       "4631  Оливер Бербен, Дорис Д.Хайнце, Фарук Элтан   \n",
       "5058             Джейн Розенталь, Паул Уэйнстейн   \n",
       "\n",
       "                      age_restriction  refundable_support  \\\n",
       "4631  «16+» - для детей старше 16 лет                 NaN   \n",
       "5058  «12+» - для детей старше 12 лет                 NaN   \n",
       "\n",
       "      nonrefundable_support  budget financing_source  ratings  \\\n",
       "4631                    NaN     NaN              NaN        8   \n",
       "5058                    NaN     NaN              NaN        7   \n",
       "\n",
       "                       genres  box_office  \n",
       "4631  драма,мелодрама,история         NaN  \n",
       "5058         комедия,криминал         NaN  "
      ]
     },
     "execution_count": 24,
     "metadata": {},
     "output_type": "execute_result"
    }
   ],
   "source": [
    "data[data['puNumber'].duplicated()]"
   ]
  },
  {
   "cell_type": "markdown",
   "metadata": {},
   "source": [
    "Вместе с дубликатами в названиях пропали и дубликаты в прокатных удостоверениях."
   ]
  },
  {
   "cell_type": "markdown",
   "metadata": {
    "id": "52fOPrEBgFyQ"
   },
   "source": [
    "#### Шаг 2.4. Изучите категориальные значения\n",
    "\n",
    "- Посмотрите, какая общая проблема встречается почти во всех категориальных столбцах;\n",
    "- Исправьте проблемные значения в поле `type`.\n",
    "\n",
    "<div id=\"accordion\">\n",
    "    <div class=\"card\">\n",
    "        <div class=\"card-header\" id=\"headingThree\">\n",
    "            <button class=\"btn btn-link collapsed\" data-toggle=\"collapse\" data-target=\"#collapseHint_1\" aria-expanded=\"false\" aria-controls=\"collapseHint_1\">Подсказка</button>\n",
    "        </div>\n",
    "        <div id=\"collapseHint_1\" class=\"collapse\" aria-labelledby=\"headingThree\" data-parent=\"#accordion\">\n",
    "            <div class=\"card-body\">\n",
    "В поле <code>type</code> есть несколько значений, у которых появился пробел в начале строки. Самый простой способ их «починить» -- использовать метод <a href=\"https://pandas.pydata.org/docs/reference/api/pandas.Series.str.strip.html#pandas.Series.str.strip\">.str.strip</a>. Этот метод удаляет все пробелы, которые встречаются в начале и в конце строки. Применяют его таким образом:<br>\n",
    "<code>df['type'].str.strip()</code>\n",
    "            </div>\n",
    "        </div>\n",
    "    </div>\n",
    "</div>"
   ]
  },
  {
   "cell_type": "markdown",
   "metadata": {},
   "source": [
    "##### Исправляем тип фильма"
   ]
  },
  {
   "cell_type": "code",
   "execution_count": 25,
   "metadata": {
    "id": "PnXKIVdFgFyR"
   },
   "outputs": [
    {
     "data": {
      "text/plain": [
       "array(['Художественный', 'Анимационный', 'Прочие', 'Документальный',\n",
       "       'Научно-популярный', ' Художественный', ' Анимационный',\n",
       "       'Музыкально-развлекательный'], dtype=object)"
      ]
     },
     "execution_count": 25,
     "metadata": {},
     "output_type": "execute_result"
    }
   ],
   "source": [
    "data['type'].unique()"
   ]
  },
  {
   "cell_type": "code",
   "execution_count": 26,
   "metadata": {},
   "outputs": [],
   "source": [
    "data['type'] = data['type'].str.strip()"
   ]
  },
  {
   "cell_type": "code",
   "execution_count": 27,
   "metadata": {},
   "outputs": [
    {
     "data": {
      "text/plain": [
       "array(['Художественный', 'Анимационный', 'Прочие', 'Документальный',\n",
       "       'Научно-популярный', 'Музыкально-развлекательный'], dtype=object)"
      ]
     },
     "execution_count": 27,
     "metadata": {},
     "output_type": "execute_result"
    }
   ],
   "source": [
    "data['type'].unique()"
   ]
  },
  {
   "cell_type": "markdown",
   "metadata": {},
   "source": [
    "#### Что общего у категориальных значений?"
   ]
  },
  {
   "cell_type": "markdown",
   "metadata": {},
   "source": [
    "Как минимум, данные в некоторых столбцах по-разному. Например, в столбце `production_country` часть значений через запятую, а другая - через тире. Это нужно исправить, ведь существует вероятность, что один и тот же набор стран будет учтен несколько раз. А еще кое-где спрятался год выхода. Исправим это:"
   ]
  },
  {
   "cell_type": "code",
   "execution_count": 28,
   "metadata": {
    "scrolled": true
   },
   "outputs": [
    {
     "data": {
      "text/plain": [
       "array(['США', 'СССР', 'Франция', 'СССР, Венгрия',\n",
       "       'Германия-Великобритания', 'Великобритания - Италия',\n",
       "       'Чехословакия', 'США - Франция - Турция', 'Новая Зеландия',\n",
       "       'Канада - Франция - Испания', 'США-Германия',\n",
       "       'США - Великобритания', 'Великобритания', 'США - Германия',\n",
       "       'Франция - Мексика - США', 'Россия, Казахстан, США',\n",
       "       'СССР, Швеция', 'СССР, Франция, Англия, Куба, ГДР', 'Германия',\n",
       "       'Великобритания-США-Германия-КНР',\n",
       "       'СССР, ЧССР, Западный Берлин, ПНР', 'СССР, Италия', 'Гонконг, КНР',\n",
       "       'США - Франция', 'США - Япония - Франция - Великобритания',\n",
       "       'Гонконг - Сингапур - Таиланд - Великобритания', 'США-Канада',\n",
       "       'Франция - Италия - Великобритания - США', 'Франция - США',\n",
       "       'Ирландия-Великобритания-Германия', 'Чехия', 'США-Австралия',\n",
       "       'СССР, Финляндия', 'США-Франция-Великобритания-Австрия',\n",
       "       'США - Бельгия', 'США - Ирландия - Великобритания',\n",
       "       'Великобритания - США',\n",
       "       'Люксембург - Нидерланды - Испания - Великобритания - США - Италия',\n",
       "       'Великобритания - Франция - США', 'Новая Зеландия - США',\n",
       "       'США - Великобритания - Чехия',\n",
       "       'Канада - Франция - Великобритания', 'Ирландия',\n",
       "       'Великобритания - Германия - США',\n",
       "       'США - Франция - Великобритания', 'Япония', 'СССР, Польша',\n",
       "       'Франция - Испания', 'Канада-Франция', 'Германия - Италия - США',\n",
       "       'Аргентина - Бразилия', 'Дания - Швейцария - Бельгия - Франция',\n",
       "       'США - Испания', 'Германия - США',\n",
       "       'Франция - Австрия - Германия - Италия - США', 'Австрия',\n",
       "       'США - Канада - Германия', 'США - Канада',\n",
       "       'СССР - Швейцария - Франция', 'Россия - Казахстан', 'Гонконг',\n",
       "       'Италия', 'США - ОАЭ', 'Россия',\n",
       "       'США - Франция - Испания - Великобритания',\n",
       "       'Великобритания - Франция', 'США-Италия-Испания-Аргентина',\n",
       "       'Франция-Великобритания', 'КНР - Гонконг',\n",
       "       'Франция - Италия - Швейцария', 'США - Новая Зеландия',\n",
       "       'Франция - Бельгия', 'КНР', 'Германия - Великобритания - Австрия',\n",
       "       'Великобритания - Израиль - Франция - Япония - США', 'Швеция',\n",
       "       'Испания', 'Дания', 'Франция - Бельгия - Люксембург',\n",
       "       'США - Индия - ОАЭ',\n",
       "       'Германия-Канада-Великобритания-Швейцария-Франция',\n",
       "       'Мексика - Чили', 'Аргентина', 'Бразилия', 'Чили', 'Австралия',\n",
       "       'Португалия - Франция', 'США - ЮАР', 'Исландия-Ирландия-Германия',\n",
       "       'США-Индонезия', 'Южная Корея', 'Мексика - Испания - Дания - США',\n",
       "       'Великобритания-США', 'Франция - Италия', 'США-Франция',\n",
       "       'США - Венгрия - Великобритания', 'Бельгия-Франция-Италия',\n",
       "       'Чехия - Германия', 'Германия - Франция', 'США-Нидерланды',\n",
       "       'Украина', 'Великобритания - Германия', 'Франция-Бельгия',\n",
       "       'США-Франция-Испания', 'Италия - Франция', 'Канада',\n",
       "       'Швеция-Франция-Дания', 'Германия-Франция-Польша',\n",
       "       'Франция-Великобритания - Германия',\n",
       "       'США - Бразилия - Франция - Австралия - Великобритания - Германия',\n",
       "       'Германия-Австрия', 'Германия-Италия- Шри-Ланка',\n",
       "       'Великобритания - Испания',\n",
       "       'США - Великобритания - Канада - Швеция',\n",
       "       'Босния и Герцеговина - Франция - Великобритания - Германия - Словения - Бельгия - Сербия',\n",
       "       'Великобритания - Франция - Италия - США', 'США-ОАЭ',\n",
       "       'Испания - Франция', 'США-Великобритания', 'США-ЮАР',\n",
       "       'Великобритания-Австралия - США',\n",
       "       'Норвегия - Швеция - Дания - Германия', 'Норвегия', 'Швейцария',\n",
       "       'Греция - Германия - Франция', 'Норвения', 'Южная Корея - США',\n",
       "       'Чили - Франция - США', 'Австрия - Германия - Франция',\n",
       "       'Швеция - Дания', 'Великобритания - Франция - Бельгия - Италия',\n",
       "       'Франция - Германия', 'Грузия - Франция - Люксембург',\n",
       "       'США - Франция - Великобритания - Бразилия ', 'США - КНР',\n",
       "       'Мексика - Франция', 'США - Германия - Гонконг - Сингапур',\n",
       "       'Финляндия - Австрия - Россия', 'Испания - Куба',\n",
       "       'Великобритания - ЮАР', 'Великобритания - Ирландия', 'Израиль',\n",
       "       'Бразилия - Германия - Порртугалия - Франция ',\n",
       "       'Франция - Канада - Бельгия', 'Франция-Испания',\n",
       "       'Испания - Канада - Япония', 'Иран', 'Швеция-Куба',\n",
       "       'США-Великобритания-Ирландия', 'Гонконг - КНР', 'Нидерланды',\n",
       "       'Испания - Канада', 'Япония-Великобритания',\n",
       "       'Великобритания - Норвегия - Дания - Германия',\n",
       "       'Финляндия - Франция - Германия',\n",
       "       'Мексика - Франция - Нидерланды - Германия', 'США - Индия',\n",
       "       'США-Великобритания-Индия', 'США-Канада-Бельгия',\n",
       "       'Республика Узбекистан', 'Италия ', 'Турция',\n",
       "       'Сербия - Словения - Хорватия - Черногория - Македония',\n",
       "       'Киргизия', 'Германия - Нидерланды - Беларусь - Россия - Латвия',\n",
       "       'Индия', 'Нидерланды - Россия - Германия',\n",
       "       'Великобритания - Нидерланды - Франция - Хорватия',\n",
       "       'Канада - Южная Корея',\n",
       "       'Великобритания - Польша - КНР - Индия - Норвегия',\n",
       "       'Япония - Франция - США - Южная Корея - Турция',\n",
       "       'Мексика - Аргентина - Великобритания', 'Израиль - Франция',\n",
       "       'Польша - Португалия - Франция - Великобритания',\n",
       "       'Австралия - США', 'США - Великобритания ',\n",
       "       'Франция - Люксембург - Бельгия', 'Армения',\n",
       "       'Бельгия - Люксембург - Франция - Швейцария',\n",
       "       'США - Великобритания - Канада', 'Норвегия - Швеция',\n",
       "       'Канада - Франция', 'КНР - Гонконг - США',\n",
       "       'США - Сингапур - Малайзия - Индонезия', 'Германия - Россия',\n",
       "       'Япония - Канада', 'Финляндия - Дания - Германия - Ирландия',\n",
       "       'Франция - Люксембург - Германия - Бельгия - Швейцария - Великобритания ',\n",
       "       'Канада - США', 'США-Италия-Испания', 'США-Испания',\n",
       "       'США - Швейцария - Франция', 'Испания - США - Колумбия',\n",
       "       'Канада-ЮАР', 'Франция - Россия',\n",
       "       'Германия - Финляндия - Австралия', 'Дания - Швеция', 'Бельгия',\n",
       "       'Германия - Франция - Австрия', 'Франция-Индия', 'ЮАР',\n",
       "       'Франция-Перу', 'Франция - Канада', 'Республика Беларусь',\n",
       "       'Великобритания - Австрия - Франция - США',\n",
       "       'Австрия-Германия-Франция', 'США-Россия', 'Германия-США',\n",
       "       'США - Южная Корея', 'Канада - КНР',\n",
       "       'Дания - Швеция - Италия - Франция - Германия',\n",
       "       'Франция-Италия-Испания-Венгрия', 'Франция - Германия - Бельгия',\n",
       "       'Франция-Великобритания-Чехия', 'Румыния - Франция - Бельгия',\n",
       "       'Болгария - Франция - Изриль',\n",
       "       'Израиль - Германия - Польша - Бельгия - Франция - Люксембург',\n",
       "       'Россия, Германия, Франция, Бельгия', 'Индонезия',\n",
       "       'Франция - Португалия', 'Великобритания - Пуэрто-Рико',\n",
       "       'СССР, ФРГ, Западный Берлин', 'Россия, Республика Беларусь',\n",
       "       'Франция - Австрия', 'Бельгия-Нидерланды',\n",
       "       'Великобритания - США - Индия', 'США - Великобритания - Австралия',\n",
       "       'Канада - Франция - США - ОАЭ - Великобритания',\n",
       "       'США - Австралия - Франция',\n",
       "       'Дания-Франция-Бельгия-Германия-Великобритания',\n",
       "       'Испания - Аргентина', 'Исландия - Финляндия',\n",
       "       'Россия-Польша-Голландия-Словакия', 'Дания - Германия - Швеция',\n",
       "       'Южная Корея - США - Канада', 'Таиланд', 'США-Мальта',\n",
       "       'США -Германия',\n",
       "       'Великобритания - Германия - Франция - Кипр - США', 'Мексика',\n",
       "       'США - Великобритания - Ирландия', 'США - Украина',\n",
       "       'США - Финляндия - Испания - Великобритания - Франция',\n",
       "       'Австралия-Великобритания',\n",
       "       'США - Канада - Афганистан - Бельгия - Франция',\n",
       "       'США - Великобритания - Германия - Новая Зеландия - Бельгия - Франция',\n",
       "       'Франция-Канада',\n",
       "       'Ирландия - Финляндия - Бельгия - Великобритания - США - Швейцария',\n",
       "       'Малайзия - США', 'Германия - Италия',\n",
       "       'США - Франция - Бельгия - Италия', 'Франция - Ирландия - Швеция',\n",
       "       'Азербайджан-Россия', 'Великобритания - Италия - Швейцария',\n",
       "       'США - Германия - Великобритания',\n",
       "       'Германия - Бельгия - США -Франция', 'США-Китай', 'Чили - Испания',\n",
       "       'Франция - Швейцария', 'Канада - Испания',\n",
       "       'США - Румыния - Великобритания', 'США - Япония',\n",
       "       'США - Россия - Франция', 'Франция-США', 'Парагвай',\n",
       "       'Германия - Канада', 'США - Канада - Великобритания',\n",
       "       'Финляндия - Канада', 'Уругвай-Мексика-Германия ', 'США - Чили',\n",
       "       'Германия - Аргентина - Нидерланды - Чили',\n",
       "       'США - Канада - Индонезия', 'Армения - Казахстан', 'Финляндия',\n",
       "       'Испания - Италия - Франция',\n",
       "       'Бельгия - Испания - Канада - Нидерланды',\n",
       "       'Великобритания - Франция - Швеция - Бельгия',\n",
       "       'Мексика - Эквадор - Канада - США - Франция - Малайзия - Италия - Аргентина - Германия - Индия  ',\n",
       "       'Франция - Бенльгия', 'Индия - Великобритания',\n",
       "       'Япония - Великобритания - Франция',\n",
       "       'Испания - Уругвай - Аргентина',\n",
       "       'Франция - Италия - Бельгия - Люксембург',\n",
       "       'Франция - Украина - Грузия - Армения',\n",
       "       'Сербия - Германия - Венгрия', 'Франция-Польша', 'Франция ',\n",
       "       'Румыния-США', 'Россия-Азербайджан',\n",
       "       'США - Нидерланды - Бельгия - Венгрия - Греция - Канада',\n",
       "       'Германия - Франция - Люксембург', 'США - Россия',\n",
       "       'Великобритания - США - Франция', 'США - Австралия - Дания',\n",
       "       'Бельгия-Франция', 'США-Мексика',\n",
       "       'Норвегия - Азербайджан - Россия - Колумбия - Великобритания - Венгрия - Румыния - Франция - Грузия',\n",
       "       'СЩА', 'Бразилия - Испания', 'Россия, Франция, Латвия',\n",
       "       'Нидерланды - США - Германия - Канада - Франция - Ирландия - Великобритания',\n",
       "       'Уругвай - Колумбия', 'США - Испания - Болгария',\n",
       "       'Армения - Германия', 'США - Великобритания- Франция - Швеция',\n",
       "       'США - Мексика', 'Австралия-Турция-США', 'Швеция - Германия',\n",
       "       'Польша - Италия - Россия', 'Франция - Бразилия',\n",
       "       'США - Канада - КНР', 'СССР, Венгрия, ЧССР, ГДР',\n",
       "       'Бельгия - Германия - Люксембург', 'СССР  ', 'СССР ', ' СССР ',\n",
       "       'США - Австралия', 'Бразилия - США',\n",
       "       'США - Великобритания - Канада - КНР', 'Франция - Чили',\n",
       "       'Франция - США - Великобритания - Колумбия - Бельгия - Россия',\n",
       "       'Дания - Великобритания - ЮАР', 'СССР   ',\n",
       "       'Россия-США-Канада-Люксембург', 'Россия - Республика Кипр',\n",
       "       'Германия - США - Швеция - Франция',\n",
       "       'Великобритания-Германия-Канада-ЮАР', ' СССР   ', 'СССР     ',\n",
       "       'Ирландия, Канада',\n",
       "       'Япония - Великобритания - Швейцария - Ирландия - Дания - Франция - Польша - Австралия - Канада  ',\n",
       "       'Великобритания, Канада', 'Бельгия - США',\n",
       "       'Великобритания - США - Россия', 'Россия-Украина',\n",
       "       'Германия - США - Великобритания - Израиль', 'Канада - Германия',\n",
       "       'США- Ю.Корея', 'Индия - Мексика',\n",
       "       'Великобритания - Франция - Республика Кипр - Швейцария - США - Сербия',\n",
       "       'Испания - Аргентина - Индия - США',\n",
       "       'Норвегия - Исландия - США - Великобритания ',\n",
       "       'Турция - Германя - Франция', 'Германия - Великобритания',\n",
       "       'Австралия - Германия', 'Мексика - Испания',\n",
       "       'Великобритания - США - Германия - Бельгия',\n",
       "       'США - Чехия - Франция', 'Россия - Италия', 'Франция-Россия',\n",
       "       'Норвегия - Дания - Швеция', 'Франция - Швейцария - Германия',\n",
       "       'Грузия - Украина', 'Россия - Эстония - Финляндия - Беларусь',\n",
       "       'США - Франция - ЮАР', 'Великобритания - США - Швейцария',\n",
       "       'Канада-США', 'Мексика - Нидерланды - Германия - Франция',\n",
       "       'США - Испания - Франция', 'США - Великобритания - КНР',\n",
       "       'США-Франция-Канада',\n",
       "       'Япония, Великобритания, Австрия, Германия, Ю.Корея',\n",
       "       'Великобритания - Ирландия - США', 'Бельгия - Италия - Франция ',\n",
       "       'Швейцария-Германия-ЮАР', 'Великобритания - США - Германия',\n",
       "       'Германия - Исландия', 'Испания - США', 'СССР    ', 'Хорватия',\n",
       "       'Финляндия - Исландия - Швеция',\n",
       "       'Канада - США - Германия - Франция',\n",
       "       'США - Великобритания - Испания', 'Ирландия-Великобритания',\n",
       "       'Аргентина - Испания', 'Австрия - Германия', ' СССР',\n",
       "       'Германия - Швейцария - Франция - Южная Корея - США',\n",
       "       'Украина - Нидерланды', 'Венгрия - Германия - Швеция',\n",
       "       'Германия - Франция -  Польша - Турция - Канада - Италия - Россия ',\n",
       "       'СССР, Афганистан', 'СССР, Монголия', 'Россия-Кипр',\n",
       "       'Россия, Грузия, Испания',\n",
       "       'Великобритания - Нидерланды - Германия - Франция - Бельгия - Австрия ',\n",
       "       'Испания - Великобритания - Франция',\n",
       "       'Дания - Норвегия - Великобритания',\n",
       "       'Бельгия - Франция - Люксембург',\n",
       "       'Италия - Франция - Швейцария - Великобритания',\n",
       "       'Франция - Бельгия - Великобритания - Испания - Германия - США',\n",
       "       'Швейцария - Израиль - Франция - Великобритания',\n",
       "       'Великобритания - США - Канада - Нидерланды - Франция',\n",
       "       'Россия, Италия', 'СССР, Албания',\n",
       "       'Россия, Украина, Республика Беларусь, Литва',\n",
       "       'Финляндия - Великобритания - Германия', 'Россия, Украина, Польша',\n",
       "       'Франция - Италия - Бельгия - КНР',\n",
       "       'Германия - Бельгия - Люксембург - Ирландия', 'КНР - Сингапур',\n",
       "       'Франция - Бельгия - Великобритания - США - Нидерланды - Канада',\n",
       "       'США - Россия - Польша - Германия - Пуэрто Рико',\n",
       "       'Франция - Бельгия - Канада', 'США ', 'Мексика - США',\n",
       "       'США - Гонконг - КНР ', 'Греция - Россия',\n",
       "       'Ирландия - Дания - Бельгия - Люксембург - Франция',\n",
       "       'Эстония - Россия',\n",
       "       'Великобритания - Исландия - Испания - Швейцария - США',\n",
       "       'Австралия - Великобритания - Бельгия - Индия',\n",
       "       'Швеция - Германия - Франция - Норвегия',\n",
       "       'Нидерланды - Бельгия - Германия - Ирландия',\n",
       "       'Нидерланды - Великобритания - Бельгия',\n",
       "       'США - Колумбия - Испания', 'Франция-Испания-Бельгия-Панама',\n",
       "       'США-Великобритания-Чехия-Румыния',\n",
       "       'Аргентина - Уругвай - Россия - Германия - Франция - Нидерланды',\n",
       "       'Швеция - Франция - Норвегия - Дания',\n",
       "       'Италия-Франция-Великобритания', 'Великобритания, Франция',\n",
       "       'Австралия, США', 'Венесуэла',\n",
       "       'Великобритания - США - Австралия - Ирландия - Германия - Куба - Канада',\n",
       "       'Южная Корея - КНР',\n",
       "       'Аргентина - Мексика - Бразилия - Франция - США', 'Швеция - США',\n",
       "       'Франция - Германия - Турция - Катар', 'Франция-Китай',\n",
       "       'Россия, Германия, Великобритания',\n",
       "       'Великобритания - Италия - Испания', 'Италия - Россия',\n",
       "       'Япония - КНР - Южная Корея', 'Россия, Германия',\n",
       "       'Россия-Ирландия', 'Македония - Франция - Великобритания',\n",
       "       'Франция - Бразилия - Италия', 'Россия-США', 'Армения-Россия',\n",
       "       'Россия, Румыния', 'Франция -  Бельгия', 'Грузия-Франция',\n",
       "       'ЮАР - США', 'Великобритания-США-Франция',\n",
       "       'Великобритания - США - Германия - Канада - Австралия',\n",
       "       'США-Ирландия', 'Россия, Республика Кипр',\n",
       "       'Германия - Люксембург - Франция', 'Россия-Франция',\n",
       "       'США - Нидерланды - Финляндия - Великобритания - Италия',\n",
       "       'Республика Кипр', 'Венгрия', 'Франция - США - Норвегия - Дания',\n",
       "       'Германия - Австрия - Ирландия', 'США - Финляндия',\n",
       "       'Италия-Великобритания', 'Россия, Испания',\n",
       "       'США - Великобритания - Болгария', 'Великобритания - Люксембург',\n",
       "       'Индия - США', 'США - Канада - Россия - Франция - Чили - Ирландия',\n",
       "       'Грузия-Россия',\n",
       "       'Дания - Австрия - Ирландия - Финляндия - Норвегия - Швеция - Нидерланды',\n",
       "       'США-КНР', 'Грузия', 'Австралия - Ирландия',\n",
       "       'Великобритания - Канада', 'Италия - Аргентина - Словения ',\n",
       "       'Испания - Франция - Нидерланды - Германия - Бельгия - Великобритания - Канада',\n",
       "       'Франция - Чехия - Бельгия',\n",
       "       'Великобритания - Франция - Германия - США',\n",
       "       'Ирландия - Великобритания - Франция - США - Германия - Нидерланды',\n",
       "       'США - Канада - Япония - КНР', 'Италия-Франция',\n",
       "       'США - Великобритания - Исландия', 'Великобритания-Франция',\n",
       "       'Франция - Германия - Нидерланды', 'Иран ',\n",
       "       'Франция - Германия - Швеция - США - Чехия - Словакия - Великобритания - Нидерланды',\n",
       "       'Франция - Канада - Н.Зеландия - США - Нидерланды - Германия - Швеция - Россия',\n",
       "       'Турция - США',\n",
       "       'Великобритания - США - Канада - Бельгия - Нидерланды - Австрия - Германия',\n",
       "       'Израиль - Франция - Германия - Палестина - США - Австрия - Великобритания',\n",
       "       'Аргентина - Франция - Испания', 'СССР, Россия',\n",
       "       'Великобритания - Франция - Италия - Индия - Дания - КНР - Бангладеш - Камбоджа - Гаити - Уганда',\n",
       "       'Италия - Франция - Швейцария',\n",
       "       'Ирландия - Великобритания - Канада', 'Перу', 'США - Норвегия',\n",
       "       'Испания-Канада', 'Китай-Гонконг', 'США - Германия - КНР',\n",
       "       'Великобритания - Новая Зеландия',\n",
       "       'Франция - Дания - Швеция - КНР',\n",
       "       'США - Великобритания - Германия - Бельгия - Дания',\n",
       "       'США - Франция - Канада - Германия - Австралия - Индия', nan,\n",
       "       'СССР, Румыния, Франция', 'СССР, ГДР', 'Австралия-Ирландия',\n",
       "       'США - Китай', 'Великобритания - Франция - Австрия - Швеция',\n",
       "       'Россия, Таджикистан', 'Нидерланды - Бельгия - Болгария',\n",
       "       'Великобритания - Канада - США', 'Франция - Бельгия - Испания',\n",
       "       'Китай-Гонконг-США', 'Франция - Великобритания', 'США - Вьетнам',\n",
       "       'США - Германия - Франция', 'Германия - Франция - Бельгия',\n",
       "       'США - Италия',\n",
       "       'Германия - Дания - Испания - Швеция - Канада - Эстония - Франция',\n",
       "       'Княжество Андорра - Украина', 'Германия - Люксембург - Бельгия',\n",
       "       'Великобритания - Россия - Украина - США',\n",
       "       'Германия - Бельгия - Люксембург - Норвегия',\n",
       "       'США - Австралия - Новая Зеландия - Великобритания',\n",
       "       'США - Франция - Канада - Великобритания', 'Испания-Колумбия',\n",
       "       'Великобритания - Чехия - Франция', 'Россия, Украина', 'Исландия',\n",
       "       'Великобритания - Франция - Венгрия',\n",
       "       'Россия, Франция, Германия, Бельгия', 'Франция - Македония',\n",
       "       'Нидерланды - Франция - Германия - Бельгия - Швеция - Великобритания',\n",
       "       'Испания - США - Великобритания - Канада', 'Германия - Австрия',\n",
       "       'Республика Казахстан',\n",
       "       'Франция - Испания - Дания - Венгрия - Швейцария', 'Франция-КНР',\n",
       "       'США - Пуэрто-Рико - Франция ', 'Мексика - Тайвань - США',\n",
       "       'Великобритания - Испания - Непал - Индия - Венгрия - Гонконг - Германия - Дания - Бахрейн',\n",
       "       'Великобритания - Аргентина - США - Франция - Россия - Испания',\n",
       "       'КНР - США', 'Италия - США', 'Финляндия - Швеция - Германия',\n",
       "       'Канада- Испания', 'Франция - Бельгия - Чехия',\n",
       "       'Франция-Бельгия-Канада', 'Франция - Германия - США',\n",
       "       'США - Дания', 'Индия - КНР', 'Чехия-Великобритания-США',\n",
       "       'США-ФРГ-Россия', 'Ирландия-Нидерланды-Франция-США-Великобритания',\n",
       "       'Россия, Грузия, Хорватия, Испания',\n",
       "       'Финляндия - Швеция - Норвегия', 'Сербия - Великобритания - США',\n",
       "       'США - Великобритания - Франция - Гонконг', 'Швейцария - Франция',\n",
       "       'Швейцария - Великобритания', 'ОАЭ - США',\n",
       "       'США - Франция - Германия - Канада - Австралия ',\n",
       "       'Германия - Австралия', 'Иран, Франция',\n",
       "       'США - Великобритания - Новая Зеландия', 'США-Колумбия',\n",
       "       'США-Франция-Ирландия', 'Великобритания - Франция - Бельгия',\n",
       "       'США - Великобритания - Япония', 'США - Франция - Германия',\n",
       "       'Польша - Ирландия', 'Ирландия - Великобритания - Франция - США',\n",
       "       'США - Бельгия - Великобритания', 'СССР, ВНР',\n",
       "       'Испания - Франция - США - Великобритания - Бельгия',\n",
       "       'Франция - Дания - США', 'США - Гонконг', 'Бразилия - К;анада',\n",
       "       'Франция-Германия', 'США - Колумбия',\n",
       "       'США - Ирландия - Великобритания - Франция',\n",
       "       'Великобритания - США - Канада', 'Польша - Франция',\n",
       "       'Канада - США - Нидерланды - Великобритания - Аргентина',\n",
       "       'Великобритания - Дания', 'Франция - Бельгия - Япония',\n",
       "       'Россия,  Испания', 'Франция -Бельгия',\n",
       "       'США - Канада - Германия - Франция', 'США-Канада-Франция',\n",
       "       'Россия - Германия', 'Россия-Италия', 'Китай - Гонконг',\n",
       "       'Германия-Австрия-Франция-Италия', 'США-Япония',\n",
       "       'США - Германия - Канада', 'Испания-Мексика',\n",
       "       'США - Япония - Канада - Великобритания - Германия - Франция',\n",
       "       'США -Великобритания - Австралия', 'Россия-Украина-Германия',\n",
       "       'Израиль - Франция - Великобритания - Германия', 'Корея',\n",
       "       'Россия - Болгария', 'США-Индия',\n",
       "       'Германия-Канада-Франция-Бельгия', 'Германия-Кения',\n",
       "       'Франция - Монако', 'Франция-Испания-Швейцария',\n",
       "       'Австрия-Франция-Германия', 'Румыния',\n",
       "       'США-Великобритания-Франция', 'Канада-Великобритания',\n",
       "       'Канада-Бразилия-Япония', 'Германия - Дания - Норвегия',\n",
       "       'Дания - Германия', 'СССР - Италия',\n",
       "       'СССР - ГДР - Польша - Италия',\n",
       "       'США - Испания - Франция - Великобритания', 'Китай',\n",
       "       'Мексика-Аргентина',\n",
       "       'Германия - Великобритания - Италия - Испания',\n",
       "       'Франция-Германия-Великобритания', 'Россия - Германия - Швейцария',\n",
       "       'Франция-Австралия', 'Голландия', 'Швейцария-Франция',\n",
       "       'Россия-Белоруссия', 'Франция - Испания - Тайвань',\n",
       "       'США-Южная Корея-Новая Зеландия', 'Великобритания-Венгрия',\n",
       "       'Россия-Германия', 'Великобритания-Франция-Германия',\n",
       "       'Франция-Германия-Италия', 'Швеция-Финляндия-Франция-Норвегия',\n",
       "       'Франция-Италия', 'Германия-Израиль',\n",
       "       'Швеция - Германия - Дания - Норвегия', 'США-Бельгия',\n",
       "       'Франция-Гонконг-Ирландия', 'Эстония', 'Литва-Россия-Украина',\n",
       "       'Германия - Италия - Франция',\n",
       "       'Великобритания - Австрия - Германия', 'Бельгия - Франция',\n",
       "       'Россия-Казахстан', 'Испания - Мальта',\n",
       "       'Франция-Россия-Румыния-Италия-Бельгия', 'Россия - Польша',\n",
       "       'Испания - Мексика', 'США-Аргентина', 'Великобритания ',\n",
       "       'Израиль-США-Франция', 'США - Новая Зеландия - Япония',\n",
       "       'Франция - Чехия - Великобритания', 'Россия-Польша',\n",
       "       'Германия-Франция-Великобритания', 'США-Германия-Канада',\n",
       "       'США-Гонконг-Китай', 'США - Великобритания - Германия',\n",
       "       'США-Канада-Австралия', 'Япония-США-Франция',\n",
       "       'Франция-Испания-Германия', 'США - Хорватия - Босния-Герцеговина',\n",
       "       'Великобритания - Чехия - Франция - Италия',\n",
       "       'США - Германия - Нидерланды', 'Германия - Франция - Канада',\n",
       "       'Франция-Грузия-Германия-Россия-Украина-Бельгия',\n",
       "       'Великобритания - Франция - Италия', 'Россия - США',\n",
       "       'Франция - Италия - Иран', 'Россия - Азербайджан', 'Греция',\n",
       "       'Дания - США', 'США-Великобритания-Новая Зеландия',\n",
       "       'США-Германия-Австралия', 'США-Канада-Италия',\n",
       "       'США - Япония - Германия', 'Австралия-США',\n",
       "       'Франция - Великобритания - Багамские острова - США',\n",
       "       'Швейцария - Люксембург', 'Швейцария - Австрия',\n",
       "       'Германия - Швейцария', 'Дания-Швеция-Франция-Германия', 'Польша',\n",
       "       'Швейцария-Австрия', 'Бразилия - Канада - США',\n",
       "       'Нидерланды - Россия', 'Португалия', 'Франция-Аргентина',\n",
       "       'Швеция-Франция', 'Франция-Украина', 'Германия-Украина-Нидерланды',\n",
       "       'Италия-Швейцария', 'США-Германия-Великобритания',\n",
       "       'Латвия - Россия', 'Германия-Франция-Великобритания-США',\n",
       "       'Канада - Италия', 'США - Объединенные Арабские Эмираты',\n",
       "       'США-Венгрия', 'Малайзия', 'Россия - Германия - Украина',\n",
       "       'США - Австралия - Мексика', 'Литва - Венгрия', 'Германия - Китай',\n",
       "       'Казахстан', 'Республика Корея',\n",
       "       'США - Германия - Франция - Великобритания - Канада ',\n",
       "       'Бельгия - Германия - Люксембург - Франция', 'Франция - Греция',\n",
       "       'Италия - Канада', 'США - Великобритания - Франция',\n",
       "       'США-Италия-Греция', 'Германия - США - Великобритания - Ирландия',\n",
       "       'Великобритания - Франция - Германия',\n",
       "       'Германия - Нидерланды - ЮАР',\n",
       "       'США-Япония-Германия-Великобритания-Нидерланды',\n",
       "       'США-Япония-Германия-Великобритания',\n",
       "       'Германия - Франция - Польша',\n",
       "       'Таиланд-Великобритания-Франция-Германия-Испания-Нидерланды',\n",
       "       'Германия-Италия-Швейцария',\n",
       "       'Дания - Швеция - Великобритания - Франция - Германия - Нидерланды - Норвегия - Финляндия',\n",
       "       'Франция - Великобритания - Нидерланды - Люксембург',\n",
       "       'Нидерланды-Великобритания-Франция-Италия-Япония',\n",
       "       'Финляндия-Дания-Германия-Ирландия', 'Испания-Аргентина',\n",
       "       'Великобритания - Нидерланды - Франция - США', 'Канада - Мексика',\n",
       "       'США, Франция', 'Канада-Южная Корея-США',\n",
       "       'Великобритания - Франция - Бельгия - США', 'КНР - Канада - США',\n",
       "       'Италия - Франция - Германия',\n",
       "       'Швеция - Германия - Франция - Дания', 'Франция - США - Бельгия',\n",
       "       'Украина - Германия - Латвия - Эстония', 'Австрия - Люксембург',\n",
       "       'Великобритания - КНР', 'Монголия', 'Франция - Дания',\n",
       "       'Швеция - Дания - Финляндия',\n",
       "       'Сингапур - Великобритания - Индонезия - Канада - США',\n",
       "       'США - Германия - Япония', 'Таиланд - США', 'Франция - Нидерланды',\n",
       "       'Великобритания - Румыния', 'США - Мальта',\n",
       "       'Великобритания - Германия - Нидерланды - Дания',\n",
       "       'Франция - Германия - Литва - Нидерланды - Россия',\n",
       "       'США - ЮАР - Гонконг', 'Австралия - Колумбия',\n",
       "       'Великобритания - Польша', 'США - Великобритания - Швеция',\n",
       "       'Франция - Швеция - Дания - Норвегия', 'Болгария - США',\n",
       "       'СССР, ФРГ', 'Бельгия - Нидерланды - Франция',\n",
       "       'Финляндия - Германия', 'Болгария',\n",
       "       'Грузия - Россия - Украина - Хорватия - Германия',\n",
       "       'Франция - Люксембург', 'Франция - Германия - Австрия',\n",
       "       'Норвегия - США', 'Германия-Швеция', 'Франция - Германия - Италия',\n",
       "       'Франция-Германия-Австрия', 'КНР-США',\n",
       "       'Великобритания - Ирландия - США ',\n",
       "       'Дания - Латвия - Россия - США', 'Финляндия - Польша',\n",
       "       'Германия - Бельгия', 'Германия - США - Франция - Испания',\n",
       "       'Бельгия-Германия-Канада-Франция-США-Великобритания',\n",
       "       'Нидерланды - Бельгия - Люксембург', 'Канада-Германия',\n",
       "       'Люксембург - Бельгия - Франция', 'США-Великобритания-Австралия',\n",
       "       'Великобритания, Новая Зеландия', 'Бельгия, Великобритания, США',\n",
       "       'Великобритания, Австралия', 'Исландия, Бельгия',\n",
       "       'Испания - Швейцария - Великобритания - Германия - Новая Зеландия - Нидерланды - Канада',\n",
       "       'Франция, Бельгия', 'Великобритания, США', 'Киргизия-Россия',\n",
       "       'Германия, США', 'Великобритания, США, Испания',\n",
       "       'Италия - Швейцария - Германия', 'Россия, Армения',\n",
       "       'Франция, Германия', 'Китай, Канада, США', 'Германия, Австралия',\n",
       "       'КНР, США', 'США, Великобритания, Люксембург',\n",
       "       'Испания, Ирландия, Бельгия, Франция',\n",
       "       'Великобритания - Гонконг - Венгрия - США - Ирландия',\n",
       "       'США - Пуэрто Рико', 'Аргентина - Испания - Уругвай',\n",
       "       'Израиль - Германия - Франция - Швейцария',\n",
       "       'Великобритания - Мексика - США', 'Испания - Болгария - США',\n",
       "       'Россия-Словакия-Чехия',\n",
       "       'Швейцария - КНР - США - Россия - Республика Корея - Великобритания',\n",
       "       'Россия, Нидерланды, Финляндия',\n",
       "       'Испания - Бельгия - Франция - Португалия - Великобритания',\n",
       "       'Бразилия - Португалия - Франция', 'Швеция - Норвегия',\n",
       "       'Франция - Польша - Бельгия', 'CША', 'Китай, США',\n",
       "       'Италия, Франция, Германия', 'Германия - Австрия - Франция',\n",
       "       'Чехия - Словакия - Хорватия', 'Россия, Польша, Финляндия',\n",
       "       'Россия, Латвия, Чешская Республика',\n",
       "       'Франция - Великобритания - Камбоджа - США - КНР',\n",
       "       'Чехия - Испания - США', 'Германия - Люксембург - Дания',\n",
       "       'Великобритания - Испания - Германия', 'Дания - Исландия',\n",
       "       'Германия, Франция, Великобритания',\n",
       "       'Великобритания - Испания - Италия - Латвия - Франция - Эстония',\n",
       "       'Дания, Швеция, Великобритания, Франция, Германия, Норвегия, Финляндия, Нидерланды, Италия',\n",
       "       'Польша - Франция - Великобритания',\n",
       "       'Дания, Норвегия, Венгрия, Чехия',\n",
       "       'Дания - Франция - Германия - Швеция',\n",
       "       'Великобритания, Швеция, США',\n",
       "       'Канада, Франция, Италия, Швейцария, США', 'США, Индия',\n",
       "       'США - Великобритания - Германия - - Швеция - Канада',\n",
       "       'Италия, Франция', 'Республика Беларусь, Германия, США, Россия',\n",
       "       'Италия-Швейцария-Франция-Германия ',\n",
       "       'Россия - Франция - Великобритания - Латвия', 'Россия-Беларусь',\n",
       "       'Франция - Испания - Румыния - США - Бельгия', 'Италия-США',\n",
       "       'Россия, Австрия', 'Ирландия - Великобритания - США',\n",
       "       'Швейцария, Великобритания, Франция, США, Ирландия',\n",
       "       'Мексика, Франция, Германия, Дания, Швеция', 'Нидерланды, Бельгия',\n",
       "       'Швеция, Норвегия, Финляндия, Франция', 'Испания, Франция, Италия',\n",
       "       'Испания-Франция-Греция-Индия-США-Россия-Великобритания',\n",
       "       'Великобритания - Япония - США',\n",
       "       'Дания, Канада, Норвегия, Австралия, США', 'Аргентина, Испания',\n",
       "       'Россия, Германия, Казахстан, Польша, Китай',\n",
       "       'Португалия, Франция, Польша, США', 'США - Канада - Аргентина',\n",
       "       'Ливан-США', 'США, Великобритания', 'Япония - США',\n",
       "       'США, Гонконг ',\n",
       "       'Франция - Россия - Швейцария - Румыния - Венгрия',\n",
       "       'Аргентина-Испания', 'Россия, Сербия', 'США - Болгария - Мексика',\n",
       "       'США - Великобритания - Швейцария - Франция',\n",
       "       'Таиланд - КНР - США',\n",
       "       'Великобритания, Нидерланды, Польша, Швейцария, Франция',\n",
       "       'Ирландия - США',\n",
       "       'Германия - Франция - Великобритания - Польша - США',\n",
       "       'Великобритания-Франция-Италия', 'США - Австралия - Индия',\n",
       "       'Франция - КНР', 'Великобритания - Израиль',\n",
       "       'Великобритания - Норвегия - Кения - Хорватия',\n",
       "       'США - Бразилия - Великобритания - Канада', 'Германия, Бельгия',\n",
       "       'Австралия, Канада', 'США, Великобритания, Франция',\n",
       "       'Кения, Германия', 'Нидерланды, Бельгия, Люксембург', 'Колумбия',\n",
       "       'Латвия - Франция', 'Ирландия, Великобритания',\n",
       "       'Франция - Израиль - Германия', 'Швеция, Франция, Великобритания',\n",
       "       'Бельгия - Люксембург', 'Германия - Бельгия - Великобритания',\n",
       "       'Испания, Франция, Великобритания, Дания, Бельгия, Германия',\n",
       "       'Румыния, ЮАР, Иран, Франция, Канада, Великобритания',\n",
       "       'Германия, Франция', 'США, Япония',\n",
       "       'США, Великобритания, Ирландия, Люксембург', 'Республика Армения',\n",
       "       'США, Франция, Япония', 'Япония, США', 'Канада, США',\n",
       "       'Республика Кипр - Россия',\n",
       "       'Дания - Франция - Италия - Бельгия - Нидерланды',\n",
       "       'Россия - Грузия', 'Италия, Германия', 'Норвегия, Швеция, Дания',\n",
       "       'Республика Кипр, Россия', 'КНР, Индия, Гонконг, США',\n",
       "       'Израиль, Украина', 'США, Россия', 'США - КНР - Индия - Ю.Корея',\n",
       "       'США - Швеция', 'Франция, Канада', 'Россия-Китай',\n",
       "       'Канада, Великобритания', 'США, Германия',\n",
       "       'Канада, США, Каймановы острова',\n",
       "       'Бразилия, Уругвай, Дания, Норвегия, Чили, Швеция',\n",
       "       'Пуэрто-Рико, Великобритания, США',\n",
       "       'Уругвай - Аргентина - Испания',\n",
       "       'США - Великобритания - Италия - Израиль - Сербия - Индия',\n",
       "       'США - Канада - Франция - Индия', 'Великобритания - Россия - КНР',\n",
       "       'Франция, Новая Зеландия', 'Франция, Люксембург, Бельгия',\n",
       "       'Канада, США, Норвегия', 'Италия, Испания',\n",
       "       'Испания - Германия - Нидерланды', 'Бразилия - США - КНР ',\n",
       "       'Великобритания, Германия, Дания, США', '2019',\n",
       "       'Италия - Фрация - Бразилия - Германия',\n",
       "       'Норвегия - Швеция - Россия', 'Великобритания, Япония, США',\n",
       "       'Сша, Канада', 'Бельгия, Канада',\n",
       "       'Великобритания - Австралия - США', 'США, Канада', 'КНР - США ',\n",
       "       'Франция - Финляндия', 'Колумбия - США',\n",
       "       'Великобритания, Франция, Бельгия', 'Норвегия - Нидерланды',\n",
       "       'Великобритания, Канада, США', 'Япония, Великобритания',\n",
       "       'Италия - Бельгия - Франция', 'Россия, Бельгия, Финляндия',\n",
       "       'США, Украина', 'Франция, Норвегия',\n",
       "       'Великобритания, Южная Корея, Канада, США, Индия, Китай, Япония',\n",
       "       'Канада - Норвегия', 'Республика Кипр-Россия', 'Германия, Россия',\n",
       "       'Польша - Франция - Испания - Бразилия - Швеция',\n",
       "       'Австрия, Великобритания, Германия', 'Франция - Сенегал - Бельгия',\n",
       "       'Франция, Бельгия, Люксембург', 'Финляндия, Латвия', 'Пакистан',\n",
       "       'Германия, Франция, США', 'Германия - Великобритания - США',\n",
       "       'КНР - Франция', 'Дания, Норвегия, Швеция, Исландия',\n",
       "       'Республика Кипр, США, Россия', 'Новая Зеландия - КНР',\n",
       "       'Дания - Канада - Швеция - Франция - Германия - Великобритания - США'],\n",
       "      dtype=object)"
      ]
     },
     "execution_count": 28,
     "metadata": {},
     "output_type": "execute_result"
    }
   ],
   "source": [
    "data['production_country'].unique()"
   ]
  },
  {
   "cell_type": "code",
   "execution_count": 29,
   "metadata": {},
   "outputs": [],
   "source": [
    "data = data.apply(lambda x: x.replace({' - ': ', ', \n",
    "                                       '-' : ', ',\n",
    "                                       'Сша' : 'США',\n",
    "                                      }, regex=True))\n",
    "data = data.drop(data[data['production_country'] == '2019'].index)"
   ]
  },
  {
   "cell_type": "code",
   "execution_count": 30,
   "metadata": {},
   "outputs": [
    {
     "data": {
      "text/plain": [
       "array(['США', 'СССР', 'Франция', 'СССР, Венгрия',\n",
       "       'Германия, Великобритания', 'Великобритания, Италия',\n",
       "       'Чехословакия', 'США, Франция, Турция', 'Новая Зеландия',\n",
       "       'Канада, Франция, Испания', 'США, Германия', 'США, Великобритания',\n",
       "       'Великобритания', 'Франция, Мексика, США',\n",
       "       'Россия, Казахстан, США', 'СССР, Швеция',\n",
       "       'СССР, Франция, Англия, Куба, ГДР', 'Германия',\n",
       "       'Великобритания, США, Германия, КНР',\n",
       "       'СССР, ЧССР, Западный Берлин, ПНР', 'СССР, Италия', 'Гонконг, КНР',\n",
       "       'США, Франция', 'США, Япония, Франция, Великобритания',\n",
       "       'Гонконг, Сингапур, Таиланд, Великобритания', 'США, Канада',\n",
       "       'Франция, Италия, Великобритания, США', 'Франция, США',\n",
       "       'Ирландия, Великобритания, Германия', 'Чехия', 'США, Австралия',\n",
       "       'СССР, Финляндия', 'США, Франция, Великобритания, Австрия',\n",
       "       'США, Бельгия', 'США, Ирландия, Великобритания',\n",
       "       'Великобритания, США',\n",
       "       'Люксембург, Нидерланды, Испания, Великобритания, США, Италия',\n",
       "       'Великобритания, Франция, США', 'Новая Зеландия, США',\n",
       "       'США, Великобритания, Чехия', 'Канада, Франция, Великобритания',\n",
       "       'Ирландия', 'Великобритания, Германия, США',\n",
       "       'США, Франция, Великобритания', 'Япония', 'СССР, Польша',\n",
       "       'Франция, Испания', 'Канада, Франция', 'Германия, Италия, США',\n",
       "       'Аргентина, Бразилия', 'Дания, Швейцария, Бельгия, Франция',\n",
       "       'США, Испания', 'Германия, США',\n",
       "       'Франция, Австрия, Германия, Италия, США', 'Австрия',\n",
       "       'США, Канада, Германия', 'СССР, Швейцария, Франция',\n",
       "       'Россия, Казахстан', 'Гонконг', 'Италия', 'США, ОАЭ', 'Россия',\n",
       "       'США, Франция, Испания, Великобритания', 'Великобритания, Франция',\n",
       "       'США, Италия, Испания, Аргентина', 'Франция, Великобритания',\n",
       "       'КНР, Гонконг', 'Франция, Италия, Швейцария',\n",
       "       'США, Новая Зеландия', 'Франция, Бельгия', 'КНР',\n",
       "       'Германия, Великобритания, Австрия',\n",
       "       'Великобритания, Израиль, Франция, Япония, США', 'Швеция',\n",
       "       'Испания', 'Дания', 'Франция, Бельгия, Люксембург',\n",
       "       'США, Индия, ОАЭ',\n",
       "       'Германия, Канада, Великобритания, Швейцария, Франция',\n",
       "       'Мексика, Чили', 'Аргентина', 'Бразилия', 'Чили', 'Австралия',\n",
       "       'Португалия, Франция', 'США, ЮАР', 'Исландия, Ирландия, Германия',\n",
       "       'США, Индонезия', 'Южная Корея', 'Мексика, Испания, Дания, США',\n",
       "       'Франция, Италия', 'США, Венгрия, Великобритания',\n",
       "       'Бельгия, Франция, Италия', 'Чехия, Германия', 'Германия, Франция',\n",
       "       'США, Нидерланды', 'Украина', 'Великобритания, Германия',\n",
       "       'США, Франция, Испания', 'Италия, Франция', 'Канада',\n",
       "       'Швеция, Франция, Дания', 'Германия, Франция, Польша',\n",
       "       'Франция, Великобритания, Германия',\n",
       "       'США, Бразилия, Франция, Австралия, Великобритания, Германия',\n",
       "       'Германия, Австрия', 'Германия, Италия,  Шри, Ланка',\n",
       "       'Великобритания, Испания', 'США, Великобритания, Канада, Швеция',\n",
       "       'Босния и Герцеговина, Франция, Великобритания, Германия, Словения, Бельгия, Сербия',\n",
       "       'Великобритания, Франция, Италия, США', 'Испания, Франция',\n",
       "       'Великобритания, Австралия, США',\n",
       "       'Норвегия, Швеция, Дания, Германия', 'Норвегия', 'Швейцария',\n",
       "       'Греция, Германия, Франция', 'Норвения', 'Южная Корея, США',\n",
       "       'Чили, Франция, США', 'Австрия, Германия, Франция',\n",
       "       'Швеция, Дания', 'Великобритания, Франция, Бельгия, Италия',\n",
       "       'Франция, Германия', 'Грузия, Франция, Люксембург',\n",
       "       'США, Франция, Великобритания, Бразилия ', 'США, КНР',\n",
       "       'Мексика, Франция', 'США, Германия, Гонконг, Сингапур',\n",
       "       'Финляндия, Австрия, Россия', 'Испания, Куба',\n",
       "       'Великобритания, ЮАР', 'Великобритания, Ирландия', 'Израиль',\n",
       "       'Бразилия, Германия, Порртугалия, Франция ',\n",
       "       'Франция, Канада, Бельгия', 'Испания, Канада, Япония', 'Иран',\n",
       "       'Швеция, Куба', 'США, Великобритания, Ирландия', 'Нидерланды',\n",
       "       'Испания, Канада', 'Япония, Великобритания',\n",
       "       'Великобритания, Норвегия, Дания, Германия',\n",
       "       'Финляндия, Франция, Германия',\n",
       "       'Мексика, Франция, Нидерланды, Германия', 'США, Индия',\n",
       "       'США, Великобритания, Индия', 'США, Канада, Бельгия',\n",
       "       'Республика Узбекистан', 'Италия ', 'Турция',\n",
       "       'Сербия, Словения, Хорватия, Черногория, Македония', 'Киргизия',\n",
       "       'Германия, Нидерланды, Беларусь, Россия, Латвия', 'Индия',\n",
       "       'Нидерланды, Россия, Германия',\n",
       "       'Великобритания, Нидерланды, Франция, Хорватия',\n",
       "       'Канада, Южная Корея',\n",
       "       'Великобритания, Польша, КНР, Индия, Норвегия',\n",
       "       'Япония, Франция, США, Южная Корея, Турция',\n",
       "       'Мексика, Аргентина, Великобритания', 'Израиль, Франция',\n",
       "       'Польша, Португалия, Франция, Великобритания', 'Австралия, США',\n",
       "       'США, Великобритания ', 'Франция, Люксембург, Бельгия', 'Армения',\n",
       "       'Бельгия, Люксембург, Франция, Швейцария',\n",
       "       'США, Великобритания, Канада', 'Норвегия, Швеция',\n",
       "       'КНР, Гонконг, США', 'США, Сингапур, Малайзия, Индонезия',\n",
       "       'Германия, Россия', 'Япония, Канада',\n",
       "       'Финляндия, Дания, Германия, Ирландия',\n",
       "       'Франция, Люксембург, Германия, Бельгия, Швейцария, Великобритания ',\n",
       "       'Канада, США', 'США, Италия, Испания', 'США, Швейцария, Франция',\n",
       "       'Испания, США, Колумбия', 'Канада, ЮАР', 'Франция, Россия',\n",
       "       'Германия, Финляндия, Австралия', 'Дания, Швеция', 'Бельгия',\n",
       "       'Германия, Франция, Австрия', 'Франция, Индия', 'ЮАР',\n",
       "       'Франция, Перу', 'Франция, Канада', 'Республика Беларусь',\n",
       "       'Великобритания, Австрия, Франция, США', 'США, Россия',\n",
       "       'США, Южная Корея', 'Канада, КНР',\n",
       "       'Дания, Швеция, Италия, Франция, Германия',\n",
       "       'Франция, Италия, Испания, Венгрия', 'Франция, Германия, Бельгия',\n",
       "       'Франция, Великобритания, Чехия', 'Румыния, Франция, Бельгия',\n",
       "       'Болгария, Франция, Изриль',\n",
       "       'Израиль, Германия, Польша, Бельгия, Франция, Люксембург',\n",
       "       'Россия, Германия, Франция, Бельгия', 'Индонезия',\n",
       "       'Франция, Португалия', 'Великобритания, Пуэрто, Рико',\n",
       "       'СССР, ФРГ, Западный Берлин', 'Россия, Республика Беларусь',\n",
       "       'Франция, Австрия', 'Бельгия, Нидерланды',\n",
       "       'Великобритания, США, Индия', 'США, Великобритания, Австралия',\n",
       "       'Канада, Франция, США, ОАЭ, Великобритания',\n",
       "       'США, Австралия, Франция',\n",
       "       'Дания, Франция, Бельгия, Германия, Великобритания',\n",
       "       'Испания, Аргентина', 'Исландия, Финляндия',\n",
       "       'Россия, Польша, Голландия, Словакия', 'Дания, Германия, Швеция',\n",
       "       'Южная Корея, США, Канада', 'Таиланд', 'США, Мальта',\n",
       "       'США , Германия', 'Великобритания, Германия, Франция, Кипр, США',\n",
       "       'Мексика', 'США, Украина',\n",
       "       'США, Финляндия, Испания, Великобритания, Франция',\n",
       "       'Австралия, Великобритания',\n",
       "       'США, Канада, Афганистан, Бельгия, Франция',\n",
       "       'США, Великобритания, Германия, Новая Зеландия, Бельгия, Франция',\n",
       "       'Ирландия, Финляндия, Бельгия, Великобритания, США, Швейцария',\n",
       "       'Малайзия, США', 'Германия, Италия',\n",
       "       'США, Франция, Бельгия, Италия', 'Франция, Ирландия, Швеция',\n",
       "       'Азербайджан, Россия', 'Великобритания, Италия, Швейцария',\n",
       "       'США, Германия, Великобритания',\n",
       "       'Германия, Бельгия, США , Франция', 'США, Китай', 'Чили, Испания',\n",
       "       'Франция, Швейцария', 'Канада, Испания',\n",
       "       'США, Румыния, Великобритания', 'США, Япония',\n",
       "       'США, Россия, Франция', 'Парагвай', 'Германия, Канада',\n",
       "       'США, Канада, Великобритания', 'Финляндия, Канада',\n",
       "       'Уругвай, Мексика, Германия ', 'США, Чили',\n",
       "       'Германия, Аргентина, Нидерланды, Чили', 'США, Канада, Индонезия',\n",
       "       'Армения, Казахстан', 'Финляндия', 'Испания, Италия, Франция',\n",
       "       'Бельгия, Испания, Канада, Нидерланды',\n",
       "       'Великобритания, Франция, Швеция, Бельгия',\n",
       "       'Мексика, Эквадор, Канада, США, Франция, Малайзия, Италия, Аргентина, Германия, Индия  ',\n",
       "       'Франция, Бенльгия', 'Индия, Великобритания',\n",
       "       'Япония, Великобритания, Франция', 'Испания, Уругвай, Аргентина',\n",
       "       'Франция, Италия, Бельгия, Люксембург',\n",
       "       'Франция, Украина, Грузия, Армения', 'Сербия, Германия, Венгрия',\n",
       "       'Франция, Польша', 'Франция ', 'Румыния, США',\n",
       "       'Россия, Азербайджан',\n",
       "       'США, Нидерланды, Бельгия, Венгрия, Греция, Канада',\n",
       "       'Германия, Франция, Люксембург', 'Великобритания, США, Франция',\n",
       "       'США, Австралия, Дания', 'Бельгия, Франция', 'США, Мексика',\n",
       "       'Норвегия, Азербайджан, Россия, Колумбия, Великобритания, Венгрия, Румыния, Франция, Грузия',\n",
       "       'СЩА', 'Бразилия, Испания', 'Россия, Франция, Латвия',\n",
       "       'Нидерланды, США, Германия, Канада, Франция, Ирландия, Великобритания',\n",
       "       'Уругвай, Колумбия', 'США, Испания, Болгария', 'Армения, Германия',\n",
       "       'США, Великобритания,  Франция, Швеция', 'Австралия, Турция, США',\n",
       "       'Швеция, Германия', 'Польша, Италия, Россия', 'Франция, Бразилия',\n",
       "       'США, Канада, КНР', 'СССР, Венгрия, ЧССР, ГДР',\n",
       "       'Бельгия, Германия, Люксембург', 'СССР  ', 'СССР ', ' СССР ',\n",
       "       'Бразилия, США', 'США, Великобритания, Канада, КНР',\n",
       "       'Франция, Чили',\n",
       "       'Франция, США, Великобритания, Колумбия, Бельгия, Россия',\n",
       "       'Дания, Великобритания, ЮАР', 'СССР   ',\n",
       "       'Россия, США, Канада, Люксембург', 'Россия, Республика Кипр',\n",
       "       'Германия, США, Швеция, Франция',\n",
       "       'Великобритания, Германия, Канада, ЮАР', ' СССР   ', 'СССР     ',\n",
       "       'Ирландия, Канада',\n",
       "       'Япония, Великобритания, Швейцария, Ирландия, Дания, Франция, Польша, Австралия, Канада  ',\n",
       "       'Великобритания, Канада', 'Бельгия, США',\n",
       "       'Великобритания, США, Россия', 'Россия, Украина',\n",
       "       'Германия, США, Великобритания, Израиль', 'Канада, Германия',\n",
       "       'США,  Ю.Корея', 'Индия, Мексика',\n",
       "       'Великобритания, Франция, Республика Кипр, Швейцария, США, Сербия',\n",
       "       'Испания, Аргентина, Индия, США',\n",
       "       'Норвегия, Исландия, США, Великобритания ',\n",
       "       'Турция, Германя, Франция', 'Австралия, Германия',\n",
       "       'Мексика, Испания', 'Великобритания, США, Германия, Бельгия',\n",
       "       'США, Чехия, Франция', 'Россия, Италия', 'Норвегия, Дания, Швеция',\n",
       "       'Франция, Швейцария, Германия', 'Грузия, Украина',\n",
       "       'Россия, Эстония, Финляндия, Беларусь', 'США, Франция, ЮАР',\n",
       "       'Великобритания, США, Швейцария',\n",
       "       'Мексика, Нидерланды, Германия, Франция', 'США, Испания, Франция',\n",
       "       'США, Великобритания, КНР', 'США, Франция, Канада',\n",
       "       'Япония, Великобритания, Австрия, Германия, Ю.Корея',\n",
       "       'Великобритания, Ирландия, США', 'Бельгия, Италия, Франция ',\n",
       "       'Швейцария, Германия, ЮАР', 'Великобритания, США, Германия',\n",
       "       'Германия, Исландия', 'Испания, США', 'СССР    ', 'Хорватия',\n",
       "       'Финляндия, Исландия, Швеция', 'Канада, США, Германия, Франция',\n",
       "       'США, Великобритания, Испания', 'Ирландия, Великобритания',\n",
       "       'Аргентина, Испания', 'Австрия, Германия', ' СССР',\n",
       "       'Германия, Швейцария, Франция, Южная Корея, США',\n",
       "       'Украина, Нидерланды', 'Венгрия, Германия, Швеция',\n",
       "       'Германия, Франция,  Польша, Турция, Канада, Италия, Россия ',\n",
       "       'СССР, Афганистан', 'СССР, Монголия', 'Россия, Кипр',\n",
       "       'Россия, Грузия, Испания',\n",
       "       'Великобритания, Нидерланды, Германия, Франция, Бельгия, Австрия ',\n",
       "       'Испания, Великобритания, Франция',\n",
       "       'Дания, Норвегия, Великобритания', 'Бельгия, Франция, Люксембург',\n",
       "       'Италия, Франция, Швейцария, Великобритания',\n",
       "       'Франция, Бельгия, Великобритания, Испания, Германия, США',\n",
       "       'Швейцария, Израиль, Франция, Великобритания',\n",
       "       'Великобритания, США, Канада, Нидерланды, Франция',\n",
       "       'СССР, Албания', 'Россия, Украина, Республика Беларусь, Литва',\n",
       "       'Финляндия, Великобритания, Германия', 'Россия, Украина, Польша',\n",
       "       'Франция, Италия, Бельгия, КНР',\n",
       "       'Германия, Бельгия, Люксембург, Ирландия', 'КНР, Сингапур',\n",
       "       'Франция, Бельгия, Великобритания, США, Нидерланды, Канада',\n",
       "       'США, Россия, Польша, Германия, Пуэрто Рико',\n",
       "       'Франция, Бельгия, Канада', 'США ', 'Мексика, США',\n",
       "       'США, Гонконг, КНР ', 'Греция, Россия',\n",
       "       'Ирландия, Дания, Бельгия, Люксембург, Франция', 'Эстония, Россия',\n",
       "       'Великобритания, Исландия, Испания, Швейцария, США',\n",
       "       'Австралия, Великобритания, Бельгия, Индия',\n",
       "       'Швеция, Германия, Франция, Норвегия',\n",
       "       'Нидерланды, Бельгия, Германия, Ирландия',\n",
       "       'Нидерланды, Великобритания, Бельгия', 'США, Колумбия, Испания',\n",
       "       'Франция, Испания, Бельгия, Панама',\n",
       "       'США, Великобритания, Чехия, Румыния',\n",
       "       'Аргентина, Уругвай, Россия, Германия, Франция, Нидерланды',\n",
       "       'Швеция, Франция, Норвегия, Дания',\n",
       "       'Италия, Франция, Великобритания', 'Венесуэла',\n",
       "       'Великобритания, США, Австралия, Ирландия, Германия, Куба, Канада',\n",
       "       'Южная Корея, КНР', 'Аргентина, Мексика, Бразилия, Франция, США',\n",
       "       'Швеция, США', 'Франция, Германия, Турция, Катар',\n",
       "       'Франция, Китай', 'Россия, Германия, Великобритания',\n",
       "       'Великобритания, Италия, Испания', 'Италия, Россия',\n",
       "       'Япония, КНР, Южная Корея', 'Россия, Германия', 'Россия, Ирландия',\n",
       "       'Македония, Франция, Великобритания', 'Франция, Бразилия, Италия',\n",
       "       'Россия, США', 'Армения, Россия', 'Россия, Румыния',\n",
       "       'Франция,  Бельгия', 'Грузия, Франция', 'ЮАР, США',\n",
       "       'Великобритания, США, Германия, Канада, Австралия',\n",
       "       'США, Ирландия', 'Германия, Люксембург, Франция',\n",
       "       'Россия, Франция',\n",
       "       'США, Нидерланды, Финляндия, Великобритания, Италия',\n",
       "       'Республика Кипр', 'Венгрия', 'Франция, США, Норвегия, Дания',\n",
       "       'Германия, Австрия, Ирландия', 'США, Финляндия',\n",
       "       'Италия, Великобритания', 'Россия, Испания',\n",
       "       'США, Великобритания, Болгария', 'Великобритания, Люксембург',\n",
       "       'Индия, США', 'США, Канада, Россия, Франция, Чили, Ирландия',\n",
       "       'Грузия, Россия',\n",
       "       'Дания, Австрия, Ирландия, Финляндия, Норвегия, Швеция, Нидерланды',\n",
       "       'Грузия', 'Австралия, Ирландия', 'Италия, Аргентина, Словения ',\n",
       "       'Испания, Франция, Нидерланды, Германия, Бельгия, Великобритания, Канада',\n",
       "       'Франция, Чехия, Бельгия',\n",
       "       'Великобритания, Франция, Германия, США',\n",
       "       'Ирландия, Великобритания, Франция, США, Германия, Нидерланды',\n",
       "       'США, Канада, Япония, КНР', 'США, Великобритания, Исландия',\n",
       "       'Франция, Германия, Нидерланды', 'Иран ',\n",
       "       'Франция, Германия, Швеция, США, Чехия, Словакия, Великобритания, Нидерланды',\n",
       "       'Франция, Канада, Н.Зеландия, США, Нидерланды, Германия, Швеция, Россия',\n",
       "       'Турция, США',\n",
       "       'Великобритания, США, Канада, Бельгия, Нидерланды, Австрия, Германия',\n",
       "       'Израиль, Франция, Германия, Палестина, США, Австрия, Великобритания',\n",
       "       'Аргентина, Франция, Испания', 'СССР, Россия',\n",
       "       'Великобритания, Франция, Италия, Индия, Дания, КНР, Бангладеш, Камбоджа, Гаити, Уганда',\n",
       "       'Италия, Франция, Швейцария', 'Ирландия, Великобритания, Канада',\n",
       "       'Перу', 'США, Норвегия', 'Китай, Гонконг', 'США, Германия, КНР',\n",
       "       'Великобритания, Новая Зеландия', 'Франция, Дания, Швеция, КНР',\n",
       "       'США, Великобритания, Германия, Бельгия, Дания',\n",
       "       'США, Франция, Канада, Германия, Австралия, Индия', nan,\n",
       "       'СССР, Румыния, Франция', 'СССР, ГДР',\n",
       "       'Великобритания, Франция, Австрия, Швеция', 'Россия, Таджикистан',\n",
       "       'Нидерланды, Бельгия, Болгария', 'Великобритания, Канада, США',\n",
       "       'Франция, Бельгия, Испания', 'Китай, Гонконг, США', 'США, Вьетнам',\n",
       "       'США, Германия, Франция', 'Германия, Франция, Бельгия',\n",
       "       'США, Италия',\n",
       "       'Германия, Дания, Испания, Швеция, Канада, Эстония, Франция',\n",
       "       'Княжество Андорра, Украина', 'Германия, Люксембург, Бельгия',\n",
       "       'Великобритания, Россия, Украина, США',\n",
       "       'Германия, Бельгия, Люксембург, Норвегия',\n",
       "       'США, Австралия, Новая Зеландия, Великобритания',\n",
       "       'США, Франция, Канада, Великобритания', 'Испания, Колумбия',\n",
       "       'Великобритания, Чехия, Франция', 'Исландия',\n",
       "       'Великобритания, Франция, Венгрия',\n",
       "       'Россия, Франция, Германия, Бельгия', 'Франция, Македония',\n",
       "       'Нидерланды, Франция, Германия, Бельгия, Швеция, Великобритания',\n",
       "       'Испания, США, Великобритания, Канада', 'Республика Казахстан',\n",
       "       'Франция, Испания, Дания, Венгрия, Швейцария', 'Франция, КНР',\n",
       "       'США, Пуэрто, Рико, Франция ', 'Мексика, Тайвань, США',\n",
       "       'Великобритания, Испания, Непал, Индия, Венгрия, Гонконг, Германия, Дания, Бахрейн',\n",
       "       'Великобритания, Аргентина, США, Франция, Россия, Испания',\n",
       "       'КНР, США', 'Италия, США', 'Финляндия, Швеция, Германия',\n",
       "       'Канада,  Испания', 'Франция, Бельгия, Чехия',\n",
       "       'Франция, Германия, США', 'США, Дания', 'Индия, КНР',\n",
       "       'Чехия, Великобритания, США', 'США, ФРГ, Россия',\n",
       "       'Ирландия, Нидерланды, Франция, США, Великобритания',\n",
       "       'Россия, Грузия, Хорватия, Испания', 'Финляндия, Швеция, Норвегия',\n",
       "       'Сербия, Великобритания, США',\n",
       "       'США, Великобритания, Франция, Гонконг', 'Швейцария, Франция',\n",
       "       'Швейцария, Великобритания', 'ОАЭ, США',\n",
       "       'США, Франция, Германия, Канада, Австралия ',\n",
       "       'Германия, Австралия', 'Иран, Франция',\n",
       "       'США, Великобритания, Новая Зеландия', 'США, Колумбия',\n",
       "       'США, Франция, Ирландия', 'Великобритания, Франция, Бельгия',\n",
       "       'США, Великобритания, Япония', 'США, Франция, Германия',\n",
       "       'Польша, Ирландия', 'Ирландия, Великобритания, Франция, США',\n",
       "       'США, Бельгия, Великобритания', 'СССР, ВНР',\n",
       "       'Испания, Франция, США, Великобритания, Бельгия',\n",
       "       'Франция, Дания, США', 'США, Гонконг', 'Бразилия, К;анада',\n",
       "       'США, Ирландия, Великобритания, Франция',\n",
       "       'Великобритания, США, Канада', 'Польша, Франция',\n",
       "       'Канада, США, Нидерланды, Великобритания, Аргентина',\n",
       "       'Великобритания, Дания', 'Франция, Бельгия, Япония',\n",
       "       'Россия,  Испания', 'Франция , Бельгия',\n",
       "       'США, Канада, Германия, Франция', 'США, Канада, Франция',\n",
       "       'Германия, Австрия, Франция, Италия', 'США, Германия, Канада',\n",
       "       'Испания, Мексика',\n",
       "       'США, Япония, Канада, Великобритания, Германия, Франция',\n",
       "       'США , Великобритания, Австралия', 'Россия, Украина, Германия',\n",
       "       'Израиль, Франция, Великобритания, Германия', 'Корея',\n",
       "       'Россия, Болгария', 'Германия, Канада, Франция, Бельгия',\n",
       "       'Германия, Кения', 'Франция, Монако',\n",
       "       'Франция, Испания, Швейцария', 'Австрия, Франция, Германия',\n",
       "       'Румыния', 'США, Великобритания, Франция',\n",
       "       'Канада, Великобритания', 'Канада, Бразилия, Япония',\n",
       "       'Германия, Дания, Норвегия', 'Дания, Германия',\n",
       "       'СССР, ГДР, Польша, Италия',\n",
       "       'США, Испания, Франция, Великобритания', 'Китай',\n",
       "       'Мексика, Аргентина', 'Германия, Великобритания, Италия, Испания',\n",
       "       'Франция, Германия, Великобритания', 'Россия, Германия, Швейцария',\n",
       "       'Франция, Австралия', 'Голландия', 'Россия, Белоруссия',\n",
       "       'Франция, Испания, Тайвань', 'США, Южная Корея, Новая Зеландия',\n",
       "       'Великобритания, Венгрия', 'Великобритания, Франция, Германия',\n",
       "       'Франция, Германия, Италия',\n",
       "       'Швеция, Финляндия, Франция, Норвегия', 'Германия, Израиль',\n",
       "       'Швеция, Германия, Дания, Норвегия', 'Франция, Гонконг, Ирландия',\n",
       "       'Эстония', 'Литва, Россия, Украина', 'Германия, Италия, Франция',\n",
       "       'Великобритания, Австрия, Германия', 'Испания, Мальта',\n",
       "       'Франция, Россия, Румыния, Италия, Бельгия', 'Россия, Польша',\n",
       "       'США, Аргентина', 'Великобритания ', 'Израиль, США, Франция',\n",
       "       'США, Новая Зеландия, Япония', 'Франция, Чехия, Великобритания',\n",
       "       'Германия, Франция, Великобритания', 'США, Гонконг, Китай',\n",
       "       'США, Великобритания, Германия', 'США, Канада, Австралия',\n",
       "       'Япония, США, Франция', 'Франция, Испания, Германия',\n",
       "       'США, Хорватия, Босния, Герцеговина',\n",
       "       'Великобритания, Чехия, Франция, Италия',\n",
       "       'США, Германия, Нидерланды', 'Германия, Франция, Канада',\n",
       "       'Франция, Грузия, Германия, Россия, Украина, Бельгия',\n",
       "       'Великобритания, Франция, Италия', 'Франция, Италия, Иран',\n",
       "       'Греция', 'Дания, США', 'США, Германия, Австралия',\n",
       "       'США, Канада, Италия', 'США, Япония, Германия',\n",
       "       'Франция, Великобритания, Багамские острова, США',\n",
       "       'Швейцария, Люксембург', 'Швейцария, Австрия',\n",
       "       'Германия, Швейцария', 'Дания, Швеция, Франция, Германия',\n",
       "       'Польша', 'Бразилия, Канада, США', 'Нидерланды, Россия',\n",
       "       'Португалия', 'Франция, Аргентина', 'Швеция, Франция',\n",
       "       'Франция, Украина', 'Германия, Украина, Нидерланды',\n",
       "       'Италия, Швейцария', 'Латвия, Россия',\n",
       "       'Германия, Франция, Великобритания, США', 'Канада, Италия',\n",
       "       'США, Объединенные Арабские Эмираты', 'США, Венгрия', 'Малайзия',\n",
       "       'Россия, Германия, Украина', 'США, Австралия, Мексика',\n",
       "       'Литва, Венгрия', 'Германия, Китай', 'Казахстан',\n",
       "       'Республика Корея',\n",
       "       'США, Германия, Франция, Великобритания, Канада ',\n",
       "       'Бельгия, Германия, Люксембург, Франция', 'Франция, Греция',\n",
       "       'Италия, Канада', 'США, Италия, Греция',\n",
       "       'Германия, США, Великобритания, Ирландия',\n",
       "       'Германия, Нидерланды, ЮАР',\n",
       "       'США, Япония, Германия, Великобритания, Нидерланды',\n",
       "       'США, Япония, Германия, Великобритания',\n",
       "       'Таиланд, Великобритания, Франция, Германия, Испания, Нидерланды',\n",
       "       'Германия, Италия, Швейцария',\n",
       "       'Дания, Швеция, Великобритания, Франция, Германия, Нидерланды, Норвегия, Финляндия',\n",
       "       'Франция, Великобритания, Нидерланды, Люксембург',\n",
       "       'Нидерланды, Великобритания, Франция, Италия, Япония',\n",
       "       'Великобритания, Нидерланды, Франция, США', 'Канада, Мексика',\n",
       "       'Канада, Южная Корея, США',\n",
       "       'Великобритания, Франция, Бельгия, США', 'КНР, Канада, США',\n",
       "       'Италия, Франция, Германия', 'Швеция, Германия, Франция, Дания',\n",
       "       'Франция, США, Бельгия', 'Украина, Германия, Латвия, Эстония',\n",
       "       'Австрия, Люксембург', 'Великобритания, КНР', 'Монголия',\n",
       "       'Франция, Дания', 'Швеция, Дания, Финляндия',\n",
       "       'Сингапур, Великобритания, Индонезия, Канада, США',\n",
       "       'США, Германия, Япония', 'Таиланд, США', 'Франция, Нидерланды',\n",
       "       'Великобритания, Румыния',\n",
       "       'Великобритания, Германия, Нидерланды, Дания',\n",
       "       'Франция, Германия, Литва, Нидерланды, Россия',\n",
       "       'США, ЮАР, Гонконг', 'Австралия, Колумбия',\n",
       "       'Великобритания, Польша', 'США, Великобритания, Швеция',\n",
       "       'Франция, Швеция, Дания, Норвегия', 'Болгария, США', 'СССР, ФРГ',\n",
       "       'Бельгия, Нидерланды, Франция', 'Финляндия, Германия', 'Болгария',\n",
       "       'Грузия, Россия, Украина, Хорватия, Германия',\n",
       "       'Франция, Люксембург', 'Франция, Германия, Австрия',\n",
       "       'Норвегия, США', 'Германия, Швеция',\n",
       "       'Великобритания, Ирландия, США ', 'Дания, Латвия, Россия, США',\n",
       "       'Финляндия, Польша', 'Германия, Бельгия',\n",
       "       'Германия, США, Франция, Испания',\n",
       "       'Бельгия, Германия, Канада, Франция, США, Великобритания',\n",
       "       'Нидерланды, Бельгия, Люксембург', 'Люксембург, Бельгия, Франция',\n",
       "       'Бельгия, Великобритания, США', 'Великобритания, Австралия',\n",
       "       'Исландия, Бельгия',\n",
       "       'Испания, Швейцария, Великобритания, Германия, Новая Зеландия, Нидерланды, Канада',\n",
       "       'Киргизия, Россия', 'Великобритания, США, Испания',\n",
       "       'Италия, Швейцария, Германия', 'Россия, Армения',\n",
       "       'Китай, Канада, США', 'США, Великобритания, Люксембург',\n",
       "       'Испания, Ирландия, Бельгия, Франция',\n",
       "       'Великобритания, Гонконг, Венгрия, США, Ирландия',\n",
       "       'США, Пуэрто Рико', 'Аргентина, Испания, Уругвай',\n",
       "       'Израиль, Германия, Франция, Швейцария',\n",
       "       'Великобритания, Мексика, США', 'Испания, Болгария, США',\n",
       "       'Россия, Словакия, Чехия',\n",
       "       'Швейцария, КНР, США, Россия, Республика Корея, Великобритания',\n",
       "       'Россия, Нидерланды, Финляндия',\n",
       "       'Испания, Бельгия, Франция, Португалия, Великобритания',\n",
       "       'Бразилия, Португалия, Франция', 'Швеция, Норвегия',\n",
       "       'Франция, Польша, Бельгия', 'CША', 'Китай, США',\n",
       "       'Германия, Австрия, Франция', 'Чехия, Словакия, Хорватия',\n",
       "       'Россия, Польша, Финляндия', 'Россия, Латвия, Чешская Республика',\n",
       "       'Франция, Великобритания, Камбоджа, США, КНР',\n",
       "       'Чехия, Испания, США', 'Германия, Люксембург, Дания',\n",
       "       'Великобритания, Испания, Германия', 'Дания, Исландия',\n",
       "       'Великобритания, Испания, Италия, Латвия, Франция, Эстония',\n",
       "       'Дания, Швеция, Великобритания, Франция, Германия, Норвегия, Финляндия, Нидерланды, Италия',\n",
       "       'Польша, Франция, Великобритания',\n",
       "       'Дания, Норвегия, Венгрия, Чехия',\n",
       "       'Дания, Франция, Германия, Швеция', 'Великобритания, Швеция, США',\n",
       "       'Канада, Франция, Италия, Швейцария, США',\n",
       "       'США, Великобритания, Германия, ,  Швеция, Канада',\n",
       "       'Республика Беларусь, Германия, США, Россия',\n",
       "       'Италия, Швейцария, Франция, Германия ',\n",
       "       'Россия, Франция, Великобритания, Латвия', 'Россия, Беларусь',\n",
       "       'Франция, Испания, Румыния, США, Бельгия', 'Россия, Австрия',\n",
       "       'Ирландия, Великобритания, США',\n",
       "       'Швейцария, Великобритания, Франция, США, Ирландия',\n",
       "       'Мексика, Франция, Германия, Дания, Швеция', 'Нидерланды, Бельгия',\n",
       "       'Швеция, Норвегия, Финляндия, Франция', 'Испания, Франция, Италия',\n",
       "       'Испания, Франция, Греция, Индия, США, Россия, Великобритания',\n",
       "       'Великобритания, Япония, США',\n",
       "       'Дания, Канада, Норвегия, Австралия, США',\n",
       "       'Россия, Германия, Казахстан, Польша, Китай',\n",
       "       'Португалия, Франция, Польша, США', 'США, Канада, Аргентина',\n",
       "       'Ливан, США', 'Япония, США', 'США, Гонконг ',\n",
       "       'Франция, Россия, Швейцария, Румыния, Венгрия', 'Россия, Сербия',\n",
       "       'США, Болгария, Мексика',\n",
       "       'США, Великобритания, Швейцария, Франция', 'Таиланд, КНР, США',\n",
       "       'Великобритания, Нидерланды, Польша, Швейцария, Франция',\n",
       "       'Ирландия, США', 'Германия, Франция, Великобритания, Польша, США',\n",
       "       'США, Австралия, Индия', 'Великобритания, Израиль',\n",
       "       'Великобритания, Норвегия, Кения, Хорватия',\n",
       "       'США, Бразилия, Великобритания, Канада', 'Австралия, Канада',\n",
       "       'Кения, Германия', 'Колумбия', 'Латвия, Франция',\n",
       "       'Франция, Израиль, Германия', 'Швеция, Франция, Великобритания',\n",
       "       'Бельгия, Люксембург', 'Германия, Бельгия, Великобритания',\n",
       "       'Испания, Франция, Великобритания, Дания, Бельгия, Германия',\n",
       "       'Румыния, ЮАР, Иран, Франция, Канада, Великобритания',\n",
       "       'США, Великобритания, Ирландия, Люксембург', 'Республика Армения',\n",
       "       'США, Франция, Япония', 'Республика Кипр, Россия',\n",
       "       'Дания, Франция, Италия, Бельгия, Нидерланды', 'Россия, Грузия',\n",
       "       'Италия, Германия', 'Норвегия, Швеция, Дания',\n",
       "       'КНР, Индия, Гонконг, США', 'Израиль, Украина',\n",
       "       'США, КНР, Индия, Ю.Корея', 'США, Швеция', 'Россия, Китай',\n",
       "       'Канада, США, Каймановы острова',\n",
       "       'Бразилия, Уругвай, Дания, Норвегия, Чили, Швеция',\n",
       "       'Пуэрто, Рико, Великобритания, США', 'Уругвай, Аргентина, Испания',\n",
       "       'США, Великобритания, Италия, Израиль, Сербия, Индия',\n",
       "       'США, Канада, Франция, Индия', 'Великобритания, Россия, КНР',\n",
       "       'Франция, Новая Зеландия', 'Канада, США, Норвегия',\n",
       "       'Италия, Испания', 'Испания, Германия, Нидерланды',\n",
       "       'Бразилия, США, КНР ', 'Великобритания, Германия, Дания, США',\n",
       "       'Италия, Фрация, Бразилия, Германия', 'Норвегия, Швеция, Россия',\n",
       "       'Бельгия, Канада', 'КНР, США ', 'Франция, Финляндия',\n",
       "       'Колумбия, США', 'Норвегия, Нидерланды',\n",
       "       'Италия, Бельгия, Франция', 'Россия, Бельгия, Финляндия',\n",
       "       'Франция, Норвегия',\n",
       "       'Великобритания, Южная Корея, Канада, США, Индия, Китай, Япония',\n",
       "       'Канада, Норвегия', 'Польша, Франция, Испания, Бразилия, Швеция',\n",
       "       'Австрия, Великобритания, Германия', 'Франция, Сенегал, Бельгия',\n",
       "       'Финляндия, Латвия', 'Пакистан', 'Германия, Франция, США',\n",
       "       'Германия, Великобритания, США', 'КНР, Франция',\n",
       "       'Дания, Норвегия, Швеция, Исландия',\n",
       "       'Республика Кипр, США, Россия', 'Новая Зеландия, КНР',\n",
       "       'Дания, Канада, Швеция, Франция, Германия, Великобритания, США'],\n",
       "      dtype=object)"
      ]
     },
     "execution_count": 30,
     "metadata": {},
     "output_type": "execute_result"
    }
   ],
   "source": [
    "data['production_country'].unique()"
   ]
  },
  {
   "cell_type": "code",
   "execution_count": 31,
   "metadata": {},
   "outputs": [
    {
     "data": {
      "text/plain": [
       "array(['боевик,драма,мелодрама', 'драма,военный',\n",
       "       'фантастика,боевик,триллер', 'драма', 'мелодрама,комедия',\n",
       "       'мюзикл,мелодрама,комедия', 'комедия,криминал',\n",
       "       'боевик,триллер,детектив', 'боевик,драма,приключения',\n",
       "       'драма,спорт', 'триллер,драма,мелодрама', 'комедия,мелодрама',\n",
       "       'драма,мелодрама,комедия', 'драма,мелодрама', 'драма,история',\n",
       "       'драма,мелодрама,семейный', 'комедия,мелодрама,криминал',\n",
       "       'комедия', 'боевик,драма,криминал', 'драма,комедия',\n",
       "       'ужасы,фантастика,комедия', 'мультфильм,короткометражка,мелодрама',\n",
       "       'драма,криминал', 'мультфильм,фантастика,фэнтези',\n",
       "       'триллер,драма,криминал', 'драма,мелодрама,биография',\n",
       "       'драма,комедия,военный', 'фантастика,драма,детектив',\n",
       "       'мюзикл,семейный', nan, 'военный,приключения,драма',\n",
       "       'документальный,драма', 'драма,биография,история',\n",
       "       'боевик,триллер,драма', 'фэнтези,боевик',\n",
       "       'боевик,комедия,криминал', 'мюзикл,комедия,детский',\n",
       "       'комедия,мелодрама,драма', 'мультфильм,фэнтези,комедия',\n",
       "       'комедия,история', 'мелодрама', 'драма,биография,музыка',\n",
       "       'фэнтези,драма,мелодрама', 'триллер,военный',\n",
       "       'драма,мелодрама,военный', 'мюзикл,драма,мелодрама',\n",
       "       'мюзикл,комедия', 'мультфильм,приключения,семейный',\n",
       "       'ужасы,триллер', 'боевик,драма,военный', 'драма,боевик',\n",
       "       'мультфильм,драма,комедия', 'триллер,криминал',\n",
       "       'военный,биография,драма', 'комедия,семейный', 'военный',\n",
       "       'драма,семейный,биография', 'фэнтези,приключения,семейный',\n",
       "       'драма,криминал,биография', 'ужасы,триллер,детектив',\n",
       "       'боевик,история,драма', 'ужасы,триллер,драма',\n",
       "       'драма,криминал,спорт', 'документальный,короткометражка',\n",
       "       'триллер,драма', 'криминал,детектив,приключения',\n",
       "       'драма,комедия,криминал', 'драма,комедия,вестерн',\n",
       "       'драма,мелодрама,детектив', 'мелодрама,биография',\n",
       "       'фэнтези,мелодрама,драма', 'драма,мелодрама,история',\n",
       "       'комедия,приключения,история', 'приключения', 'драма,семейный',\n",
       "       'криминал,детектив', 'мультфильм,короткометражка,ужасы',\n",
       "       'фантастика,триллер,драма', 'фэнтези,мелодрама,комедия',\n",
       "       'драма,биография', 'комедия,криминал,история',\n",
       "       'триллер,драма,детектив', 'фантастика,комедия,приключения',\n",
       "       'фэнтези,семейный', 'ужасы,фантастика,боевик',\n",
       "       'мелодрама,криминал', 'комедия,приключения,мелодрама',\n",
       "       'боевик,триллер,приключения', 'боевик,приключения',\n",
       "       'боевик,триллер,криминал', 'документальный,военный,история',\n",
       "       'драма,музыка', 'боевик,драма', 'приключения,боевик',\n",
       "       'драма,военный,биография', 'триллер,драма,приключения',\n",
       "       'аниме,мультфильм,фэнтези', 'триллер,детектив,драма',\n",
       "       'боевик,триллер,мелодрама', 'боевик,история',\n",
       "       'приключения,история', 'драма,комедия,приключения',\n",
       "       'фэнтези,комедия,приключения', 'драма,вестерн',\n",
       "       'документальный,музыка', 'мелодрама,драма',\n",
       "       'триллер,криминал,детектив', 'ужасы', 'боевик,комедия,приключения',\n",
       "       'мультфильм,фэнтези,боевик', 'боевик,фэнтези,драма',\n",
       "       'фэнтези,драма', 'фэнтези,боевик,комедия',\n",
       "       'приключения,детский,комедия', 'документальный',\n",
       "       'боевик,триллер,комедия', 'мелодрама,комедия,криминал',\n",
       "       'драма,детектив', 'мюзикл,ужасы,триллер', 'детектив,триллер,ужасы',\n",
       "       'ужасы,фэнтези', 'ужасы,фэнтези,триллер', 'мультфильм,драма',\n",
       "       'ужасы,боевик,фантастика', 'боевик', 'фантастика,боевик',\n",
       "       'мелодрама,комедия,приключения', 'триллер,детектив',\n",
       "       'мюзикл,мелодрама,фэнтези', 'криминал', 'триллер,комедия,криминал',\n",
       "       'боевик,приключения,триллер', 'триллер,драма,военный',\n",
       "       'комедия,семейный,музыка', 'комедия,фантастика,мелодрама',\n",
       "       'фантастика,триллер,криминал', 'комедия,драма', 'боевик,военный',\n",
       "       'ужасы,фантастика,триллер', 'фантастика,драма,мелодрама',\n",
       "       'фэнтези,драма,детектив', 'боевик,триллер', 'боевик,драма,история',\n",
       "       'мультфильм,мюзикл,фэнтези', 'для взрослых,драма,мелодрама',\n",
       "       'мультфильм,боевик,детектив', 'фантастика,мелодрама,боевик',\n",
       "       'ужасы,фантастика,детектив', 'фантастика,боевик,приключения',\n",
       "       'мелодрама,комедия,спорт', 'комедия,боевик,приключения',\n",
       "       'документальный,приключения', 'мультфильм,короткометражка,детский',\n",
       "       'комедия,приключения', 'ужасы,драма', 'ужасы,фэнтези,боевик',\n",
       "       'мультфильм,фэнтези,детский', 'мюзикл,боевик,драма',\n",
       "       'семейный,комедия,драма', 'концерт,музыка', 'фэнтези,боевик,драма',\n",
       "       'драма,комедия,музыка', 'фантастика,фэнтези,боевик',\n",
       "       'фэнтези,комедия,семейный', 'фэнтези,драма,комедия',\n",
       "       'мультфильм,мюзикл,драма', 'триллер', 'боевик,криминал,триллер',\n",
       "       'мультфильм,приключения,драма', 'мелодрама,музыка',\n",
       "       'документальный,музыка,концерт', 'мультфильм,семейный',\n",
       "       'мультфильм,комедия,приключения', 'мультфильм,комедия,семейный',\n",
       "       'фантастика,драма', 'фэнтези,боевик,приключения',\n",
       "       'мультфильм,приключения', 'драма,военный,история', 'история',\n",
       "       'драма,приключения,военный',\n",
       "       'документальный,короткометражка,семейный',\n",
       "       'мелодрама,история,триллер', 'ужасы,детектив',\n",
       "       'мюзикл,комедия,приключения', 'драма,спорт,биография',\n",
       "       'фантастика,боевик,комедия', 'фантастика,приключения,детектив',\n",
       "       'короткометражка,драма,военный', 'драма,мультфильм',\n",
       "       'приключения,семейный', 'детектив', 'триллер,приключения',\n",
       "       'аниме,мультфильм,боевик', 'драма,комедия,биография',\n",
       "       'драма,комедия,спорт', 'боевик,мелодрама,комедия',\n",
       "       'семейный,комедия', 'фэнтези,боевик,триллер',\n",
       "       'документальный,фэнтези,семейный', 'фантастика,фэнтези,драма',\n",
       "       'ужасы,комедия,фэнтези', 'документальный,биография,музыка',\n",
       "       'фантастика,боевик,фэнтези', 'ужасы,боевик,триллер',\n",
       "       'комедия,криминал,семейный', 'приключения,драма',\n",
       "       'криминал,драма,триллер', 'драма,детектив,криминал',\n",
       "       'фэнтези,приключения,комедия', 'комедия,спорт',\n",
       "       'мюзикл,фэнтези,мелодрама', 'мультфильм,фэнтези,приключения',\n",
       "       'фантастика,фэнтези,приключения', 'фэнтези',\n",
       "       'фэнтези,приключения,боевик', 'фантастика,боевик,драма',\n",
       "       'криминал,драма', 'криминал,триллер,драма',\n",
       "       'драма,мелодрама,приключения', 'детский,комедия',\n",
       "       'фантастика,драма,боевик', 'мультфильм,семейный,фэнтези',\n",
       "       'концерт,музыка,документальный', 'ужасы,комедия,приключения',\n",
       "       'драма,мелодрама,криминал', 'ужасы,фантастика,фэнтези',\n",
       "       'боевик,комедия', 'мультфильм,фантастика,комедия', 'триллер,ужасы',\n",
       "       'мультфильм,мюзикл,комедия', 'мелодрама,фэнтези,триллер',\n",
       "       'детский,приключения,комедия', 'комедия,детектив',\n",
       "       'аниме,мультфильм,мелодрама', 'документальный,драма,семейный',\n",
       "       'документальный,биография,история', 'военный,боевик,драма',\n",
       "       'ужасы,комедия', 'комедия,приключения,семейный',\n",
       "       'приключения,биография,история', 'детский,приключения,семейный',\n",
       "       'спорт,драма,биография', 'аниме,мультфильм,ужасы',\n",
       "       'фантастика,боевик,криминал', 'мюзикл,драма',\n",
       "       'драма,криминал,детектив', 'аниме,мультфильм,драма',\n",
       "       'драма,триллер,приключения', 'триллер,криминал,драма',\n",
       "       'фэнтези,комедия,драма', 'мультфильм,комедия',\n",
       "       'драма,комедия,история', 'комедия,биография,история',\n",
       "       'мультфильм,фантастика,приключения', 'аниме,мультфильм,фантастика',\n",
       "       'мультфильм,фэнтези,семейный', 'мультфильм,боевик,комедия',\n",
       "       'комедия,криминал,спорт', 'документальный,мюзикл',\n",
       "       'мелодрама,комедия,музыка', 'биография',\n",
       "       'триллер,криминал,комедия', 'фантастика,драма,комедия',\n",
       "       'комедия,драма,мелодрама', 'фантастика,приключения,боевик',\n",
       "       'мультфильм,фэнтези,драма', 'триллер,комедия',\n",
       "       'драма,приключения,биография', 'фантастика,комедия',\n",
       "       'мелодрама,драма,комедия', 'боевик,криминал',\n",
       "       'драма,криминал,боевик', 'мультфильм,мюзикл,детский',\n",
       "       'драма,фэнтези', 'документальный,семейный',\n",
       "       'фэнтези,драма,приключения', 'ужасы,комедия,фантастика',\n",
       "       'драма,мелодрама,музыка', 'фэнтези,драма,семейный',\n",
       "       'триллер,мелодрама,драма', 'вестерн,боевик,драма',\n",
       "       'мультфильм,короткометражка,комедия', 'триллер,драма,история',\n",
       "       'ужасы,фантастика', 'ужасы,мелодрама,комедия',\n",
       "       'фэнтези,приключения', 'фантастика,триллер',\n",
       "       'ужасы,боевик,фэнтези', 'мультфильм,комедия,детский',\n",
       "       'триллер,драма,биография', 'мультфильм,ужасы,фэнтези',\n",
       "       'мультфильм,ужасы,фантастика', 'ужасы,боевик,комедия',\n",
       "       'драма,биография,спорт', 'мультфильм', 'мелодрама,комедия,драма',\n",
       "       'приключения,фантастика,семейный', 'комедия,криминал,детектив',\n",
       "       'ужасы,триллер,комедия', 'криминал,комедия,триллер',\n",
       "       'семейный,приключения,комедия', 'мультфильм,драма,приключения',\n",
       "       'ужасы,драма,детектив', 'драма,приключения,фэнтези',\n",
       "       'фантастика,мультфильм,драма', 'драма,триллер,детектив',\n",
       "       'драма,история,музыка', 'детский', 'триллер,боевик,криминал',\n",
       "       'драма,фантастика', 'комедия,драма,семейный',\n",
       "       'боевик,драма,комедия', 'комедия,ужасы',\n",
       "       'драма,фантастика,триллер', 'фантастика,драма,триллер',\n",
       "       'история,спорт,драма', 'документальный,биография',\n",
       "       'биография,история', 'спорт,драма', 'боевик,фэнтези',\n",
       "       'мультфильм,фэнтези', 'документальный,комедия,история',\n",
       "       'криминал,комедия,боевик', 'фэнтези,приключения,драма',\n",
       "       'музыка,концерт', 'триллер,драма,боевик',\n",
       "       'комедия,криминал,боевик', 'комедия,фантастика,боевик',\n",
       "       'вестерн,приключения,боевик', 'аниме,мультфильм,комедия',\n",
       "       'детектив,криминал,триллер', 'мультфильм,комедия,криминал',\n",
       "       'комедия,приключения,детектив', 'мелодрама,фантастика,драма',\n",
       "       'драма,комедия,семейный', 'приключения,фантастика',\n",
       "       'триллер,детектив,ужасы', 'комедия,приключения,фэнтези',\n",
       "       'фэнтези,триллер,драма', 'мелодрама,приключения,боевик',\n",
       "       'детектив,триллер,криминал', 'фэнтези,семейный,мелодрама',\n",
       "       'военный,драма', 'документальный,приключения,семейный',\n",
       "       'криминал,комедия,драма', 'комедия,фантастика',\n",
       "       'история,биография,драма', 'мелодрама,драма,музыка',\n",
       "       'боевик,мелодрама', 'комедия,криминал,триллер',\n",
       "       'детектив,триллер,боевик', 'комедия,боевик,криминал',\n",
       "       'комедия,вестерн', 'детский,мелодрама,семейный',\n",
       "       'короткометражка,мультфильм', 'комедия,фэнтези',\n",
       "       'фантастика,драма,ужасы', 'триллер,драма,ужасы',\n",
       "       'драма,фэнтези,история', 'комедия,драма,короткометражка',\n",
       "       'фэнтези,триллер,приключения', 'семейный',\n",
       "       'комедия,криминал,драма', 'комедия,фэнтези,ужасы',\n",
       "       'короткометражка,комедия,криминал', 'фантастика',\n",
       "       'триллер,ужасы,драма', 'мелодрама,драма,фэнтези',\n",
       "       'фантастика,приключения,драма', 'боевик,детектив',\n",
       "       'военный,драма,боевик', 'комедия,мелодрама,фэнтези',\n",
       "       'вестерн,криминал,триллер', 'драма,история,триллер',\n",
       "       'мультфильм,фантастика,боевик', 'детектив,драма,криминал',\n",
       "       'приключения,история,драма', 'мультфильм,семейный,детский',\n",
       "       'биография,драма,история', 'триллер,криминал,боевик',\n",
       "       'история,мелодрама', 'приключения,детский',\n",
       "       'музыка,приключения,концерт', 'военный,драма,комедия',\n",
       "       'фэнтези,боевик,военный', 'фантастика,детектив,боевик',\n",
       "       'мультфильм,фэнтези,история', 'биография,мелодрама,драма',\n",
       "       'документальный,биография,спорт', 'фантастика,комедия,детектив',\n",
       "       'музыка,концерт,документальный', 'триллер,боевик,приключения',\n",
       "       'триллер,драма,комедия', 'детектив,криминал',\n",
       "       'мультфильм,приключения,фэнтези', 'мелодрама,приключения',\n",
       "       'комедия,музыка', 'мелодрама,комедия,ужасы',\n",
       "       'драма,криминал,приключения', 'приключения,детектив,мелодрама',\n",
       "       'драма,криминал,фантастика', 'фэнтези,драма,биография',\n",
       "       'детектив,фантастика,криминал', 'триллер,драма,фантастика',\n",
       "       'ужасы,комедия,боевик', 'мелодрама,история', 'триллер,боевик',\n",
       "       'фильм, нуар,триллер,детектив', 'комедия,криминал,приключения',\n",
       "       'ужасы,триллер,мелодрама', 'военный,драма,история',\n",
       "       'драма,спорт,история', 'документальный,драма,история',\n",
       "       'триллер,мелодрама,детектив', 'детский,семейный',\n",
       "       'мюзикл,семейный,драма', 'биография,военный,драма',\n",
       "       'мультфильм,детский', 'боевик,криминал,драма',\n",
       "       'детектив,фэнтези,триллер', 'драма,боевик,приключения',\n",
       "       'драма,мелодрама,фэнтези', 'детектив,история,драма',\n",
       "       'фэнтези,боевик,ужасы', 'ужасы,фэнтези,мелодрама',\n",
       "       'ужасы,приключения', 'боевик,фантастика',\n",
       "       'ужасы,мелодрама,детектив', 'фантастика,триллер,приключения',\n",
       "       'боевик,приключения,история', 'приключения,боевик,триллер',\n",
       "       'детектив,ужасы,криминал', 'семейный,фэнтези', 'мюзикл,мелодрама',\n",
       "       'драма,военный,приключения', 'фантастика,драма,приключения',\n",
       "       'приключения,семейный,драма', 'история,драма,боевик',\n",
       "       'мультфильм,приключения,комедия', 'криминал,драма,комедия',\n",
       "       'ужасы,комедия,драма', 'комедия,семейный,приключения',\n",
       "       'мюзикл,фэнтези,драма', 'драма,вестерн,боевик',\n",
       "       'фантастика,триллер,детектив', 'драма,история,детектив',\n",
       "       'короткометражка,биография', 'мультфильм,приключения,фантастика',\n",
       "       'комедия,триллер', 'мультфильм,приключения,детектив',\n",
       "       'драма,триллер', 'ужасы,триллер,криминал',\n",
       "       'документальный,криминал,военный', 'ужасы,фэнтези,драма',\n",
       "       'фэнтези,комедия', 'ужасы,фэнтези,комедия', 'комедия,музыка,драма',\n",
       "       'мультфильм,приключения,военный', 'мюзикл,фэнтези,комедия',\n",
       "       'боевик,фантастика,приключения', 'триллер,ужасы,криминал',\n",
       "       'ужасы,фантастика,драма', 'фантастика,приключения,семейный',\n",
       "       'короткометражка,музыка', 'мелодрама,детектив,комедия',\n",
       "       'документальный,триллер,биография', 'боевик,фантастика,триллер',\n",
       "       'спорт,драма,комедия', 'фэнтези,мелодрама,приключения',\n",
       "       'триллер,детектив,криминал', 'короткометражка,мелодрама',\n",
       "       'мультфильм,семейный,спорт', 'комедия,фэнтези,мелодрама',\n",
       "       'драма,спорт,комедия', 'история,драма,мелодрама',\n",
       "       'драма,боевик,криминал', 'драма,комедия,триллер',\n",
       "       'аниме,мультфильм', 'документальный,ужасы',\n",
       "       'мультфильм,короткометражка', 'драма,история,военный',\n",
       "       'мультфильм,короткометражка,фэнтези', 'комедия,военный,музыка',\n",
       "       'биография,история,драма', 'ужасы,драма,мелодрама',\n",
       "       'драма,комедия,детектив', 'комедия,семейный,фантастика',\n",
       "       'мультфильм,семейный,комедия', 'история,детектив',\n",
       "       'приключения,мелодрама,детектив', 'мюзикл,комедия,мелодрама',\n",
       "       'драма,фантастика,ужасы', 'мультфильм,ужасы,комедия',\n",
       "       'для взрослых,драма,комедия', 'ужасы,комедия,музыка',\n",
       "       'комедия,история,драма', 'семейный,детектив,детский',\n",
       "       'короткометражка,драма', 'документальный,новости,драма',\n",
       "       'триллер,мелодрама', 'ужасы,драма,вестерн',\n",
       "       'мюзикл,фэнтези,семейный', 'вестерн,драма,триллер',\n",
       "       'приключения,вестерн,боевик', 'семейный,комедия,музыка',\n",
       "       'боевик,драма,вестерн', 'ужасы,драма,триллер',\n",
       "       'фантастика,мелодрама', 'комедия,криминал,биография',\n",
       "       'семейный,мультфильм,комедия', 'комедия,драма,криминал',\n",
       "       'фантастика,боевик,военный', 'приключения,биография,драма',\n",
       "       'приключения,триллер,биография', 'криминал,боевик,триллер',\n",
       "       'боевик,вестерн,приключения', 'история,драма',\n",
       "       'фантастика,фэнтези,комедия', 'мультфильм,детский,комедия',\n",
       "       'мелодрама,комедия,триллер', 'документальный,боевик,приключения',\n",
       "       'драма,приключения', 'мелодрама,военный,драма', 'триллер,фэнтези',\n",
       "       'драма,триллер,биография', 'фэнтези,боевик,семейный',\n",
       "       'фантастика,триллер,комедия', 'документальный,фэнтези',\n",
       "       'комедия,мультфильм,фантастика', 'криминал,биография,комедия',\n",
       "       'биография,спорт,драма', 'приключения,военный',\n",
       "       'мультфильм,семейный,драма', 'документальный,фэнтези,драма',\n",
       "       'комедия,боевик,фантастика', 'семейный,приключения,военный',\n",
       "       'триллер,ужасы,детектив', 'короткометражка',\n",
       "       'мелодрама,триллер,история', 'документальный,история',\n",
       "       'мультфильм,приключения,детский', 'драма,комедия,мультфильм',\n",
       "       'военный,детектив', 'семейный,приключения,документальный',\n",
       "       'детский,фэнтези', 'документальный,комедия', 'комедия,биография',\n",
       "       'криминал,комедия', 'спорт,мелодрама,криминал',\n",
       "       'фантастика,комедия,боевик', 'боевик,приключения,детектив',\n",
       "       'детектив,триллер,драма', 'документальный,фантастика',\n",
       "       'мелодрама,комедия,семейный', 'мультфильм,мелодрама,комедия',\n",
       "       'драма,спорт,семейный', 'фантастика,мелодрама,фэнтези',\n",
       "       'мюзикл,комедия,музыка', 'фантастика,триллер,мелодрама',\n",
       "       'приключения,комедия,фэнтези', 'фэнтези,боевик,детектив',\n",
       "       'фэнтези,боевик,мелодрама', 'комедия,военный',\n",
       "       'драма,спорт,боевик', 'мультфильм,боевик,триллер',\n",
       "       'мелодрама,семейный', 'фантастика,боевик,детектив',\n",
       "       'драма,приключения,история', 'документальный,драма,музыка',\n",
       "       'фантастика,триллер,боевик', 'фэнтези,боевик,вестерн',\n",
       "       'драма,комедия,мелодрама', 'ужасы,фэнтези,приключения',\n",
       "       'триллер,фэнтези,драма', 'мультфильм,мюзикл,мелодрама',\n",
       "       'ужасы,триллер,фантастика', 'триллер,мелодрама,комедия',\n",
       "       'ужасы,комедия,семейный', 'комедия,приключения,музыка',\n",
       "       'документальный,комедия,криминал', 'мелодрама,детектив',\n",
       "       'детский,приключения,фантастика', 'короткометражка,боевик,драма',\n",
       "       'боевик,комедия,семейный', 'фантастика,боевик,мелодрама',\n",
       "       'фэнтези,триллер,мелодрама', 'драма,детектив,история',\n",
       "       'боевик,криминал,детектив', 'мультфильм,фэнтези,мелодрама',\n",
       "       'мелодрама,драма,боевик', 'драма,вестерн,приключения',\n",
       "       'драма,приключения,мелодрама', 'фэнтези,боевик,криминал',\n",
       "       'фантастика,комедия,семейный', 'детский,фэнтези,приключения',\n",
       "       'ужасы,боевик', 'фантастика,мелодрама,комедия',\n",
       "       'семейный,спорт,боевик', 'триллер,биография,драма',\n",
       "       'ужасы,драма,комедия', 'мультфильм,фэнтези,триллер', 'мюзикл',\n",
       "       'боевик,спорт,драма', 'комедия,приключения,вестерн',\n",
       "       'документальный,ужасы,боевик', 'фантастика,боевик,семейный',\n",
       "       'военный,история', 'ужасы,боевик,криминал', 'детектив,триллер',\n",
       "       'драма,семейный,комедия', 'драма,детектив,приключения',\n",
       "       'драма,криминал,история', 'приключения,триллер',\n",
       "       'боевик,драма,биография', 'драма,приключения,триллер',\n",
       "       'комедия,фэнтези,приключения', 'фантастика,боевик,ужасы',\n",
       "       'драма,комедия,фантастика', 'детектив,криминал,драма',\n",
       "       'боевик,триллер,фэнтези', 'приключения,детектив,семейный',\n",
       "       'ужасы,комедия,криминал', 'мультфильм,биография,драма',\n",
       "       'история,боевик,фэнтези', 'детектив,криминал,боевик',\n",
       "       'приключения,фэнтези', 'комедия,приключения,спорт',\n",
       "       'драма,биография,мюзикл', 'комедия,семейный,фэнтези',\n",
       "       'детектив,драма,триллер', 'боевик,приключения,семейный',\n",
       "       'биография,спорт,комедия', 'фантастика,приключения,военный',\n",
       "       'документальный,драма,биография', 'детектив,приключения,драма',\n",
       "       'аниме,мультфильм,приключения', 'семейный,приключения',\n",
       "       'ужасы,фэнтези,детектив', 'семейный,документальный',\n",
       "       'драма,приключения,семейный', 'приключения,история,военный',\n",
       "       'фэнтези,мелодрама', 'фэнтези,триллер,детектив',\n",
       "       'документальный,спорт,биография', 'комедия,триллер,драма',\n",
       "       'драма,ужасы', 'биография,музыка,драма', 'фэнтези,ужасы',\n",
       "       'детектив,мелодрама,фэнтези', 'боевик,военный,история',\n",
       "       'биография,драма,криминал', 'триллер,мелодрама,криминал',\n",
       "       'семейный,мелодрама', 'биография,драма', 'военный,история,драма',\n",
       "       'фантастика,детектив,фэнтези', 'детектив,приключения,триллер',\n",
       "       'фантастика,приключения', 'мультфильм,короткометражка,мюзикл',\n",
       "       'мультфильм,детский,семейный', 'документальный,драма,комедия',\n",
       "       'комедия,приключения,криминал', 'документальный,семейный,музыка',\n",
       "       'мелодрама,музыка,драма', 'детектив,фантастика,триллер',\n",
       "       'драма,мелодрама,триллер', 'биография,драма,военный',\n",
       "       'приключения,фантастика,драма', 'детектив,фильм, нуар,комедия',\n",
       "       'документальный,спорт', 'триллер,фантастика,драма',\n",
       "       'биография,документальный', 'ужасы,фантастика,мелодрама',\n",
       "       'детектив,комедия', 'история,биография,военный',\n",
       "       'криминал,мелодрама', 'драма,криминал,вестерн',\n",
       "       'мелодрама,семейный,приключения', 'триллер,ужасы,мелодрама',\n",
       "       'фэнтези,драма,фильм, нуар', 'детектив,мелодрама',\n",
       "       'комедия,драма,биография', 'драма,военный,боевик',\n",
       "       'драма,комедия,ужасы', 'фантастика,драма,криминал',\n",
       "       'документальный,музыка,биография', 'мультфильм,боевик,приключения',\n",
       "       'мультфильм,мелодрама,драма', 'боевик,военный,драма',\n",
       "       'фэнтези,семейный,приключения', 'детский,мультфильм,приключения',\n",
       "       'семейный,фэнтези,комедия', 'фэнтези,ужасы,триллер',\n",
       "       'ужасы,триллер,приключения', 'драма,боевик,история',\n",
       "       'фэнтези,комедия,детектив', 'история,приключения',\n",
       "       'аниме,мультфильм,короткометражка', 'драма,военный,триллер',\n",
       "       'биография,криминал,триллер', 'фантастика,фэнтези,детектив',\n",
       "       'вестерн,биография,драма', 'биография,музыка,мюзикл',\n",
       "       'драма,история,биография', 'приключения,драма,фантастика',\n",
       "       'комедия,фэнтези,криминал', 'биография,спорт,история',\n",
       "       'драма,криминал,семейный', 'детектив,боевик,история',\n",
       "       'ужасы,комедия,детектив', 'триллер,приключения,драма',\n",
       "       'фэнтези,комедия,криминал', 'триллер,криминал,приключения',\n",
       "       'комедия,детектив,приключения', 'фэнтези,драма,ужасы',\n",
       "       'ужасы,драма,военный', 'реальное ТВ', 'аниме,мультфильм,детектив',\n",
       "       'приключения,фэнтези,семейный', 'драма,биография,комедия',\n",
       "       'триллер,комедия,ужасы', 'музыка,мелодрама,фэнтези',\n",
       "       'мультфильм,история', 'мультфильм,комедия,фантастика',\n",
       "       'биография,криминал,драма', 'комедия,мелодрама,фантастика',\n",
       "       'криминал,боевик,комедия', 'история,криминал',\n",
       "       'детектив,комедия,драма', 'триллер,фантастика,боевик',\n",
       "       'криминал,боевик', 'комедия,драма,военный',\n",
       "       'драма,триллер,криминал', 'мультфильм,мелодрама,приключения',\n",
       "       'фантастика,фэнтези,триллер', 'короткометражка,драма,триллер',\n",
       "       'военный,боевик,история', 'боевик,драма,триллер',\n",
       "       'документальный,военный,драма', 'драма,криминал,фильм, нуар',\n",
       "       'мультфильм,детский,приключения', 'мелодрама,история,драма'],\n",
       "      dtype=object)"
      ]
     },
     "execution_count": 31,
     "metadata": {},
     "output_type": "execute_result"
    }
   ],
   "source": [
    "data['genres'].unique()"
   ]
  },
  {
   "cell_type": "code",
   "execution_count": 32,
   "metadata": {},
   "outputs": [
    {
     "data": {
      "text/plain": [
       "array(['боевик, драма, мелодрама', 'драма, военный',\n",
       "       'фантастика, боевик, триллер', 'драма', 'мелодрама, комедия',\n",
       "       'мюзикл, мелодрама, комедия', 'комедия, криминал',\n",
       "       'боевик, триллер, детектив', 'боевик, драма, приключения',\n",
       "       'драма, спорт', 'триллер, драма, мелодрама', 'комедия, мелодрама',\n",
       "       'драма, мелодрама, комедия', 'драма, мелодрама', 'драма, история',\n",
       "       'драма, мелодрама, семейный', 'комедия, мелодрама, криминал',\n",
       "       'комедия', 'боевик, драма, криминал', 'драма, комедия',\n",
       "       'ужасы, фантастика, комедия',\n",
       "       'мультфильм, короткометражка, мелодрама', 'драма, криминал',\n",
       "       'мультфильм, фантастика, фэнтези', 'триллер, драма, криминал',\n",
       "       'драма, мелодрама, биография', 'драма, комедия, военный',\n",
       "       'фантастика, драма, детектив', 'мюзикл, семейный', nan,\n",
       "       'военный, приключения, драма', 'документальный, драма',\n",
       "       'драма, биография, история', 'боевик, триллер, драма',\n",
       "       'фэнтези, боевик', 'боевик, комедия, криминал',\n",
       "       'мюзикл, комедия, детский', 'комедия, мелодрама, драма',\n",
       "       'мультфильм, фэнтези, комедия', 'комедия, история', 'мелодрама',\n",
       "       'драма, биография, музыка', 'фэнтези, драма, мелодрама',\n",
       "       'триллер, военный', 'драма, мелодрама, военный',\n",
       "       'мюзикл, драма, мелодрама', 'мюзикл, комедия',\n",
       "       'мультфильм, приключения, семейный', 'ужасы, триллер',\n",
       "       'боевик, драма, военный', 'драма, боевик',\n",
       "       'мультфильм, драма, комедия', 'триллер, криминал',\n",
       "       'военный, биография, драма', 'комедия, семейный', 'военный',\n",
       "       'драма, семейный, биография', 'фэнтези, приключения, семейный',\n",
       "       'драма, криминал, биография', 'ужасы, триллер, детектив',\n",
       "       'боевик, история, драма', 'ужасы, триллер, драма',\n",
       "       'драма, криминал, спорт', 'документальный, короткометражка',\n",
       "       'триллер, драма', 'криминал, детектив, приключения',\n",
       "       'драма, комедия, криминал', 'драма, комедия, вестерн',\n",
       "       'драма, мелодрама, детектив', 'мелодрама, биография',\n",
       "       'фэнтези, мелодрама, драма', 'драма, мелодрама, история',\n",
       "       'комедия, приключения, история', 'приключения', 'драма, семейный',\n",
       "       'криминал, детектив', 'мультфильм, короткометражка, ужасы',\n",
       "       'фантастика, триллер, драма', 'фэнтези, мелодрама, комедия',\n",
       "       'драма, биография', 'комедия, криминал, история',\n",
       "       'триллер, драма, детектив', 'фантастика, комедия, приключения',\n",
       "       'фэнтези, семейный', 'ужасы, фантастика, боевик',\n",
       "       'мелодрама, криминал', 'комедия, приключения, мелодрама',\n",
       "       'боевик, триллер, приключения', 'боевик, приключения',\n",
       "       'боевик, триллер, криминал', 'документальный, военный, история',\n",
       "       'драма, музыка', 'боевик, драма', 'приключения, боевик',\n",
       "       'драма, военный, биография', 'триллер, драма, приключения',\n",
       "       'аниме, мультфильм, фэнтези', 'триллер, детектив, драма',\n",
       "       'боевик, триллер, мелодрама', 'боевик, история',\n",
       "       'приключения, история', 'драма, комедия, приключения',\n",
       "       'фэнтези, комедия, приключения', 'драма, вестерн',\n",
       "       'документальный, музыка', 'мелодрама, драма',\n",
       "       'триллер, криминал, детектив', 'ужасы',\n",
       "       'боевик, комедия, приключения', 'мультфильм, фэнтези, боевик',\n",
       "       'боевик, фэнтези, драма', 'фэнтези, драма',\n",
       "       'фэнтези, боевик, комедия', 'приключения, детский, комедия',\n",
       "       'документальный', 'боевик, триллер, комедия',\n",
       "       'мелодрама, комедия, криминал', 'драма, детектив',\n",
       "       'мюзикл, ужасы, триллер', 'детектив, триллер, ужасы',\n",
       "       'ужасы, фэнтези', 'ужасы, фэнтези, триллер', 'мультфильм, драма',\n",
       "       'ужасы, боевик, фантастика', 'боевик', 'фантастика, боевик',\n",
       "       'мелодрама, комедия, приключения', 'триллер, детектив',\n",
       "       'мюзикл, мелодрама, фэнтези', 'криминал',\n",
       "       'триллер, комедия, криминал', 'боевик, приключения, триллер',\n",
       "       'триллер, драма, военный', 'комедия, семейный, музыка',\n",
       "       'комедия, фантастика, мелодрама', 'фантастика, триллер, криминал',\n",
       "       'комедия, драма', 'боевик, военный', 'ужасы, фантастика, триллер',\n",
       "       'фантастика, драма, мелодрама', 'фэнтези, драма, детектив',\n",
       "       'боевик, триллер', 'боевик, драма, история',\n",
       "       'мультфильм, мюзикл, фэнтези', 'для взрослых, драма, мелодрама',\n",
       "       'мультфильм, боевик, детектив', 'фантастика, мелодрама, боевик',\n",
       "       'ужасы, фантастика, детектив', 'фантастика, боевик, приключения',\n",
       "       'мелодрама, комедия, спорт', 'комедия, боевик, приключения',\n",
       "       'документальный, приключения',\n",
       "       'мультфильм, короткометражка, детский', 'комедия, приключения',\n",
       "       'ужасы, драма', 'ужасы, фэнтези, боевик',\n",
       "       'мультфильм, фэнтези, детский', 'мюзикл, боевик, драма',\n",
       "       'семейный, комедия, драма', 'концерт, музыка',\n",
       "       'фэнтези, боевик, драма', 'драма, комедия, музыка',\n",
       "       'фантастика, фэнтези, боевик', 'фэнтези, комедия, семейный',\n",
       "       'фэнтези, драма, комедия', 'мультфильм, мюзикл, драма', 'триллер',\n",
       "       'боевик, криминал, триллер', 'мультфильм, приключения, драма',\n",
       "       'мелодрама, музыка', 'документальный, музыка, концерт',\n",
       "       'мультфильм, семейный', 'мультфильм, комедия, приключения',\n",
       "       'мультфильм, комедия, семейный', 'фантастика, драма',\n",
       "       'фэнтези, боевик, приключения', 'мультфильм, приключения',\n",
       "       'драма, военный, история', 'история',\n",
       "       'драма, приключения, военный',\n",
       "       'документальный, короткометражка, семейный',\n",
       "       'мелодрама, история, триллер', 'ужасы, детектив',\n",
       "       'мюзикл, комедия, приключения', 'драма, спорт, биография',\n",
       "       'фантастика, боевик, комедия', 'фантастика, приключения, детектив',\n",
       "       'короткометражка, драма, военный', 'драма, мультфильм',\n",
       "       'приключения, семейный', 'детектив', 'триллер, приключения',\n",
       "       'аниме, мультфильм, боевик', 'драма, комедия, биография',\n",
       "       'драма, комедия, спорт', 'боевик, мелодрама, комедия',\n",
       "       'семейный, комедия', 'фэнтези, боевик, триллер',\n",
       "       'документальный, фэнтези, семейный', 'фантастика, фэнтези, драма',\n",
       "       'ужасы, комедия, фэнтези', 'документальный, биография, музыка',\n",
       "       'фантастика, боевик, фэнтези', 'ужасы, боевик, триллер',\n",
       "       'комедия, криминал, семейный', 'приключения, драма',\n",
       "       'криминал, драма, триллер', 'драма, детектив, криминал',\n",
       "       'фэнтези, приключения, комедия', 'комедия, спорт',\n",
       "       'мюзикл, фэнтези, мелодрама', 'мультфильм, фэнтези, приключения',\n",
       "       'фантастика, фэнтези, приключения', 'фэнтези',\n",
       "       'фэнтези, приключения, боевик', 'фантастика, боевик, драма',\n",
       "       'криминал, драма', 'криминал, триллер, драма',\n",
       "       'драма, мелодрама, приключения', 'детский, комедия',\n",
       "       'фантастика, драма, боевик', 'мультфильм, семейный, фэнтези',\n",
       "       'концерт, музыка, документальный', 'ужасы, комедия, приключения',\n",
       "       'драма, мелодрама, криминал', 'ужасы, фантастика, фэнтези',\n",
       "       'боевик, комедия', 'мультфильм, фантастика, комедия',\n",
       "       'триллер, ужасы', 'мультфильм, мюзикл, комедия',\n",
       "       'мелодрама, фэнтези, триллер', 'детский, приключения, комедия',\n",
       "       'комедия, детектив', 'аниме, мультфильм, мелодрама',\n",
       "       'документальный, драма, семейный',\n",
       "       'документальный, биография, история', 'военный, боевик, драма',\n",
       "       'ужасы, комедия', 'комедия, приключения, семейный',\n",
       "       'приключения, биография, история',\n",
       "       'детский, приключения, семейный', 'спорт, драма, биография',\n",
       "       'аниме, мультфильм, ужасы', 'фантастика, боевик, криминал',\n",
       "       'мюзикл, драма', 'драма, криминал, детектив',\n",
       "       'аниме, мультфильм, драма', 'драма, триллер, приключения',\n",
       "       'триллер, криминал, драма', 'фэнтези, комедия, драма',\n",
       "       'мультфильм, комедия', 'драма, комедия, история',\n",
       "       'комедия, биография, история',\n",
       "       'мультфильм, фантастика, приключения',\n",
       "       'аниме, мультфильм, фантастика', 'мультфильм, фэнтези, семейный',\n",
       "       'мультфильм, боевик, комедия', 'комедия, криминал, спорт',\n",
       "       'документальный, мюзикл', 'мелодрама, комедия, музыка',\n",
       "       'биография', 'триллер, криминал, комедия',\n",
       "       'фантастика, драма, комедия', 'комедия, драма, мелодрама',\n",
       "       'фантастика, приключения, боевик', 'мультфильм, фэнтези, драма',\n",
       "       'триллер, комедия', 'драма, приключения, биография',\n",
       "       'фантастика, комедия', 'мелодрама, драма, комедия',\n",
       "       'боевик, криминал', 'драма, криминал, боевик',\n",
       "       'мультфильм, мюзикл, детский', 'драма, фэнтези',\n",
       "       'документальный, семейный', 'фэнтези, драма, приключения',\n",
       "       'ужасы, комедия, фантастика', 'драма, мелодрама, музыка',\n",
       "       'фэнтези, драма, семейный', 'триллер, мелодрама, драма',\n",
       "       'вестерн, боевик, драма', 'мультфильм, короткометражка, комедия',\n",
       "       'триллер, драма, история', 'ужасы, фантастика',\n",
       "       'ужасы, мелодрама, комедия', 'фэнтези, приключения',\n",
       "       'фантастика, триллер', 'ужасы, боевик, фэнтези',\n",
       "       'мультфильм, комедия, детский', 'триллер, драма, биография',\n",
       "       'мультфильм, ужасы, фэнтези', 'мультфильм, ужасы, фантастика',\n",
       "       'ужасы, боевик, комедия', 'драма, биография, спорт', 'мультфильм',\n",
       "       'мелодрама, комедия, драма', 'приключения, фантастика, семейный',\n",
       "       'комедия, криминал, детектив', 'ужасы, триллер, комедия',\n",
       "       'криминал, комедия, триллер', 'семейный, приключения, комедия',\n",
       "       'мультфильм, драма, приключения', 'ужасы, драма, детектив',\n",
       "       'драма, приключения, фэнтези', 'фантастика, мультфильм, драма',\n",
       "       'драма, триллер, детектив', 'драма, история, музыка', 'детский',\n",
       "       'триллер, боевик, криминал', 'драма, фантастика',\n",
       "       'комедия, драма, семейный', 'боевик, драма, комедия',\n",
       "       'комедия, ужасы', 'драма, фантастика, триллер',\n",
       "       'фантастика, драма, триллер', 'история, спорт, драма',\n",
       "       'документальный, биография', 'биография, история', 'спорт, драма',\n",
       "       'боевик, фэнтези', 'мультфильм, фэнтези',\n",
       "       'документальный, комедия, история', 'криминал, комедия, боевик',\n",
       "       'фэнтези, приключения, драма', 'музыка, концерт',\n",
       "       'триллер, драма, боевик', 'комедия, криминал, боевик',\n",
       "       'комедия, фантастика, боевик', 'вестерн, приключения, боевик',\n",
       "       'аниме, мультфильм, комедия', 'детектив, криминал, триллер',\n",
       "       'мультфильм, комедия, криминал', 'комедия, приключения, детектив',\n",
       "       'мелодрама, фантастика, драма', 'драма, комедия, семейный',\n",
       "       'приключения, фантастика', 'триллер, детектив, ужасы',\n",
       "       'комедия, приключения, фэнтези', 'фэнтези, триллер, драма',\n",
       "       'мелодрама, приключения, боевик', 'детектив, триллер, криминал',\n",
       "       'фэнтези, семейный, мелодрама', 'военный, драма',\n",
       "       'документальный, приключения, семейный',\n",
       "       'криминал, комедия, драма', 'комедия, фантастика',\n",
       "       'история, биография, драма', 'мелодрама, драма, музыка',\n",
       "       'боевик, мелодрама', 'комедия, криминал, триллер',\n",
       "       'детектив, триллер, боевик', 'комедия, боевик, криминал',\n",
       "       'комедия, вестерн', 'детский, мелодрама, семейный',\n",
       "       'короткометражка, мультфильм', 'комедия, фэнтези',\n",
       "       'фантастика, драма, ужасы', 'триллер, драма, ужасы',\n",
       "       'драма, фэнтези, история', 'комедия, драма, короткометражка',\n",
       "       'фэнтези, триллер, приключения', 'семейный',\n",
       "       'комедия, криминал, драма', 'комедия, фэнтези, ужасы',\n",
       "       'короткометражка, комедия, криминал', 'фантастика',\n",
       "       'триллер, ужасы, драма', 'мелодрама, драма, фэнтези',\n",
       "       'фантастика, приключения, драма', 'боевик, детектив',\n",
       "       'военный, драма, боевик', 'комедия, мелодрама, фэнтези',\n",
       "       'вестерн, криминал, триллер', 'драма, история, триллер',\n",
       "       'мультфильм, фантастика, боевик', 'детектив, драма, криминал',\n",
       "       'приключения, история, драма', 'мультфильм, семейный, детский',\n",
       "       'биография, драма, история', 'триллер, криминал, боевик',\n",
       "       'история, мелодрама', 'приключения, детский',\n",
       "       'музыка, приключения, концерт', 'военный, драма, комедия',\n",
       "       'фэнтези, боевик, военный', 'фантастика, детектив, боевик',\n",
       "       'мультфильм, фэнтези, история', 'биография, мелодрама, драма',\n",
       "       'документальный, биография, спорт',\n",
       "       'фантастика, комедия, детектив', 'музыка, концерт, документальный',\n",
       "       'триллер, боевик, приключения', 'триллер, драма, комедия',\n",
       "       'детектив, криминал', 'мультфильм, приключения, фэнтези',\n",
       "       'мелодрама, приключения', 'комедия, музыка',\n",
       "       'мелодрама, комедия, ужасы', 'драма, криминал, приключения',\n",
       "       'приключения, детектив, мелодрама', 'драма, криминал, фантастика',\n",
       "       'фэнтези, драма, биография', 'детектив, фантастика, криминал',\n",
       "       'триллер, драма, фантастика', 'ужасы, комедия, боевик',\n",
       "       'мелодрама, история', 'триллер, боевик',\n",
       "       'фильм,  нуар, триллер, детектив',\n",
       "       'комедия, криминал, приключения', 'ужасы, триллер, мелодрама',\n",
       "       'военный, драма, история', 'драма, спорт, история',\n",
       "       'документальный, драма, история', 'триллер, мелодрама, детектив',\n",
       "       'детский, семейный', 'мюзикл, семейный, драма',\n",
       "       'биография, военный, драма', 'мультфильм, детский',\n",
       "       'боевик, криминал, драма', 'детектив, фэнтези, триллер',\n",
       "       'драма, боевик, приключения', 'драма, мелодрама, фэнтези',\n",
       "       'детектив, история, драма', 'фэнтези, боевик, ужасы',\n",
       "       'ужасы, фэнтези, мелодрама', 'ужасы, приключения',\n",
       "       'боевик, фантастика', 'ужасы, мелодрама, детектив',\n",
       "       'фантастика, триллер, приключения', 'боевик, приключения, история',\n",
       "       'приключения, боевик, триллер', 'детектив, ужасы, криминал',\n",
       "       'семейный, фэнтези', 'мюзикл, мелодрама',\n",
       "       'драма, военный, приключения', 'фантастика, драма, приключения',\n",
       "       'приключения, семейный, драма', 'история, драма, боевик',\n",
       "       'мультфильм, приключения, комедия', 'криминал, драма, комедия',\n",
       "       'ужасы, комедия, драма', 'комедия, семейный, приключения',\n",
       "       'мюзикл, фэнтези, драма', 'драма, вестерн, боевик',\n",
       "       'фантастика, триллер, детектив', 'драма, история, детектив',\n",
       "       'короткометражка, биография',\n",
       "       'мультфильм, приключения, фантастика', 'комедия, триллер',\n",
       "       'мультфильм, приключения, детектив', 'драма, триллер',\n",
       "       'ужасы, триллер, криминал', 'документальный, криминал, военный',\n",
       "       'ужасы, фэнтези, драма', 'фэнтези, комедия',\n",
       "       'ужасы, фэнтези, комедия', 'комедия, музыка, драма',\n",
       "       'мультфильм, приключения, военный', 'мюзикл, фэнтези, комедия',\n",
       "       'боевик, фантастика, приключения', 'триллер, ужасы, криминал',\n",
       "       'ужасы, фантастика, драма', 'фантастика, приключения, семейный',\n",
       "       'короткометражка, музыка', 'мелодрама, детектив, комедия',\n",
       "       'документальный, триллер, биография',\n",
       "       'боевик, фантастика, триллер', 'спорт, драма, комедия',\n",
       "       'фэнтези, мелодрама, приключения', 'триллер, детектив, криминал',\n",
       "       'короткометражка, мелодрама', 'мультфильм, семейный, спорт',\n",
       "       'комедия, фэнтези, мелодрама', 'драма, спорт, комедия',\n",
       "       'история, драма, мелодрама', 'драма, боевик, криминал',\n",
       "       'драма, комедия, триллер', 'аниме, мультфильм',\n",
       "       'документальный, ужасы', 'мультфильм, короткометражка',\n",
       "       'драма, история, военный', 'мультфильм, короткометражка, фэнтези',\n",
       "       'комедия, военный, музыка', 'биография, история, драма',\n",
       "       'ужасы, драма, мелодрама', 'драма, комедия, детектив',\n",
       "       'комедия, семейный, фантастика', 'мультфильм, семейный, комедия',\n",
       "       'история, детектив', 'приключения, мелодрама, детектив',\n",
       "       'мюзикл, комедия, мелодрама', 'драма, фантастика, ужасы',\n",
       "       'мультфильм, ужасы, комедия', 'для взрослых, драма, комедия',\n",
       "       'ужасы, комедия, музыка', 'комедия, история, драма',\n",
       "       'семейный, детектив, детский', 'короткометражка, драма',\n",
       "       'документальный, новости, драма', 'триллер, мелодрама',\n",
       "       'ужасы, драма, вестерн', 'мюзикл, фэнтези, семейный',\n",
       "       'вестерн, драма, триллер', 'приключения, вестерн, боевик',\n",
       "       'семейный, комедия, музыка', 'боевик, драма, вестерн',\n",
       "       'ужасы, драма, триллер', 'фантастика, мелодрама',\n",
       "       'комедия, криминал, биография', 'семейный, мультфильм, комедия',\n",
       "       'комедия, драма, криминал', 'фантастика, боевик, военный',\n",
       "       'приключения, биография, драма', 'приключения, триллер, биография',\n",
       "       'криминал, боевик, триллер', 'боевик, вестерн, приключения',\n",
       "       'история, драма', 'фантастика, фэнтези, комедия',\n",
       "       'мультфильм, детский, комедия', 'мелодрама, комедия, триллер',\n",
       "       'документальный, боевик, приключения', 'драма, приключения',\n",
       "       'мелодрама, военный, драма', 'триллер, фэнтези',\n",
       "       'драма, триллер, биография', 'фэнтези, боевик, семейный',\n",
       "       'фантастика, триллер, комедия', 'документальный, фэнтези',\n",
       "       'комедия, мультфильм, фантастика', 'криминал, биография, комедия',\n",
       "       'биография, спорт, драма', 'приключения, военный',\n",
       "       'мультфильм, семейный, драма', 'документальный, фэнтези, драма',\n",
       "       'комедия, боевик, фантастика', 'семейный, приключения, военный',\n",
       "       'триллер, ужасы, детектив', 'короткометражка',\n",
       "       'мелодрама, триллер, история', 'документальный, история',\n",
       "       'мультфильм, приключения, детский', 'драма, комедия, мультфильм',\n",
       "       'военный, детектив', 'семейный, приключения, документальный',\n",
       "       'детский, фэнтези', 'документальный, комедия',\n",
       "       'комедия, биография', 'криминал, комедия',\n",
       "       'спорт, мелодрама, криминал', 'фантастика, комедия, боевик',\n",
       "       'боевик, приключения, детектив', 'детектив, триллер, драма',\n",
       "       'документальный, фантастика', 'мелодрама, комедия, семейный',\n",
       "       'мультфильм, мелодрама, комедия', 'драма, спорт, семейный',\n",
       "       'фантастика, мелодрама, фэнтези', 'мюзикл, комедия, музыка',\n",
       "       'фантастика, триллер, мелодрама', 'приключения, комедия, фэнтези',\n",
       "       'фэнтези, боевик, детектив', 'фэнтези, боевик, мелодрама',\n",
       "       'комедия, военный', 'драма, спорт, боевик',\n",
       "       'мультфильм, боевик, триллер', 'мелодрама, семейный',\n",
       "       'фантастика, боевик, детектив', 'драма, приключения, история',\n",
       "       'документальный, драма, музыка', 'фантастика, триллер, боевик',\n",
       "       'фэнтези, боевик, вестерн', 'драма, комедия, мелодрама',\n",
       "       'ужасы, фэнтези, приключения', 'триллер, фэнтези, драма',\n",
       "       'мультфильм, мюзикл, мелодрама', 'ужасы, триллер, фантастика',\n",
       "       'триллер, мелодрама, комедия', 'ужасы, комедия, семейный',\n",
       "       'комедия, приключения, музыка',\n",
       "       'документальный, комедия, криминал', 'мелодрама, детектив',\n",
       "       'детский, приключения, фантастика',\n",
       "       'короткометражка, боевик, драма', 'боевик, комедия, семейный',\n",
       "       'фантастика, боевик, мелодрама', 'фэнтези, триллер, мелодрама',\n",
       "       'драма, детектив, история', 'боевик, криминал, детектив',\n",
       "       'мультфильм, фэнтези, мелодрама', 'мелодрама, драма, боевик',\n",
       "       'драма, вестерн, приключения', 'драма, приключения, мелодрама',\n",
       "       'фэнтези, боевик, криминал', 'фантастика, комедия, семейный',\n",
       "       'детский, фэнтези, приключения', 'ужасы, боевик',\n",
       "       'фантастика, мелодрама, комедия', 'семейный, спорт, боевик',\n",
       "       'триллер, биография, драма', 'ужасы, драма, комедия',\n",
       "       'мультфильм, фэнтези, триллер', 'мюзикл', 'боевик, спорт, драма',\n",
       "       'комедия, приключения, вестерн', 'документальный, ужасы, боевик',\n",
       "       'фантастика, боевик, семейный', 'военный, история',\n",
       "       'ужасы, боевик, криминал', 'детектив, триллер',\n",
       "       'драма, семейный, комедия', 'драма, детектив, приключения',\n",
       "       'драма, криминал, история', 'приключения, триллер',\n",
       "       'боевик, драма, биография', 'драма, приключения, триллер',\n",
       "       'комедия, фэнтези, приключения', 'фантастика, боевик, ужасы',\n",
       "       'драма, комедия, фантастика', 'детектив, криминал, драма',\n",
       "       'боевик, триллер, фэнтези', 'приключения, детектив, семейный',\n",
       "       'ужасы, комедия, криминал', 'мультфильм, биография, драма',\n",
       "       'история, боевик, фэнтези', 'детектив, криминал, боевик',\n",
       "       'приключения, фэнтези', 'комедия, приключения, спорт',\n",
       "       'драма, биография, мюзикл', 'комедия, семейный, фэнтези',\n",
       "       'детектив, драма, триллер', 'боевик, приключения, семейный',\n",
       "       'биография, спорт, комедия', 'фантастика, приключения, военный',\n",
       "       'документальный, драма, биография', 'детектив, приключения, драма',\n",
       "       'аниме, мультфильм, приключения', 'семейный, приключения',\n",
       "       'ужасы, фэнтези, детектив', 'семейный, документальный',\n",
       "       'драма, приключения, семейный', 'приключения, история, военный',\n",
       "       'фэнтези, мелодрама', 'фэнтези, триллер, детектив',\n",
       "       'документальный, спорт, биография', 'комедия, триллер, драма',\n",
       "       'драма, ужасы', 'биография, музыка, драма', 'фэнтези, ужасы',\n",
       "       'детектив, мелодрама, фэнтези', 'боевик, военный, история',\n",
       "       'биография, драма, криминал', 'триллер, мелодрама, криминал',\n",
       "       'семейный, мелодрама', 'биография, драма',\n",
       "       'военный, история, драма', 'фантастика, детектив, фэнтези',\n",
       "       'детектив, приключения, триллер', 'фантастика, приключения',\n",
       "       'мультфильм, короткометражка, мюзикл',\n",
       "       'мультфильм, детский, семейный', 'документальный, драма, комедия',\n",
       "       'комедия, приключения, криминал',\n",
       "       'документальный, семейный, музыка', 'мелодрама, музыка, драма',\n",
       "       'детектив, фантастика, триллер', 'драма, мелодрама, триллер',\n",
       "       'биография, драма, военный', 'приключения, фантастика, драма',\n",
       "       'детектив, фильм,  нуар, комедия', 'документальный, спорт',\n",
       "       'триллер, фантастика, драма', 'биография, документальный',\n",
       "       'ужасы, фантастика, мелодрама', 'детектив, комедия',\n",
       "       'история, биография, военный', 'криминал, мелодрама',\n",
       "       'драма, криминал, вестерн', 'мелодрама, семейный, приключения',\n",
       "       'триллер, ужасы, мелодрама', 'фэнтези, драма, фильм,  нуар',\n",
       "       'детектив, мелодрама', 'комедия, драма, биография',\n",
       "       'драма, военный, боевик', 'драма, комедия, ужасы',\n",
       "       'фантастика, драма, криминал', 'документальный, музыка, биография',\n",
       "       'мультфильм, боевик, приключения', 'мультфильм, мелодрама, драма',\n",
       "       'боевик, военный, драма', 'фэнтези, семейный, приключения',\n",
       "       'детский, мультфильм, приключения', 'семейный, фэнтези, комедия',\n",
       "       'фэнтези, ужасы, триллер', 'ужасы, триллер, приключения',\n",
       "       'драма, боевик, история', 'фэнтези, комедия, детектив',\n",
       "       'история, приключения', 'аниме, мультфильм, короткометражка',\n",
       "       'драма, военный, триллер', 'биография, криминал, триллер',\n",
       "       'фантастика, фэнтези, детектив', 'вестерн, биография, драма',\n",
       "       'биография, музыка, мюзикл', 'драма, история, биография',\n",
       "       'приключения, драма, фантастика', 'комедия, фэнтези, криминал',\n",
       "       'биография, спорт, история', 'драма, криминал, семейный',\n",
       "       'детектив, боевик, история', 'ужасы, комедия, детектив',\n",
       "       'триллер, приключения, драма', 'фэнтези, комедия, криминал',\n",
       "       'триллер, криминал, приключения', 'комедия, детектив, приключения',\n",
       "       'фэнтези, драма, ужасы', 'ужасы, драма, военный', 'реальное ТВ',\n",
       "       'аниме, мультфильм, детектив', 'приключения, фэнтези, семейный',\n",
       "       'драма, биография, комедия', 'триллер, комедия, ужасы',\n",
       "       'музыка, мелодрама, фэнтези', 'мультфильм, история',\n",
       "       'мультфильм, комедия, фантастика', 'биография, криминал, драма',\n",
       "       'комедия, мелодрама, фантастика', 'криминал, боевик, комедия',\n",
       "       'история, криминал', 'детектив, комедия, драма',\n",
       "       'триллер, фантастика, боевик', 'криминал, боевик',\n",
       "       'комедия, драма, военный', 'драма, триллер, криминал',\n",
       "       'мультфильм, мелодрама, приключения',\n",
       "       'фантастика, фэнтези, триллер', 'короткометражка, драма, триллер',\n",
       "       'военный, боевик, история', 'боевик, драма, триллер',\n",
       "       'документальный, военный, драма', 'драма, криминал, фильм,  нуар',\n",
       "       'мультфильм, детский, приключения', 'мелодрама, история, драма'],\n",
       "      dtype=object)"
      ]
     },
     "execution_count": 32,
     "metadata": {},
     "output_type": "execute_result"
    }
   ],
   "source": [
    "data = data.apply(lambda x: x.replace({',' : ', '}, regex=True))\n",
    "\n",
    "data['genres'].unique()"
   ]
  },
  {
   "cell_type": "markdown",
   "metadata": {
    "id": "XFSN5lrEgFyR"
   },
   "source": [
    "#### Шаг 2.5. Проверьте количественные значения\n",
    "\n",
    "- Проверьте, обнаружились ли в таких столбцах подозрительные данные. Как с такими данными лучше поступить?\n",
    "\n",
    "<div id=\"accordion\">\n",
    "    <div class=\"card\">\n",
    "        <div class=\"card-header\" id=\"headingThree\">\n",
    "            <button class=\"btn btn-link collapsed\" data-toggle=\"collapse\" data-target=\"#collapseHint_budget\" aria-expanded=\"false\" aria-controls=\"collapseHint_budget\">Подсказка</button>\n",
    "        </div>\n",
    "        <div id=\"collapseHint_budget\" class=\"collapse\" aria-labelledby=\"headingThree\" data-parent=\"#accordion\">\n",
    "            <div class=\"card-body\">\n",
    "Обратите внимание на описание столбца <code>budget</code>. Как этот столбец соотносится с двумя другими: <code>refundable_support</code> и <code>nonrefundable_support</code>?\n",
    "            </div>\n",
    "        </div>\n",
    "    </div>\n",
    "</div>"
   ]
  },
  {
   "cell_type": "code",
   "execution_count": 33,
   "metadata": {
    "id": "YbzClBxagFyS"
   },
   "outputs": [
    {
     "data": {
      "image/png": "[encoded data removed]",
      "text/plain": [
       "<Figure size 720x360 with 1 Axes>"
      ]
     },
     "metadata": {
      "needs_background": "light"
     },
     "output_type": "display_data"
    }
   ],
   "source": [
    "data['refundable_support'].hist(bins=50, range=(0, 200_000_000), figsize=(10, 5));"
   ]
  },
  {
   "cell_type": "markdown",
   "metadata": {},
   "source": [
    "Взглянув на график мы сразу видим, что более двухсот фильмов имеют 0 в графе обязательных для возврата средств государственной поддержки. \n",
    "\n",
    "В основнов, сумма, выделенная госудраством на долговой основе не превышает 75 млн рублей. Но встречаются и выбросы - 180 млн. Делать с ними что либо не имеет смысло, так как это не повлияет на анализ данных."
   ]
  },
  {
   "cell_type": "code",
   "execution_count": 34,
   "metadata": {},
   "outputs": [
    {
     "data": {
      "image/png": "[encoded data removed]",
      "text/plain": [
       "<Figure size 720x360 with 1 Axes>"
      ]
     },
     "metadata": {
      "needs_background": "light"
     },
     "output_type": "display_data"
    }
   ],
   "source": [
    "data['nonrefundable_support'].hist(bins=50, range=(0, 500_000_000), figsize=(10, 5));"
   ]
  },
  {
   "cell_type": "markdown",
   "metadata": {},
   "source": [
    "Порядка 110 фильмов получили безвозмездную государственную поддержку в размере от 20 до 30 млн рублей. Далее - от 30 до 40 млн гос.поддержки получили более 80 фильмов. \n",
    "\n",
    "Выбросы так же присутствуют, но это снова не критично."
   ]
  },
  {
   "cell_type": "code",
   "execution_count": 35,
   "metadata": {},
   "outputs": [
    {
     "data": {
      "image/png": "[encoded data removed]",
      "text/plain": [
       "<Figure size 720x360 with 1 Axes>"
      ]
     },
     "metadata": {
      "needs_background": "light"
     },
     "output_type": "display_data"
    }
   ],
   "source": [
    "data['budget'].hist(bins=50, range=(1, 2_400_000_000), figsize=(10, 5));"
   ]
  },
  {
   "cell_type": "markdown",
   "metadata": {},
   "source": [
    "Почти 2.5 миллиарда на фильм?"
   ]
  },
  {
   "cell_type": "code",
   "execution_count": 36,
   "metadata": {},
   "outputs": [
    {
     "data": {
      "text/html": [
       "<div>\n",
       "<style scoped>\n",
       "    .dataframe tbody tr th:only-of-type {\n",
       "        vertical-align: middle;\n",
       "    }\n",
       "\n",
       "    .dataframe tbody tr th {\n",
       "        vertical-align: top;\n",
       "    }\n",
       "\n",
       "    .dataframe thead th {\n",
       "        text-align: right;\n",
       "    }\n",
       "</style>\n",
       "<table border=\"1\" class=\"dataframe\">\n",
       "  <thead>\n",
       "    <tr style=\"text-align: right;\">\n",
       "      <th></th>\n",
       "      <th>title</th>\n",
       "      <th>puNumber</th>\n",
       "      <th>show_start_date</th>\n",
       "      <th>type</th>\n",
       "      <th>film_studio</th>\n",
       "      <th>production_country</th>\n",
       "      <th>director</th>\n",
       "      <th>producer</th>\n",
       "      <th>age_restriction</th>\n",
       "      <th>refundable_support</th>\n",
       "      <th>nonrefundable_support</th>\n",
       "      <th>budget</th>\n",
       "      <th>financing_source</th>\n",
       "      <th>ratings</th>\n",
       "      <th>genres</th>\n",
       "      <th>box_office</th>\n",
       "    </tr>\n",
       "  </thead>\n",
       "  <tbody>\n",
       "    <tr>\n",
       "      <th>7088</th>\n",
       "      <td>Тайна Печати Дракона</td>\n",
       "      <td>111012819</td>\n",
       "      <td>2019-09-12 12:00:00+00:00</td>\n",
       "      <td>Художественный</td>\n",
       "      <td>ООО \"Кинокомпания \"СТВ\"; ООО \"РФГ Корп\"; ООО \"...</td>\n",
       "      <td>Россия,  Китай</td>\n",
       "      <td>О.Степченко</td>\n",
       "      <td>С.Сельянов,  А.Петрухин</td>\n",
       "      <td>«6+»,  для детей старше 6 лет</td>\n",
       "      <td>180000000</td>\n",
       "      <td>90000000</td>\n",
       "      <td>2305074303</td>\n",
       "      <td>Фонд кино</td>\n",
       "      <td>6</td>\n",
       "      <td>приключения, фэнтези</td>\n",
       "      <td>333597060</td>\n",
       "    </tr>\n",
       "  </tbody>\n",
       "</table>\n",
       "</div>"
      ],
      "text/plain": [
       "                     title   puNumber           show_start_date  \\\n",
       "7088  Тайна Печати Дракона  111012819 2019-09-12 12:00:00+00:00   \n",
       "\n",
       "                type                                        film_studio  \\\n",
       "7088  Художественный  ООО \"Кинокомпания \"СТВ\"; ООО \"РФГ Корп\"; ООО \"...   \n",
       "\n",
       "     production_country     director                 producer  \\\n",
       "7088     Россия,  Китай  О.Степченко  С.Сельянов,  А.Петрухин   \n",
       "\n",
       "                    age_restriction  refundable_support  \\\n",
       "7088  «6+»,  для детей старше 6 лет           180000000   \n",
       "\n",
       "      nonrefundable_support     budget financing_source  ratings  \\\n",
       "7088               90000000 2305074303        Фонд кино        6   \n",
       "\n",
       "                    genres  box_office  \n",
       "7088  приключения, фэнтези   333597060  "
      ]
     },
     "execution_count": 36,
     "metadata": {},
     "output_type": "execute_result"
    }
   ],
   "source": [
    "data.query('budget > 2_000_000_000')"
   ]
  },
  {
   "cell_type": "markdown",
   "metadata": {},
   "source": [
    "Да, такое кино действительно существует. Значит, это снова не случайный выброс - оставим такой экземпляр."
   ]
  },
  {
   "cell_type": "markdown",
   "metadata": {
    "id": "Eu6oWp2CgFyS"
   },
   "source": [
    "#### Шаг 2.6. Добавьте новые столбцы\n",
    "\n",
    "\n",
    "\n"
   ]
  },
  {
   "cell_type": "markdown",
   "metadata": {
    "id": "7GgW-UpAgFyS"
   },
   "source": [
    "- Создайте столбец с информацией о годе проката. Выделите год из даты премьеры фильма."
   ]
  },
  {
   "cell_type": "code",
   "execution_count": 37,
   "metadata": {
    "id": "I-yd1DkWgFyT"
   },
   "outputs": [
    {
     "data": {
      "text/html": [
       "<div>\n",
       "<style scoped>\n",
       "    .dataframe tbody tr th:only-of-type {\n",
       "        vertical-align: middle;\n",
       "    }\n",
       "\n",
       "    .dataframe tbody tr th {\n",
       "        vertical-align: top;\n",
       "    }\n",
       "\n",
       "    .dataframe thead th {\n",
       "        text-align: right;\n",
       "    }\n",
       "</style>\n",
       "<table border=\"1\" class=\"dataframe\">\n",
       "  <thead>\n",
       "    <tr style=\"text-align: right;\">\n",
       "      <th></th>\n",
       "      <th>title</th>\n",
       "      <th>puNumber</th>\n",
       "      <th>show_start_date</th>\n",
       "      <th>type</th>\n",
       "      <th>film_studio</th>\n",
       "      <th>production_country</th>\n",
       "      <th>director</th>\n",
       "      <th>producer</th>\n",
       "      <th>age_restriction</th>\n",
       "      <th>refundable_support</th>\n",
       "      <th>nonrefundable_support</th>\n",
       "      <th>budget</th>\n",
       "      <th>financing_source</th>\n",
       "      <th>ratings</th>\n",
       "      <th>genres</th>\n",
       "      <th>box_office</th>\n",
       "      <th>year_of_show</th>\n",
       "    </tr>\n",
       "  </thead>\n",
       "  <tbody>\n",
       "    <tr>\n",
       "      <th>0</th>\n",
       "      <td>Открытый простор</td>\n",
       "      <td>221048915</td>\n",
       "      <td>2015-11-27 12:00:00+00:00</td>\n",
       "      <td>Художественный</td>\n",
       "      <td>Тачстоун Пикчерз,  Кобальт Пикчерз,  Бикон Пик...</td>\n",
       "      <td>США</td>\n",
       "      <td>Кевин Костнер</td>\n",
       "      <td>Дэвид Валдес,  Кевин Костнер,  Джейк Эбертс</td>\n",
       "      <td>«18+»,  запрещено для детей</td>\n",
       "      <td>NaN</td>\n",
       "      <td>NaN</td>\n",
       "      <td>NaN</td>\n",
       "      <td>NaN</td>\n",
       "      <td>7</td>\n",
       "      <td>боевик, драма, мелодрама</td>\n",
       "      <td>NaN</td>\n",
       "      <td>2015</td>\n",
       "    </tr>\n",
       "    <tr>\n",
       "      <th>1</th>\n",
       "      <td>Особо важное задание</td>\n",
       "      <td>111013716</td>\n",
       "      <td>2016-09-13 12:00:00+00:00</td>\n",
       "      <td>Художественный</td>\n",
       "      <td>Киностудия \"Мосфильм\"</td>\n",
       "      <td>СССР</td>\n",
       "      <td>Е.Матвеев</td>\n",
       "      <td>NaN</td>\n",
       "      <td>«6+»,  для детей старше 6 лет</td>\n",
       "      <td>NaN</td>\n",
       "      <td>NaN</td>\n",
       "      <td>NaN</td>\n",
       "      <td>NaN</td>\n",
       "      <td>7</td>\n",
       "      <td>драма, военный</td>\n",
       "      <td>NaN</td>\n",
       "      <td>2016</td>\n",
       "    </tr>\n",
       "    <tr>\n",
       "      <th>2</th>\n",
       "      <td>Особо опасен</td>\n",
       "      <td>221038416</td>\n",
       "      <td>2016-10-10 12:00:00+00:00</td>\n",
       "      <td>Художественный</td>\n",
       "      <td>Юниверсал Пикчерз,  Кикстарт Продакшнз,  Марк ...</td>\n",
       "      <td>США</td>\n",
       "      <td>Тимур Бекмамбетов</td>\n",
       "      <td>Джим Лемли,  Джейсон Нетер,  Марк Е.Платт,  Яй...</td>\n",
       "      <td>«18+»,  запрещено для детей</td>\n",
       "      <td>NaN</td>\n",
       "      <td>NaN</td>\n",
       "      <td>NaN</td>\n",
       "      <td>NaN</td>\n",
       "      <td>7</td>\n",
       "      <td>фантастика, боевик, триллер</td>\n",
       "      <td>NaN</td>\n",
       "      <td>2016</td>\n",
       "    </tr>\n",
       "    <tr>\n",
       "      <th>3</th>\n",
       "      <td>Особо опасен</td>\n",
       "      <td>221026916</td>\n",
       "      <td>2016-06-10 12:00:00+00:00</td>\n",
       "      <td>Художественный</td>\n",
       "      <td>Юниверсал Пикчерз,  Кикстарт Продакшнз,  Марк ...</td>\n",
       "      <td>США</td>\n",
       "      <td>Тимур Бекмамбетов</td>\n",
       "      <td>Джим Лемли,  Джейсон Нетер,  Марк Е.Платт,  Яй...</td>\n",
       "      <td>«18+»,  запрещено для детей</td>\n",
       "      <td>NaN</td>\n",
       "      <td>NaN</td>\n",
       "      <td>NaN</td>\n",
       "      <td>NaN</td>\n",
       "      <td>7</td>\n",
       "      <td>фантастика, боевик, триллер</td>\n",
       "      <td>NaN</td>\n",
       "      <td>2016</td>\n",
       "    </tr>\n",
       "    <tr>\n",
       "      <th>4</th>\n",
       "      <td>Особо опасен</td>\n",
       "      <td>221030815</td>\n",
       "      <td>2015-07-29 12:00:00+00:00</td>\n",
       "      <td>Художественный</td>\n",
       "      <td>Юниверсал Пикчерз,  Кикстарт Продакшнз,  Марк ...</td>\n",
       "      <td>США</td>\n",
       "      <td>Тимур Бекмамбетов</td>\n",
       "      <td>Джим Лемли,  Джейсон Нетер,  Марк Е.Платт,  Яй...</td>\n",
       "      <td>«18+»,  запрещено для детей</td>\n",
       "      <td>NaN</td>\n",
       "      <td>NaN</td>\n",
       "      <td>NaN</td>\n",
       "      <td>NaN</td>\n",
       "      <td>7</td>\n",
       "      <td>фантастика, боевик, триллер</td>\n",
       "      <td>NaN</td>\n",
       "      <td>2015</td>\n",
       "    </tr>\n",
       "  </tbody>\n",
       "</table>\n",
       "</div>"
      ],
      "text/plain": [
       "                  title   puNumber           show_start_date            type  \\\n",
       "0      Открытый простор  221048915 2015-11-27 12:00:00+00:00  Художественный   \n",
       "1  Особо важное задание  111013716 2016-09-13 12:00:00+00:00  Художественный   \n",
       "2          Особо опасен  221038416 2016-10-10 12:00:00+00:00  Художественный   \n",
       "3          Особо опасен  221026916 2016-06-10 12:00:00+00:00  Художественный   \n",
       "4          Особо опасен  221030815 2015-07-29 12:00:00+00:00  Художественный   \n",
       "\n",
       "                                         film_studio production_country  \\\n",
       "0  Тачстоун Пикчерз,  Кобальт Пикчерз,  Бикон Пик...                США   \n",
       "1                              Киностудия \"Мосфильм\"               СССР   \n",
       "2  Юниверсал Пикчерз,  Кикстарт Продакшнз,  Марк ...                США   \n",
       "3  Юниверсал Пикчерз,  Кикстарт Продакшнз,  Марк ...                США   \n",
       "4  Юниверсал Пикчерз,  Кикстарт Продакшнз,  Марк ...                США   \n",
       "\n",
       "            director                                           producer  \\\n",
       "0      Кевин Костнер        Дэвид Валдес,  Кевин Костнер,  Джейк Эбертс   \n",
       "1          Е.Матвеев                                                NaN   \n",
       "2  Тимур Бекмамбетов  Джим Лемли,  Джейсон Нетер,  Марк Е.Платт,  Яй...   \n",
       "3  Тимур Бекмамбетов  Джим Лемли,  Джейсон Нетер,  Марк Е.Платт,  Яй...   \n",
       "4  Тимур Бекмамбетов  Джим Лемли,  Джейсон Нетер,  Марк Е.Платт,  Яй...   \n",
       "\n",
       "                 age_restriction  refundable_support  nonrefundable_support  \\\n",
       "0    «18+»,  запрещено для детей                 NaN                    NaN   \n",
       "1  «6+»,  для детей старше 6 лет                 NaN                    NaN   \n",
       "2    «18+»,  запрещено для детей                 NaN                    NaN   \n",
       "3    «18+»,  запрещено для детей                 NaN                    NaN   \n",
       "4    «18+»,  запрещено для детей                 NaN                    NaN   \n",
       "\n",
       "   budget financing_source  ratings                       genres  box_office  \\\n",
       "0     NaN              NaN        7     боевик, драма, мелодрама         NaN   \n",
       "1     NaN              NaN        7               драма, военный         NaN   \n",
       "2     NaN              NaN        7  фантастика, боевик, триллер         NaN   \n",
       "3     NaN              NaN        7  фантастика, боевик, триллер         NaN   \n",
       "4     NaN              NaN        7  фантастика, боевик, триллер         NaN   \n",
       "\n",
       "   year_of_show  \n",
       "0          2015  \n",
       "1          2016  \n",
       "2          2016  \n",
       "3          2016  \n",
       "4          2015  "
      ]
     },
     "execution_count": 37,
     "metadata": {},
     "output_type": "execute_result"
    }
   ],
   "source": [
    "data['year_of_show'] = data['show_start_date'].dt.year\n",
    "data.head(5)"
   ]
  },
  {
   "cell_type": "markdown",
   "metadata": {
    "id": "nFTDLDYOgFyT"
   },
   "source": [
    "- Создайте два столбца: с именем и фамилией главного режиссёра и основным жанром фильма. В столбцы войдут первые значения из списка режиссёров и жанров соответственно.\n",
    "\n",
    "<div id=\"accordion\">\n",
    "    <div class=\"card\">\n",
    "        <div class=\"card-header\" id=\"headingThree\">\n",
    "            <button class=\"btn btn-link collapsed\" data-toggle=\"collapse\" data-target=\"#collapseHint_2\" aria-expanded=\"false\" aria-controls=\"collapseHint_2\">Подсказка</button>\n",
    "        </div>\n",
    "        <div id=\"collapseHint_2\" class=\"collapse\" aria-labelledby=\"headingThree\" data-parent=\"#accordion\">\n",
    "            <div class=\"card-body\">\n",
    "Чтобы создать такие столбцы, лучше всего использовать собственную функцию. Эту функцию можно применить к двум столбцам сразу. \n",
    "            </div>\n",
    "        </div>\n",
    "    </div>\n",
    "</div>"
   ]
  },
  {
   "cell_type": "code",
   "execution_count": 38,
   "metadata": {
    "id": "LSbRZKbMgFyU"
   },
   "outputs": [
    {
     "data": {
      "text/html": [
       "<div>\n",
       "<style scoped>\n",
       "    .dataframe tbody tr th:only-of-type {\n",
       "        vertical-align: middle;\n",
       "    }\n",
       "\n",
       "    .dataframe tbody tr th {\n",
       "        vertical-align: top;\n",
       "    }\n",
       "\n",
       "    .dataframe thead th {\n",
       "        text-align: right;\n",
       "    }\n",
       "</style>\n",
       "<table border=\"1\" class=\"dataframe\">\n",
       "  <thead>\n",
       "    <tr style=\"text-align: right;\">\n",
       "      <th></th>\n",
       "      <th>title</th>\n",
       "      <th>puNumber</th>\n",
       "      <th>show_start_date</th>\n",
       "      <th>type</th>\n",
       "      <th>film_studio</th>\n",
       "      <th>production_country</th>\n",
       "      <th>director</th>\n",
       "      <th>producer</th>\n",
       "      <th>age_restriction</th>\n",
       "      <th>refundable_support</th>\n",
       "      <th>nonrefundable_support</th>\n",
       "      <th>budget</th>\n",
       "      <th>financing_source</th>\n",
       "      <th>ratings</th>\n",
       "      <th>genres</th>\n",
       "      <th>box_office</th>\n",
       "      <th>year_of_show</th>\n",
       "      <th>main_director</th>\n",
       "      <th>main_genre</th>\n",
       "    </tr>\n",
       "  </thead>\n",
       "  <tbody>\n",
       "    <tr>\n",
       "      <th>0</th>\n",
       "      <td>Открытый простор</td>\n",
       "      <td>221048915</td>\n",
       "      <td>2015-11-27 12:00:00+00:00</td>\n",
       "      <td>Художественный</td>\n",
       "      <td>Тачстоун Пикчерз,  Кобальт Пикчерз,  Бикон Пик...</td>\n",
       "      <td>США</td>\n",
       "      <td>Кевин Костнер</td>\n",
       "      <td>Дэвид Валдес,  Кевин Костнер,  Джейк Эбертс</td>\n",
       "      <td>«18+»,  запрещено для детей</td>\n",
       "      <td>NaN</td>\n",
       "      <td>NaN</td>\n",
       "      <td>NaN</td>\n",
       "      <td>NaN</td>\n",
       "      <td>7</td>\n",
       "      <td>боевик, драма, мелодрама</td>\n",
       "      <td>NaN</td>\n",
       "      <td>2015</td>\n",
       "      <td>Кевин Костнер</td>\n",
       "      <td>боевик</td>\n",
       "    </tr>\n",
       "    <tr>\n",
       "      <th>1</th>\n",
       "      <td>Особо важное задание</td>\n",
       "      <td>111013716</td>\n",
       "      <td>2016-09-13 12:00:00+00:00</td>\n",
       "      <td>Художественный</td>\n",
       "      <td>Киностудия \"Мосфильм\"</td>\n",
       "      <td>СССР</td>\n",
       "      <td>Е.Матвеев</td>\n",
       "      <td>NaN</td>\n",
       "      <td>«6+»,  для детей старше 6 лет</td>\n",
       "      <td>NaN</td>\n",
       "      <td>NaN</td>\n",
       "      <td>NaN</td>\n",
       "      <td>NaN</td>\n",
       "      <td>7</td>\n",
       "      <td>драма, военный</td>\n",
       "      <td>NaN</td>\n",
       "      <td>2016</td>\n",
       "      <td>Е.Матвеев</td>\n",
       "      <td>драма</td>\n",
       "    </tr>\n",
       "    <tr>\n",
       "      <th>2</th>\n",
       "      <td>Особо опасен</td>\n",
       "      <td>221038416</td>\n",
       "      <td>2016-10-10 12:00:00+00:00</td>\n",
       "      <td>Художественный</td>\n",
       "      <td>Юниверсал Пикчерз,  Кикстарт Продакшнз,  Марк ...</td>\n",
       "      <td>США</td>\n",
       "      <td>Тимур Бекмамбетов</td>\n",
       "      <td>Джим Лемли,  Джейсон Нетер,  Марк Е.Платт,  Яй...</td>\n",
       "      <td>«18+»,  запрещено для детей</td>\n",
       "      <td>NaN</td>\n",
       "      <td>NaN</td>\n",
       "      <td>NaN</td>\n",
       "      <td>NaN</td>\n",
       "      <td>7</td>\n",
       "      <td>фантастика, боевик, триллер</td>\n",
       "      <td>NaN</td>\n",
       "      <td>2016</td>\n",
       "      <td>Тимур Бекмамбетов</td>\n",
       "      <td>фантастика</td>\n",
       "    </tr>\n",
       "    <tr>\n",
       "      <th>3</th>\n",
       "      <td>Особо опасен</td>\n",
       "      <td>221026916</td>\n",
       "      <td>2016-06-10 12:00:00+00:00</td>\n",
       "      <td>Художественный</td>\n",
       "      <td>Юниверсал Пикчерз,  Кикстарт Продакшнз,  Марк ...</td>\n",
       "      <td>США</td>\n",
       "      <td>Тимур Бекмамбетов</td>\n",
       "      <td>Джим Лемли,  Джейсон Нетер,  Марк Е.Платт,  Яй...</td>\n",
       "      <td>«18+»,  запрещено для детей</td>\n",
       "      <td>NaN</td>\n",
       "      <td>NaN</td>\n",
       "      <td>NaN</td>\n",
       "      <td>NaN</td>\n",
       "      <td>7</td>\n",
       "      <td>фантастика, боевик, триллер</td>\n",
       "      <td>NaN</td>\n",
       "      <td>2016</td>\n",
       "      <td>Тимур Бекмамбетов</td>\n",
       "      <td>фантастика</td>\n",
       "    </tr>\n",
       "    <tr>\n",
       "      <th>4</th>\n",
       "      <td>Особо опасен</td>\n",
       "      <td>221030815</td>\n",
       "      <td>2015-07-29 12:00:00+00:00</td>\n",
       "      <td>Художественный</td>\n",
       "      <td>Юниверсал Пикчерз,  Кикстарт Продакшнз,  Марк ...</td>\n",
       "      <td>США</td>\n",
       "      <td>Тимур Бекмамбетов</td>\n",
       "      <td>Джим Лемли,  Джейсон Нетер,  Марк Е.Платт,  Яй...</td>\n",
       "      <td>«18+»,  запрещено для детей</td>\n",
       "      <td>NaN</td>\n",
       "      <td>NaN</td>\n",
       "      <td>NaN</td>\n",
       "      <td>NaN</td>\n",
       "      <td>7</td>\n",
       "      <td>фантастика, боевик, триллер</td>\n",
       "      <td>NaN</td>\n",
       "      <td>2015</td>\n",
       "      <td>Тимур Бекмамбетов</td>\n",
       "      <td>фантастика</td>\n",
       "    </tr>\n",
       "  </tbody>\n",
       "</table>\n",
       "</div>"
      ],
      "text/plain": [
       "                  title   puNumber           show_start_date            type  \\\n",
       "0      Открытый простор  221048915 2015-11-27 12:00:00+00:00  Художественный   \n",
       "1  Особо важное задание  111013716 2016-09-13 12:00:00+00:00  Художественный   \n",
       "2          Особо опасен  221038416 2016-10-10 12:00:00+00:00  Художественный   \n",
       "3          Особо опасен  221026916 2016-06-10 12:00:00+00:00  Художественный   \n",
       "4          Особо опасен  221030815 2015-07-29 12:00:00+00:00  Художественный   \n",
       "\n",
       "                                         film_studio production_country  \\\n",
       "0  Тачстоун Пикчерз,  Кобальт Пикчерз,  Бикон Пик...                США   \n",
       "1                              Киностудия \"Мосфильм\"               СССР   \n",
       "2  Юниверсал Пикчерз,  Кикстарт Продакшнз,  Марк ...                США   \n",
       "3  Юниверсал Пикчерз,  Кикстарт Продакшнз,  Марк ...                США   \n",
       "4  Юниверсал Пикчерз,  Кикстарт Продакшнз,  Марк ...                США   \n",
       "\n",
       "            director                                           producer  \\\n",
       "0      Кевин Костнер        Дэвид Валдес,  Кевин Костнер,  Джейк Эбертс   \n",
       "1          Е.Матвеев                                                NaN   \n",
       "2  Тимур Бекмамбетов  Джим Лемли,  Джейсон Нетер,  Марк Е.Платт,  Яй...   \n",
       "3  Тимур Бекмамбетов  Джим Лемли,  Джейсон Нетер,  Марк Е.Платт,  Яй...   \n",
       "4  Тимур Бекмамбетов  Джим Лемли,  Джейсон Нетер,  Марк Е.Платт,  Яй...   \n",
       "\n",
       "                 age_restriction  refundable_support  nonrefundable_support  \\\n",
       "0    «18+»,  запрещено для детей                 NaN                    NaN   \n",
       "1  «6+»,  для детей старше 6 лет                 NaN                    NaN   \n",
       "2    «18+»,  запрещено для детей                 NaN                    NaN   \n",
       "3    «18+»,  запрещено для детей                 NaN                    NaN   \n",
       "4    «18+»,  запрещено для детей                 NaN                    NaN   \n",
       "\n",
       "   budget financing_source  ratings                       genres  box_office  \\\n",
       "0     NaN              NaN        7     боевик, драма, мелодрама         NaN   \n",
       "1     NaN              NaN        7               драма, военный         NaN   \n",
       "2     NaN              NaN        7  фантастика, боевик, триллер         NaN   \n",
       "3     NaN              NaN        7  фантастика, боевик, триллер         NaN   \n",
       "4     NaN              NaN        7  фантастика, боевик, триллер         NaN   \n",
       "\n",
       "   year_of_show      main_director  main_genre  \n",
       "0          2015      Кевин Костнер      боевик  \n",
       "1          2016          Е.Матвеев       драма  \n",
       "2          2016  Тимур Бекмамбетов  фантастика  \n",
       "3          2016  Тимур Бекмамбетов  фантастика  \n",
       "4          2015  Тимур Бекмамбетов  фантастика  "
      ]
     },
     "execution_count": 38,
     "metadata": {},
     "output_type": "execute_result"
    }
   ],
   "source": [
    "def get_main(main_value):\n",
    "    if isinstance(main_value, str):\n",
    "        return main_value.split(',')[0]\n",
    "    else:\n",
    "        return main_value  \n",
    "    \n",
    "data['main_director'] = data['director'].apply(get_main)\n",
    "data['main_genre'] = data['genres'].apply(get_main)\n",
    "\n",
    "data.head(5)"
   ]
  },
  {
   "cell_type": "markdown",
   "metadata": {
    "id": "1FsCXHwdgFyU"
   },
   "source": [
    "- Посчитайте, какую долю от общего бюджета фильма составляет государственная поддержка."
   ]
  },
  {
   "cell_type": "code",
   "execution_count": 39,
   "metadata": {
    "id": "LV6qFuZLgFyV"
   },
   "outputs": [
    {
     "data": {
      "text/html": [
       "<div>\n",
       "<style scoped>\n",
       "    .dataframe tbody tr th:only-of-type {\n",
       "        vertical-align: middle;\n",
       "    }\n",
       "\n",
       "    .dataframe tbody tr th {\n",
       "        vertical-align: top;\n",
       "    }\n",
       "\n",
       "    .dataframe thead th {\n",
       "        text-align: right;\n",
       "    }\n",
       "</style>\n",
       "<table border=\"1\" class=\"dataframe\">\n",
       "  <thead>\n",
       "    <tr style=\"text-align: right;\">\n",
       "      <th></th>\n",
       "      <th>title</th>\n",
       "      <th>puNumber</th>\n",
       "      <th>show_start_date</th>\n",
       "      <th>type</th>\n",
       "      <th>film_studio</th>\n",
       "      <th>production_country</th>\n",
       "      <th>director</th>\n",
       "      <th>producer</th>\n",
       "      <th>age_restriction</th>\n",
       "      <th>refundable_support</th>\n",
       "      <th>nonrefundable_support</th>\n",
       "      <th>budget</th>\n",
       "      <th>financing_source</th>\n",
       "      <th>ratings</th>\n",
       "      <th>genres</th>\n",
       "      <th>box_office</th>\n",
       "      <th>year_of_show</th>\n",
       "      <th>main_director</th>\n",
       "      <th>main_genre</th>\n",
       "      <th>support_percent</th>\n",
       "    </tr>\n",
       "  </thead>\n",
       "  <tbody>\n",
       "    <tr>\n",
       "      <th>1280</th>\n",
       "      <td>Пока еще жива</td>\n",
       "      <td>111005313</td>\n",
       "      <td>2013-10-11 12:00:00+00:00</td>\n",
       "      <td>Художественный</td>\n",
       "      <td>АНО содействия развитию кинематографии \"Ангел,...</td>\n",
       "      <td>Россия</td>\n",
       "      <td>А.Атанесян</td>\n",
       "      <td>А.Атанесян,  М.Бабаханов,  Р.Бутко</td>\n",
       "      <td>«16+»,  для детей старше 16 лет</td>\n",
       "      <td>0</td>\n",
       "      <td>26500000</td>\n",
       "      <td>79411900</td>\n",
       "      <td>Министерство культуры</td>\n",
       "      <td>8</td>\n",
       "      <td>драма, мелодрама</td>\n",
       "      <td>365354</td>\n",
       "      <td>2013</td>\n",
       "      <td>А.Атанесян</td>\n",
       "      <td>драма</td>\n",
       "      <td>33</td>\n",
       "    </tr>\n",
       "    <tr>\n",
       "      <th>1446</th>\n",
       "      <td>Бесславные придурки</td>\n",
       "      <td>111003314</td>\n",
       "      <td>2014-03-28 12:00:00+00:00</td>\n",
       "      <td>Художественный</td>\n",
       "      <td>ООО \"Компания \"АТК,  Студио\"</td>\n",
       "      <td>Россия</td>\n",
       "      <td>А.Якимчук</td>\n",
       "      <td>А.Тютрюмов</td>\n",
       "      <td>«12+»,  для детей старше 12 лет</td>\n",
       "      <td>0</td>\n",
       "      <td>26000000</td>\n",
       "      <td>37142857</td>\n",
       "      <td>Министерство культуры</td>\n",
       "      <td>NaN</td>\n",
       "      <td>NaN</td>\n",
       "      <td>28140</td>\n",
       "      <td>2014</td>\n",
       "      <td>А.Якимчук</td>\n",
       "      <td>NaN</td>\n",
       "      <td>70</td>\n",
       "    </tr>\n",
       "    <tr>\n",
       "      <th>1496</th>\n",
       "      <td>Невидимки</td>\n",
       "      <td>111004213</td>\n",
       "      <td>2013-09-10 12:00:00+00:00</td>\n",
       "      <td>Художественный</td>\n",
       "      <td>ООО \"Компания \"РЕАЛ,  ДАКОТА\"</td>\n",
       "      <td>Россия</td>\n",
       "      <td>Р.Давлетьяров,  С.Комаров</td>\n",
       "      <td>Р.Давлетьяров,  А.Котелевский,  А.Олейников</td>\n",
       "      <td>«12+»,  для детей старше 12 лет</td>\n",
       "      <td>0</td>\n",
       "      <td>107847945</td>\n",
       "      <td>176023490</td>\n",
       "      <td>Фонд кино</td>\n",
       "      <td>5</td>\n",
       "      <td>комедия, фантастика</td>\n",
       "      <td>19957032</td>\n",
       "      <td>2013</td>\n",
       "      <td>Р.Давлетьяров</td>\n",
       "      <td>комедия</td>\n",
       "      <td>61</td>\n",
       "    </tr>\n",
       "    <tr>\n",
       "      <th>1522</th>\n",
       "      <td>БЕРЦЫ</td>\n",
       "      <td>111004314</td>\n",
       "      <td>2014-05-05 12:00:00+00:00</td>\n",
       "      <td>Художественный</td>\n",
       "      <td>ООО \"Студия \"Пассажир\"</td>\n",
       "      <td>Россия</td>\n",
       "      <td>Е.Миндадзе (псевдоним Катя Шагалова)</td>\n",
       "      <td>Л.Антонова</td>\n",
       "      <td>«16+»,  для детей старше 16 лет</td>\n",
       "      <td>0</td>\n",
       "      <td>28000000</td>\n",
       "      <td>40574140</td>\n",
       "      <td>Министерство культуры</td>\n",
       "      <td>4</td>\n",
       "      <td>драма</td>\n",
       "      <td>55918</td>\n",
       "      <td>2014</td>\n",
       "      <td>Е.Миндадзе (псевдоним Катя Шагалова)</td>\n",
       "      <td>драма</td>\n",
       "      <td>69</td>\n",
       "    </tr>\n",
       "    <tr>\n",
       "      <th>1789</th>\n",
       "      <td>Братья Ч</td>\n",
       "      <td>111004414</td>\n",
       "      <td>2014-04-23 12:00:00+00:00</td>\n",
       "      <td>Художественный</td>\n",
       "      <td>ООО \"Студия \"Пассажир\"</td>\n",
       "      <td>Россия</td>\n",
       "      <td>М.Угаров</td>\n",
       "      <td>А.Миндадзе,  Л.Антонова</td>\n",
       "      <td>«16+»,  для детей старше 16 лет</td>\n",
       "      <td>0</td>\n",
       "      <td>25000000</td>\n",
       "      <td>40015122</td>\n",
       "      <td>Министерство культуры</td>\n",
       "      <td>6</td>\n",
       "      <td>драма</td>\n",
       "      <td>232100</td>\n",
       "      <td>2014</td>\n",
       "      <td>М.Угаров</td>\n",
       "      <td>драма</td>\n",
       "      <td>62</td>\n",
       "    </tr>\n",
       "    <tr>\n",
       "      <th>...</th>\n",
       "      <td>...</td>\n",
       "      <td>...</td>\n",
       "      <td>...</td>\n",
       "      <td>...</td>\n",
       "      <td>...</td>\n",
       "      <td>...</td>\n",
       "      <td>...</td>\n",
       "      <td>...</td>\n",
       "      <td>...</td>\n",
       "      <td>...</td>\n",
       "      <td>...</td>\n",
       "      <td>...</td>\n",
       "      <td>...</td>\n",
       "      <td>...</td>\n",
       "      <td>...</td>\n",
       "      <td>...</td>\n",
       "      <td>...</td>\n",
       "      <td>...</td>\n",
       "      <td>...</td>\n",
       "      <td>...</td>\n",
       "    </tr>\n",
       "    <tr>\n",
       "      <th>7438</th>\n",
       "      <td>Союз спасения</td>\n",
       "      <td>111022019</td>\n",
       "      <td>2019-12-26 12:00:00+00:00</td>\n",
       "      <td>Художественный</td>\n",
       "      <td>ЗАО \"Дирекция кино\"</td>\n",
       "      <td>Россия</td>\n",
       "      <td>А.Кравчук</td>\n",
       "      <td>А.Максимов,  К.Эрнст</td>\n",
       "      <td>«12+»,  для детей старше 12 лет</td>\n",
       "      <td>100000000</td>\n",
       "      <td>400000000</td>\n",
       "      <td>980000000</td>\n",
       "      <td>Фонд кино</td>\n",
       "      <td>6</td>\n",
       "      <td>история, биография, драма</td>\n",
       "      <td>717703186</td>\n",
       "      <td>2019</td>\n",
       "      <td>А.Кравчук</td>\n",
       "      <td>история</td>\n",
       "      <td>51</td>\n",
       "    </tr>\n",
       "    <tr>\n",
       "      <th>7440</th>\n",
       "      <td>Иван Царевич и Серый Волк 4</td>\n",
       "      <td>114005019</td>\n",
       "      <td>2019-12-20 12:00:00+00:00</td>\n",
       "      <td>Анимационный</td>\n",
       "      <td>ООО \"Студия анимационного кино \"Мельница\"</td>\n",
       "      <td>Россия</td>\n",
       "      <td>Д.Шмидт,  К.Феоктистов</td>\n",
       "      <td>С.Сельянов,  А.Боярский</td>\n",
       "      <td>«6+»,  для детей старше 6 лет</td>\n",
       "      <td>100000000</td>\n",
       "      <td>0</td>\n",
       "      <td>190000000</td>\n",
       "      <td>Фонд кино</td>\n",
       "      <td>7</td>\n",
       "      <td>мультфильм, приключения, семейный</td>\n",
       "      <td>501069235</td>\n",
       "      <td>2019</td>\n",
       "      <td>Д.Шмидт</td>\n",
       "      <td>мультфильм</td>\n",
       "      <td>53</td>\n",
       "    </tr>\n",
       "    <tr>\n",
       "      <th>7448</th>\n",
       "      <td>Вторжение</td>\n",
       "      <td>111022519</td>\n",
       "      <td>2019-12-23 12:00:00+00:00</td>\n",
       "      <td>Художественный</td>\n",
       "      <td>ООО \"Арт Пикчерс Студия\",  ООО \"Водород 2011\"</td>\n",
       "      <td>Россия</td>\n",
       "      <td>Ф.Бондарчук</td>\n",
       "      <td>Ф.Бондарчук,  М.Врубель,  А.Андрющенко,  Д.Руд...</td>\n",
       "      <td>«12+»,  для детей старше 12 лет</td>\n",
       "      <td>100000000</td>\n",
       "      <td>400000000</td>\n",
       "      <td>944000000</td>\n",
       "      <td>Фонд кино</td>\n",
       "      <td>6</td>\n",
       "      <td>фантастика, боевик</td>\n",
       "      <td>NaN</td>\n",
       "      <td>2019</td>\n",
       "      <td>Ф.Бондарчук</td>\n",
       "      <td>фантастика</td>\n",
       "      <td>53</td>\n",
       "    </tr>\n",
       "    <tr>\n",
       "      <th>7450</th>\n",
       "      <td>Я свободен</td>\n",
       "      <td>111023019</td>\n",
       "      <td>2019-12-26 12:00:00+00:00</td>\n",
       "      <td>Художественный</td>\n",
       "      <td>АО \"ТПО \"Киностудия им. М.Горького\"</td>\n",
       "      <td>Россия</td>\n",
       "      <td>И.Северов</td>\n",
       "      <td>С.Зернов</td>\n",
       "      <td>«12+»,  для детей старше 12 лет</td>\n",
       "      <td>0</td>\n",
       "      <td>30000000</td>\n",
       "      <td>46154000</td>\n",
       "      <td>Министерство культуры</td>\n",
       "      <td>6</td>\n",
       "      <td>драма</td>\n",
       "      <td>NaN</td>\n",
       "      <td>2019</td>\n",
       "      <td>И.Северов</td>\n",
       "      <td>драма</td>\n",
       "      <td>65</td>\n",
       "    </tr>\n",
       "    <tr>\n",
       "      <th>7452</th>\n",
       "      <td>(Не)идеальный мужчина</td>\n",
       "      <td>111023119</td>\n",
       "      <td>2019-12-24 12:00:00+00:00</td>\n",
       "      <td>Художественный</td>\n",
       "      <td>ООО \"Нон,  Стоп Продакшн\"</td>\n",
       "      <td>Россия</td>\n",
       "      <td>М.Бальчюнас (псевдоним М.Вайсберг)</td>\n",
       "      <td>С.Мелькумов,  А.Роднянский,  М.Вайсберг,  Р.Ми...</td>\n",
       "      <td>«12+»,  для детей старше 12 лет</td>\n",
       "      <td>40000000</td>\n",
       "      <td>60000000</td>\n",
       "      <td>150147502</td>\n",
       "      <td>Фонд кино</td>\n",
       "      <td>4</td>\n",
       "      <td>комедия, фантастика, мелодрама</td>\n",
       "      <td>NaN</td>\n",
       "      <td>2019</td>\n",
       "      <td>М.Бальчюнас (псевдоним М.Вайсберг)</td>\n",
       "      <td>комедия</td>\n",
       "      <td>67</td>\n",
       "    </tr>\n",
       "  </tbody>\n",
       "</table>\n",
       "<p>315 rows × 20 columns</p>\n",
       "</div>"
      ],
      "text/plain": [
       "                            title   puNumber           show_start_date  \\\n",
       "1280                Пока еще жива  111005313 2013-10-11 12:00:00+00:00   \n",
       "1446          Бесславные придурки  111003314 2014-03-28 12:00:00+00:00   \n",
       "1496                    Невидимки  111004213 2013-09-10 12:00:00+00:00   \n",
       "1522                        БЕРЦЫ  111004314 2014-05-05 12:00:00+00:00   \n",
       "1789                     Братья Ч  111004414 2014-04-23 12:00:00+00:00   \n",
       "...                           ...        ...                       ...   \n",
       "7438                Союз спасения  111022019 2019-12-26 12:00:00+00:00   \n",
       "7440  Иван Царевич и Серый Волк 4  114005019 2019-12-20 12:00:00+00:00   \n",
       "7448                    Вторжение  111022519 2019-12-23 12:00:00+00:00   \n",
       "7450                   Я свободен  111023019 2019-12-26 12:00:00+00:00   \n",
       "7452        (Не)идеальный мужчина  111023119 2019-12-24 12:00:00+00:00   \n",
       "\n",
       "                type                                        film_studio  \\\n",
       "1280  Художественный  АНО содействия развитию кинематографии \"Ангел,...   \n",
       "1446  Художественный                       ООО \"Компания \"АТК,  Студио\"   \n",
       "1496  Художественный                      ООО \"Компания \"РЕАЛ,  ДАКОТА\"   \n",
       "1522  Художественный                             ООО \"Студия \"Пассажир\"   \n",
       "1789  Художественный                             ООО \"Студия \"Пассажир\"   \n",
       "...              ...                                                ...   \n",
       "7438  Художественный                                ЗАО \"Дирекция кино\"   \n",
       "7440    Анимационный          ООО \"Студия анимационного кино \"Мельница\"   \n",
       "7448  Художественный      ООО \"Арт Пикчерс Студия\",  ООО \"Водород 2011\"   \n",
       "7450  Художественный                АО \"ТПО \"Киностудия им. М.Горького\"   \n",
       "7452  Художественный                         ООО \"Нон,  Стоп Продакшн\"    \n",
       "\n",
       "     production_country                              director  \\\n",
       "1280             Россия                            А.Атанесян   \n",
       "1446             Россия                             А.Якимчук   \n",
       "1496             Россия             Р.Давлетьяров,  С.Комаров   \n",
       "1522             Россия  Е.Миндадзе (псевдоним Катя Шагалова)   \n",
       "1789             Россия                              М.Угаров   \n",
       "...                 ...                                   ...   \n",
       "7438             Россия                             А.Кравчук   \n",
       "7440             Россия                Д.Шмидт,  К.Феоктистов   \n",
       "7448             Россия                           Ф.Бондарчук   \n",
       "7450             Россия                             И.Северов   \n",
       "7452             Россия    М.Бальчюнас (псевдоним М.Вайсберг)   \n",
       "\n",
       "                                               producer  \\\n",
       "1280                 А.Атанесян,  М.Бабаханов,  Р.Бутко   \n",
       "1446                                         А.Тютрюмов   \n",
       "1496        Р.Давлетьяров,  А.Котелевский,  А.Олейников   \n",
       "1522                                         Л.Антонова   \n",
       "1789                            А.Миндадзе,  Л.Антонова   \n",
       "...                                                 ...   \n",
       "7438                               А.Максимов,  К.Эрнст   \n",
       "7440                            С.Сельянов,  А.Боярский   \n",
       "7448  Ф.Бондарчук,  М.Врубель,  А.Андрющенко,  Д.Руд...   \n",
       "7450                                           С.Зернов   \n",
       "7452  С.Мелькумов,  А.Роднянский,  М.Вайсберг,  Р.Ми...   \n",
       "\n",
       "                      age_restriction  refundable_support  \\\n",
       "1280  «16+»,  для детей старше 16 лет                   0   \n",
       "1446  «12+»,  для детей старше 12 лет                   0   \n",
       "1496  «12+»,  для детей старше 12 лет                   0   \n",
       "1522  «16+»,  для детей старше 16 лет                   0   \n",
       "1789  «16+»,  для детей старше 16 лет                   0   \n",
       "...                               ...                 ...   \n",
       "7438  «12+»,  для детей старше 12 лет           100000000   \n",
       "7440    «6+»,  для детей старше 6 лет           100000000   \n",
       "7448  «12+»,  для детей старше 12 лет           100000000   \n",
       "7450  «12+»,  для детей старше 12 лет                   0   \n",
       "7452  «12+»,  для детей старше 12 лет            40000000   \n",
       "\n",
       "      nonrefundable_support    budget       financing_source  ratings  \\\n",
       "1280               26500000  79411900  Министерство культуры        8   \n",
       "1446               26000000  37142857  Министерство культуры      NaN   \n",
       "1496              107847945 176023490              Фонд кино        5   \n",
       "1522               28000000  40574140  Министерство культуры        4   \n",
       "1789               25000000  40015122  Министерство культуры        6   \n",
       "...                     ...       ...                    ...      ...   \n",
       "7438              400000000 980000000              Фонд кино        6   \n",
       "7440                      0 190000000              Фонд кино        7   \n",
       "7448              400000000 944000000              Фонд кино        6   \n",
       "7450               30000000  46154000  Министерство культуры        6   \n",
       "7452               60000000 150147502              Фонд кино        4   \n",
       "\n",
       "                                 genres  box_office  year_of_show  \\\n",
       "1280                   драма, мелодрама      365354          2013   \n",
       "1446                                NaN       28140          2014   \n",
       "1496                комедия, фантастика    19957032          2013   \n",
       "1522                              драма       55918          2014   \n",
       "1789                              драма      232100          2014   \n",
       "...                                 ...         ...           ...   \n",
       "7438          история, биография, драма   717703186          2019   \n",
       "7440  мультфильм, приключения, семейный   501069235          2019   \n",
       "7448                 фантастика, боевик         NaN          2019   \n",
       "7450                              драма         NaN          2019   \n",
       "7452     комедия, фантастика, мелодрама         NaN          2019   \n",
       "\n",
       "                             main_director  main_genre  support_percent  \n",
       "1280                            А.Атанесян       драма               33  \n",
       "1446                             А.Якимчук         NaN               70  \n",
       "1496                         Р.Давлетьяров     комедия               61  \n",
       "1522  Е.Миндадзе (псевдоним Катя Шагалова)       драма               69  \n",
       "1789                              М.Угаров       драма               62  \n",
       "...                                    ...         ...              ...  \n",
       "7438                             А.Кравчук     история               51  \n",
       "7440                               Д.Шмидт  мультфильм               53  \n",
       "7448                           Ф.Бондарчук  фантастика               53  \n",
       "7450                             И.Северов       драма               65  \n",
       "7452    М.Бальчюнас (псевдоним М.Вайсберг)     комедия               67  \n",
       "\n",
       "[315 rows x 20 columns]"
      ]
     },
     "execution_count": 39,
     "metadata": {},
     "output_type": "execute_result"
    }
   ],
   "source": [
    "def support(refundable, nonrefundable, budget):\n",
    "    all_support = refundable + nonrefundable\n",
    "    if budget == 0:\n",
    "        return None\n",
    "    else:\n",
    "        return (all_support / budget) * 100\n",
    "\n",
    "data['support_percent'] = data.apply(lambda x: \n",
    "                                     support(x['refundable_support'], x['nonrefundable_support'], x['budget']), axis=1)\n",
    "\n",
    "data.query('budget > 1')"
   ]
  },
  {
   "cell_type": "markdown",
   "metadata": {},
   "source": [
    "#### Промежуточный вывод\n",
    "\n",
    "На этом этапе удалось подготовить датасет для дальнейшего анализа. Перечислим все проделанные шаги:\n",
    "\n",
    "**1. Проверка типов данных:**\n",
    "\n",
    "* Обнаружены объекты разных типов данных, такие как строки, целые числа, даты, числа с плавающей точкой.\n",
    "* Типы данных в датафрейме не требуют приведения к общему типу.\n",
    "\n",
    "**2. Изучение пропусков:**\n",
    "\n",
    "* Большинство пропусков присутствует в столбцах:\n",
    "    * `film_studio`\n",
    "    * `producer`\n",
    "    * `refundable_support`\n",
    "    * `nonrefundable_support`\n",
    "    * `budget`\n",
    "    * `financing_source`\n",
    "    * `ratings`\n",
    "    * `genres`\n",
    "    * `box_office`\n",
    "* Причины пропусков:\n",
    "    * Отсутствие данных в исходном датасете.\n",
    "    * Особенности организации кинопроизводства.\n",
    "    * Документальные фильмы, которые не показывают в кинотеатрах.\n",
    "    * Фильмы, не имеющие прокатного удостоверения в списке mkrf_shows.\n",
    "* Обработка пропусков:\n",
    "    * Удалены строки с пропусками в `film_studio` и `director`.\n",
    "    * Значения в `refundable_support`, `nonrefundable_support`, `budget` и `financing_source` оставлены для исследования государственной поддержки.\n",
    "    * Пропуски в `ratings` заполнены медианным значением.\n",
    "    * Пропуски в `genres` оставлены пустыми.\n",
    "    * Пропуски в `box_office` оставлены как есть.\n",
    "\n",
    "**3. Удаление дубликатов:**\n",
    "\n",
    "* Обнаружены дубликаты строк, отличающиеся только датой выхода и номером прокатного удостоверения.\n",
    "* Дубликаты удалены.\n",
    "\n",
    "**4. Изучение категориальных значений:**\n",
    "\n",
    "* Обнаружены проблемы с форматированием данных в некоторых столбцах.\n",
    "* Проблемы исправлены.\n",
    "\n",
    "**5. Проверка количественных значений:**\n",
    "\n",
    "* Обнаружены выбросы в столбцах:\n",
    "    * `refundable_support` (значения ~200 млн рублей)\n",
    "    * `nonrefundable_support` (значения ~100 млн рублей)\n",
    "    * `budget` (значения ~2 млрд рублей)\n",
    "    * `box_office` (значения ~3 млрд рублей)\n",
    "* Выбросы не устранены, так как не оказывают критического влияния на анализ.\n",
    "\n",
    "**6. Добавление новых столбцов:**\n",
    "\n",
    "* Созданы столбцы:\n",
    "    * `year_of_show` - год проката фильма\n",
    "    * `main_director` - имя главного режиссёра\n",
    "    * `main_genre` - основной жанр фильма\n",
    "    * `support_percent` - доля государственной поддержки в бюджете фильма"
   ]
  },
  {
   "cell_type": "markdown",
   "metadata": {
    "id": "6t4EukPLgFyV"
   },
   "source": [
    "### Шаг 3. Исследовательский анализ данных\n"
   ]
  },
  {
   "cell_type": "markdown",
   "metadata": {
    "id": "vAH8WCzugFyV"
   },
   "source": [
    "- Посмотрите, сколько фильмов выходило в прокат каждый год. Обратите внимание, что данные о прокате в кинотеатрах известны не для всех фильмов. Посчитайте, какую долю составляют фильмы с указанной информацией о прокате в кинотеатрах. Проанализируйте, как эта доля менялась по годам. Сделайте вывод о том, какой период полнее всего представлен в данных."
   ]
  },
  {
   "cell_type": "code",
   "execution_count": 40,
   "metadata": {},
   "outputs": [
    {
     "data": {
      "image/png": "[encoded data removed]",
      "text/plain": [
       "<Figure size 720x360 with 1 Axes>"
      ]
     },
     "metadata": {
      "needs_background": "light"
     },
     "output_type": "display_data"
    }
   ],
   "source": [
    "year_of_show_plot = (data.pivot_table(index='year_of_show', values='puNumber', aggfunc='count')\n",
    "                     .plot(kind='line', figsize=(10, 5), grid=True))\n",
    "\n",
    "year_of_show_plot.set_title('Количество фильмов по годам')\n",
    "year_of_show_plot.set_xlabel('Год')\n",
    "year_of_show_plot.set_ylabel('Количество фильмов')\n",
    "\n",
    "plt.show()"
   ]
  },
  {
   "cell_type": "markdown",
   "metadata": {},
   "source": [
    "Это общая информация о фильмах за каждый год. Больше всего фильмов, которые вышли в 2019 году, что позволяет сделать предположение о том, что это наиболее полно представлен в датасете.\n",
    "\n",
    "Теперь посмотрим на такую же статистику по фильмам, которые выходили в прокат в кинотеатрах:"
   ]
  },
  {
   "cell_type": "code",
   "execution_count": 41,
   "metadata": {},
   "outputs": [
    {
     "data": {
      "image/png": "[encoded data removed]",
      "text/plain": [
       "<Figure size 720x360 with 1 Axes>"
      ]
     },
     "metadata": {
      "needs_background": "light"
     },
     "output_type": "display_data"
    }
   ],
   "source": [
    "year_of_show_plot = (data.pivot_table(index='year_of_show', values='box_office', aggfunc='count')\n",
    "                     .plot(kind='line', figsize=(10, 5), grid=True))\n",
    "\n",
    "year_of_show_plot.set_title('Количество фильмов в прокате по годам')\n",
    "year_of_show_plot.set_xlabel('Год')\n",
    "year_of_show_plot.set_ylabel('Количество фильмов')\n",
    "\n",
    "plt.show()"
   ]
  },
  {
   "cell_type": "markdown",
   "metadata": {},
   "source": [
    "А тут картина немного меняется - 2016 и 2018 практически равны по количеству фильмов, вышедших в кинотеатрах. Но тем не менее, в 2019 фильмов снова вышло больше. Осталось посчитать долю фильмов, вышедших в прокат относительно всех."
   ]
  },
  {
   "cell_type": "code",
   "execution_count": 42,
   "metadata": {},
   "outputs": [
    {
     "data": {
      "image/png": "[encoded data removed]",
      "text/plain": [
       "<Figure size 720x360 with 1 Axes>"
      ]
     },
     "metadata": {
      "needs_background": "light"
     },
     "output_type": "display_data"
    }
   ],
   "source": [
    "def percentage(in_show, all_films):\n",
    "    return float(in_show / all_films)\n",
    "\n",
    "percentage_by_year = data.pivot_table(index='year_of_show', values=['box_office', 'puNumber'], aggfunc='count').reset_index()\n",
    "percentage_by_year['ratio'] = percentage_by_year.apply(lambda x: percentage(x['box_office'], x['puNumber']), axis=1)\n",
    "\n",
    "percentage_by_year_plot = percentage_by_year.plot(x='year_of_show', y='ratio', kind='line', figsize=(10, 5), grid=True)\n",
    "percentage_by_year_plot.set_title('Отношения числа фильмов в кино к общему')\n",
    "percentage_by_year_plot.set_xlabel('Год')\n",
    "percentage_by_year_plot.set_ylabel('Доля')\n",
    "\n",
    "plt.show()\n",
    "#percentage_by_year"
   ]
  },
  {
   "cell_type": "markdown",
   "metadata": {},
   "source": [
    "Как мы видим, самое большое отношение наблюдается в 2016 году. Значит, мы можем сделать вывод о том, довольно значительная часть фильмов, которые вышли в этом году также были в прокате в российских кинотеатрах. \n",
    "\n",
    "Наиболее полно в датасете представлен 2019 год - почти 1000 фильмов в целом. \\\n",
    "С точки зрения фильмов в прокате самый полным является также 2019, но дальше за ним следуют 2016 и 2018 годы с небольшим отрывом.\n",
    "\n",
    "Особенно интересным является 2016, так как именно в этом году процент фильмов, которые вышли в прокат выше, чем в остальные годы, представленные в датасете. "
   ]
  },
  {
   "cell_type": "markdown",
   "metadata": {
    "id": "BEOdcIrIgFyW"
   },
   "source": [
    "- Изучите, как менялась динамика проката по годам. В каком году сумма сборов была минимальной? А максимальной?"
   ]
  },
  {
   "cell_type": "markdown",
   "metadata": {},
   "source": [
    "Динамика проката по количеству фильмов представлена в предыдущем пункте."
   ]
  },
  {
   "cell_type": "code",
   "execution_count": 43,
   "metadata": {
    "id": "tfEhofYvgFyX"
   },
   "outputs": [
    {
     "data": {
      "image/png": "[encoded data removed]",
      "text/plain": [
       "<Figure size 720x360 with 1 Axes>"
      ]
     },
     "metadata": {
      "needs_background": "light"
     },
     "output_type": "display_data"
    }
   ],
   "source": [
    "box_office_plot = (data.pivot_table(index='year_of_show', values='box_office', aggfunc='sum')\n",
    "                   .plot(kind='line', figsize=(10, 5), grid=True))\n",
    "\n",
    "box_office_plot.set_title('Динаминка сборов')\n",
    "box_office_plot.set_xlabel('Год')\n",
    "box_office_plot.set_ylabel('Сборы, 10 млрд')\n",
    "\n",
    "plt.show()"
   ]
  },
  {
   "cell_type": "markdown",
   "metadata": {},
   "source": [
    "Судя по графику,в датасете отсутствуют данные о сборах за 2010-2013 годы.\n",
    "\n",
    "Поэтому наименьшее значение суммы сборов наблюдается в 2014 году - менее 10 миллиардов.\n",
    "Зато видна корреляция с количеством фильмов - чем больше кино, тем больше сборы.\n",
    "\n",
    "Наибольшие сборы зафиксированы в 2017 году, наравне с ним и следующие два года - 2018 и 2019. В эти годы выручка составила порядка 48-49 миллиардов."
   ]
  },
  {
   "cell_type": "markdown",
   "metadata": {
    "id": "G-7qS-N-gFyY"
   },
   "source": [
    "- С помощью сводной таблицы посчитайте среднюю и медианную сумму сборов для каждого года."
   ]
  },
  {
   "cell_type": "code",
   "execution_count": 44,
   "metadata": {
    "id": "jmp-rgg9gFyY"
   },
   "outputs": [
    {
     "data": {
      "image/png": "[encoded data removed]",
      "text/plain": [
       "<Figure size 720x360 with 1 Axes>"
      ]
     },
     "metadata": {
      "needs_background": "light"
     },
     "output_type": "display_data"
    },
    {
     "data": {
      "text/html": [
       "<div>\n",
       "<style scoped>\n",
       "    .dataframe tbody tr th:only-of-type {\n",
       "        vertical-align: middle;\n",
       "    }\n",
       "\n",
       "    .dataframe tbody tr th {\n",
       "        vertical-align: top;\n",
       "    }\n",
       "\n",
       "    .dataframe thead th {\n",
       "        text-align: right;\n",
       "    }\n",
       "</style>\n",
       "<table border=\"1\" class=\"dataframe\">\n",
       "  <thead>\n",
       "    <tr style=\"text-align: right;\">\n",
       "      <th></th>\n",
       "      <th>year_of_show</th>\n",
       "      <th>mean</th>\n",
       "      <th>median</th>\n",
       "    </tr>\n",
       "  </thead>\n",
       "  <tbody>\n",
       "    <tr>\n",
       "      <th>0</th>\n",
       "      <td>2010</td>\n",
       "      <td>23130</td>\n",
       "      <td>1700</td>\n",
       "    </tr>\n",
       "    <tr>\n",
       "      <th>1</th>\n",
       "      <td>2011</td>\n",
       "      <td>129383</td>\n",
       "      <td>3000</td>\n",
       "    </tr>\n",
       "    <tr>\n",
       "      <th>2</th>\n",
       "      <td>2012</td>\n",
       "      <td>54418</td>\n",
       "      <td>5560</td>\n",
       "    </tr>\n",
       "    <tr>\n",
       "      <th>3</th>\n",
       "      <td>2013</td>\n",
       "      <td>161955</td>\n",
       "      <td>3522</td>\n",
       "    </tr>\n",
       "    <tr>\n",
       "      <th>4</th>\n",
       "      <td>2014</td>\n",
       "      <td>26684415</td>\n",
       "      <td>18160</td>\n",
       "    </tr>\n",
       "    <tr>\n",
       "      <th>5</th>\n",
       "      <td>2015</td>\n",
       "      <td>84940570</td>\n",
       "      <td>4920933</td>\n",
       "    </tr>\n",
       "    <tr>\n",
       "      <th>6</th>\n",
       "      <td>2016</td>\n",
       "      <td>91000570</td>\n",
       "      <td>3846679</td>\n",
       "    </tr>\n",
       "    <tr>\n",
       "      <th>7</th>\n",
       "      <td>2017</td>\n",
       "      <td>136032793</td>\n",
       "      <td>9968340</td>\n",
       "    </tr>\n",
       "    <tr>\n",
       "      <th>8</th>\n",
       "      <td>2018</td>\n",
       "      <td>104785574</td>\n",
       "      <td>8911534</td>\n",
       "    </tr>\n",
       "    <tr>\n",
       "      <th>9</th>\n",
       "      <td>2019</td>\n",
       "      <td>91369262</td>\n",
       "      <td>4627798</td>\n",
       "    </tr>\n",
       "  </tbody>\n",
       "</table>\n",
       "</div>"
      ],
      "text/plain": [
       "   year_of_show      mean  median\n",
       "0          2010     23130    1700\n",
       "1          2011    129383    3000\n",
       "2          2012     54418    5560\n",
       "3          2013    161955    3522\n",
       "4          2014  26684415   18160\n",
       "5          2015  84940570 4920933\n",
       "6          2016  91000570 3846679\n",
       "7          2017 136032793 9968340\n",
       "8          2018 104785574 8911534\n",
       "9          2019  91369262 4627798"
      ]
     },
     "execution_count": 44,
     "metadata": {},
     "output_type": "execute_result"
    }
   ],
   "source": [
    "box_office_info = data.pivot_table(index='year_of_show', values='box_office', aggfunc=['mean', 'median']).reset_index()\n",
    "box_office_info.columns = ['year_of_show', 'mean', 'median']\n",
    "\n",
    "box_office_plot = box_office_info.plot(x='year_of_show', y=['mean', 'median'], kind='line', figsize=(10, 5), grid=True)\n",
    "box_office_plot.set_title('Среднее и медианное значение сборов по годам')\n",
    "box_office_plot.set_xlabel('Год')\n",
    "box_office_plot.set_ylabel('Сборы')\n",
    "\n",
    "plt.show()\n",
    "box_office_info"
   ]
  },
  {
   "cell_type": "markdown",
   "metadata": {},
   "source": [
    "И снова сборы появляются только после 2013 года. Тем не менее, мы видим, что медиана сильно меньше среднего - это говорит о том, что многие фильмы собирают очень мало, искажая данные. \n",
    "\n",
    "Тем не менее, мы снова видим, что 2017 год был самым успешным с точки зрения сборов - в среднем около 137 млн."
   ]
  },
  {
   "cell_type": "markdown",
   "metadata": {},
   "source": [
    "Как мы можем заметить, действительно есть фильмы-гиганты, которые собирают огромные суммы. Они действительно завышают значение среднего, ибо бОльшая часть фильмов не собрала и миллионав в прокате. В то же время, такие фильмы (с низкими сборами) занижают значение медианы."
   ]
  },
  {
   "cell_type": "code",
   "execution_count": 45,
   "metadata": {},
   "outputs": [
    {
     "data": {
      "image/png": "[encoded data removed]",
      "text/plain": [
       "<Figure size 720x360 with 1 Axes>"
      ]
     },
     "metadata": {
      "needs_background": "light"
     },
     "output_type": "display_data"
    }
   ],
   "source": [
    "data['box_office'].hist(bins=100, range=(1, 5_000_000), figsize=(10, 5));"
   ]
  },
  {
   "cell_type": "code",
   "execution_count": 46,
   "metadata": {},
   "outputs": [
    {
     "data": {
      "image/png": "[encoded data removed]",
      "text/plain": [
       "<Figure size 720x360 with 1 Axes>"
      ]
     },
     "metadata": {
      "needs_background": "light"
     },
     "output_type": "display_data"
    }
   ],
   "source": [
    "data['box_office'].hist(bins=100, range=(5_000_000, 500_000_000), figsize=(10, 5));"
   ]
  },
  {
   "cell_type": "code",
   "execution_count": 47,
   "metadata": {},
   "outputs": [
    {
     "data": {
      "image/png": "[encoded data removed]",
      "text/plain": [
       "<Figure size 720x360 with 1 Axes>"
      ]
     },
     "metadata": {
      "needs_background": "light"
     },
     "output_type": "display_data"
    }
   ],
   "source": [
    "data['box_office'].hist(bins=100, range=(500_000_000, 2_000_000_000), figsize=(10, 5));"
   ]
  },
  {
   "cell_type": "markdown",
   "metadata": {
    "id": "Ok89WFwJgFyZ"
   },
   "source": [
    "- Определите, влияет ли возрастное ограничение аудитории («6+», «12+», «16+», «18+» и т. д.) на сборы фильма в прокате в период с 2015 по 2019 год? Фильмы с каким возрастным ограничением собрали больше всего денег в прокате? Меняется ли картина в зависимости от года? Если да, предположите, с чем это может быть связано."
   ]
  },
  {
   "cell_type": "markdown",
   "metadata": {},
   "source": [
    "Для более короткого вывода немного исправим столбец `age_restriction`."
   ]
  },
  {
   "cell_type": "code",
   "execution_count": 48,
   "metadata": {},
   "outputs": [
    {
     "data": {
      "text/plain": [
       "array(['«18+»,  запрещено для детей', '«6+»,  для детей старше 6 лет',\n",
       "       '«12+»,  для детей старше 12 лет',\n",
       "       '«16+»,  для детей старше 16 лет',\n",
       "       '«0+»,  для любой зрительской аудитории'], dtype=object)"
      ]
     },
     "execution_count": 48,
     "metadata": {},
     "output_type": "execute_result"
    }
   ],
   "source": [
    "data['age_restriction'] = data['age_restriction'].replace({'«0+», для любой зрительской аудитории' : '«0+»',\n",
    "                                      '«6+», для детей старше 6 лет' : '«6+»',\n",
    "                                      '«12+», для детей старше 12 лет' : '«12+»',\n",
    "                                      '«16+», для детей старше 16 лет' : '«16+»',\n",
    "                                      '«18+», запрещено для детей' : '«18+»'})\n",
    "\n",
    "data['age_restriction'].unique()"
   ]
  },
  {
   "cell_type": "code",
   "execution_count": 49,
   "metadata": {
    "id": "jsSbEqfjgFya",
    "scrolled": false
   },
   "outputs": [
    {
     "ename": "NameError",
     "evalue": "name 'pivot_data' is not defined",
     "output_type": "error",
     "traceback": [
      "\u001b[0;31m---------------------------------------------------------------------------\u001b[0m",
      "\u001b[0;31mNameError\u001b[0m                                 Traceback (most recent call last)",
      "\u001b[0;32m/tmp/ipykernel_60/2648947188.py\u001b[0m in \u001b[0;36m<module>\u001b[0;34m\u001b[0m\n\u001b[1;32m     13\u001b[0m \u001b[0mplt\u001b[0m\u001b[0;34m.\u001b[0m\u001b[0mxlabel\u001b[0m\u001b[0;34m(\u001b[0m\u001b[0;34m'Год'\u001b[0m\u001b[0;34m)\u001b[0m\u001b[0;34m\u001b[0m\u001b[0;34m\u001b[0m\u001b[0m\n\u001b[1;32m     14\u001b[0m \u001b[0mplt\u001b[0m\u001b[0;34m.\u001b[0m\u001b[0mylabel\u001b[0m\u001b[0;34m(\u001b[0m\u001b[0;34m'Сбор, 10 млрд'\u001b[0m\u001b[0;34m)\u001b[0m\u001b[0;34m\u001b[0m\u001b[0;34m\u001b[0m\u001b[0m\n\u001b[0;32m---> 15\u001b[0;31m \u001b[0mplt\u001b[0m\u001b[0;34m.\u001b[0m\u001b[0mxticks\u001b[0m\u001b[0;34m(\u001b[0m\u001b[0mpivot_data\u001b[0m\u001b[0;34m[\u001b[0m\u001b[0;34m'year_of_show'\u001b[0m\u001b[0;34m]\u001b[0m\u001b[0;34m)\u001b[0m  \u001b[0;31m# Убедитесь, что все годы отображаются на оси X\u001b[0m\u001b[0;34m\u001b[0m\u001b[0;34m\u001b[0m\u001b[0m\n\u001b[0m\u001b[1;32m     16\u001b[0m \u001b[0mplt\u001b[0m\u001b[0;34m.\u001b[0m\u001b[0mgrid\u001b[0m\u001b[0;34m(\u001b[0m\u001b[0;32mTrue\u001b[0m\u001b[0;34m)\u001b[0m\u001b[0;34m\u001b[0m\u001b[0;34m\u001b[0m\u001b[0m\n\u001b[1;32m     17\u001b[0m \u001b[0mplt\u001b[0m\u001b[0;34m.\u001b[0m\u001b[0mlegend\u001b[0m\u001b[0;34m(\u001b[0m\u001b[0mtitle\u001b[0m\u001b[0;34m=\u001b[0m\u001b[0;34m'Возрастное ограничение'\u001b[0m\u001b[0;34m)\u001b[0m\u001b[0;34m\u001b[0m\u001b[0;34m\u001b[0m\u001b[0m\n",
      "\u001b[0;31mNameError\u001b[0m: name 'pivot_data' is not defined"
     ]
    },
    {
     "data": {
      "image/png": "[encoded data removed]",
      "text/plain": [
       "<Figure size 1080x360 with 1 Axes>"
      ]
     },
     "metadata": {
      "needs_background": "light"
     },
     "output_type": "display_data"
    }
   ],
   "source": [
    "data_age = data.query('2015 <= year_of_show <= 2019').pivot_table(\n",
    "    index='year_of_show',\n",
    "    columns='age_restriction',\n",
    "    values='box_office',\n",
    "    aggfunc='sum'\n",
    ").reset_index()\n",
    "\n",
    "plt.figure(figsize=(15, 5))\n",
    "for age_restriction in data_age.columns[1:]: \n",
    "    plt.plot(data_age['year_of_show'], data_age[age_restriction], label=age_restriction)\n",
    "\n",
    "plt.title('Зависимость сборов по годам от возрастного ограничения')\n",
    "plt.xlabel('Год')\n",
    "plt.ylabel('Сбор, 10 млрд')\n",
    "plt.xticks(pivot_data['year_of_show'])  # Убедитесь, что все годы отображаются на оси X\n",
    "plt.grid(True)\n",
    "plt.legend(title='Возрастное ограничение')\n",
    "plt.show()"
   ]
  },
  {
   "cell_type": "markdown",
   "metadata": {},
   "source": [
    "2015: почти 12 миллиардов собрали фильмы с возрастным ограничением 12+.\n",
    "\n",
    "2016: 14 миллиардов принесли фильмы с цензом 16+.\n",
    "\n",
    "2017: практически 19 миллиардов снова уходят на баланс фильмов для подростков (16+).\n",
    "\n",
    "2018: 15 миллиардов опять принесли 16+.\n",
    "\n",
    "2019: с небольшим отрывом от 12+, фильмы с цензом 16+ принесли 12.7 миллиардов.\n",
    "\n",
    "\n",
    "Исходя из изученных данных, можно сделать вывод, что больше всего приносят фильмы для подростков (12-18 лет).\n",
    "Больше всего за данный промежуток времени принесли 16+ - более 68 миллиардов рублей.\n",
    "\n",
    "В целом, от года к году картина не меняется, но есть интересные изменения: объем сборов фильмов 18+ с каждым годом немного увеличивается, ровно как и 6+. \\\n",
    "С чем это может быть связано? Скорее всего, с количеством фильмов, которое выходит каждый следующий год - оно увеличивается. Соответственно, увеличиваются и сборы."
   ]
  },
  {
   "cell_type": "markdown",
   "metadata": {},
   "source": [
    "Исследование динамики выхода фильмов в прокат и их сборов в период с 2010 по 2019 год позволяет сделать несколько ключевых выводов:\n",
    "\n",
    "1. **Общая динамика выхода фильмов:** Наиболее полно в датасете представлен 2019 год, в котором было зафиксировано почти 1000 фильмов. Это указывает на то, что данные за этот год наиболее полные и могут дать наиболее точное представление о состоянии кинопроката в этот период.\n",
    "\n",
    "2. **Доля фильмов, вышедших в прокат:** Особенно выделяется 2016 год, в котором процент фильмов, вышедших в прокат, оказался выше, чем в другие годы. Это может свидетельствовать о более активной деятельности кинопрокатчиков и/или большем интересе аудитории к кинопродукции в этот период.\n",
    "\n",
    "3. **Динамика сборов:** Наибольшие сборы были зафиксированы в 2017 году, что коррелирует с количеством вышедших фильмов. Это подтверждает предположение о том, что чем больше фильмов выходит в прокат, тем выше общие сборы.\n",
    "\n",
    "4. **Средние и медианные сборы:** Наблюдается значительное различие между средними и медианными значениями сборов, что указывает на наличие фильмов-«аутсайдеров» с очень низкими сборами и фильмов-«блокбастеров» с очень высокими сборами. Это разнообразие подчеркивает неоднородность рынка кинопроката.\n",
    "\n",
    "5. **Влияние возрастного ограничения на сборы:** Фильмы с возрастным ограничением 16+ показали наибольшие сборы в анализируемый период, что может свидетельствовать о высоком спросе на фильмы для подростковой аудитории. Также наблюдается постепенное увеличение сборов у фильмов с ограничением 18+ и 6+, что может быть связано с увеличением количества выходящих фильмов в этих категориях.\n",
    "\n",
    "**Промежуточный вывод:** Анализ показывает, что кинопрокат в России в период с 2015 по 2019 год характеризуется ростом как количества фильмов, так и общих сборов. Особенно выделяется аудитория подростков (16+), фильмы для которой приносят наибольшие сборы. Эти данные могут быть полезны для кинопрокатчиков и дистрибьюторов при планировании релизов новых фильмов и формировании стратегии маркетинга."
   ]
  },
  {
   "cell_type": "markdown",
   "metadata": {
    "id": "l_Kg6Ku4gFya"
   },
   "source": [
    "### Шаг 4. Исследование фильмов, которые получили государственную поддержку\n",
    "\n",
    "На этом этапе нет конкретных инструкций и заданий — поищите интересные закономерности в данных. Посмотрите, сколько выделяют средств на поддержку кино. Проверьте, хорошо ли окупаются такие фильмы, какой у них рейтинг."
   ]
  },
  {
   "cell_type": "markdown",
   "metadata": {
    "id": "W9QKpjUdgFyb"
   },
   "source": [
    "Для начала выделим фильмы с государственной поддержкой в отдельный датафрейм, чтобы было проще работать с этими данными."
   ]
  },
  {
   "cell_type": "code",
   "execution_count": null,
   "metadata": {},
   "outputs": [],
   "source": [
    "data_support = data.query('financing_source.isna() == False')\n",
    "data_support.head(5)"
   ]
  },
  {
   "cell_type": "markdown",
   "metadata": {},
   "source": [
    "Всего таких фильмов 327.\n",
    "Для начала посмотрим, как распределяется рейтинг фильмов с государственной поддержкой."
   ]
  },
  {
   "cell_type": "code",
   "execution_count": null,
   "metadata": {},
   "outputs": [],
   "source": [
    "data_support_ratings_plot = data_support['ratings'].plot(bins=50, kind='hist', figsize=(10, 5), grid=True)\n",
    "\n",
    "data_support_ratings_plot.set_title('Количество фильмов по рейтингу')\n",
    "data_support_ratings_plot.set_xlabel('Рейтинг')\n",
    "data_support_ratings_plot.set_ylabel('Количество фильмов')\n",
    "\n",
    "plt.show()"
   ]
  },
  {
   "cell_type": "markdown",
   "metadata": {},
   "source": [
    "Больше всего фильмов имеют рейтинг от 5 до 7. В целом, это вполне нормальный рейтинг для фильма, вне зависимости от того, финансирует его государство или нет."
   ]
  },
  {
   "cell_type": "markdown",
   "metadata": {},
   "source": [
    "Далее проверим окупаемость фильма. Что мы считаем окупившимся фильмом? Будем считать, что фильм окупился, если `box_office` больше, чем `budget`. Безусловно, стоит еще учитывать затраты на дистрибьюцию, рекламу и т.д., но обойдемся без этого и будем смотреть именно на цифры.\n",
    "\n",
    "Напишем функцию, которая будет показывать, окупился фильм или нет:"
   ]
  },
  {
   "cell_type": "code",
   "execution_count": null,
   "metadata": {},
   "outputs": [],
   "source": [
    "def is_payback(budget, box_office):\n",
    "    if box_office > budget:\n",
    "        return True\n",
    "    else:\n",
    "        return False\n",
    "    \n",
    "data_support['is_payback'] = data_support.apply(lambda x: is_payback(x['budget'], x['box_office']), axis=1)\n",
    "data_support.head(5)"
   ]
  },
  {
   "cell_type": "code",
   "execution_count": null,
   "metadata": {},
   "outputs": [],
   "source": [
    "len(data_support.query('is_payback == True')) / len(data_support) * 100"
   ]
  },
  {
   "cell_type": "markdown",
   "metadata": {},
   "source": [
    "Из всех фильмов, которые профинансировало государство, окупились только 25%. Что, конечно, не самый хороший результат. \n",
    "\n",
    "Что можно сказать, исходя из изученных данных? Рейтинг у фильмов с гос.поддержкой достаточно посредственный (не очень высокий), и внушительная часть фильмов не окупилась в прокате. Но это и не удивительно - обычно создатели такого кино и не ставят цели окупиться."
   ]
  },
  {
   "cell_type": "markdown",
   "metadata": {},
   "source": [
    "##### Сколько средств выделяют на поддержку фильмов?"
   ]
  },
  {
   "cell_type": "markdown",
   "metadata": {},
   "source": [
    "Посмотрим, сколько денег из бюджета выделялось на фильмы по годам:"
   ]
  },
  {
   "cell_type": "code",
   "execution_count": null,
   "metadata": {},
   "outputs": [],
   "source": [
    "data_support_budget = data_support.pivot_table(index='year_of_show', values='budget', aggfunc='sum')\n",
    "\n",
    "data_support_budget_plot = data_support_budget.plot(kind='line', figsize=(10, 5), grid=True)\n",
    "data_support_budget_plot.set_title('Выделенные средства по годам')\n",
    "data_support_budget_plot.set_xlabel('Год')\n",
    "data_support_budget_plot.set_ylabel('Бюджет, 10 млрд')\n",
    "\n",
    "plt.show()\n",
    "data_support_budget"
   ]
  },
  {
   "cell_type": "markdown",
   "metadata": {},
   "source": [
    "Объем выделяемых бюджетных средств (почти) неуклонно растет. Это легко объяснить - фильмом снимается больше с каждым годом. Соответственно, и финансировать приходится бОльшие объемы."
   ]
  },
  {
   "cell_type": "markdown",
   "metadata": {},
   "source": [
    "##### Возрастные ограничения"
   ]
  },
  {
   "cell_type": "code",
   "execution_count": null,
   "metadata": {},
   "outputs": [],
   "source": [
    "data_support_age = data_support.pivot_table(index='age_restriction', values='budget', aggfunc='sum')\n",
    "\n",
    "data_support_age_plot = data_support_age.plot(kind='bar', figsize=(10, 5), grid=True)\n",
    "data_support_age_plot.set_title('Выделенные средства по возрастным ограничениям')\n",
    "data_support_age_plot.set_xlabel('Возрастное ограничение')\n",
    "data_support_age_plot.set_ylabel('Средства, 10 млрд')\n",
    "\n",
    "plt.show()\n",
    "data_support_age"
   ]
  },
  {
   "cell_type": "markdown",
   "metadata": {},
   "source": [
    "Больше всего средств выделено на фильмы с ограничением 12+ - более 14 миллиардов. Приблизительно одинаковый объем был выделен на фильмы 6+ и 16+ - порядка 12 млрд.\n",
    "\n",
    "Исходя из этих данных, можно сделать вывод о том, что государство заинтересовано в создании фильмов для несовершеннолетней аудитории. Вероятно, такие фильмы наиболее востребованы, ведь аудитория у них очень обширна."
   ]
  },
  {
   "cell_type": "markdown",
   "metadata": {},
   "source": [
    "##### Тип фильма"
   ]
  },
  {
   "cell_type": "code",
   "execution_count": null,
   "metadata": {},
   "outputs": [],
   "source": [
    "data_support_type = data_support.pivot_table(index='type', values='is_payback', aggfunc=['count', 'sum'])\n",
    "data_support_type.columns = ['Всего', 'Окупились']\n",
    "\n",
    "data_support_type"
   ]
  },
  {
   "cell_type": "markdown",
   "metadata": {},
   "source": [
    "Как и следовало ожидать, основная масса фильмов является художественными. \n",
    "\n",
    "Из анимационных окупилась почти половина - достаточно хороший результат. \\\n",
    "Сложно что-то сказать про документальные фильмы, имея только 1 пример. Но можно предположить, что такие фильмы действительно не окупаются - они не так интересны массовому зрителю.\n",
    "\n",
    "С художественными фильмами тоже не все хорошо - менее 25% окупились. Это подтверждает исследования, проведенные в одном из прошлых пунктов."
   ]
  },
  {
   "cell_type": "markdown",
   "metadata": {},
   "source": [
    "Исследование фильмов с государственной поддержкой выявило несколько ключевых моментов:\n",
    "\n",
    "1. **Распределение рейтингов**: Большинство фильмов с государственной поддержкой имеют рейтинги в диапазоне от 5 до 7, что является достаточно средним показателем. Это указывает на то, что фильмы с господдержкой в целом встречаются с умеренным одобрением со стороны аудитории.\n",
    "\n",
    "2. **Окупаемость**: Только 25% фильмов с государственной поддержкой окупились, что является довольно низким показателем. Это подчеркивает, что большинство таких проектов не ставят своей целью получение коммерческой выгоды, а скорее направлены на достижение культурных, образовательных или социальных целей.\n",
    "\n",
    "3. **Финансирование**: Объем выделяемых государством средств на поддержку кино растет с каждым годом, что свидетельствует о повышении интереса к развитию кинематографа. Особенно много средств выделяется на фильмы для несовершеннолетней аудитории (12+, 6+ и 16+), что подчеркивает стремление государства поддерживать создание контента, доступного и интересного широкой аудитории.\n",
    "\n",
    "4. **Возрастные ограничения**: Большая часть средств направляется на фильмы с возрастным ограничением 12+, что указывает на желание государства поддерживать проекты, ориентированные на широкую аудиторию, включая подростков. Это также может отражать стремление к созданию фильмов, способствующих воспитанию и образованию молодежи.\n",
    "\n",
    "5. **Типы фильмов**: Большинство поддержанных государством фильмов являются художественными, но среди анимационных фильмов наблюдается высокий процент окупаемости (почти половина), что может свидетельствовать о высоком интересе к анимации как среди детей, так и взрослых. Документальные фильмы, в свою очередь, представлены в очень малом количестве, что может указывать на их низкую коммерческую привлекательность для широкой аудитории.\n",
    "\n",
    "**Промежуточный вывод**: Особое внимание уделяется фильмам для несовершеннолетней аудитории, что подчеркивает стремление к формированию положительных социальных и культурных ценностей."
   ]
  },
  {
   "cell_type": "markdown",
   "metadata": {
    "id": "V2gYwMcPgFyd"
   },
   "source": [
    "### Шаг 5. Напишите общий вывод"
   ]
  },
  {
   "cell_type": "markdown",
   "metadata": {
    "id": "AYRg3dzXgFye"
   },
   "source": [
    "**Общая динамика кинопроката:** Анализ данных показывает, что кинопрокат в России характеризуется ростом как количества фильмов, так и общих сборов, особенно в период с 2015 по 2019 год. Это указывает на увеличивающийся интерес аудитории к кинопродукции и активизацию деятельности кинопрокатчиков. Особенно выделяется аудитория подростков (16+), фильмы для которой приносят наибольшие сборы, что может служить важным ориентиром для кинопрокатчиков и дистрибьюторов при планировании релизов новых фильмов и формировании стратегии маркетинга.\n",
    "\n",
    "**Государственная поддержка кино:** Исследование фильмов с государственной поддержкой выявило, что такие проекты часто не ставят своей целью получение коммерческой выгоды, а направлены на достижение культурных, образовательных или социальных целей. Большинство таких фильмов имеют средние рейтинги и низкий процент окупаемости, что подчеркивает их ориентацию не на коммерческий успех, а на вклад в культурное и социальное развитие общества. Особое внимание государства уделяется фильмам для несовершеннолетней аудитории, что отражает стремление к формированию положительных социальных и культурных ценностей среди молодежи.\n",
    "\n",
    "**Типы фильмов и их окупаемость:** Среди поддержанных государством фильмов высокий процент окупаемости наблюдается у анимационных фильмов, что свидетельствует о высоком интересе к анимации как среди детей, так и взрослых. В то же время, документальные фильмы представлены в меньшем количестве и имеют низкую коммерческую привлекательность для широкой аудитории, что может указывать на их специфическую нишу в кинопроизводстве.\n",
    "\n",
    "**Заключение:** В целом, анализ кинопроката и фильмов с государственной поддержкой в России показывает, что кинопроизводство и кинопрокат в стране развиваются, привлекая внимание различных аудиторий и получая поддержку со стороны государства. Государственная поддержка ориентирована на развитие культурного и образовательного контента, при этом особое внимание уделяется молодежной аудитории. Эти тенденции могут служить основой для дальнейшего развития кинопроизводства и кинопроката в России, с учетом как коммерческих, так и социально значимых аспектов."
   ]
  },
  {
   "cell_type": "markdown",
   "metadata": {},
   "source": [
    "На основе предоставленных данных и проведенного анализа можно сделать несколько ключевых общих выводов и предложить рекомендации для дальнейшего развития кинопроката и кинопроизводства в России.\n",
    "\n",
    "**Общие выводы**:\n",
    "\n",
    "1. **Рост кинопроката:** Анализ данных показывает положительную динамику в развитии кинопроката в России с 2015 по 2019 год, что выражается в увеличении количества фильмов, выходящих в прокат, и росте общих сборов. Это свидетельствует о растущем интересе аудитории к кинопродукции и потенциале рынка.\n",
    "\n",
    "2. **Важность аудитории подростков:** Фильмы с возрастным ограничением 16+ показывают наибольшие сборы, что подчеркивает значимость этой аудитории для кинопроката. Это указывает на необходимость уделить особое внимание контенту, ориентированному на подростков, при планировании релизов новых фильмов.\n",
    "\n",
    "3. **Разнообразие контента:** Наблюдается значительное разнообразие в кинопродукции, включая художественные, анимационные и документальные фильмы. Анимационные фильмы показывают высокий процент окупаемости, что указывает на их популярность среди всех возрастных групп.\n",
    "\n",
    "**Рекомендации**:\n",
    "\n",
    "1. **Фокус на подростковую аудиторию:** Учитывая высокие сборы фильмов с возрастным ограничением 16+, рекомендуется кинопрокатчикам и дистрибьюторам активнее работать над привлечением подростковой аудитории, в том числе через маркетинговые кампании и социальные сети.\n",
    "\n",
    "2. **Расширение государственной поддержки:** Следует продолжать и расширять программы государственной поддержки кинопроизводства, особенно для проектов, нацеленных на несовершеннолетнюю аудиторию и проектов с высоким культурным и образовательным потенциалом.\n",
    "\n",
    "3. **Инвестиции в анимационные фильмы:** Учитывая высокий процент окупаемости анимационных фильмов, рекомендуется увеличить инвестиции в этот сегмент, как один из наиболее перспективных на рынке.\n",
    "\n",
    "4. **Качество и доступность:** Важно поддерживать высокое качество кинопродукции и ее доступность для широкой аудитории, включая разработку и продвижение фильмов, которые способствуют воспитанию и образованию молодежи.\n",
    "\n",
    "5. **Анализ данных и адаптация:** Рекомендуется продолжать сбор и анализ данных о кинопрокате для адаптации стратегий развития кинопроизводства и кинопроката к меняющимся трендам и предпочтениям аудитории.\n",
    "\n",
    "В заключение, данные и анализ показывают, что кинопрокат в России имеет большой потенциал для дальнейшего развития. Особое внимание следует уделить аудитории подростков, расширению государственной поддержки кинопроектов с высоким культурным и образовательным потенциалом, а также инвестициям в анимационные фильмы."
   ]
  }
 ],
 "metadata": {
  "ExecuteTimeLog": [
   {
    "duration": 537,
    "start_time": "2021-07-07T10:12:08.634Z"
   },
   {
    "duration": 206,
    "start_time": "2021-07-07T10:12:30.191Z"
   },
   {
    "duration": 227,
    "start_time": "2021-07-07T10:12:33.078Z"
   },
   {
    "duration": 153,
    "start_time": "2021-07-07T10:13:42.146Z"
   },
   {
    "duration": 233,
    "start_time": "2021-07-07T10:30:09.252Z"
   },
   {
    "duration": 19,
    "start_time": "2021-07-07T10:30:15.577Z"
   },
   {
    "duration": 18,
    "start_time": "2021-07-07T10:30:57.348Z"
   },
   {
    "duration": 19,
    "start_time": "2021-07-07T10:31:17.452Z"
   },
   {
    "duration": 21,
    "start_time": "2021-07-07T10:31:32.227Z"
   },
   {
    "duration": 27,
    "start_time": "2021-07-07T10:32:06.588Z"
   },
   {
    "duration": 23,
    "start_time": "2021-07-07T10:32:43.645Z"
   },
   {
    "duration": 24,
    "start_time": "2021-07-07T10:33:06.948Z"
   },
   {
    "duration": 7,
    "start_time": "2021-07-07T10:33:28.558Z"
   },
   {
    "duration": 23,
    "start_time": "2021-07-07T10:33:43.761Z"
   },
   {
    "duration": 28,
    "start_time": "2021-07-07T10:34:13.466Z"
   },
   {
    "duration": 23,
    "start_time": "2021-07-07T10:35:56.187Z"
   },
   {
    "duration": 6,
    "start_time": "2021-07-07T10:36:48.182Z"
   },
   {
    "duration": 14,
    "start_time": "2021-07-07T10:37:49.641Z"
   },
   {
    "duration": 6,
    "start_time": "2021-07-07T10:38:06.694Z"
   },
   {
    "duration": 6,
    "start_time": "2021-07-07T10:38:13.493Z"
   },
   {
    "duration": 19,
    "start_time": "2021-07-07T10:38:44.056Z"
   },
   {
    "duration": 186,
    "start_time": "2021-07-07T10:48:35.618Z"
   },
   {
    "duration": 24,
    "start_time": "2021-07-07T10:48:51.498Z"
   },
   {
    "duration": 20,
    "start_time": "2021-07-07T10:48:59.415Z"
   },
   {
    "duration": 20,
    "start_time": "2021-07-07T10:53:02.195Z"
   },
   {
    "duration": 188,
    "start_time": "2021-07-07T10:54:40.486Z"
   },
   {
    "duration": 115,
    "start_time": "2021-07-07T10:54:52.552Z"
   },
   {
    "duration": 214,
    "start_time": "2021-07-07T10:54:56.354Z"
   },
   {
    "duration": 47,
    "start_time": "2021-07-07T10:54:58.282Z"
   },
   {
    "duration": 217,
    "start_time": "2021-07-07T10:59:16.075Z"
   },
   {
    "duration": 51,
    "start_time": "2021-07-07T10:59:16.243Z"
   },
   {
    "duration": 578,
    "start_time": "2021-07-07T10:59:18.774Z"
   },
   {
    "duration": 161,
    "start_time": "2021-07-07T10:59:21.238Z"
   },
   {
    "duration": 59,
    "start_time": "2021-07-07T10:59:21.453Z"
   },
   {
    "duration": 3,
    "start_time": "2021-07-07T11:02:10.786Z"
   },
   {
    "duration": 13,
    "start_time": "2021-07-07T11:07:07.722Z"
   },
   {
    "duration": 26,
    "start_time": "2021-07-07T11:07:17.958Z"
   },
   {
    "duration": 22,
    "start_time": "2021-07-07T11:08:17.939Z"
   },
   {
    "duration": 212,
    "start_time": "2021-07-07T11:08:19.665Z"
   },
   {
    "duration": 21,
    "start_time": "2021-07-07T11:08:29.945Z"
   },
   {
    "duration": 31,
    "start_time": "2021-07-07T11:08:38.899Z"
   },
   {
    "duration": 23,
    "start_time": "2021-07-07T11:08:54.527Z"
   },
   {
    "duration": 8,
    "start_time": "2021-07-07T11:18:55.974Z"
   },
   {
    "duration": 7,
    "start_time": "2021-07-07T11:19:03.639Z"
   },
   {
    "duration": 7,
    "start_time": "2021-07-07T11:19:06.444Z"
   },
   {
    "duration": 578,
    "start_time": "2021-07-07T12:09:59.576Z"
   },
   {
    "duration": 195,
    "start_time": "2021-07-07T12:10:00.156Z"
   },
   {
    "duration": 115,
    "start_time": "2021-07-07T12:10:00.353Z"
   },
   {
    "duration": 3,
    "start_time": "2021-07-07T12:10:00.470Z"
   },
   {
    "duration": 32,
    "start_time": "2021-07-07T12:10:00.474Z"
   },
   {
    "duration": 23,
    "start_time": "2021-07-07T12:10:00.508Z"
   },
   {
    "duration": 19,
    "start_time": "2021-07-07T12:10:00.533Z"
   },
   {
    "duration": 44,
    "start_time": "2021-07-07T12:10:00.553Z"
   },
   {
    "duration": 7,
    "start_time": "2021-07-07T12:10:00.600Z"
   },
   {
    "duration": 7,
    "start_time": "2021-07-07T12:19:45.761Z"
   },
   {
    "duration": 21,
    "start_time": "2021-07-07T12:21:35.482Z"
   },
   {
    "duration": 21,
    "start_time": "2021-07-07T12:29:23.569Z"
   },
   {
    "duration": 525,
    "start_time": "2021-07-07T12:29:44.542Z"
   },
   {
    "duration": 214,
    "start_time": "2021-07-07T12:29:45.069Z"
   },
   {
    "duration": 92,
    "start_time": "2021-07-07T12:29:45.285Z"
   },
   {
    "duration": 3,
    "start_time": "2021-07-07T12:29:45.379Z"
   },
   {
    "duration": 28,
    "start_time": "2021-07-07T12:29:45.384Z"
   },
   {
    "duration": 23,
    "start_time": "2021-07-07T12:29:45.413Z"
   },
   {
    "duration": 21,
    "start_time": "2021-07-07T12:29:45.437Z"
   },
   {
    "duration": 41,
    "start_time": "2021-07-07T12:29:45.460Z"
   },
   {
    "duration": 7,
    "start_time": "2021-07-07T12:29:45.502Z"
   },
   {
    "duration": 20,
    "start_time": "2021-07-07T12:29:45.511Z"
   },
   {
    "duration": 12,
    "start_time": "2021-07-07T12:34:02.800Z"
   },
   {
    "duration": 7,
    "start_time": "2021-07-07T12:35:10.479Z"
   },
   {
    "duration": 8,
    "start_time": "2021-07-07T12:35:22.440Z"
   },
   {
    "duration": 6,
    "start_time": "2021-07-07T12:35:35.649Z"
   },
   {
    "duration": 6,
    "start_time": "2021-07-07T12:35:43.107Z"
   },
   {
    "duration": 22,
    "start_time": "2021-07-07T12:38:03.029Z"
   },
   {
    "duration": 10,
    "start_time": "2021-07-07T12:38:06.592Z"
   },
   {
    "duration": 563,
    "start_time": "2021-07-07T12:38:46.493Z"
   },
   {
    "duration": 265,
    "start_time": "2021-07-07T12:38:47.058Z"
   },
   {
    "duration": 94,
    "start_time": "2021-07-07T12:38:47.325Z"
   },
   {
    "duration": 3,
    "start_time": "2021-07-07T12:38:47.422Z"
   },
   {
    "duration": 30,
    "start_time": "2021-07-07T12:38:47.427Z"
   },
   {
    "duration": 16,
    "start_time": "2021-07-07T12:38:53.305Z"
   },
   {
    "duration": 10,
    "start_time": "2021-07-07T12:38:53.499Z"
   },
   {
    "duration": 8,
    "start_time": "2021-07-07T12:39:48.161Z"
   },
   {
    "duration": 27,
    "start_time": "2021-07-07T12:41:17.629Z"
   },
   {
    "duration": 17,
    "start_time": "2021-07-07T12:41:17.867Z"
   },
   {
    "duration": 21,
    "start_time": "2021-07-07T12:41:19.310Z"
   },
   {
    "duration": 7,
    "start_time": "2021-07-07T12:41:19.544Z"
   },
   {
    "duration": 20,
    "start_time": "2021-07-07T12:41:20.504Z"
   },
   {
    "duration": 554,
    "start_time": "2021-07-07T12:56:23.696Z"
   },
   {
    "duration": 200,
    "start_time": "2021-07-07T12:56:25.234Z"
   },
   {
    "duration": 119,
    "start_time": "2021-07-07T12:56:25.480Z"
   },
   {
    "duration": 4,
    "start_time": "2021-07-07T12:56:25.762Z"
   },
   {
    "duration": 26,
    "start_time": "2021-07-07T12:56:27.172Z"
   },
   {
    "duration": 12,
    "start_time": "2021-07-07T12:56:29.051Z"
   },
   {
    "duration": 10,
    "start_time": "2021-07-07T12:56:29.291Z"
   },
   {
    "duration": 8,
    "start_time": "2021-07-07T12:56:29.623Z"
   },
   {
    "duration": 28,
    "start_time": "2021-07-07T12:56:32.137Z"
   },
   {
    "duration": 19,
    "start_time": "2021-07-07T12:56:39.785Z"
   },
   {
    "duration": 20,
    "start_time": "2021-07-07T12:56:44.297Z"
   },
   {
    "duration": 7,
    "start_time": "2021-07-07T12:56:45.392Z"
   },
   {
    "duration": 23,
    "start_time": "2021-07-07T12:56:46.615Z"
   },
   {
    "duration": 4,
    "start_time": "2021-07-07T12:57:06.625Z"
   },
   {
    "duration": 32,
    "start_time": "2021-07-07T12:57:36.690Z"
   },
   {
    "duration": 18,
    "start_time": "2021-07-07T12:58:00.149Z"
   },
   {
    "duration": 15,
    "start_time": "2021-07-07T12:59:16.793Z"
   },
   {
    "duration": 7,
    "start_time": "2021-07-07T13:19:22.624Z"
   },
   {
    "duration": 6,
    "start_time": "2021-07-07T14:17:33.527Z"
   },
   {
    "duration": 9,
    "start_time": "2021-07-07T14:17:48.409Z"
   },
   {
    "duration": 8,
    "start_time": "2021-07-07T14:20:13.060Z"
   },
   {
    "duration": 8,
    "start_time": "2021-07-07T14:20:37.957Z"
   },
   {
    "duration": 8,
    "start_time": "2021-07-07T14:20:47.470Z"
   },
   {
    "duration": 9,
    "start_time": "2021-07-07T14:20:54.503Z"
   },
   {
    "duration": 10,
    "start_time": "2021-07-07T14:28:57.763Z"
   },
   {
    "duration": 3,
    "start_time": "2021-07-07T14:30:23.377Z"
   },
   {
    "duration": 3,
    "start_time": "2021-07-07T14:30:36.489Z"
   },
   {
    "duration": 103,
    "start_time": "2021-07-07T14:30:52.351Z"
   },
   {
    "duration": 8,
    "start_time": "2021-07-07T14:30:54.763Z"
   },
   {
    "duration": 8,
    "start_time": "2021-07-07T14:31:29.301Z"
   },
   {
    "duration": 13,
    "start_time": "2021-07-07T14:31:44.516Z"
   },
   {
    "duration": 7,
    "start_time": "2021-07-07T14:33:10.972Z"
   },
   {
    "duration": 11,
    "start_time": "2021-07-07T14:33:27.780Z"
   },
   {
    "duration": 8,
    "start_time": "2021-07-07T14:34:44.588Z"
   },
   {
    "duration": 57,
    "start_time": "2021-07-07T14:35:59.042Z"
   },
   {
    "duration": 3,
    "start_time": "2021-07-07T14:36:28.168Z"
   },
   {
    "duration": 5,
    "start_time": "2021-07-07T14:36:46.254Z"
   },
   {
    "duration": 4,
    "start_time": "2021-07-07T14:36:52.714Z"
   },
   {
    "duration": 3,
    "start_time": "2021-07-07T14:36:56.612Z"
   },
   {
    "duration": 4,
    "start_time": "2021-07-07T14:36:57.049Z"
   },
   {
    "duration": 3,
    "start_time": "2021-07-07T14:39:21.214Z"
   },
   {
    "duration": 7,
    "start_time": "2021-07-07T14:39:52.406Z"
   },
   {
    "duration": 11,
    "start_time": "2021-07-07T14:39:58.576Z"
   },
   {
    "duration": 9,
    "start_time": "2021-07-07T14:40:26.301Z"
   },
   {
    "duration": 10,
    "start_time": "2021-07-07T14:40:31.704Z"
   },
   {
    "duration": 11,
    "start_time": "2021-07-07T14:40:36.249Z"
   },
   {
    "duration": 10,
    "start_time": "2021-07-07T14:40:39.783Z"
   },
   {
    "duration": 9,
    "start_time": "2021-07-07T14:40:48.558Z"
   },
   {
    "duration": 10,
    "start_time": "2021-07-07T14:40:57.143Z"
   },
   {
    "duration": 9,
    "start_time": "2021-07-07T14:41:06.074Z"
   },
   {
    "duration": 4324,
    "start_time": "2021-07-07T14:41:22.004Z"
   },
   {
    "duration": 11,
    "start_time": "2021-07-07T14:41:33.392Z"
   },
   {
    "duration": 9,
    "start_time": "2021-07-07T14:41:39.288Z"
   },
   {
    "duration": 569,
    "start_time": "2021-07-07T14:42:14.387Z"
   },
   {
    "duration": 197,
    "start_time": "2021-07-07T14:42:14.959Z"
   },
   {
    "duration": 84,
    "start_time": "2021-07-07T14:42:16.052Z"
   },
   {
    "duration": 4,
    "start_time": "2021-07-07T14:42:16.900Z"
   },
   {
    "duration": 27,
    "start_time": "2021-07-07T14:42:19.898Z"
   },
   {
    "duration": 12,
    "start_time": "2021-07-07T14:42:21.577Z"
   },
   {
    "duration": 9,
    "start_time": "2021-07-07T14:42:21.813Z"
   },
   {
    "duration": 9,
    "start_time": "2021-07-07T14:42:22.569Z"
   },
   {
    "duration": 29,
    "start_time": "2021-07-07T14:42:25.837Z"
   },
   {
    "duration": 20,
    "start_time": "2021-07-07T14:42:27.003Z"
   },
   {
    "duration": 21,
    "start_time": "2021-07-07T14:42:28.767Z"
   },
   {
    "duration": 7,
    "start_time": "2021-07-07T14:42:29.838Z"
   },
   {
    "duration": 4,
    "start_time": "2021-07-07T14:43:25.493Z"
   },
   {
    "duration": 7,
    "start_time": "2021-07-07T14:43:26.573Z"
   },
   {
    "duration": 10,
    "start_time": "2021-07-07T14:43:31.639Z"
   },
   {
    "duration": 9,
    "start_time": "2021-07-07T14:43:32.046Z"
   },
   {
    "duration": 10,
    "start_time": "2021-07-07T14:43:33.301Z"
   },
   {
    "duration": 12,
    "start_time": "2021-07-07T14:43:33.658Z"
   },
   {
    "duration": 8,
    "start_time": "2021-07-07T14:43:34.552Z"
   },
   {
    "duration": 9,
    "start_time": "2021-07-07T14:43:35.058Z"
   },
   {
    "duration": 12,
    "start_time": "2021-07-07T14:43:35.914Z"
   },
   {
    "duration": 17,
    "start_time": "2021-07-07T14:45:34.368Z"
   },
   {
    "duration": 512,
    "start_time": "2021-07-07T14:51:58.236Z"
   },
   {
    "duration": 223,
    "start_time": "2021-07-07T14:51:58.750Z"
   },
   {
    "duration": 93,
    "start_time": "2021-07-07T14:51:58.977Z"
   },
   {
    "duration": 4,
    "start_time": "2021-07-07T14:51:59.071Z"
   },
   {
    "duration": 37,
    "start_time": "2021-07-07T14:51:59.077Z"
   },
   {
    "duration": 18,
    "start_time": "2021-07-07T14:51:59.116Z"
   },
   {
    "duration": 10,
    "start_time": "2021-07-07T14:51:59.137Z"
   },
   {
    "duration": 8,
    "start_time": "2021-07-07T14:51:59.149Z"
   },
   {
    "duration": 54,
    "start_time": "2021-07-07T14:51:59.158Z"
   },
   {
    "duration": 18,
    "start_time": "2021-07-07T14:51:59.213Z"
   },
   {
    "duration": 22,
    "start_time": "2021-07-07T14:51:59.232Z"
   },
   {
    "duration": 36,
    "start_time": "2021-07-07T14:51:59.255Z"
   },
   {
    "duration": 7,
    "start_time": "2021-07-07T14:51:59.293Z"
   },
   {
    "duration": 10,
    "start_time": "2021-07-07T14:51:59.302Z"
   },
   {
    "duration": 9,
    "start_time": "2021-07-07T14:51:59.313Z"
   },
   {
    "duration": 11,
    "start_time": "2021-07-07T14:51:59.324Z"
   },
   {
    "duration": 8,
    "start_time": "2021-07-07T14:51:59.337Z"
   },
   {
    "duration": 46,
    "start_time": "2021-07-07T14:51:59.347Z"
   },
   {
    "duration": 22,
    "start_time": "2021-07-07T14:51:59.395Z"
   },
   {
    "duration": 24,
    "start_time": "2021-07-07T14:57:32.911Z"
   },
   {
    "duration": 7,
    "start_time": "2021-07-07T14:58:22.070Z"
   },
   {
    "duration": 4,
    "start_time": "2021-07-07T14:59:11.239Z"
   },
   {
    "duration": 25,
    "start_time": "2021-07-07T15:07:22.208Z"
   },
   {
    "duration": 16,
    "start_time": "2021-07-07T15:08:25.560Z"
   },
   {
    "duration": 15,
    "start_time": "2021-07-07T15:08:40.647Z"
   },
   {
    "duration": 14,
    "start_time": "2021-07-07T15:08:46.669Z"
   },
   {
    "duration": 533,
    "start_time": "2021-07-07T15:18:07.440Z"
   },
   {
    "duration": 173,
    "start_time": "2021-07-07T15:18:07.974Z"
   },
   {
    "duration": 84,
    "start_time": "2021-07-07T15:18:08.149Z"
   },
   {
    "duration": 3,
    "start_time": "2021-07-07T15:18:08.235Z"
   },
   {
    "duration": 30,
    "start_time": "2021-07-07T15:18:08.240Z"
   },
   {
    "duration": 22,
    "start_time": "2021-07-07T15:18:08.272Z"
   },
   {
    "duration": 11,
    "start_time": "2021-07-07T15:18:08.295Z"
   },
   {
    "duration": 11,
    "start_time": "2021-07-07T15:18:08.309Z"
   },
   {
    "duration": 40,
    "start_time": "2021-07-07T15:18:08.322Z"
   },
   {
    "duration": 42,
    "start_time": "2021-07-07T15:18:08.364Z"
   },
   {
    "duration": 22,
    "start_time": "2021-07-07T15:18:08.408Z"
   },
   {
    "duration": 5,
    "start_time": "2021-07-07T15:18:08.432Z"
   },
   {
    "duration": 13,
    "start_time": "2021-07-07T15:18:08.439Z"
   },
   {
    "duration": 9,
    "start_time": "2021-07-07T15:18:08.454Z"
   },
   {
    "duration": 32,
    "start_time": "2021-07-07T15:18:08.465Z"
   },
   {
    "duration": 10,
    "start_time": "2021-07-07T15:18:08.501Z"
   },
   {
    "duration": 7,
    "start_time": "2021-07-07T15:18:08.513Z"
   },
   {
    "duration": 11,
    "start_time": "2021-07-07T15:18:08.521Z"
   },
   {
    "duration": 17,
    "start_time": "2021-07-07T15:18:08.534Z"
   },
   {
    "duration": 44,
    "start_time": "2021-07-07T15:18:08.553Z"
   },
   {
    "duration": 22,
    "start_time": "2021-07-07T15:18:08.599Z"
   },
   {
    "duration": 61,
    "start_time": "2021-07-07T15:18:08.622Z"
   },
   {
    "duration": 7,
    "start_time": "2021-07-07T15:18:39.457Z"
   },
   {
    "duration": 5,
    "start_time": "2021-07-07T16:05:17.020Z"
   },
   {
    "duration": 5,
    "start_time": "2021-07-07T16:51:28.794Z"
   },
   {
    "duration": 546,
    "start_time": "2021-07-07T16:52:26.306Z"
   },
   {
    "duration": 203,
    "start_time": "2021-07-07T16:52:27.523Z"
   },
   {
    "duration": 85,
    "start_time": "2021-07-07T16:52:27.736Z"
   },
   {
    "duration": 4,
    "start_time": "2021-07-07T16:52:27.899Z"
   },
   {
    "duration": 25,
    "start_time": "2021-07-07T16:52:28.674Z"
   },
   {
    "duration": 8,
    "start_time": "2021-07-07T16:52:32.956Z"
   },
   {
    "duration": 18,
    "start_time": "2021-07-07T16:52:35.616Z"
   },
   {
    "duration": 6,
    "start_time": "2021-07-07T16:52:36.913Z"
   },
   {
    "duration": 11,
    "start_time": "2021-07-07T16:52:40.258Z"
   },
   {
    "duration": 10,
    "start_time": "2021-07-07T16:52:46.251Z"
   },
   {
    "duration": 8,
    "start_time": "2021-07-07T16:52:47.182Z"
   },
   {
    "duration": 27,
    "start_time": "2021-07-07T16:53:20.391Z"
   },
   {
    "duration": 20,
    "start_time": "2021-07-07T16:53:22.022Z"
   },
   {
    "duration": 23,
    "start_time": "2021-07-07T16:53:23.690Z"
   },
   {
    "duration": 8,
    "start_time": "2021-07-07T16:53:24.261Z"
   },
   {
    "duration": 4,
    "start_time": "2021-07-07T16:53:38.733Z"
   },
   {
    "duration": 7,
    "start_time": "2021-07-07T16:53:40.445Z"
   },
   {
    "duration": 11,
    "start_time": "2021-07-07T16:53:41.348Z"
   },
   {
    "duration": 13,
    "start_time": "2021-07-07T16:53:45.250Z"
   },
   {
    "duration": 12,
    "start_time": "2021-07-07T16:53:45.467Z"
   },
   {
    "duration": 4,
    "start_time": "2021-07-07T16:55:32.704Z"
   },
   {
    "duration": 12,
    "start_time": "2021-07-07T16:55:49.012Z"
   },
   {
    "duration": 18,
    "start_time": "2021-07-07T16:55:49.547Z"
   },
   {
    "duration": 611,
    "start_time": "2021-07-07T16:58:35.156Z"
   },
   {
    "duration": 200,
    "start_time": "2021-07-07T16:58:35.770Z"
   },
   {
    "duration": 86,
    "start_time": "2021-07-07T16:58:35.972Z"
   },
   {
    "duration": 3,
    "start_time": "2021-07-07T16:58:36.060Z"
   },
   {
    "duration": 27,
    "start_time": "2021-07-07T16:58:36.065Z"
   },
   {
    "duration": 8,
    "start_time": "2021-07-07T16:58:36.094Z"
   },
   {
    "duration": 17,
    "start_time": "2021-07-07T16:58:36.103Z"
   },
   {
    "duration": 5,
    "start_time": "2021-07-07T16:58:36.123Z"
   },
   {
    "duration": 11,
    "start_time": "2021-07-07T16:58:36.130Z"
   },
   {
    "duration": 7,
    "start_time": "2021-07-07T16:58:36.143Z"
   },
   {
    "duration": 37,
    "start_time": "2021-07-07T16:58:36.152Z"
   },
   {
    "duration": 27,
    "start_time": "2021-07-07T16:58:36.191Z"
   },
   {
    "duration": 19,
    "start_time": "2021-07-07T16:58:36.219Z"
   },
   {
    "duration": 49,
    "start_time": "2021-07-07T16:58:36.240Z"
   },
   {
    "duration": 6,
    "start_time": "2021-07-07T16:58:36.291Z"
   },
   {
    "duration": 3,
    "start_time": "2021-07-07T16:58:36.299Z"
   },
   {
    "duration": 13,
    "start_time": "2021-07-07T16:58:36.304Z"
   },
   {
    "duration": 10,
    "start_time": "2021-07-07T16:58:36.319Z"
   },
   {
    "duration": 10,
    "start_time": "2021-07-07T16:58:36.331Z"
   },
   {
    "duration": 44,
    "start_time": "2021-07-07T16:58:36.343Z"
   },
   {
    "duration": 4,
    "start_time": "2021-07-07T16:58:36.388Z"
   },
   {
    "duration": 13,
    "start_time": "2021-07-07T16:58:36.394Z"
   },
   {
    "duration": 16,
    "start_time": "2021-07-07T16:58:36.410Z"
   },
   {
    "duration": 8,
    "start_time": "2021-07-07T17:02:31.629Z"
   },
   {
    "duration": 8,
    "start_time": "2021-07-07T17:02:34.308Z"
   },
   {
    "duration": 6,
    "start_time": "2021-07-07T17:05:13.483Z"
   },
   {
    "duration": 17,
    "start_time": "2021-07-07T17:05:20.606Z"
   },
   {
    "duration": 7,
    "start_time": "2021-07-07T17:05:34.638Z"
   },
   {
    "duration": 3,
    "start_time": "2021-07-07T17:06:31.883Z"
   },
   {
    "duration": 570,
    "start_time": "2021-07-07T17:06:37.165Z"
   },
   {
    "duration": 174,
    "start_time": "2021-07-07T17:06:37.737Z"
   },
   {
    "duration": 47,
    "start_time": "2021-07-07T17:06:37.913Z"
   },
   {
    "duration": 3,
    "start_time": "2021-07-07T17:06:37.962Z"
   },
   {
    "duration": 27,
    "start_time": "2021-07-07T17:06:37.967Z"
   },
   {
    "duration": 7,
    "start_time": "2021-07-07T17:06:37.996Z"
   },
   {
    "duration": 16,
    "start_time": "2021-07-07T17:06:38.005Z"
   },
   {
    "duration": 6,
    "start_time": "2021-07-07T17:06:38.024Z"
   },
   {
    "duration": 12,
    "start_time": "2021-07-07T17:06:38.031Z"
   },
   {
    "duration": 41,
    "start_time": "2021-07-07T17:06:38.045Z"
   },
   {
    "duration": 8,
    "start_time": "2021-07-07T17:06:38.088Z"
   },
   {
    "duration": 26,
    "start_time": "2021-07-07T17:06:38.098Z"
   },
   {
    "duration": 17,
    "start_time": "2021-07-07T17:06:38.126Z"
   },
   {
    "duration": 43,
    "start_time": "2021-07-07T17:06:38.144Z"
   },
   {
    "duration": 6,
    "start_time": "2021-07-07T17:06:38.188Z"
   },
   {
    "duration": 5,
    "start_time": "2021-07-07T17:06:38.195Z"
   },
   {
    "duration": 9,
    "start_time": "2021-07-07T17:06:38.201Z"
   },
   {
    "duration": 12,
    "start_time": "2021-07-07T17:06:38.212Z"
   },
   {
    "duration": 11,
    "start_time": "2021-07-07T17:06:38.226Z"
   },
   {
    "duration": 47,
    "start_time": "2021-07-07T17:06:38.239Z"
   },
   {
    "duration": 4,
    "start_time": "2021-07-07T17:06:38.288Z"
   },
   {
    "duration": 13,
    "start_time": "2021-07-07T17:06:38.293Z"
   },
   {
    "duration": 5,
    "start_time": "2021-07-07T17:06:38.309Z"
   },
   {
    "duration": 18,
    "start_time": "2021-07-07T17:06:38.325Z"
   },
   {
    "duration": 20,
    "start_time": "2021-07-07T17:07:02.805Z"
   },
   {
    "duration": 19,
    "start_time": "2021-07-07T17:07:08.527Z"
   },
   {
    "duration": 19,
    "start_time": "2021-07-07T17:07:12.758Z"
   },
   {
    "duration": 22,
    "start_time": "2021-07-07T17:07:17.497Z"
   },
   {
    "duration": 19,
    "start_time": "2021-07-07T17:07:19.645Z"
   },
   {
    "duration": 10,
    "start_time": "2021-07-07T17:07:34.239Z"
   },
   {
    "duration": 17,
    "start_time": "2021-07-07T17:07:54.144Z"
   },
   {
    "duration": 14,
    "start_time": "2021-07-07T17:08:14.357Z"
   },
   {
    "duration": 616,
    "start_time": "2021-07-07T17:08:45.254Z"
   },
   {
    "duration": 178,
    "start_time": "2021-07-07T17:08:45.872Z"
   },
   {
    "duration": 60,
    "start_time": "2021-07-07T17:08:46.054Z"
   },
   {
    "duration": 3,
    "start_time": "2021-07-07T17:08:46.116Z"
   },
   {
    "duration": 26,
    "start_time": "2021-07-07T17:08:46.121Z"
   },
   {
    "duration": 7,
    "start_time": "2021-07-07T17:08:46.149Z"
   },
   {
    "duration": 17,
    "start_time": "2021-07-07T17:08:46.158Z"
   },
   {
    "duration": 14,
    "start_time": "2021-07-07T17:08:46.176Z"
   },
   {
    "duration": 17,
    "start_time": "2021-07-07T17:08:46.193Z"
   },
   {
    "duration": 9,
    "start_time": "2021-07-07T17:08:46.211Z"
   },
   {
    "duration": 21,
    "start_time": "2021-07-07T17:08:46.221Z"
   },
   {
    "duration": 49,
    "start_time": "2021-07-07T17:08:46.244Z"
   },
   {
    "duration": 24,
    "start_time": "2021-07-07T17:08:46.295Z"
   },
   {
    "duration": 22,
    "start_time": "2021-07-07T17:08:46.321Z"
   },
   {
    "duration": 6,
    "start_time": "2021-07-07T17:08:46.345Z"
   },
   {
    "duration": 5,
    "start_time": "2021-07-07T17:08:46.353Z"
   },
   {
    "duration": 13,
    "start_time": "2021-07-07T17:08:46.386Z"
   },
   {
    "duration": 12,
    "start_time": "2021-07-07T17:08:46.402Z"
   },
   {
    "duration": 10,
    "start_time": "2021-07-07T17:08:46.415Z"
   },
   {
    "duration": 7,
    "start_time": "2021-07-07T17:08:46.427Z"
   },
   {
    "duration": 8,
    "start_time": "2021-07-07T17:08:46.435Z"
   },
   {
    "duration": 68,
    "start_time": "2021-07-07T17:08:46.446Z"
   },
   {
    "duration": 13,
    "start_time": "2021-07-07T17:08:46.516Z"
   },
   {
    "duration": 78,
    "start_time": "2021-07-07T17:08:46.530Z"
   },
   {
    "duration": 40,
    "start_time": "2021-07-07T17:09:08.185Z"
   },
   {
    "duration": 16,
    "start_time": "2021-07-07T17:09:19.324Z"
   },
   {
    "duration": 21,
    "start_time": "2021-07-07T17:09:23.290Z"
   },
   {
    "duration": 13,
    "start_time": "2021-07-07T17:09:54.812Z"
   },
   {
    "duration": 13,
    "start_time": "2021-07-07T17:10:02.039Z"
   },
   {
    "duration": 10,
    "start_time": "2021-07-07T17:10:29.632Z"
   },
   {
    "duration": 13,
    "start_time": "2021-07-07T17:10:52.372Z"
   },
   {
    "duration": 13,
    "start_time": "2021-07-07T17:11:17.270Z"
   },
   {
    "duration": 13,
    "start_time": "2021-07-07T17:14:59.284Z"
   },
   {
    "duration": 547,
    "start_time": "2021-07-07T17:18:52.403Z"
   },
   {
    "duration": 163,
    "start_time": "2021-07-07T17:18:52.952Z"
   },
   {
    "duration": 44,
    "start_time": "2021-07-07T17:18:53.117Z"
   },
   {
    "duration": 3,
    "start_time": "2021-07-07T17:18:53.162Z"
   },
   {
    "duration": 26,
    "start_time": "2021-07-07T17:18:53.167Z"
   },
   {
    "duration": 6,
    "start_time": "2021-07-07T17:18:53.195Z"
   },
   {
    "duration": 15,
    "start_time": "2021-07-07T17:18:53.203Z"
   },
   {
    "duration": 5,
    "start_time": "2021-07-07T17:18:53.220Z"
   },
   {
    "duration": 11,
    "start_time": "2021-07-07T17:18:53.228Z"
   },
   {
    "duration": 9,
    "start_time": "2021-07-07T17:18:53.241Z"
   },
   {
    "duration": 41,
    "start_time": "2021-07-07T17:18:53.252Z"
   },
   {
    "duration": 33,
    "start_time": "2021-07-07T17:18:53.295Z"
   },
   {
    "duration": 19,
    "start_time": "2021-07-07T17:18:53.330Z"
   },
   {
    "duration": 49,
    "start_time": "2021-07-07T17:18:53.350Z"
   },
   {
    "duration": 5,
    "start_time": "2021-07-07T17:18:53.401Z"
   },
   {
    "duration": 5,
    "start_time": "2021-07-07T17:18:53.408Z"
   },
   {
    "duration": 11,
    "start_time": "2021-07-07T17:18:53.414Z"
   },
   {
    "duration": 9,
    "start_time": "2021-07-07T17:18:53.427Z"
   },
   {
    "duration": 10,
    "start_time": "2021-07-07T17:18:53.437Z"
   },
   {
    "duration": 39,
    "start_time": "2021-07-07T17:18:53.448Z"
   },
   {
    "duration": 26,
    "start_time": "2021-07-07T17:18:55.799Z"
   },
   {
    "duration": 598,
    "start_time": "2021-07-07T17:20:17.862Z"
   },
   {
    "duration": 161,
    "start_time": "2021-07-07T17:20:18.462Z"
   },
   {
    "duration": 45,
    "start_time": "2021-07-07T17:20:18.626Z"
   },
   {
    "duration": 4,
    "start_time": "2021-07-07T17:20:18.673Z"
   },
   {
    "duration": 38,
    "start_time": "2021-07-07T17:20:26.877Z"
   },
   {
    "duration": 7,
    "start_time": "2021-07-07T17:20:37.405Z"
   },
   {
    "duration": 19,
    "start_time": "2021-07-07T17:20:51.534Z"
   },
   {
    "duration": 5,
    "start_time": "2021-07-07T17:20:57.228Z"
   },
   {
    "duration": 7,
    "start_time": "2021-07-07T17:21:08.235Z"
   },
   {
    "duration": 19,
    "start_time": "2021-07-07T17:21:42.158Z"
   },
   {
    "duration": 14,
    "start_time": "2021-07-07T17:21:50.225Z"
   },
   {
    "duration": 22,
    "start_time": "2021-07-07T17:22:54.104Z"
   },
   {
    "duration": 5,
    "start_time": "2021-07-07T17:22:56.371Z"
   },
   {
    "duration": 14,
    "start_time": "2021-07-07T17:22:58.316Z"
   },
   {
    "duration": 5,
    "start_time": "2021-07-07T17:22:58.493Z"
   },
   {
    "duration": 35,
    "start_time": "2021-07-07T17:22:59.666Z"
   },
   {
    "duration": 6,
    "start_time": "2021-07-07T17:23:02.410Z"
   },
   {
    "duration": 611,
    "start_time": "2021-07-07T17:24:59.664Z"
   },
   {
    "duration": 178,
    "start_time": "2021-07-07T17:25:01.945Z"
   },
   {
    "duration": 47,
    "start_time": "2021-07-07T17:25:02.125Z"
   },
   {
    "duration": 2,
    "start_time": "2021-07-07T17:25:07.903Z"
   },
   {
    "duration": 254,
    "start_time": "2021-07-07T17:25:08.232Z"
   },
   {
    "duration": 182,
    "start_time": "2021-07-07T17:25:08.671Z"
   },
   {
    "duration": 6,
    "start_time": "2021-07-07T17:25:13.104Z"
   },
   {
    "duration": 36,
    "start_time": "2021-07-07T17:25:13.662Z"
   },
   {
    "duration": 7,
    "start_time": "2021-07-07T17:25:14.528Z"
   },
   {
    "duration": 24,
    "start_time": "2021-07-07T17:25:27.982Z"
   },
   {
    "duration": 3,
    "start_time": "2021-07-07T17:25:48.982Z"
   },
   {
    "duration": 165,
    "start_time": "2021-07-07T17:25:48.987Z"
   },
   {
    "duration": 50,
    "start_time": "2021-07-07T17:25:49.154Z"
   },
   {
    "duration": 4,
    "start_time": "2021-07-07T17:25:49.206Z"
   },
   {
    "duration": 26,
    "start_time": "2021-07-07T17:25:49.212Z"
   },
   {
    "duration": 7,
    "start_time": "2021-07-07T17:25:49.240Z"
   },
   {
    "duration": 16,
    "start_time": "2021-07-07T17:25:49.249Z"
   },
   {
    "duration": 22,
    "start_time": "2021-07-07T17:25:49.266Z"
   },
   {
    "duration": 16,
    "start_time": "2021-07-07T17:25:49.291Z"
   },
   {
    "duration": 9,
    "start_time": "2021-07-07T17:25:49.309Z"
   },
   {
    "duration": 7,
    "start_time": "2021-07-07T17:25:49.319Z"
   },
   {
    "duration": 28,
    "start_time": "2021-07-07T17:25:49.328Z"
   },
   {
    "duration": 44,
    "start_time": "2021-07-07T17:25:49.357Z"
   },
   {
    "duration": 22,
    "start_time": "2021-07-07T17:25:49.403Z"
   },
   {
    "duration": 7,
    "start_time": "2021-07-07T17:25:49.427Z"
   },
   {
    "duration": 3,
    "start_time": "2021-07-07T17:25:49.436Z"
   },
   {
    "duration": 44,
    "start_time": "2021-07-07T17:25:49.441Z"
   },
   {
    "duration": 12,
    "start_time": "2021-07-07T17:25:49.488Z"
   },
   {
    "duration": 13,
    "start_time": "2021-07-07T17:25:49.502Z"
   },
   {
    "duration": 10,
    "start_time": "2021-07-07T17:25:49.516Z"
   },
   {
    "duration": 62,
    "start_time": "2021-07-07T17:25:49.527Z"
   },
   {
    "duration": 26,
    "start_time": "2021-07-07T17:26:51.809Z"
   },
   {
    "duration": 26,
    "start_time": "2021-07-07T17:26:55.759Z"
   },
   {
    "duration": 26,
    "start_time": "2021-07-07T17:27:04.501Z"
   },
   {
    "duration": 25,
    "start_time": "2021-07-07T17:28:24.859Z"
   },
   {
    "duration": 21,
    "start_time": "2021-07-07T17:28:55.250Z"
   },
   {
    "duration": 21,
    "start_time": "2021-07-07T17:28:58.885Z"
   },
   {
    "duration": 7,
    "start_time": "2021-07-07T17:45:40.972Z"
   },
   {
    "duration": 13,
    "start_time": "2021-07-07T17:45:42.529Z"
   },
   {
    "duration": 27,
    "start_time": "2021-07-07T17:45:51.026Z"
   },
   {
    "duration": 518,
    "start_time": "2021-07-07T17:46:15.532Z"
   },
   {
    "duration": 235,
    "start_time": "2021-07-07T17:46:16.053Z"
   },
   {
    "duration": 80,
    "start_time": "2021-07-07T17:46:16.292Z"
   },
   {
    "duration": 5,
    "start_time": "2021-07-07T17:46:16.373Z"
   },
   {
    "duration": 26,
    "start_time": "2021-07-07T17:46:16.380Z"
   },
   {
    "duration": 7,
    "start_time": "2021-07-07T17:46:16.408Z"
   },
   {
    "duration": 16,
    "start_time": "2021-07-07T17:46:16.418Z"
   },
   {
    "duration": 5,
    "start_time": "2021-07-07T17:46:16.436Z"
   },
   {
    "duration": 13,
    "start_time": "2021-07-07T17:46:16.442Z"
   },
   {
    "duration": 35,
    "start_time": "2021-07-07T17:46:16.456Z"
   },
   {
    "duration": 8,
    "start_time": "2021-07-07T17:46:16.493Z"
   },
   {
    "duration": 28,
    "start_time": "2021-07-07T17:46:16.502Z"
   },
   {
    "duration": 17,
    "start_time": "2021-07-07T17:46:16.532Z"
   },
   {
    "duration": 44,
    "start_time": "2021-07-07T17:46:16.551Z"
   },
   {
    "duration": 6,
    "start_time": "2021-07-07T17:46:16.597Z"
   },
   {
    "duration": 4,
    "start_time": "2021-07-07T17:46:16.605Z"
   },
   {
    "duration": 9,
    "start_time": "2021-07-07T17:46:16.610Z"
   },
   {
    "duration": 9,
    "start_time": "2021-07-07T17:46:16.621Z"
   },
   {
    "duration": 10,
    "start_time": "2021-07-07T17:46:16.632Z"
   },
   {
    "duration": 43,
    "start_time": "2021-07-07T17:46:16.644Z"
   },
   {
    "duration": 26,
    "start_time": "2021-07-07T17:46:16.689Z"
   },
   {
    "duration": 19,
    "start_time": "2021-07-07T17:46:16.718Z"
   },
   {
    "duration": 8,
    "start_time": "2021-07-07T17:46:16.738Z"
   },
   {
    "duration": 43,
    "start_time": "2021-07-07T17:46:16.747Z"
   },
   {
    "duration": 19,
    "start_time": "2021-07-07T17:46:16.791Z"
   },
   {
    "duration": 9,
    "start_time": "2021-07-07T17:46:16.812Z"
   },
   {
    "duration": 60,
    "start_time": "2021-07-07T17:46:16.822Z"
   },
   {
    "duration": -8,
    "start_time": "2021-07-07T17:46:16.892Z"
   },
   {
    "duration": 12,
    "start_time": "2021-07-07T17:48:47.707Z"
   },
   {
    "duration": 553,
    "start_time": "2021-07-07T18:10:09.350Z"
   },
   {
    "duration": 230,
    "start_time": "2021-07-07T18:10:09.905Z"
   },
   {
    "duration": 97,
    "start_time": "2021-07-07T18:10:10.137Z"
   },
   {
    "duration": 5,
    "start_time": "2021-07-07T18:10:10.236Z"
   },
   {
    "duration": 29,
    "start_time": "2021-07-07T18:10:10.242Z"
   },
   {
    "duration": 7,
    "start_time": "2021-07-07T18:10:10.272Z"
   },
   {
    "duration": 15,
    "start_time": "2021-07-07T18:10:10.281Z"
   },
   {
    "duration": 4,
    "start_time": "2021-07-07T18:10:10.299Z"
   },
   {
    "duration": 14,
    "start_time": "2021-07-07T18:10:10.305Z"
   },
   {
    "duration": 8,
    "start_time": "2021-07-07T18:10:10.321Z"
   },
   {
    "duration": 8,
    "start_time": "2021-07-07T18:10:10.331Z"
   },
   {
    "duration": 56,
    "start_time": "2021-07-07T18:10:10.341Z"
   },
   {
    "duration": 19,
    "start_time": "2021-07-07T18:10:10.399Z"
   },
   {
    "duration": 23,
    "start_time": "2021-07-07T18:10:10.419Z"
   },
   {
    "duration": 6,
    "start_time": "2021-07-07T18:10:10.444Z"
   },
   {
    "duration": 9,
    "start_time": "2021-07-07T18:10:10.451Z"
   },
   {
    "duration": 30,
    "start_time": "2021-07-07T18:10:10.462Z"
   },
   {
    "duration": 9,
    "start_time": "2021-07-07T18:10:10.494Z"
   },
   {
    "duration": 14,
    "start_time": "2021-07-07T18:10:10.505Z"
   },
   {
    "duration": 7,
    "start_time": "2021-07-07T18:10:10.521Z"
   },
   {
    "duration": 26,
    "start_time": "2021-07-07T18:10:10.530Z"
   },
   {
    "duration": 44,
    "start_time": "2021-07-07T18:10:10.558Z"
   },
   {
    "duration": 7,
    "start_time": "2021-07-07T18:10:10.605Z"
   },
   {
    "duration": 11,
    "start_time": "2021-07-07T18:10:10.614Z"
   },
   {
    "duration": 19,
    "start_time": "2021-07-07T18:10:10.626Z"
   },
   {
    "duration": 44,
    "start_time": "2021-07-07T18:10:10.646Z"
   },
   {
    "duration": 516,
    "start_time": "2021-07-07T18:14:00.826Z"
   },
   {
    "duration": 230,
    "start_time": "2021-07-07T18:14:01.344Z"
   },
   {
    "duration": 105,
    "start_time": "2021-07-07T18:14:01.576Z"
   },
   {
    "duration": 5,
    "start_time": "2021-07-07T18:14:01.683Z"
   },
   {
    "duration": 46,
    "start_time": "2021-07-07T18:14:01.690Z"
   },
   {
    "duration": 7,
    "start_time": "2021-07-07T18:14:01.738Z"
   },
   {
    "duration": 20,
    "start_time": "2021-07-07T18:14:01.747Z"
   },
   {
    "duration": 16,
    "start_time": "2021-07-07T18:14:01.769Z"
   },
   {
    "duration": 14,
    "start_time": "2021-07-07T18:14:01.787Z"
   },
   {
    "duration": 15,
    "start_time": "2021-07-07T18:14:01.803Z"
   },
   {
    "duration": 12,
    "start_time": "2021-07-07T18:14:01.820Z"
   },
   {
    "duration": 35,
    "start_time": "2021-07-07T18:14:01.833Z"
   },
   {
    "duration": 31,
    "start_time": "2021-07-07T18:14:01.869Z"
   },
   {
    "duration": 37,
    "start_time": "2021-07-07T18:14:01.902Z"
   },
   {
    "duration": 8,
    "start_time": "2021-07-07T18:14:01.942Z"
   },
   {
    "duration": 16,
    "start_time": "2021-07-07T18:14:01.952Z"
   },
   {
    "duration": 13,
    "start_time": "2021-07-07T18:14:01.970Z"
   },
   {
    "duration": 32,
    "start_time": "2021-07-07T18:14:01.985Z"
   },
   {
    "duration": 11,
    "start_time": "2021-07-07T18:14:02.019Z"
   },
   {
    "duration": 22,
    "start_time": "2021-07-07T18:14:02.031Z"
   },
   {
    "duration": 27,
    "start_time": "2021-07-07T18:14:02.055Z"
   },
   {
    "duration": 18,
    "start_time": "2021-07-07T18:14:02.084Z"
   },
   {
    "duration": 18,
    "start_time": "2021-07-07T18:14:02.106Z"
   },
   {
    "duration": 11,
    "start_time": "2021-07-07T18:14:02.126Z"
   },
   {
    "duration": 21,
    "start_time": "2021-07-07T18:14:02.138Z"
   },
   {
    "duration": 32,
    "start_time": "2021-07-07T18:14:02.161Z"
   },
   {
    "duration": 28,
    "start_time": "2021-07-07T18:14:44.295Z"
   },
   {
    "duration": 6,
    "start_time": "2021-07-07T18:15:05.834Z"
   },
   {
    "duration": 511,
    "start_time": "2021-07-07T18:15:41.541Z"
   },
   {
    "duration": 183,
    "start_time": "2021-07-07T18:15:42.054Z"
   },
   {
    "duration": 50,
    "start_time": "2021-07-07T18:15:42.239Z"
   },
   {
    "duration": 5,
    "start_time": "2021-07-07T18:15:42.291Z"
   },
   {
    "duration": 48,
    "start_time": "2021-07-07T18:15:42.297Z"
   },
   {
    "duration": 8,
    "start_time": "2021-07-07T18:15:42.346Z"
   },
   {
    "duration": 17,
    "start_time": "2021-07-07T18:15:42.356Z"
   },
   {
    "duration": 15,
    "start_time": "2021-07-07T18:15:42.375Z"
   },
   {
    "duration": 12,
    "start_time": "2021-07-07T18:15:42.392Z"
   },
   {
    "duration": 7,
    "start_time": "2021-07-07T18:15:42.406Z"
   },
   {
    "duration": 7,
    "start_time": "2021-07-07T18:15:42.415Z"
   },
   {
    "duration": 29,
    "start_time": "2021-07-07T18:15:42.423Z"
   },
   {
    "duration": 43,
    "start_time": "2021-07-07T18:15:42.453Z"
   },
   {
    "duration": 18,
    "start_time": "2021-07-07T18:15:42.497Z"
   },
   {
    "duration": 6,
    "start_time": "2021-07-07T18:15:42.516Z"
   },
   {
    "duration": 3,
    "start_time": "2021-07-07T18:15:42.523Z"
   },
   {
    "duration": 18,
    "start_time": "2021-07-07T18:15:42.528Z"
   },
   {
    "duration": 10,
    "start_time": "2021-07-07T18:15:42.547Z"
   },
   {
    "duration": 36,
    "start_time": "2021-07-07T18:15:42.559Z"
   },
   {
    "duration": 8,
    "start_time": "2021-07-07T18:15:42.597Z"
   },
   {
    "duration": 28,
    "start_time": "2021-07-07T18:15:42.606Z"
   },
   {
    "duration": 52,
    "start_time": "2021-07-07T18:15:42.635Z"
   },
   {
    "duration": 7,
    "start_time": "2021-07-07T18:15:42.690Z"
   },
   {
    "duration": 10,
    "start_time": "2021-07-07T18:15:42.699Z"
   },
   {
    "duration": 19,
    "start_time": "2021-07-07T18:15:42.711Z"
   },
   {
    "duration": 9,
    "start_time": "2021-07-07T18:15:42.732Z"
   },
   {
    "duration": 5,
    "start_time": "2021-07-07T18:15:42.743Z"
   },
   {
    "duration": 1450,
    "start_time": "2021-07-07T18:15:51.984Z"
   },
   {
    "duration": 161,
    "start_time": "2021-07-07T18:15:53.435Z"
   },
   {
    "duration": 124,
    "start_time": "2021-07-07T18:15:53.598Z"
   },
   {
    "duration": 5,
    "start_time": "2021-07-07T18:15:53.724Z"
   },
   {
    "duration": 34,
    "start_time": "2021-07-07T18:15:53.730Z"
   },
   {
    "duration": 7,
    "start_time": "2021-07-07T18:15:53.765Z"
   },
   {
    "duration": 15,
    "start_time": "2021-07-07T18:15:53.773Z"
   },
   {
    "duration": 5,
    "start_time": "2021-07-07T18:15:53.791Z"
   },
   {
    "duration": 19,
    "start_time": "2021-07-07T18:15:53.798Z"
   },
   {
    "duration": 9,
    "start_time": "2021-07-07T18:15:53.818Z"
   },
   {
    "duration": 19,
    "start_time": "2021-07-07T18:15:53.828Z"
   },
   {
    "duration": 27,
    "start_time": "2021-07-07T18:15:53.848Z"
   },
   {
    "duration": 16,
    "start_time": "2021-07-07T18:15:53.884Z"
   },
   {
    "duration": 29,
    "start_time": "2021-07-07T18:15:53.901Z"
   },
   {
    "duration": 5,
    "start_time": "2021-07-07T18:15:53.932Z"
   },
   {
    "duration": 15,
    "start_time": "2021-07-07T18:15:53.939Z"
   },
   {
    "duration": 13,
    "start_time": "2021-07-07T18:15:53.956Z"
   },
   {
    "duration": 20,
    "start_time": "2021-07-07T18:15:53.971Z"
   },
   {
    "duration": 14,
    "start_time": "2021-07-07T18:15:53.992Z"
   },
   {
    "duration": 9,
    "start_time": "2021-07-07T18:15:54.009Z"
   },
   {
    "duration": 28,
    "start_time": "2021-07-07T18:15:54.020Z"
   },
   {
    "duration": 50,
    "start_time": "2021-07-07T18:15:54.051Z"
   },
   {
    "duration": 8,
    "start_time": "2021-07-07T18:15:54.105Z"
   },
   {
    "duration": 11,
    "start_time": "2021-07-07T18:15:54.115Z"
   },
   {
    "duration": 20,
    "start_time": "2021-07-07T18:15:54.128Z"
   },
   {
    "duration": 13,
    "start_time": "2021-07-07T18:15:54.184Z"
   },
   {
    "duration": 7,
    "start_time": "2021-07-07T18:15:54.199Z"
   },
   {
    "duration": 7,
    "start_time": "2021-07-07T18:17:08.042Z"
   },
   {
    "duration": 8,
    "start_time": "2021-07-07T18:17:21.008Z"
   },
   {
    "duration": 7,
    "start_time": "2021-07-07T18:17:29.003Z"
   },
   {
    "duration": 8,
    "start_time": "2021-07-07T18:17:32.492Z"
   },
   {
    "duration": 9,
    "start_time": "2021-07-07T18:17:41.758Z"
   },
   {
    "duration": 255,
    "start_time": "2021-07-07T18:20:20.897Z"
   },
   {
    "duration": 173,
    "start_time": "2021-07-07T18:20:26.636Z"
   },
   {
    "duration": 7,
    "start_time": "2021-07-07T18:21:47.164Z"
   },
   {
    "duration": 254,
    "start_time": "2021-07-07T18:23:08.703Z"
   },
   {
    "duration": 21,
    "start_time": "2021-07-07T18:23:22.506Z"
   },
   {
    "duration": 315,
    "start_time": "2021-07-07T18:25:54.801Z"
   },
   {
    "duration": 34,
    "start_time": "2021-07-07T18:26:51.817Z"
   },
   {
    "duration": 327,
    "start_time": "2021-07-07T18:26:56.147Z"
   },
   {
    "duration": 342,
    "start_time": "2021-07-07T18:27:15.887Z"
   },
   {
    "duration": 302,
    "start_time": "2021-07-07T18:28:18.569Z"
   },
   {
    "duration": 226,
    "start_time": "2021-07-07T18:29:20.879Z"
   },
   {
    "duration": 207,
    "start_time": "2021-07-07T18:29:58.114Z"
   },
   {
    "duration": 140,
    "start_time": "2021-07-07T18:32:04.372Z"
   },
   {
    "duration": 158,
    "start_time": "2021-07-07T18:32:32.508Z"
   },
   {
    "duration": 145,
    "start_time": "2021-07-07T18:32:41.365Z"
   },
   {
    "duration": 132,
    "start_time": "2021-07-07T18:32:45.199Z"
   },
   {
    "duration": 11,
    "start_time": "2021-07-07T18:35:24.679Z"
   },
   {
    "duration": 268,
    "start_time": "2021-07-07T18:36:16.145Z"
   },
   {
    "duration": 227,
    "start_time": "2021-07-07T18:37:04.918Z"
   },
   {
    "duration": 3,
    "start_time": "2021-07-07T18:37:33.012Z"
   },
   {
    "duration": 671,
    "start_time": "2021-07-07T18:37:38.295Z"
   },
   {
    "duration": 54,
    "start_time": "2021-07-07T18:37:53.406Z"
   },
   {
    "duration": 631,
    "start_time": "2021-07-07T18:37:56.463Z"
   },
   {
    "duration": 19,
    "start_time": "2021-07-07T18:39:40.535Z"
   },
   {
    "duration": 20,
    "start_time": "2021-07-07T18:40:12.236Z"
   },
   {
    "duration": 633,
    "start_time": "2021-07-07T18:42:00.398Z"
   },
   {
    "duration": 218,
    "start_time": "2021-07-07T18:42:01.033Z"
   },
   {
    "duration": 49,
    "start_time": "2021-07-07T18:42:01.253Z"
   },
   {
    "duration": 5,
    "start_time": "2021-07-07T18:42:01.303Z"
   },
   {
    "duration": 27,
    "start_time": "2021-07-07T18:42:01.310Z"
   },
   {
    "duration": 8,
    "start_time": "2021-07-07T18:42:01.339Z"
   },
   {
    "duration": 20,
    "start_time": "2021-07-07T18:42:01.348Z"
   },
   {
    "duration": 6,
    "start_time": "2021-07-07T18:42:01.386Z"
   },
   {
    "duration": 16,
    "start_time": "2021-07-07T18:42:01.394Z"
   },
   {
    "duration": 9,
    "start_time": "2021-07-07T18:42:01.411Z"
   },
   {
    "duration": 11,
    "start_time": "2021-07-07T18:42:01.421Z"
   },
   {
    "duration": 31,
    "start_time": "2021-07-07T18:42:01.434Z"
   },
   {
    "duration": 18,
    "start_time": "2021-07-07T18:42:01.485Z"
   },
   {
    "duration": 23,
    "start_time": "2021-07-07T18:42:01.505Z"
   },
   {
    "duration": 6,
    "start_time": "2021-07-07T18:42:01.530Z"
   },
   {
    "duration": 10,
    "start_time": "2021-07-07T18:42:01.538Z"
   },
   {
    "duration": 13,
    "start_time": "2021-07-07T18:42:01.550Z"
   },
   {
    "duration": 24,
    "start_time": "2021-07-07T18:42:01.564Z"
   },
   {
    "duration": 20,
    "start_time": "2021-07-07T18:42:01.590Z"
   },
   {
    "duration": 8,
    "start_time": "2021-07-07T18:42:01.611Z"
   },
   {
    "duration": 31,
    "start_time": "2021-07-07T18:42:01.620Z"
   },
   {
    "duration": 39,
    "start_time": "2021-07-07T18:42:01.653Z"
   },
   {
    "duration": 8,
    "start_time": "2021-07-07T18:42:01.696Z"
   },
   {
    "duration": 13,
    "start_time": "2021-07-07T18:42:01.705Z"
   },
   {
    "duration": 20,
    "start_time": "2021-07-07T18:42:01.720Z"
   },
   {
    "duration": 12,
    "start_time": "2021-07-07T18:42:01.741Z"
   },
   {
    "duration": 35,
    "start_time": "2021-07-07T18:42:01.755Z"
   },
   {
    "duration": 14,
    "start_time": "2021-07-07T18:42:01.792Z"
   },
   {
    "duration": 188,
    "start_time": "2021-07-07T18:42:01.808Z"
   },
   {
    "duration": 19,
    "start_time": "2021-07-07T18:42:01.998Z"
   },
   {
    "duration": 175,
    "start_time": "2021-07-07T18:42:02.019Z"
   },
   {
    "duration": 134,
    "start_time": "2021-07-07T18:42:02.196Z"
   },
   {
    "duration": 10,
    "start_time": "2021-07-07T18:42:02.331Z"
   },
   {
    "duration": 19,
    "start_time": "2021-07-07T18:42:02.343Z"
   },
   {
    "duration": 628,
    "start_time": "2021-07-07T18:46:30.701Z"
   },
   {
    "duration": 183,
    "start_time": "2021-07-07T18:46:31.331Z"
   },
   {
    "duration": 48,
    "start_time": "2021-07-07T18:46:31.516Z"
   },
   {
    "duration": 5,
    "start_time": "2021-07-07T18:46:31.566Z"
   },
   {
    "duration": 28,
    "start_time": "2021-07-07T18:46:31.572Z"
   },
   {
    "duration": 8,
    "start_time": "2021-07-07T18:46:31.602Z"
   },
   {
    "duration": 19,
    "start_time": "2021-07-07T18:46:31.611Z"
   },
   {
    "duration": 6,
    "start_time": "2021-07-07T18:46:31.633Z"
   },
   {
    "duration": 17,
    "start_time": "2021-07-07T18:46:31.642Z"
   },
   {
    "duration": 10,
    "start_time": "2021-07-07T18:46:31.684Z"
   },
   {
    "duration": 9,
    "start_time": "2021-07-07T18:46:31.695Z"
   },
   {
    "duration": 28,
    "start_time": "2021-07-07T18:46:31.705Z"
   },
   {
    "duration": 18,
    "start_time": "2021-07-07T18:46:31.735Z"
   },
   {
    "duration": 48,
    "start_time": "2021-07-07T18:46:31.755Z"
   },
   {
    "duration": 6,
    "start_time": "2021-07-07T18:46:31.804Z"
   },
   {
    "duration": 4,
    "start_time": "2021-07-07T18:46:31.812Z"
   },
   {
    "duration": 9,
    "start_time": "2021-07-07T18:46:31.817Z"
   },
   {
    "duration": 10,
    "start_time": "2021-07-07T18:46:31.827Z"
   },
   {
    "duration": 12,
    "start_time": "2021-07-07T18:46:31.838Z"
   },
   {
    "duration": 39,
    "start_time": "2021-07-07T18:46:31.851Z"
   },
   {
    "duration": 24,
    "start_time": "2021-07-07T18:46:31.892Z"
   },
   {
    "duration": 15,
    "start_time": "2021-07-07T18:46:31.918Z"
   },
   {
    "duration": 7,
    "start_time": "2021-07-07T18:46:31.936Z"
   },
   {
    "duration": 8,
    "start_time": "2021-07-07T18:46:31.944Z"
   },
   {
    "duration": 19,
    "start_time": "2021-07-07T18:46:31.984Z"
   },
   {
    "duration": 10,
    "start_time": "2021-07-07T18:46:32.004Z"
   },
   {
    "duration": 5,
    "start_time": "2021-07-07T18:46:32.016Z"
   },
   {
    "duration": 9,
    "start_time": "2021-07-07T18:46:32.023Z"
   },
   {
    "duration": 199,
    "start_time": "2021-07-07T18:46:32.033Z"
   },
   {
    "duration": 19,
    "start_time": "2021-07-07T18:46:32.234Z"
   },
   {
    "duration": 159,
    "start_time": "2021-07-07T18:46:32.255Z"
   },
   {
    "duration": 134,
    "start_time": "2021-07-07T18:46:32.416Z"
   },
   {
    "duration": 10,
    "start_time": "2021-07-07T18:46:32.552Z"
   },
   {
    "duration": 34,
    "start_time": "2021-07-07T18:46:32.563Z"
   },
   {
    "duration": 1039,
    "start_time": "2021-07-08T08:41:09.419Z"
   },
   {
    "duration": 333,
    "start_time": "2021-07-08T08:41:10.459Z"
   },
   {
    "duration": 173,
    "start_time": "2021-07-08T08:41:10.794Z"
   },
   {
    "duration": 5,
    "start_time": "2021-07-08T08:41:10.968Z"
   },
   {
    "duration": 25,
    "start_time": "2021-07-08T08:41:10.975Z"
   },
   {
    "duration": 9,
    "start_time": "2021-07-08T08:41:11.002Z"
   },
   {
    "duration": 18,
    "start_time": "2021-07-08T08:41:11.013Z"
   },
   {
    "duration": 6,
    "start_time": "2021-07-08T08:41:11.033Z"
   },
   {
    "duration": 44,
    "start_time": "2021-07-08T08:41:11.042Z"
   },
   {
    "duration": 10,
    "start_time": "2021-07-08T08:41:11.088Z"
   },
   {
    "duration": 9,
    "start_time": "2021-07-08T08:41:11.100Z"
   },
   {
    "duration": 27,
    "start_time": "2021-07-08T08:41:11.111Z"
   },
   {
    "duration": 46,
    "start_time": "2021-07-08T08:41:11.140Z"
   },
   {
    "duration": 17,
    "start_time": "2021-07-08T08:41:11.187Z"
   },
   {
    "duration": 6,
    "start_time": "2021-07-08T08:41:11.206Z"
   },
   {
    "duration": 5,
    "start_time": "2021-07-08T08:41:11.213Z"
   },
   {
    "duration": 10,
    "start_time": "2021-07-08T08:41:11.219Z"
   },
   {
    "duration": 9,
    "start_time": "2021-07-08T08:41:11.230Z"
   },
   {
    "duration": 45,
    "start_time": "2021-07-08T08:41:11.241Z"
   },
   {
    "duration": 7,
    "start_time": "2021-07-08T08:41:11.287Z"
   },
   {
    "duration": 24,
    "start_time": "2021-07-08T08:41:11.296Z"
   },
   {
    "duration": 16,
    "start_time": "2021-07-08T08:41:11.322Z"
   },
   {
    "duration": 7,
    "start_time": "2021-07-08T08:41:11.341Z"
   },
   {
    "duration": 41,
    "start_time": "2021-07-08T08:41:11.349Z"
   },
   {
    "duration": 17,
    "start_time": "2021-07-08T08:41:11.391Z"
   },
   {
    "duration": 9,
    "start_time": "2021-07-08T08:41:11.410Z"
   },
   {
    "duration": 5,
    "start_time": "2021-07-08T08:41:11.421Z"
   },
   {
    "duration": 6,
    "start_time": "2021-07-08T08:41:11.428Z"
   },
   {
    "duration": 198,
    "start_time": "2021-07-08T08:41:11.435Z"
   },
   {
    "duration": 18,
    "start_time": "2021-07-08T08:41:11.635Z"
   },
   {
    "duration": 155,
    "start_time": "2021-07-08T08:41:11.655Z"
   },
   {
    "duration": 138,
    "start_time": "2021-07-08T08:41:11.811Z"
   },
   {
    "duration": 10,
    "start_time": "2021-07-08T08:41:11.950Z"
   },
   {
    "duration": 29,
    "start_time": "2021-07-08T08:41:11.961Z"
   },
   {
    "duration": 171,
    "start_time": "2021-07-08T08:47:44.522Z"
   },
   {
    "duration": 124,
    "start_time": "2021-07-08T08:47:46.872Z"
   },
   {
    "duration": 191,
    "start_time": "2021-07-08T08:47:58.148Z"
   },
   {
    "duration": 191,
    "start_time": "2021-07-08T08:48:07.412Z"
   },
   {
    "duration": 261,
    "start_time": "2021-07-08T08:48:10.385Z"
   },
   {
    "duration": 255,
    "start_time": "2021-07-08T08:48:14.494Z"
   },
   {
    "duration": 219,
    "start_time": "2021-07-08T08:48:22.752Z"
   },
   {
    "duration": 173,
    "start_time": "2021-07-08T08:49:06.395Z"
   },
   {
    "duration": 180,
    "start_time": "2021-07-08T08:49:21.011Z"
   },
   {
    "duration": 6,
    "start_time": "2021-07-08T08:50:31.697Z"
   },
   {
    "duration": 10,
    "start_time": "2021-07-08T08:50:47.394Z"
   },
   {
    "duration": 11,
    "start_time": "2021-07-08T08:53:49.332Z"
   },
   {
    "duration": 171,
    "start_time": "2021-07-08T08:54:28.408Z"
   },
   {
    "duration": 636,
    "start_time": "2021-07-08T09:02:48.385Z"
   },
   {
    "duration": 227,
    "start_time": "2021-07-08T09:02:49.023Z"
   },
   {
    "duration": 104,
    "start_time": "2021-07-08T09:02:49.252Z"
   },
   {
    "duration": 5,
    "start_time": "2021-07-08T09:02:49.358Z"
   },
   {
    "duration": 27,
    "start_time": "2021-07-08T09:02:49.365Z"
   },
   {
    "duration": 8,
    "start_time": "2021-07-08T09:02:49.394Z"
   },
   {
    "duration": 18,
    "start_time": "2021-07-08T09:02:49.404Z"
   },
   {
    "duration": 6,
    "start_time": "2021-07-08T09:02:49.424Z"
   },
   {
    "duration": 11,
    "start_time": "2021-07-08T09:02:49.433Z"
   },
   {
    "duration": 13,
    "start_time": "2021-07-08T09:02:49.485Z"
   },
   {
    "duration": 9,
    "start_time": "2021-07-08T09:02:49.500Z"
   },
   {
    "duration": 38,
    "start_time": "2021-07-08T09:02:49.511Z"
   },
   {
    "duration": 42,
    "start_time": "2021-07-08T09:02:49.551Z"
   },
   {
    "duration": 21,
    "start_time": "2021-07-08T09:02:49.594Z"
   },
   {
    "duration": 6,
    "start_time": "2021-07-08T09:02:49.616Z"
   },
   {
    "duration": 3,
    "start_time": "2021-07-08T09:02:49.623Z"
   },
   {
    "duration": 9,
    "start_time": "2021-07-08T09:02:49.628Z"
   },
   {
    "duration": 52,
    "start_time": "2021-07-08T09:02:49.638Z"
   },
   {
    "duration": 11,
    "start_time": "2021-07-08T09:02:49.692Z"
   },
   {
    "duration": 8,
    "start_time": "2021-07-08T09:02:49.704Z"
   },
   {
    "duration": 27,
    "start_time": "2021-07-08T09:02:49.713Z"
   },
   {
    "duration": 59,
    "start_time": "2021-07-08T09:02:49.741Z"
   },
   {
    "duration": 8,
    "start_time": "2021-07-08T09:02:49.803Z"
   },
   {
    "duration": 14,
    "start_time": "2021-07-08T09:02:49.813Z"
   },
   {
    "duration": 20,
    "start_time": "2021-07-08T09:02:49.829Z"
   },
   {
    "duration": 44,
    "start_time": "2021-07-08T09:02:49.851Z"
   },
   {
    "duration": 14,
    "start_time": "2021-07-08T09:02:49.896Z"
   },
   {
    "duration": 221,
    "start_time": "2021-07-08T09:02:49.912Z"
   },
   {
    "duration": 6,
    "start_time": "2021-07-08T09:02:50.134Z"
   },
   {
    "duration": 206,
    "start_time": "2021-07-08T09:02:50.142Z"
   },
   {
    "duration": 19,
    "start_time": "2021-07-08T09:02:50.350Z"
   },
   {
    "duration": 21,
    "start_time": "2021-07-08T09:02:50.370Z"
   },
   {
    "duration": 20,
    "start_time": "2021-07-08T09:02:50.393Z"
   },
   {
    "duration": 5,
    "start_time": "2021-07-08T09:02:50.414Z"
   },
   {
    "duration": 5,
    "start_time": "2021-07-08T09:03:34.173Z"
   },
   {
    "duration": 6,
    "start_time": "2021-07-08T09:04:49.062Z"
   },
   {
    "duration": 9,
    "start_time": "2021-07-08T09:04:50.118Z"
   },
   {
    "duration": 14,
    "start_time": "2021-07-08T09:04:58.512Z"
   },
   {
    "duration": 9,
    "start_time": "2021-07-08T09:05:10.988Z"
   },
   {
    "duration": 11,
    "start_time": "2021-07-08T09:05:11.743Z"
   },
   {
    "duration": 7,
    "start_time": "2021-07-08T09:05:25.677Z"
   },
   {
    "duration": 13,
    "start_time": "2021-07-08T09:05:47.189Z"
   },
   {
    "duration": 13,
    "start_time": "2021-07-08T09:05:54.755Z"
   },
   {
    "duration": 4,
    "start_time": "2021-07-08T09:06:29.189Z"
   },
   {
    "duration": 244,
    "start_time": "2021-07-08T09:06:29.195Z"
   },
   {
    "duration": 91,
    "start_time": "2021-07-08T09:06:29.441Z"
   },
   {
    "duration": 4,
    "start_time": "2021-07-08T09:06:29.534Z"
   },
   {
    "duration": 28,
    "start_time": "2021-07-08T09:06:29.540Z"
   },
   {
    "duration": 6,
    "start_time": "2021-07-08T09:06:29.570Z"
   },
   {
    "duration": 18,
    "start_time": "2021-07-08T09:06:29.578Z"
   },
   {
    "duration": 5,
    "start_time": "2021-07-08T09:06:29.597Z"
   },
   {
    "duration": 13,
    "start_time": "2021-07-08T09:06:29.605Z"
   },
   {
    "duration": 8,
    "start_time": "2021-07-08T09:06:29.620Z"
   },
   {
    "duration": 7,
    "start_time": "2021-07-08T09:06:29.630Z"
   },
   {
    "duration": 63,
    "start_time": "2021-07-08T09:06:29.639Z"
   },
   {
    "duration": 17,
    "start_time": "2021-07-08T09:06:29.704Z"
   },
   {
    "duration": 20,
    "start_time": "2021-07-08T09:06:29.723Z"
   },
   {
    "duration": 6,
    "start_time": "2021-07-08T09:06:29.745Z"
   },
   {
    "duration": 3,
    "start_time": "2021-07-08T09:06:29.752Z"
   },
   {
    "duration": 7,
    "start_time": "2021-07-08T09:06:29.785Z"
   },
   {
    "duration": 11,
    "start_time": "2021-07-08T09:06:29.794Z"
   },
   {
    "duration": 15,
    "start_time": "2021-07-08T09:06:29.807Z"
   },
   {
    "duration": 8,
    "start_time": "2021-07-08T09:06:29.823Z"
   },
   {
    "duration": 70,
    "start_time": "2021-07-08T09:06:29.832Z"
   },
   {
    "duration": 17,
    "start_time": "2021-07-08T09:06:29.903Z"
   },
   {
    "duration": 9,
    "start_time": "2021-07-08T09:06:29.921Z"
   },
   {
    "duration": 9,
    "start_time": "2021-07-08T09:06:29.932Z"
   },
   {
    "duration": 57,
    "start_time": "2021-07-08T09:06:29.942Z"
   },
   {
    "duration": 11,
    "start_time": "2021-07-08T09:06:30.001Z"
   },
   {
    "duration": 19,
    "start_time": "2021-07-08T09:06:30.016Z"
   },
   {
    "duration": 217,
    "start_time": "2021-07-08T09:06:30.037Z"
   },
   {
    "duration": 6,
    "start_time": "2021-07-08T09:06:30.255Z"
   },
   {
    "duration": 205,
    "start_time": "2021-07-08T09:06:30.263Z"
   },
   {
    "duration": 27,
    "start_time": "2021-07-08T09:06:30.470Z"
   },
   {
    "duration": 11,
    "start_time": "2021-07-08T09:06:30.500Z"
   },
   {
    "duration": 31,
    "start_time": "2021-07-08T09:06:30.513Z"
   },
   {
    "duration": 18,
    "start_time": "2021-07-08T09:06:30.546Z"
   },
   {
    "duration": 11,
    "start_time": "2021-07-08T09:06:30.566Z"
   },
   {
    "duration": 19,
    "start_time": "2021-07-08T09:06:30.579Z"
   },
   {
    "duration": 20,
    "start_time": "2021-07-08T09:06:49.466Z"
   },
   {
    "duration": 9,
    "start_time": "2021-07-08T09:06:51.994Z"
   },
   {
    "duration": 20,
    "start_time": "2021-07-08T09:06:52.273Z"
   },
   {
    "duration": 246,
    "start_time": "2021-07-08T09:10:21.272Z"
   },
   {
    "duration": 84,
    "start_time": "2021-07-08T09:10:21.436Z"
   },
   {
    "duration": 7,
    "start_time": "2021-07-08T09:10:37.608Z"
   },
   {
    "duration": 189,
    "start_time": "2021-07-08T09:10:38.573Z"
   },
   {
    "duration": 185,
    "start_time": "2021-07-08T09:10:53.181Z"
   },
   {
    "duration": 11,
    "start_time": "2021-07-08T09:10:59.549Z"
   },
   {
    "duration": 42,
    "start_time": "2021-07-08T09:10:59.709Z"
   },
   {
    "duration": 12,
    "start_time": "2021-07-08T09:11:02.857Z"
   },
   {
    "duration": 28,
    "start_time": "2021-07-08T09:11:10.062Z"
   },
   {
    "duration": 249,
    "start_time": "2021-07-08T09:11:37.388Z"
   },
   {
    "duration": 232,
    "start_time": "2021-07-08T09:11:49.485Z"
   },
   {
    "duration": 453,
    "start_time": "2021-07-08T09:12:01.546Z"
   },
   {
    "duration": 440,
    "start_time": "2021-07-08T09:12:12.347Z"
   },
   {
    "duration": 213,
    "start_time": "2021-07-08T09:13:32.196Z"
   },
   {
    "duration": 172,
    "start_time": "2021-07-08T09:14:07.400Z"
   },
   {
    "duration": 185,
    "start_time": "2021-07-08T09:14:14.905Z"
   },
   {
    "duration": 209,
    "start_time": "2021-07-08T09:14:40.109Z"
   },
   {
    "duration": 201,
    "start_time": "2021-07-08T09:14:54.506Z"
   },
   {
    "duration": 622,
    "start_time": "2021-07-08T09:18:14.497Z"
   },
   {
    "duration": 220,
    "start_time": "2021-07-08T09:18:15.121Z"
   },
   {
    "duration": 79,
    "start_time": "2021-07-08T09:18:15.343Z"
   },
   {
    "duration": 4,
    "start_time": "2021-07-08T09:18:15.425Z"
   },
   {
    "duration": 24,
    "start_time": "2021-07-08T09:18:15.431Z"
   },
   {
    "duration": 8,
    "start_time": "2021-07-08T09:18:15.457Z"
   },
   {
    "duration": 16,
    "start_time": "2021-07-08T09:18:15.466Z"
   },
   {
    "duration": 5,
    "start_time": "2021-07-08T09:18:15.484Z"
   },
   {
    "duration": 10,
    "start_time": "2021-07-08T09:18:15.493Z"
   },
   {
    "duration": 8,
    "start_time": "2021-07-08T09:18:15.504Z"
   },
   {
    "duration": 7,
    "start_time": "2021-07-08T09:18:15.513Z"
   },
   {
    "duration": 26,
    "start_time": "2021-07-08T09:18:15.522Z"
   },
   {
    "duration": 49,
    "start_time": "2021-07-08T09:18:15.550Z"
   },
   {
    "duration": 21,
    "start_time": "2021-07-08T09:18:15.601Z"
   },
   {
    "duration": 8,
    "start_time": "2021-07-08T09:18:15.624Z"
   },
   {
    "duration": 3,
    "start_time": "2021-07-08T09:18:15.634Z"
   },
   {
    "duration": 8,
    "start_time": "2021-07-08T09:18:15.639Z"
   },
   {
    "duration": 45,
    "start_time": "2021-07-08T09:18:15.649Z"
   },
   {
    "duration": 13,
    "start_time": "2021-07-08T09:18:15.696Z"
   },
   {
    "duration": 10,
    "start_time": "2021-07-08T09:18:15.711Z"
   },
   {
    "duration": 64,
    "start_time": "2021-07-08T09:18:15.722Z"
   },
   {
    "duration": 19,
    "start_time": "2021-07-08T09:18:15.788Z"
   },
   {
    "duration": 9,
    "start_time": "2021-07-08T09:18:15.809Z"
   },
   {
    "duration": 9,
    "start_time": "2021-07-08T09:18:15.820Z"
   },
   {
    "duration": 18,
    "start_time": "2021-07-08T09:18:15.831Z"
   },
   {
    "duration": 43,
    "start_time": "2021-07-08T09:18:15.851Z"
   },
   {
    "duration": 12,
    "start_time": "2021-07-08T09:18:15.897Z"
   },
   {
    "duration": 219,
    "start_time": "2021-07-08T09:18:15.911Z"
   },
   {
    "duration": 8,
    "start_time": "2021-07-08T09:18:16.132Z"
   },
   {
    "duration": 199,
    "start_time": "2021-07-08T09:18:16.141Z"
   },
   {
    "duration": 18,
    "start_time": "2021-07-08T09:18:16.341Z"
   },
   {
    "duration": 24,
    "start_time": "2021-07-08T09:18:16.361Z"
   },
   {
    "duration": 24,
    "start_time": "2021-07-08T09:18:16.387Z"
   },
   {
    "duration": 211,
    "start_time": "2021-07-08T09:18:16.413Z"
   },
   {
    "duration": 18,
    "start_time": "2021-07-08T09:18:16.626Z"
   },
   {
    "duration": 596,
    "start_time": "2021-07-08T10:06:33.623Z"
   },
   {
    "duration": 181,
    "start_time": "2021-07-08T10:06:34.221Z"
   },
   {
    "duration": 176,
    "start_time": "2021-07-08T10:06:34.635Z"
   },
   {
    "duration": 239,
    "start_time": "2021-07-08T10:06:55.572Z"
   },
   {
    "duration": 6,
    "start_time": "2021-07-08T10:06:57.687Z"
   },
   {
    "duration": 4,
    "start_time": "2021-07-08T10:07:03.956Z"
   },
   {
    "duration": 4,
    "start_time": "2021-07-08T10:07:10.376Z"
   },
   {
    "duration": 4,
    "start_time": "2021-07-08T10:17:19.889Z"
   },
   {
    "duration": 3,
    "start_time": "2021-07-08T10:19:19.407Z"
   },
   {
    "duration": 197,
    "start_time": "2021-07-08T10:19:19.412Z"
   },
   {
    "duration": 127,
    "start_time": "2021-07-08T10:19:19.611Z"
   },
   {
    "duration": 4,
    "start_time": "2021-07-08T10:19:19.740Z"
   },
   {
    "duration": 27,
    "start_time": "2021-07-08T10:19:19.746Z"
   },
   {
    "duration": 7,
    "start_time": "2021-07-08T10:19:19.775Z"
   },
   {
    "duration": 30,
    "start_time": "2021-07-08T10:19:19.784Z"
   },
   {
    "duration": 7,
    "start_time": "2021-07-08T10:19:19.817Z"
   },
   {
    "duration": 26,
    "start_time": "2021-07-08T10:19:19.826Z"
   },
   {
    "duration": 18,
    "start_time": "2021-07-08T10:19:19.854Z"
   },
   {
    "duration": 14,
    "start_time": "2021-07-08T10:19:19.874Z"
   },
   {
    "duration": 48,
    "start_time": "2021-07-08T10:19:19.890Z"
   },
   {
    "duration": 17,
    "start_time": "2021-07-08T10:19:19.940Z"
   },
   {
    "duration": 38,
    "start_time": "2021-07-08T10:19:19.959Z"
   },
   {
    "duration": 8,
    "start_time": "2021-07-08T10:19:19.999Z"
   },
   {
    "duration": 15,
    "start_time": "2021-07-08T10:19:20.009Z"
   },
   {
    "duration": 22,
    "start_time": "2021-07-08T10:19:20.026Z"
   },
   {
    "duration": 10,
    "start_time": "2021-07-08T10:19:20.050Z"
   },
   {
    "duration": 10,
    "start_time": "2021-07-08T10:19:20.062Z"
   },
   {
    "duration": 20,
    "start_time": "2021-07-08T10:19:20.073Z"
   },
   {
    "duration": 29,
    "start_time": "2021-07-08T10:19:20.095Z"
   },
   {
    "duration": 17,
    "start_time": "2021-07-08T10:19:20.126Z"
   },
   {
    "duration": 40,
    "start_time": "2021-07-08T10:19:20.146Z"
   },
   {
    "duration": 15,
    "start_time": "2021-07-08T10:19:20.189Z"
   },
   {
    "duration": 19,
    "start_time": "2021-07-08T10:19:20.206Z"
   },
   {
    "duration": 10,
    "start_time": "2021-07-08T10:19:20.226Z"
   },
   {
    "duration": 11,
    "start_time": "2021-07-08T10:19:20.238Z"
   },
   {
    "duration": 297,
    "start_time": "2021-07-08T10:19:20.250Z"
   },
   {
    "duration": 6,
    "start_time": "2021-07-08T10:19:20.549Z"
   },
   {
    "duration": 191,
    "start_time": "2021-07-08T10:19:20.557Z"
   },
   {
    "duration": 19,
    "start_time": "2021-07-08T10:19:20.750Z"
   },
   {
    "duration": 20,
    "start_time": "2021-07-08T10:19:20.771Z"
   },
   {
    "duration": 15,
    "start_time": "2021-07-08T10:19:20.793Z"
   },
   {
    "duration": 222,
    "start_time": "2021-07-08T10:19:20.809Z"
   },
   {
    "duration": 20,
    "start_time": "2021-07-08T10:19:21.033Z"
   },
   {
    "duration": 27,
    "start_time": "2021-07-08T10:45:04.055Z"
   },
   {
    "duration": 8,
    "start_time": "2021-07-08T10:45:08.478Z"
   },
   {
    "duration": 8,
    "start_time": "2021-07-08T10:45:31.982Z"
   },
   {
    "duration": 10,
    "start_time": "2021-07-08T10:46:01.221Z"
   },
   {
    "duration": 17,
    "start_time": "2021-07-08T10:46:40.011Z"
   },
   {
    "duration": 193,
    "start_time": "2021-07-08T10:48:19.471Z"
   },
   {
    "duration": 225,
    "start_time": "2021-07-08T10:49:26.480Z"
   },
   {
    "duration": 204,
    "start_time": "2021-07-08T10:49:59.992Z"
   },
   {
    "duration": 435,
    "start_time": "2021-07-08T10:50:06.779Z"
   },
   {
    "duration": 199,
    "start_time": "2021-07-08T10:50:14.891Z"
   },
   {
    "duration": 204,
    "start_time": "2021-07-08T10:50:18.501Z"
   },
   {
    "duration": 244,
    "start_time": "2021-07-08T10:50:23.359Z"
   },
   {
    "duration": 192,
    "start_time": "2021-07-08T10:50:29.135Z"
   },
   {
    "duration": 218,
    "start_time": "2021-07-08T10:50:33.092Z"
   },
   {
    "duration": 207,
    "start_time": "2021-07-08T10:52:45.381Z"
   },
   {
    "duration": 5,
    "start_time": "2021-07-08T10:53:34.641Z"
   },
   {
    "duration": 196,
    "start_time": "2021-07-08T10:53:41.478Z"
   },
   {
    "duration": 43,
    "start_time": "2021-07-08T10:53:50.335Z"
   },
   {
    "duration": 32,
    "start_time": "2021-07-08T10:53:55.294Z"
   },
   {
    "duration": 55,
    "start_time": "2021-07-08T10:54:09.675Z"
   },
   {
    "duration": 16,
    "start_time": "2021-07-08T10:54:12.260Z"
   },
   {
    "duration": 15,
    "start_time": "2021-07-08T10:54:49.150Z"
   },
   {
    "duration": 20,
    "start_time": "2021-07-08T10:56:07.596Z"
   },
   {
    "duration": 16,
    "start_time": "2021-07-08T10:58:26.276Z"
   },
   {
    "duration": 22,
    "start_time": "2021-07-08T10:59:00.486Z"
   },
   {
    "duration": 18,
    "start_time": "2021-07-08T11:02:09.653Z"
   },
   {
    "duration": 10,
    "start_time": "2021-07-08T11:03:44.331Z"
   },
   {
    "duration": 10,
    "start_time": "2021-07-08T11:03:54.055Z"
   },
   {
    "duration": 12,
    "start_time": "2021-07-08T11:04:41.967Z"
   },
   {
    "duration": 24,
    "start_time": "2021-07-08T11:07:30.732Z"
   },
   {
    "duration": 6,
    "start_time": "2021-07-08T11:07:37.364Z"
   },
   {
    "duration": 16,
    "start_time": "2021-07-08T11:08:01.819Z"
   },
   {
    "duration": 17,
    "start_time": "2021-07-08T11:09:47.488Z"
   },
   {
    "duration": 246,
    "start_time": "2021-07-08T11:10:00.830Z"
   },
   {
    "duration": 18,
    "start_time": "2021-07-08T11:13:55.195Z"
   },
   {
    "duration": 204,
    "start_time": "2021-07-08T11:14:04.951Z"
   },
   {
    "duration": 19,
    "start_time": "2021-07-08T11:15:10.613Z"
   },
   {
    "duration": 680,
    "start_time": "2021-07-08T11:16:25.793Z"
   },
   {
    "duration": 451,
    "start_time": "2021-07-08T11:16:40.313Z"
   },
   {
    "duration": 469,
    "start_time": "2021-07-08T11:17:21.286Z"
   },
   {
    "duration": 20,
    "start_time": "2021-07-08T11:19:12.554Z"
   },
   {
    "duration": 35,
    "start_time": "2021-07-08T11:20:05.484Z"
   },
   {
    "duration": 53,
    "start_time": "2021-07-08T11:21:40.050Z"
   },
   {
    "duration": 13,
    "start_time": "2021-07-08T11:22:26.059Z"
   },
   {
    "duration": 19,
    "start_time": "2021-07-08T11:22:47.419Z"
   },
   {
    "duration": 25,
    "start_time": "2021-07-08T11:23:19.958Z"
   },
   {
    "duration": 29,
    "start_time": "2021-07-08T11:23:25.415Z"
   },
   {
    "duration": 10,
    "start_time": "2021-07-08T11:24:45.138Z"
   },
   {
    "duration": 19,
    "start_time": "2021-07-08T11:24:54.498Z"
   },
   {
    "duration": 12,
    "start_time": "2021-07-08T11:25:32.225Z"
   },
   {
    "duration": 19,
    "start_time": "2021-07-08T11:25:37.092Z"
   },
   {
    "duration": 17,
    "start_time": "2021-07-08T11:25:58.116Z"
   },
   {
    "duration": 15,
    "start_time": "2021-07-08T11:26:02.258Z"
   },
   {
    "duration": 8,
    "start_time": "2021-07-08T11:26:59.682Z"
   },
   {
    "duration": 184,
    "start_time": "2021-07-08T11:27:21.894Z"
   },
   {
    "duration": 8,
    "start_time": "2021-07-08T11:27:23.824Z"
   },
   {
    "duration": 202,
    "start_time": "2021-07-08T11:27:23.962Z"
   },
   {
    "duration": 360,
    "start_time": "2021-07-08T11:28:33.215Z"
   },
   {
    "duration": 231,
    "start_time": "2021-07-08T11:32:05.542Z"
   },
   {
    "duration": 607,
    "start_time": "2021-07-08T11:36:27.854Z"
   },
   {
    "duration": 241,
    "start_time": "2021-07-08T11:36:28.463Z"
   },
   {
    "duration": 67,
    "start_time": "2021-07-08T11:36:28.709Z"
   },
   {
    "duration": 5,
    "start_time": "2021-07-08T11:36:28.778Z"
   },
   {
    "duration": 32,
    "start_time": "2021-07-08T11:36:28.784Z"
   },
   {
    "duration": 11,
    "start_time": "2021-07-08T11:36:28.819Z"
   },
   {
    "duration": 20,
    "start_time": "2021-07-08T11:36:28.834Z"
   },
   {
    "duration": 36,
    "start_time": "2021-07-08T11:36:28.857Z"
   },
   {
    "duration": 16,
    "start_time": "2021-07-08T11:36:28.895Z"
   },
   {
    "duration": 14,
    "start_time": "2021-07-08T11:36:28.913Z"
   },
   {
    "duration": 9,
    "start_time": "2021-07-08T11:36:28.930Z"
   },
   {
    "duration": 55,
    "start_time": "2021-07-08T11:36:28.941Z"
   },
   {
    "duration": 27,
    "start_time": "2021-07-08T11:36:28.999Z"
   },
   {
    "duration": 30,
    "start_time": "2021-07-08T11:36:29.028Z"
   },
   {
    "duration": 31,
    "start_time": "2021-07-08T11:36:29.060Z"
   },
   {
    "duration": 3,
    "start_time": "2021-07-08T11:36:29.093Z"
   },
   {
    "duration": 12,
    "start_time": "2021-07-08T11:36:29.099Z"
   },
   {
    "duration": 11,
    "start_time": "2021-07-08T11:36:29.112Z"
   },
   {
    "duration": 12,
    "start_time": "2021-07-08T11:36:29.125Z"
   },
   {
    "duration": 9,
    "start_time": "2021-07-08T11:36:29.139Z"
   },
   {
    "duration": 31,
    "start_time": "2021-07-08T11:36:29.191Z"
   },
   {
    "duration": 17,
    "start_time": "2021-07-08T11:36:29.226Z"
   },
   {
    "duration": 7,
    "start_time": "2021-07-08T11:36:29.245Z"
   },
   {
    "duration": 10,
    "start_time": "2021-07-08T11:36:29.254Z"
   },
   {
    "duration": 30,
    "start_time": "2021-07-08T11:36:29.292Z"
   },
   {
    "duration": 11,
    "start_time": "2021-07-08T11:36:29.324Z"
   },
   {
    "duration": 11,
    "start_time": "2021-07-08T11:36:29.337Z"
   },
   {
    "duration": 230,
    "start_time": "2021-07-08T11:36:29.349Z"
   },
   {
    "duration": 13,
    "start_time": "2021-07-08T11:36:29.588Z"
   },
   {
    "duration": 205,
    "start_time": "2021-07-08T11:36:29.603Z"
   },
   {
    "duration": 20,
    "start_time": "2021-07-08T11:36:29.810Z"
   },
   {
    "duration": 9,
    "start_time": "2021-07-08T11:36:29.832Z"
   },
   {
    "duration": 16,
    "start_time": "2021-07-08T11:36:29.843Z"
   },
   {
    "duration": 283,
    "start_time": "2021-07-08T11:36:29.861Z"
   },
   {
    "duration": 50,
    "start_time": "2021-07-08T11:36:30.146Z"
   },
   {
    "duration": 14,
    "start_time": "2021-07-08T11:36:30.198Z"
   },
   {
    "duration": 11,
    "start_time": "2021-07-08T11:36:30.214Z"
   },
   {
    "duration": 245,
    "start_time": "2021-07-08T11:36:30.227Z"
   },
   {
    "duration": 439,
    "start_time": "2021-07-08T11:36:30.474Z"
   },
   {
    "duration": 210,
    "start_time": "2021-07-08T11:36:30.915Z"
   },
   {
    "duration": 15,
    "start_time": "2021-07-08T11:36:31.127Z"
   },
   {
    "duration": 17,
    "start_time": "2021-07-08T11:38:20.451Z"
   },
   {
    "duration": 642,
    "start_time": "2021-07-08T11:46:17.881Z"
   },
   {
    "duration": 210,
    "start_time": "2021-07-08T11:46:18.525Z"
   },
   {
    "duration": 104,
    "start_time": "2021-07-08T11:46:18.741Z"
   },
   {
    "duration": 8,
    "start_time": "2021-07-08T11:46:18.847Z"
   },
   {
    "duration": 25,
    "start_time": "2021-07-08T11:46:18.857Z"
   },
   {
    "duration": 14,
    "start_time": "2021-07-08T11:46:18.884Z"
   },
   {
    "duration": 22,
    "start_time": "2021-07-08T11:46:18.900Z"
   },
   {
    "duration": 5,
    "start_time": "2021-07-08T11:46:18.924Z"
   },
   {
    "duration": 13,
    "start_time": "2021-07-08T11:46:18.931Z"
   },
   {
    "duration": 45,
    "start_time": "2021-07-08T11:46:18.946Z"
   },
   {
    "duration": 12,
    "start_time": "2021-07-08T11:46:18.993Z"
   },
   {
    "duration": 38,
    "start_time": "2021-07-08T11:46:19.006Z"
   },
   {
    "duration": 50,
    "start_time": "2021-07-08T11:46:19.046Z"
   },
   {
    "duration": 29,
    "start_time": "2021-07-08T11:46:19.099Z"
   },
   {
    "duration": 7,
    "start_time": "2021-07-08T11:46:19.130Z"
   },
   {
    "duration": 3,
    "start_time": "2021-07-08T11:46:19.139Z"
   },
   {
    "duration": 11,
    "start_time": "2021-07-08T11:46:19.144Z"
   },
   {
    "duration": 40,
    "start_time": "2021-07-08T11:46:19.157Z"
   },
   {
    "duration": 15,
    "start_time": "2021-07-08T11:46:19.199Z"
   },
   {
    "duration": 10,
    "start_time": "2021-07-08T11:46:19.217Z"
   },
   {
    "duration": 68,
    "start_time": "2021-07-08T11:46:19.230Z"
   },
   {
    "duration": 17,
    "start_time": "2021-07-08T11:46:19.301Z"
   },
   {
    "duration": 7,
    "start_time": "2021-07-08T11:46:19.321Z"
   },
   {
    "duration": 11,
    "start_time": "2021-07-08T11:46:19.330Z"
   },
   {
    "duration": 59,
    "start_time": "2021-07-08T11:46:19.343Z"
   },
   {
    "duration": 17,
    "start_time": "2021-07-08T11:46:19.405Z"
   },
   {
    "duration": 16,
    "start_time": "2021-07-08T11:46:19.424Z"
   },
   {
    "duration": 252,
    "start_time": "2021-07-08T11:46:19.443Z"
   },
   {
    "duration": 9,
    "start_time": "2021-07-08T11:46:19.697Z"
   },
   {
    "duration": 224,
    "start_time": "2021-07-08T11:46:19.708Z"
   },
   {
    "duration": 21,
    "start_time": "2021-07-08T11:46:19.934Z"
   },
   {
    "duration": 9,
    "start_time": "2021-07-08T11:46:19.956Z"
   },
   {
    "duration": 32,
    "start_time": "2021-07-08T11:46:19.967Z"
   },
   {
    "duration": 288,
    "start_time": "2021-07-08T11:46:20.004Z"
   },
   {
    "duration": 23,
    "start_time": "2021-07-08T11:46:20.300Z"
   },
   {
    "duration": 11,
    "start_time": "2021-07-08T11:46:20.325Z"
   },
   {
    "duration": 11,
    "start_time": "2021-07-08T11:46:20.339Z"
   },
   {
    "duration": 259,
    "start_time": "2021-07-08T11:46:20.352Z"
   },
   {
    "duration": 438,
    "start_time": "2021-07-08T11:46:20.613Z"
   },
   {
    "duration": 207,
    "start_time": "2021-07-08T11:46:21.054Z"
   },
   {
    "duration": 27,
    "start_time": "2021-07-08T11:46:21.262Z"
   },
   {
    "duration": 19,
    "start_time": "2021-07-08T11:46:21.291Z"
   },
   {
    "duration": 820,
    "start_time": "2021-07-08T11:49:01.655Z"
   },
   {
    "duration": 372,
    "start_time": "2021-07-08T11:49:02.478Z"
   },
   {
    "duration": 98,
    "start_time": "2021-07-08T11:49:02.853Z"
   },
   {
    "duration": 6,
    "start_time": "2021-07-08T11:49:02.953Z"
   },
   {
    "duration": 39,
    "start_time": "2021-07-08T11:49:02.960Z"
   },
   {
    "duration": 9,
    "start_time": "2021-07-08T11:49:03.003Z"
   },
   {
    "duration": 23,
    "start_time": "2021-07-08T11:49:03.014Z"
   },
   {
    "duration": 6,
    "start_time": "2021-07-08T11:49:03.041Z"
   },
   {
    "duration": 20,
    "start_time": "2021-07-08T11:49:03.049Z"
   },
   {
    "duration": 18,
    "start_time": "2021-07-08T11:49:03.084Z"
   },
   {
    "duration": 14,
    "start_time": "2021-07-08T11:49:03.104Z"
   },
   {
    "duration": 39,
    "start_time": "2021-07-08T11:49:03.119Z"
   },
   {
    "duration": 38,
    "start_time": "2021-07-08T11:49:03.160Z"
   },
   {
    "duration": 26,
    "start_time": "2021-07-08T11:49:03.200Z"
   },
   {
    "duration": 7,
    "start_time": "2021-07-08T11:49:03.227Z"
   },
   {
    "duration": 4,
    "start_time": "2021-07-08T11:49:03.236Z"
   },
   {
    "duration": 15,
    "start_time": "2021-07-08T11:49:03.243Z"
   },
   {
    "duration": 21,
    "start_time": "2021-07-08T11:49:03.285Z"
   },
   {
    "duration": 17,
    "start_time": "2021-07-08T11:49:03.309Z"
   },
   {
    "duration": 10,
    "start_time": "2021-07-08T11:49:03.328Z"
   },
   {
    "duration": 65,
    "start_time": "2021-07-08T11:49:03.340Z"
   },
   {
    "duration": 18,
    "start_time": "2021-07-08T11:49:03.407Z"
   },
   {
    "duration": 8,
    "start_time": "2021-07-08T11:49:03.428Z"
   },
   {
    "duration": 15,
    "start_time": "2021-07-08T11:49:03.438Z"
   },
   {
    "duration": 40,
    "start_time": "2021-07-08T11:49:03.455Z"
   },
   {
    "duration": 12,
    "start_time": "2021-07-08T11:49:03.497Z"
   },
   {
    "duration": 29,
    "start_time": "2021-07-08T11:49:03.511Z"
   },
   {
    "duration": 285,
    "start_time": "2021-07-08T11:49:03.542Z"
   },
   {
    "duration": 8,
    "start_time": "2021-07-08T11:49:03.829Z"
   },
   {
    "duration": 227,
    "start_time": "2021-07-08T11:49:03.838Z"
   },
   {
    "duration": 40,
    "start_time": "2021-07-08T11:49:04.066Z"
   },
   {
    "duration": 10,
    "start_time": "2021-07-08T11:49:04.108Z"
   },
   {
    "duration": 26,
    "start_time": "2021-07-08T11:49:04.121Z"
   },
   {
    "duration": 290,
    "start_time": "2021-07-08T11:49:04.149Z"
   },
   {
    "duration": 26,
    "start_time": "2021-07-08T11:49:04.441Z"
   },
   {
    "duration": 31,
    "start_time": "2021-07-08T11:49:04.470Z"
   },
   {
    "duration": 14,
    "start_time": "2021-07-08T11:49:04.503Z"
   },
   {
    "duration": 259,
    "start_time": "2021-07-08T11:49:04.521Z"
   },
   {
    "duration": 480,
    "start_time": "2021-07-08T11:49:04.782Z"
   },
   {
    "duration": 225,
    "start_time": "2021-07-08T11:49:05.264Z"
   },
   {
    "duration": 22,
    "start_time": "2021-07-08T11:49:05.491Z"
   },
   {
    "duration": 24,
    "start_time": "2021-07-08T11:49:05.515Z"
   },
   {
    "duration": 634,
    "start_time": "2021-07-08T11:52:24.960Z"
   },
   {
    "duration": 199,
    "start_time": "2021-07-08T11:52:25.599Z"
   },
   {
    "duration": 106,
    "start_time": "2021-07-08T11:52:25.803Z"
   },
   {
    "duration": 7,
    "start_time": "2021-07-08T11:52:25.911Z"
   },
   {
    "duration": 29,
    "start_time": "2021-07-08T11:52:25.920Z"
   },
   {
    "duration": 7,
    "start_time": "2021-07-08T11:52:25.951Z"
   },
   {
    "duration": 26,
    "start_time": "2021-07-08T11:52:25.961Z"
   },
   {
    "duration": 11,
    "start_time": "2021-07-08T11:52:25.990Z"
   },
   {
    "duration": 29,
    "start_time": "2021-07-08T11:52:26.005Z"
   },
   {
    "duration": 9,
    "start_time": "2021-07-08T11:52:26.036Z"
   },
   {
    "duration": 8,
    "start_time": "2021-07-08T11:52:26.047Z"
   },
   {
    "duration": 63,
    "start_time": "2021-07-08T11:52:26.057Z"
   },
   {
    "duration": 17,
    "start_time": "2021-07-08T11:52:26.122Z"
   },
   {
    "duration": 43,
    "start_time": "2021-07-08T11:52:26.142Z"
   },
   {
    "duration": 17,
    "start_time": "2021-07-08T11:52:26.187Z"
   },
   {
    "duration": 5,
    "start_time": "2021-07-08T11:52:26.206Z"
   },
   {
    "duration": 12,
    "start_time": "2021-07-08T11:52:26.212Z"
   },
   {
    "duration": 11,
    "start_time": "2021-07-08T11:52:26.226Z"
   },
   {
    "duration": 12,
    "start_time": "2021-07-08T11:52:26.238Z"
   },
   {
    "duration": 38,
    "start_time": "2021-07-08T11:52:26.252Z"
   },
   {
    "duration": 40,
    "start_time": "2021-07-08T11:52:26.292Z"
   },
   {
    "duration": 17,
    "start_time": "2021-07-08T11:52:26.336Z"
   },
   {
    "duration": 39,
    "start_time": "2021-07-08T11:52:26.355Z"
   },
   {
    "duration": 11,
    "start_time": "2021-07-08T11:52:26.395Z"
   },
   {
    "duration": 23,
    "start_time": "2021-07-08T11:52:26.408Z"
   },
   {
    "duration": 12,
    "start_time": "2021-07-08T11:52:26.432Z"
   },
   {
    "duration": 41,
    "start_time": "2021-07-08T11:52:26.446Z"
   },
   {
    "duration": 215,
    "start_time": "2021-07-08T11:52:26.493Z"
   },
   {
    "duration": 8,
    "start_time": "2021-07-08T11:52:26.710Z"
   },
   {
    "duration": 228,
    "start_time": "2021-07-08T11:52:26.720Z"
   },
   {
    "duration": 18,
    "start_time": "2021-07-08T11:52:26.950Z"
   },
   {
    "duration": 35,
    "start_time": "2021-07-08T11:52:26.969Z"
   },
   {
    "duration": 23,
    "start_time": "2021-07-08T11:52:27.006Z"
   },
   {
    "duration": 258,
    "start_time": "2021-07-08T11:52:27.030Z"
   },
   {
    "duration": 24,
    "start_time": "2021-07-08T11:52:27.290Z"
   },
   {
    "duration": 12,
    "start_time": "2021-07-08T11:52:27.316Z"
   },
   {
    "duration": 10,
    "start_time": "2021-07-08T11:52:27.329Z"
   },
   {
    "duration": 298,
    "start_time": "2021-07-08T11:52:27.341Z"
   },
   {
    "duration": 436,
    "start_time": "2021-07-08T11:52:27.641Z"
   },
   {
    "duration": 216,
    "start_time": "2021-07-08T11:52:28.079Z"
   },
   {
    "duration": 20,
    "start_time": "2021-07-08T11:52:28.297Z"
   },
   {
    "duration": 17,
    "start_time": "2021-07-08T11:52:28.319Z"
   },
   {
    "duration": 401,
    "start_time": "2024-04-20T18:44:33.481Z"
   },
   {
    "duration": 59,
    "start_time": "2024-04-20T18:49:04.453Z"
   },
   {
    "duration": 382,
    "start_time": "2024-04-20T18:49:08.526Z"
   },
   {
    "duration": 236,
    "start_time": "2024-04-20T18:49:08.910Z"
   },
   {
    "duration": 16,
    "start_time": "2024-04-20T18:49:09.148Z"
   },
   {
    "duration": 11,
    "start_time": "2024-04-20T18:49:55.676Z"
   },
   {
    "duration": 19,
    "start_time": "2024-04-20T19:04:59.174Z"
   },
   {
    "duration": 123,
    "start_time": "2024-04-20T19:07:06.291Z"
   },
   {
    "duration": 16,
    "start_time": "2024-04-20T19:07:07.080Z"
   },
   {
    "duration": 10,
    "start_time": "2024-04-20T19:07:07.639Z"
   },
   {
    "duration": 287,
    "start_time": "2024-04-20T19:07:52.937Z"
   },
   {
    "duration": 8,
    "start_time": "2024-04-20T19:13:21.282Z"
   },
   {
    "duration": 5,
    "start_time": "2024-04-20T19:13:28.595Z"
   },
   {
    "duration": 7,
    "start_time": "2024-04-20T19:16:11.451Z"
   },
   {
    "duration": 11,
    "start_time": "2024-04-20T19:19:18.277Z"
   },
   {
    "duration": 9,
    "start_time": "2024-04-20T19:19:35.497Z"
   },
   {
    "duration": 5,
    "start_time": "2024-04-20T19:19:42.937Z"
   },
   {
    "duration": 10,
    "start_time": "2024-04-20T19:19:44.296Z"
   },
   {
    "duration": 24,
    "start_time": "2024-04-20T19:19:47.959Z"
   },
   {
    "duration": 10,
    "start_time": "2024-04-20T19:20:03.181Z"
   },
   {
    "duration": 14,
    "start_time": "2024-04-20T19:21:14.531Z"
   },
   {
    "duration": 3,
    "start_time": "2024-04-20T19:21:23.806Z"
   },
   {
    "duration": 139,
    "start_time": "2024-04-20T19:21:23.810Z"
   },
   {
    "duration": 14,
    "start_time": "2024-04-20T19:21:23.950Z"
   },
   {
    "duration": 8,
    "start_time": "2024-04-20T19:21:23.966Z"
   },
   {
    "duration": 13,
    "start_time": "2024-04-20T19:21:23.976Z"
   },
   {
    "duration": 15,
    "start_time": "2024-04-20T19:21:23.990Z"
   },
   {
    "duration": 26,
    "start_time": "2024-04-20T19:21:24.007Z"
   },
   {
    "duration": 24,
    "start_time": "2024-04-20T19:22:33.382Z"
   },
   {
    "duration": 22,
    "start_time": "2024-04-20T19:23:45.268Z"
   },
   {
    "duration": 17,
    "start_time": "2024-04-20T19:25:30.461Z"
   },
   {
    "duration": 58,
    "start_time": "2024-04-20T19:29:11.780Z"
   },
   {
    "duration": 22,
    "start_time": "2024-04-20T19:47:56.881Z"
   },
   {
    "duration": 22,
    "start_time": "2024-04-20T19:50:13.780Z"
   },
   {
    "duration": 21,
    "start_time": "2024-04-20T19:50:50.859Z"
   },
   {
    "duration": 30,
    "start_time": "2024-04-20T19:56:52.195Z"
   },
   {
    "duration": 31,
    "start_time": "2024-04-20T19:57:11.011Z"
   },
   {
    "duration": 18,
    "start_time": "2024-04-20T19:57:37.533Z"
   },
   {
    "duration": 9,
    "start_time": "2024-04-20T19:59:04.437Z"
   },
   {
    "duration": 7,
    "start_time": "2024-04-20T19:59:44.377Z"
   },
   {
    "duration": 7,
    "start_time": "2024-04-20T19:59:49.113Z"
   },
   {
    "duration": 5,
    "start_time": "2024-04-20T19:59:51.385Z"
   },
   {
    "duration": 6,
    "start_time": "2024-04-20T20:00:16.092Z"
   },
   {
    "duration": 5,
    "start_time": "2024-04-20T20:00:16.862Z"
   },
   {
    "duration": 8,
    "start_time": "2024-04-20T20:02:39.443Z"
   },
   {
    "duration": 7,
    "start_time": "2024-04-20T20:02:45.658Z"
   },
   {
    "duration": 18,
    "start_time": "2024-04-20T20:02:56.111Z"
   },
   {
    "duration": 22,
    "start_time": "2024-04-20T20:04:31.611Z"
   },
   {
    "duration": 17,
    "start_time": "2024-04-20T20:04:41.717Z"
   },
   {
    "duration": 19,
    "start_time": "2024-04-20T20:04:56.161Z"
   },
   {
    "duration": 22,
    "start_time": "2024-04-20T20:07:48.287Z"
   },
   {
    "duration": 16,
    "start_time": "2024-04-20T20:12:12.737Z"
   },
   {
    "duration": 4,
    "start_time": "2024-04-20T20:12:58.030Z"
   },
   {
    "duration": 166,
    "start_time": "2024-04-20T20:12:58.035Z"
   },
   {
    "duration": 21,
    "start_time": "2024-04-20T20:12:58.203Z"
   },
   {
    "duration": 11,
    "start_time": "2024-04-20T20:12:58.226Z"
   },
   {
    "duration": 21,
    "start_time": "2024-04-20T20:12:58.239Z"
   },
   {
    "duration": 11,
    "start_time": "2024-04-20T20:12:58.262Z"
   },
   {
    "duration": 24,
    "start_time": "2024-04-20T20:12:58.275Z"
   },
   {
    "duration": 14,
    "start_time": "2024-04-20T20:12:58.300Z"
   },
   {
    "duration": 16,
    "start_time": "2024-04-20T20:12:58.316Z"
   },
   {
    "duration": 40,
    "start_time": "2024-04-20T20:12:58.334Z"
   },
   {
    "duration": 17,
    "start_time": "2024-04-20T20:12:58.376Z"
   },
   {
    "duration": 5,
    "start_time": "2024-04-20T20:12:58.394Z"
   },
   {
    "duration": 22,
    "start_time": "2024-04-20T20:12:58.400Z"
   },
   {
    "duration": 44,
    "start_time": "2024-04-20T20:12:58.424Z"
   },
   {
    "duration": 4,
    "start_time": "2024-04-20T20:15:16.352Z"
   },
   {
    "duration": 3,
    "start_time": "2024-04-20T20:15:43.250Z"
   },
   {
    "duration": 131,
    "start_time": "2024-04-20T20:15:43.255Z"
   },
   {
    "duration": 14,
    "start_time": "2024-04-20T20:15:43.387Z"
   },
   {
    "duration": 11,
    "start_time": "2024-04-20T20:15:43.402Z"
   },
   {
    "duration": 4,
    "start_time": "2024-04-20T20:15:43.414Z"
   },
   {
    "duration": 9,
    "start_time": "2024-04-20T20:15:43.420Z"
   },
   {
    "duration": 22,
    "start_time": "2024-04-20T20:15:43.430Z"
   },
   {
    "duration": 20,
    "start_time": "2024-04-20T20:15:43.453Z"
   },
   {
    "duration": 16,
    "start_time": "2024-04-20T20:15:43.475Z"
   },
   {
    "duration": 20,
    "start_time": "2024-04-20T20:15:43.492Z"
   },
   {
    "duration": 18,
    "start_time": "2024-04-20T20:15:43.513Z"
   },
   {
    "duration": 34,
    "start_time": "2024-04-20T20:15:43.532Z"
   },
   {
    "duration": 18,
    "start_time": "2024-04-20T20:15:43.567Z"
   },
   {
    "duration": 17,
    "start_time": "2024-04-20T20:15:43.587Z"
   },
   {
    "duration": 857,
    "start_time": "2024-04-20T20:26:28.065Z"
   },
   {
    "duration": 14,
    "start_time": "2024-04-20T20:26:38.435Z"
   },
   {
    "duration": 5,
    "start_time": "2024-04-20T20:26:49.821Z"
   },
   {
    "duration": 10,
    "start_time": "2024-04-20T20:31:49.421Z"
   },
   {
    "duration": 9,
    "start_time": "2024-04-20T20:31:52.585Z"
   },
   {
    "duration": 13,
    "start_time": "2024-04-20T20:32:09.109Z"
   },
   {
    "duration": 6,
    "start_time": "2024-04-20T20:35:27.246Z"
   },
   {
    "duration": 12,
    "start_time": "2024-04-20T20:36:58.826Z"
   },
   {
    "duration": 21,
    "start_time": "2024-04-20T20:37:47.782Z"
   },
   {
    "duration": 16,
    "start_time": "2024-04-20T20:39:43.596Z"
   },
   {
    "duration": 3,
    "start_time": "2024-04-20T20:40:20.224Z"
   },
   {
    "duration": 135,
    "start_time": "2024-04-20T20:40:20.229Z"
   },
   {
    "duration": 15,
    "start_time": "2024-04-20T20:40:20.365Z"
   },
   {
    "duration": 26,
    "start_time": "2024-04-20T20:40:20.382Z"
   },
   {
    "duration": 17,
    "start_time": "2024-04-20T20:40:20.411Z"
   },
   {
    "duration": 19,
    "start_time": "2024-04-20T20:40:20.429Z"
   },
   {
    "duration": 27,
    "start_time": "2024-04-20T20:40:20.449Z"
   },
   {
    "duration": 15,
    "start_time": "2024-04-20T20:40:20.478Z"
   },
   {
    "duration": 20,
    "start_time": "2024-04-20T20:40:20.495Z"
   },
   {
    "duration": 21,
    "start_time": "2024-04-20T20:40:20.517Z"
   },
   {
    "duration": 34,
    "start_time": "2024-04-20T20:40:20.540Z"
   },
   {
    "duration": 5,
    "start_time": "2024-04-20T20:40:20.576Z"
   },
   {
    "duration": 34,
    "start_time": "2024-04-20T20:40:20.583Z"
   },
   {
    "duration": 18,
    "start_time": "2024-04-20T20:40:20.620Z"
   },
   {
    "duration": 11,
    "start_time": "2024-04-20T20:40:20.640Z"
   },
   {
    "duration": 12,
    "start_time": "2024-04-20T20:40:20.665Z"
   },
   {
    "duration": 13,
    "start_time": "2024-04-20T20:40:20.679Z"
   },
   {
    "duration": 18,
    "start_time": "2024-04-20T20:40:20.693Z"
   },
   {
    "duration": 17,
    "start_time": "2024-04-20T20:40:20.713Z"
   },
   {
    "duration": 14,
    "start_time": "2024-04-20T20:42:30.667Z"
   },
   {
    "duration": 17,
    "start_time": "2024-04-20T20:42:33.237Z"
   },
   {
    "duration": 17,
    "start_time": "2024-04-20T20:43:22.060Z"
   },
   {
    "duration": 13,
    "start_time": "2024-04-20T20:44:28.758Z"
   },
   {
    "duration": 25,
    "start_time": "2024-04-20T20:46:18.057Z"
   },
   {
    "duration": 22,
    "start_time": "2024-04-20T20:47:03.165Z"
   },
   {
    "duration": 21,
    "start_time": "2024-04-20T20:47:06.275Z"
   },
   {
    "duration": 4,
    "start_time": "2024-04-20T20:48:20.414Z"
   },
   {
    "duration": 26,
    "start_time": "2024-04-20T20:48:39.831Z"
   },
   {
    "duration": 3,
    "start_time": "2024-04-20T20:48:45.410Z"
   },
   {
    "duration": 132,
    "start_time": "2024-04-20T20:48:45.415Z"
   },
   {
    "duration": 22,
    "start_time": "2024-04-20T20:48:45.549Z"
   },
   {
    "duration": 10,
    "start_time": "2024-04-20T20:48:45.573Z"
   },
   {
    "duration": 17,
    "start_time": "2024-04-20T20:48:45.585Z"
   },
   {
    "duration": 27,
    "start_time": "2024-04-20T20:48:45.604Z"
   },
   {
    "duration": 48,
    "start_time": "2024-04-20T20:48:45.632Z"
   },
   {
    "duration": 28,
    "start_time": "2024-04-20T20:48:45.681Z"
   },
   {
    "duration": 21,
    "start_time": "2024-04-20T20:48:45.712Z"
   },
   {
    "duration": 24,
    "start_time": "2024-04-20T20:48:45.735Z"
   },
   {
    "duration": 18,
    "start_time": "2024-04-20T20:48:45.761Z"
   },
   {
    "duration": 9,
    "start_time": "2024-04-20T20:48:45.781Z"
   },
   {
    "duration": 20,
    "start_time": "2024-04-20T20:48:45.792Z"
   },
   {
    "duration": 17,
    "start_time": "2024-04-20T20:48:45.813Z"
   },
   {
    "duration": 14,
    "start_time": "2024-04-20T20:48:45.832Z"
   },
   {
    "duration": 11,
    "start_time": "2024-04-20T20:48:45.865Z"
   },
   {
    "duration": 8,
    "start_time": "2024-04-20T20:48:45.877Z"
   },
   {
    "duration": 23,
    "start_time": "2024-04-20T20:48:45.886Z"
   },
   {
    "duration": 19,
    "start_time": "2024-04-20T20:48:45.911Z"
   },
   {
    "duration": 3,
    "start_time": "2024-04-20T20:49:02.704Z"
   },
   {
    "duration": 4,
    "start_time": "2024-04-20T20:51:26.728Z"
   },
   {
    "duration": 123,
    "start_time": "2024-04-20T20:51:26.733Z"
   },
   {
    "duration": 15,
    "start_time": "2024-04-20T20:51:26.858Z"
   },
   {
    "duration": 10,
    "start_time": "2024-04-20T20:51:26.874Z"
   },
   {
    "duration": 14,
    "start_time": "2024-04-20T20:51:26.885Z"
   },
   {
    "duration": 13,
    "start_time": "2024-04-20T20:51:26.900Z"
   },
   {
    "duration": 21,
    "start_time": "2024-04-20T20:51:26.915Z"
   },
   {
    "duration": 28,
    "start_time": "2024-04-20T20:51:26.938Z"
   },
   {
    "duration": 16,
    "start_time": "2024-04-20T20:51:26.967Z"
   },
   {
    "duration": 30,
    "start_time": "2024-04-20T20:51:26.987Z"
   },
   {
    "duration": 17,
    "start_time": "2024-04-20T20:51:27.018Z"
   },
   {
    "duration": 29,
    "start_time": "2024-04-20T20:51:27.037Z"
   },
   {
    "duration": 32,
    "start_time": "2024-04-20T20:51:27.067Z"
   },
   {
    "duration": 23,
    "start_time": "2024-04-20T20:51:27.100Z"
   },
   {
    "duration": 9,
    "start_time": "2024-04-20T20:51:27.125Z"
   },
   {
    "duration": 12,
    "start_time": "2024-04-20T20:51:27.135Z"
   },
   {
    "duration": 21,
    "start_time": "2024-04-20T20:51:27.149Z"
   },
   {
    "duration": 14,
    "start_time": "2024-04-20T20:51:27.172Z"
   },
   {
    "duration": 32,
    "start_time": "2024-04-20T20:51:27.187Z"
   },
   {
    "duration": 4,
    "start_time": "2024-04-20T20:51:28.893Z"
   },
   {
    "duration": 146,
    "start_time": "2024-04-20T20:51:28.900Z"
   },
   {
    "duration": 14,
    "start_time": "2024-04-20T20:51:29.047Z"
   },
   {
    "duration": 10,
    "start_time": "2024-04-20T20:51:29.062Z"
   },
   {
    "duration": 6,
    "start_time": "2024-04-20T20:51:29.074Z"
   },
   {
    "duration": 15,
    "start_time": "2024-04-20T20:51:29.081Z"
   },
   {
    "duration": 29,
    "start_time": "2024-04-20T20:51:29.097Z"
   },
   {
    "duration": 13,
    "start_time": "2024-04-20T20:51:29.127Z"
   },
   {
    "duration": 29,
    "start_time": "2024-04-20T20:51:29.142Z"
   },
   {
    "duration": 21,
    "start_time": "2024-04-20T20:51:29.173Z"
   },
   {
    "duration": 17,
    "start_time": "2024-04-20T20:51:29.195Z"
   },
   {
    "duration": 7,
    "start_time": "2024-04-20T20:51:29.213Z"
   },
   {
    "duration": 18,
    "start_time": "2024-04-20T20:51:29.222Z"
   },
   {
    "duration": 38,
    "start_time": "2024-04-20T20:51:29.242Z"
   },
   {
    "duration": 4,
    "start_time": "2024-04-20T20:51:29.282Z"
   },
   {
    "duration": 13,
    "start_time": "2024-04-20T20:51:29.287Z"
   },
   {
    "duration": 5,
    "start_time": "2024-04-20T20:51:29.301Z"
   },
   {
    "duration": 6,
    "start_time": "2024-04-20T20:51:29.307Z"
   },
   {
    "duration": 15,
    "start_time": "2024-04-20T20:51:29.314Z"
   },
   {
    "duration": 896,
    "start_time": "2024-04-21T14:15:59.126Z"
   },
   {
    "duration": 417,
    "start_time": "2024-04-21T14:16:00.025Z"
   },
   {
    "duration": 20,
    "start_time": "2024-04-21T14:16:00.444Z"
   },
   {
    "duration": 44,
    "start_time": "2024-04-21T14:16:00.466Z"
   },
   {
    "duration": 40,
    "start_time": "2024-04-21T14:16:00.514Z"
   },
   {
    "duration": 72,
    "start_time": "2024-04-21T14:16:00.556Z"
   },
   {
    "duration": 64,
    "start_time": "2024-04-21T14:16:00.630Z"
   },
   {
    "duration": 44,
    "start_time": "2024-04-21T14:16:00.696Z"
   },
   {
    "duration": 169,
    "start_time": "2024-04-21T14:16:00.742Z"
   },
   {
    "duration": 25,
    "start_time": "2024-04-21T14:16:00.913Z"
   },
   {
    "duration": 75,
    "start_time": "2024-04-21T14:16:00.940Z"
   },
   {
    "duration": 140,
    "start_time": "2024-04-21T14:16:01.017Z"
   },
   {
    "duration": 77,
    "start_time": "2024-04-21T14:16:01.158Z"
   },
   {
    "duration": 120,
    "start_time": "2024-04-21T14:16:01.237Z"
   },
   {
    "duration": 134,
    "start_time": "2024-04-21T14:16:01.358Z"
   },
   {
    "duration": 140,
    "start_time": "2024-04-21T14:16:01.494Z"
   },
   {
    "duration": 71,
    "start_time": "2024-04-21T14:16:01.637Z"
   },
   {
    "duration": 57,
    "start_time": "2024-04-21T14:16:01.709Z"
   },
   {
    "duration": 41,
    "start_time": "2024-04-21T14:16:01.767Z"
   },
   {
    "duration": 19,
    "start_time": "2024-04-21T14:17:30.481Z"
   },
   {
    "duration": 10,
    "start_time": "2024-04-21T14:19:39.470Z"
   },
   {
    "duration": 121,
    "start_time": "2024-04-21T14:19:39.481Z"
   },
   {
    "duration": 0,
    "start_time": "2024-04-21T14:19:39.604Z"
   },
   {
    "duration": 0,
    "start_time": "2024-04-21T14:19:39.605Z"
   },
   {
    "duration": 0,
    "start_time": "2024-04-21T14:19:39.607Z"
   },
   {
    "duration": 0,
    "start_time": "2024-04-21T14:19:39.608Z"
   },
   {
    "duration": 0,
    "start_time": "2024-04-21T14:19:39.609Z"
   },
   {
    "duration": 0,
    "start_time": "2024-04-21T14:19:39.610Z"
   },
   {
    "duration": 0,
    "start_time": "2024-04-21T14:19:39.611Z"
   },
   {
    "duration": 0,
    "start_time": "2024-04-21T14:19:39.612Z"
   },
   {
    "duration": 0,
    "start_time": "2024-04-21T14:19:39.613Z"
   },
   {
    "duration": 0,
    "start_time": "2024-04-21T14:19:39.614Z"
   },
   {
    "duration": 0,
    "start_time": "2024-04-21T14:19:39.615Z"
   },
   {
    "duration": 0,
    "start_time": "2024-04-21T14:19:39.616Z"
   },
   {
    "duration": 0,
    "start_time": "2024-04-21T14:19:39.617Z"
   },
   {
    "duration": 0,
    "start_time": "2024-04-21T14:19:39.618Z"
   },
   {
    "duration": 0,
    "start_time": "2024-04-21T14:19:39.619Z"
   },
   {
    "duration": 0,
    "start_time": "2024-04-21T14:19:39.620Z"
   },
   {
    "duration": 0,
    "start_time": "2024-04-21T14:19:39.621Z"
   },
   {
    "duration": 0,
    "start_time": "2024-04-21T14:19:39.622Z"
   },
   {
    "duration": 116,
    "start_time": "2024-04-21T14:19:58.973Z"
   },
   {
    "duration": 163,
    "start_time": "2024-04-21T14:20:47.434Z"
   },
   {
    "duration": 4,
    "start_time": "2024-04-21T14:20:50.321Z"
   },
   {
    "duration": 180,
    "start_time": "2024-04-21T14:20:50.327Z"
   },
   {
    "duration": 23,
    "start_time": "2024-04-21T14:20:50.508Z"
   },
   {
    "duration": 22,
    "start_time": "2024-04-21T14:20:50.541Z"
   },
   {
    "duration": 38,
    "start_time": "2024-04-21T14:20:50.565Z"
   },
   {
    "duration": 21,
    "start_time": "2024-04-21T14:20:50.605Z"
   },
   {
    "duration": 51,
    "start_time": "2024-04-21T14:20:50.628Z"
   },
   {
    "duration": 25,
    "start_time": "2024-04-21T14:20:50.681Z"
   },
   {
    "duration": 20,
    "start_time": "2024-04-21T14:20:50.707Z"
   },
   {
    "duration": 64,
    "start_time": "2024-04-21T14:20:50.729Z"
   },
   {
    "duration": 19,
    "start_time": "2024-04-21T14:20:50.795Z"
   },
   {
    "duration": 20,
    "start_time": "2024-04-21T14:20:50.816Z"
   },
   {
    "duration": 40,
    "start_time": "2024-04-21T14:20:50.837Z"
   },
   {
    "duration": 41,
    "start_time": "2024-04-21T14:20:50.878Z"
   },
   {
    "duration": 15,
    "start_time": "2024-04-21T14:20:50.920Z"
   },
   {
    "duration": 25,
    "start_time": "2024-04-21T14:20:50.936Z"
   },
   {
    "duration": 34,
    "start_time": "2024-04-21T14:20:50.963Z"
   },
   {
    "duration": 50,
    "start_time": "2024-04-21T14:20:50.998Z"
   },
   {
    "duration": 50,
    "start_time": "2024-04-21T14:20:51.050Z"
   },
   {
    "duration": 32,
    "start_time": "2024-04-21T14:20:51.102Z"
   },
   {
    "duration": 4,
    "start_time": "2024-04-21T14:21:17.911Z"
   },
   {
    "duration": 10,
    "start_time": "2024-04-21T14:21:17.917Z"
   },
   {
    "duration": 0,
    "start_time": "2024-04-21T14:21:17.928Z"
   },
   {
    "duration": 0,
    "start_time": "2024-04-21T14:21:17.929Z"
   },
   {
    "duration": 0,
    "start_time": "2024-04-21T14:21:17.930Z"
   },
   {
    "duration": 0,
    "start_time": "2024-04-21T14:21:17.931Z"
   },
   {
    "duration": 0,
    "start_time": "2024-04-21T14:21:17.933Z"
   },
   {
    "duration": 0,
    "start_time": "2024-04-21T14:21:17.935Z"
   },
   {
    "duration": 24,
    "start_time": "2024-04-21T14:21:17.937Z"
   },
   {
    "duration": 37,
    "start_time": "2024-04-21T14:21:17.963Z"
   },
   {
    "duration": 20,
    "start_time": "2024-04-21T14:21:18.001Z"
   },
   {
    "duration": 10,
    "start_time": "2024-04-21T14:21:18.023Z"
   },
   {
    "duration": 45,
    "start_time": "2024-04-21T14:21:18.036Z"
   },
   {
    "duration": 19,
    "start_time": "2024-04-21T14:21:18.083Z"
   },
   {
    "duration": 46,
    "start_time": "2024-04-21T14:21:18.104Z"
   },
   {
    "duration": 12,
    "start_time": "2024-04-21T14:21:18.152Z"
   },
   {
    "duration": 15,
    "start_time": "2024-04-21T14:21:18.166Z"
   },
   {
    "duration": 19,
    "start_time": "2024-04-21T14:21:18.182Z"
   },
   {
    "duration": 18,
    "start_time": "2024-04-21T14:21:18.202Z"
   },
   {
    "duration": 15,
    "start_time": "2024-04-21T14:21:18.221Z"
   },
   {
    "duration": 3,
    "start_time": "2024-04-21T14:21:46.807Z"
   },
   {
    "duration": 194,
    "start_time": "2024-04-21T14:21:46.812Z"
   },
   {
    "duration": 15,
    "start_time": "2024-04-21T14:21:47.008Z"
   },
   {
    "duration": 10,
    "start_time": "2024-04-21T14:21:47.025Z"
   },
   {
    "duration": 8,
    "start_time": "2024-04-21T14:21:47.037Z"
   },
   {
    "duration": 17,
    "start_time": "2024-04-21T14:21:47.046Z"
   },
   {
    "duration": 46,
    "start_time": "2024-04-21T14:21:47.065Z"
   },
   {
    "duration": 16,
    "start_time": "2024-04-21T14:21:47.112Z"
   },
   {
    "duration": 17,
    "start_time": "2024-04-21T14:21:47.130Z"
   },
   {
    "duration": 37,
    "start_time": "2024-04-21T14:21:47.149Z"
   },
   {
    "duration": 20,
    "start_time": "2024-04-21T14:21:47.188Z"
   },
   {
    "duration": 6,
    "start_time": "2024-04-21T14:21:47.210Z"
   },
   {
    "duration": 19,
    "start_time": "2024-04-21T14:21:47.218Z"
   },
   {
    "duration": 50,
    "start_time": "2024-04-21T14:21:47.239Z"
   },
   {
    "duration": 5,
    "start_time": "2024-04-21T14:21:47.291Z"
   },
   {
    "duration": 19,
    "start_time": "2024-04-21T14:21:47.298Z"
   },
   {
    "duration": 5,
    "start_time": "2024-04-21T14:21:47.318Z"
   },
   {
    "duration": 4,
    "start_time": "2024-04-21T14:21:47.325Z"
   },
   {
    "duration": 34,
    "start_time": "2024-04-21T14:21:47.330Z"
   },
   {
    "duration": 18,
    "start_time": "2024-04-21T14:21:47.380Z"
   },
   {
    "duration": 156,
    "start_time": "2024-04-21T14:23:08.799Z"
   },
   {
    "duration": 4,
    "start_time": "2024-04-21T14:23:18.104Z"
   },
   {
    "duration": 172,
    "start_time": "2024-04-21T14:23:18.110Z"
   },
   {
    "duration": 14,
    "start_time": "2024-04-21T14:23:18.284Z"
   },
   {
    "duration": 12,
    "start_time": "2024-04-21T14:23:18.300Z"
   },
   {
    "duration": 7,
    "start_time": "2024-04-21T14:23:18.314Z"
   },
   {
    "duration": 17,
    "start_time": "2024-04-21T14:23:18.323Z"
   },
   {
    "duration": 44,
    "start_time": "2024-04-21T14:23:18.341Z"
   },
   {
    "duration": 16,
    "start_time": "2024-04-21T14:23:18.387Z"
   },
   {
    "duration": 19,
    "start_time": "2024-04-21T14:23:18.405Z"
   },
   {
    "duration": 48,
    "start_time": "2024-04-21T14:23:18.426Z"
   },
   {
    "duration": 21,
    "start_time": "2024-04-21T14:23:18.475Z"
   },
   {
    "duration": 5,
    "start_time": "2024-04-21T14:23:18.497Z"
   },
   {
    "duration": 30,
    "start_time": "2024-04-21T14:23:18.504Z"
   },
   {
    "duration": 42,
    "start_time": "2024-04-21T14:23:18.536Z"
   },
   {
    "duration": 11,
    "start_time": "2024-04-21T14:23:18.579Z"
   },
   {
    "duration": 13,
    "start_time": "2024-04-21T14:23:18.591Z"
   },
   {
    "duration": 5,
    "start_time": "2024-04-21T14:23:18.606Z"
   },
   {
    "duration": 33,
    "start_time": "2024-04-21T14:23:18.612Z"
   },
   {
    "duration": 18,
    "start_time": "2024-04-21T14:23:18.646Z"
   },
   {
    "duration": 14,
    "start_time": "2024-04-21T14:23:18.666Z"
   },
   {
    "duration": 200,
    "start_time": "2024-04-21T14:23:49.070Z"
   },
   {
    "duration": 8,
    "start_time": "2024-04-21T14:23:51.828Z"
   },
   {
    "duration": 3,
    "start_time": "2024-04-21T14:23:59.502Z"
   },
   {
    "duration": 155,
    "start_time": "2024-04-21T14:23:59.507Z"
   },
   {
    "duration": 15,
    "start_time": "2024-04-21T14:23:59.664Z"
   },
   {
    "duration": 17,
    "start_time": "2024-04-21T14:23:59.681Z"
   },
   {
    "duration": 11,
    "start_time": "2024-04-21T14:23:59.700Z"
   },
   {
    "duration": 26,
    "start_time": "2024-04-21T14:23:59.712Z"
   },
   {
    "duration": 30,
    "start_time": "2024-04-21T14:23:59.739Z"
   },
   {
    "duration": 16,
    "start_time": "2024-04-21T14:23:59.770Z"
   },
   {
    "duration": 35,
    "start_time": "2024-04-21T14:23:59.788Z"
   },
   {
    "duration": 23,
    "start_time": "2024-04-21T14:23:59.825Z"
   },
   {
    "duration": 19,
    "start_time": "2024-04-21T14:23:59.850Z"
   },
   {
    "duration": 4,
    "start_time": "2024-04-21T14:23:59.873Z"
   },
   {
    "duration": 24,
    "start_time": "2024-04-21T14:23:59.879Z"
   },
   {
    "duration": 18,
    "start_time": "2024-04-21T14:23:59.904Z"
   },
   {
    "duration": 4,
    "start_time": "2024-04-21T14:23:59.924Z"
   },
   {
    "duration": 14,
    "start_time": "2024-04-21T14:23:59.930Z"
   },
   {
    "duration": 28,
    "start_time": "2024-04-21T14:23:59.946Z"
   },
   {
    "duration": 4,
    "start_time": "2024-04-21T14:23:59.975Z"
   },
   {
    "duration": 31,
    "start_time": "2024-04-21T14:23:59.981Z"
   },
   {
    "duration": 42,
    "start_time": "2024-04-21T14:24:00.013Z"
   },
   {
    "duration": 3,
    "start_time": "2024-04-21T14:25:46.759Z"
   },
   {
    "duration": 752,
    "start_time": "2024-04-21T14:25:46.764Z"
   },
   {
    "duration": 0,
    "start_time": "2024-04-21T14:25:47.518Z"
   },
   {
    "duration": 0,
    "start_time": "2024-04-21T14:25:47.520Z"
   },
   {
    "duration": 0,
    "start_time": "2024-04-21T14:25:47.521Z"
   },
   {
    "duration": 0,
    "start_time": "2024-04-21T14:25:47.522Z"
   },
   {
    "duration": 0,
    "start_time": "2024-04-21T14:25:47.523Z"
   },
   {
    "duration": 0,
    "start_time": "2024-04-21T14:25:47.524Z"
   },
   {
    "duration": 0,
    "start_time": "2024-04-21T14:25:47.525Z"
   },
   {
    "duration": 0,
    "start_time": "2024-04-21T14:25:47.526Z"
   },
   {
    "duration": 0,
    "start_time": "2024-04-21T14:25:47.527Z"
   },
   {
    "duration": 0,
    "start_time": "2024-04-21T14:25:47.528Z"
   },
   {
    "duration": 0,
    "start_time": "2024-04-21T14:25:47.529Z"
   },
   {
    "duration": 0,
    "start_time": "2024-04-21T14:25:47.530Z"
   },
   {
    "duration": 0,
    "start_time": "2024-04-21T14:25:47.532Z"
   },
   {
    "duration": 0,
    "start_time": "2024-04-21T14:25:47.533Z"
   },
   {
    "duration": 0,
    "start_time": "2024-04-21T14:25:47.534Z"
   },
   {
    "duration": 0,
    "start_time": "2024-04-21T14:25:47.535Z"
   },
   {
    "duration": 0,
    "start_time": "2024-04-21T14:25:47.536Z"
   },
   {
    "duration": 0,
    "start_time": "2024-04-21T14:25:47.537Z"
   },
   {
    "duration": 733,
    "start_time": "2024-04-21T14:26:41.076Z"
   },
   {
    "duration": 165,
    "start_time": "2024-04-21T14:26:51.896Z"
   },
   {
    "duration": 3,
    "start_time": "2024-04-21T14:26:56.458Z"
   },
   {
    "duration": 157,
    "start_time": "2024-04-21T14:26:56.463Z"
   },
   {
    "duration": 16,
    "start_time": "2024-04-21T14:26:56.622Z"
   },
   {
    "duration": 10,
    "start_time": "2024-04-21T14:26:56.640Z"
   },
   {
    "duration": 9,
    "start_time": "2024-04-21T14:26:56.652Z"
   },
   {
    "duration": 23,
    "start_time": "2024-04-21T14:26:56.663Z"
   },
   {
    "duration": 30,
    "start_time": "2024-04-21T14:26:56.688Z"
   },
   {
    "duration": 17,
    "start_time": "2024-04-21T14:26:56.720Z"
   },
   {
    "duration": 21,
    "start_time": "2024-04-21T14:26:56.739Z"
   },
   {
    "duration": 32,
    "start_time": "2024-04-21T14:26:56.762Z"
   },
   {
    "duration": 20,
    "start_time": "2024-04-21T14:26:56.795Z"
   },
   {
    "duration": 5,
    "start_time": "2024-04-21T14:26:56.816Z"
   },
   {
    "duration": 22,
    "start_time": "2024-04-21T14:26:56.822Z"
   },
   {
    "duration": 43,
    "start_time": "2024-04-21T14:26:56.846Z"
   },
   {
    "duration": 10,
    "start_time": "2024-04-21T14:26:56.891Z"
   },
   {
    "duration": 46,
    "start_time": "2024-04-21T14:26:56.902Z"
   },
   {
    "duration": 14,
    "start_time": "2024-04-21T14:26:56.950Z"
   },
   {
    "duration": 10,
    "start_time": "2024-04-21T14:26:56.965Z"
   },
   {
    "duration": 20,
    "start_time": "2024-04-21T14:26:56.976Z"
   },
   {
    "duration": 15,
    "start_time": "2024-04-21T14:26:56.999Z"
   },
   {
    "duration": 3,
    "start_time": "2024-04-21T14:27:31.950Z"
   },
   {
    "duration": 163,
    "start_time": "2024-04-21T14:27:31.955Z"
   },
   {
    "duration": 17,
    "start_time": "2024-04-21T14:27:32.119Z"
   },
   {
    "duration": 22,
    "start_time": "2024-04-21T14:27:32.138Z"
   },
   {
    "duration": 7,
    "start_time": "2024-04-21T14:27:32.162Z"
   },
   {
    "duration": 28,
    "start_time": "2024-04-21T14:27:32.171Z"
   },
   {
    "duration": 42,
    "start_time": "2024-04-21T14:27:32.201Z"
   },
   {
    "duration": 16,
    "start_time": "2024-04-21T14:27:32.244Z"
   },
   {
    "duration": 18,
    "start_time": "2024-04-21T14:27:32.261Z"
   },
   {
    "duration": 22,
    "start_time": "2024-04-21T14:27:32.281Z"
   },
   {
    "duration": 19,
    "start_time": "2024-04-21T14:27:32.304Z"
   },
   {
    "duration": 5,
    "start_time": "2024-04-21T14:27:32.324Z"
   },
   {
    "duration": 22,
    "start_time": "2024-04-21T14:27:32.330Z"
   },
   {
    "duration": 20,
    "start_time": "2024-04-21T14:27:32.372Z"
   },
   {
    "duration": 5,
    "start_time": "2024-04-21T14:27:32.393Z"
   },
   {
    "duration": 16,
    "start_time": "2024-04-21T14:27:32.399Z"
   },
   {
    "duration": 4,
    "start_time": "2024-04-21T14:27:32.417Z"
   },
   {
    "duration": 10,
    "start_time": "2024-04-21T14:27:32.423Z"
   },
   {
    "duration": 39,
    "start_time": "2024-04-21T14:27:32.435Z"
   },
   {
    "duration": 15,
    "start_time": "2024-04-21T14:27:32.476Z"
   },
   {
    "duration": 3,
    "start_time": "2024-04-21T14:27:54.930Z"
   },
   {
    "duration": 155,
    "start_time": "2024-04-21T14:27:54.934Z"
   },
   {
    "duration": 23,
    "start_time": "2024-04-21T14:27:55.091Z"
   },
   {
    "duration": 15,
    "start_time": "2024-04-21T14:27:55.116Z"
   },
   {
    "duration": 7,
    "start_time": "2024-04-21T14:27:55.134Z"
   },
   {
    "duration": 15,
    "start_time": "2024-04-21T14:27:55.144Z"
   },
   {
    "duration": 38,
    "start_time": "2024-04-21T14:27:55.173Z"
   },
   {
    "duration": 24,
    "start_time": "2024-04-21T14:27:55.213Z"
   },
   {
    "duration": 49,
    "start_time": "2024-04-21T14:27:55.239Z"
   },
   {
    "duration": 24,
    "start_time": "2024-04-21T14:27:55.290Z"
   },
   {
    "duration": 21,
    "start_time": "2024-04-21T14:27:55.316Z"
   },
   {
    "duration": 37,
    "start_time": "2024-04-21T14:27:55.339Z"
   },
   {
    "duration": 25,
    "start_time": "2024-04-21T14:27:55.378Z"
   },
   {
    "duration": 33,
    "start_time": "2024-04-21T14:27:55.406Z"
   },
   {
    "duration": 6,
    "start_time": "2024-04-21T14:27:55.441Z"
   },
   {
    "duration": 14,
    "start_time": "2024-04-21T14:27:55.472Z"
   },
   {
    "duration": 11,
    "start_time": "2024-04-21T14:27:55.488Z"
   },
   {
    "duration": 5,
    "start_time": "2024-04-21T14:27:55.501Z"
   },
   {
    "duration": 18,
    "start_time": "2024-04-21T14:27:55.507Z"
   },
   {
    "duration": 52,
    "start_time": "2024-04-21T14:27:55.527Z"
   },
   {
    "duration": 30,
    "start_time": "2024-04-21T14:30:32.790Z"
   },
   {
    "duration": 18,
    "start_time": "2024-04-21T14:30:39.802Z"
   },
   {
    "duration": 14,
    "start_time": "2024-04-21T14:32:49.818Z"
   },
   {
    "duration": 19,
    "start_time": "2024-04-21T14:33:20.795Z"
   },
   {
    "duration": 19,
    "start_time": "2024-04-21T14:33:28.011Z"
   },
   {
    "duration": 6,
    "start_time": "2024-04-21T14:34:07.401Z"
   },
   {
    "duration": 3,
    "start_time": "2024-04-21T14:36:28.281Z"
   },
   {
    "duration": 153,
    "start_time": "2024-04-21T14:36:28.286Z"
   },
   {
    "duration": 15,
    "start_time": "2024-04-21T14:36:28.441Z"
   },
   {
    "duration": 13,
    "start_time": "2024-04-21T14:36:28.458Z"
   },
   {
    "duration": 8,
    "start_time": "2024-04-21T14:36:28.473Z"
   },
   {
    "duration": 12,
    "start_time": "2024-04-21T14:36:28.482Z"
   },
   {
    "duration": 27,
    "start_time": "2024-04-21T14:36:28.496Z"
   },
   {
    "duration": 29,
    "start_time": "2024-04-21T14:36:28.524Z"
   },
   {
    "duration": 31,
    "start_time": "2024-04-21T14:36:28.555Z"
   },
   {
    "duration": 25,
    "start_time": "2024-04-21T14:36:28.588Z"
   },
   {
    "duration": 83,
    "start_time": "2024-04-21T14:36:28.615Z"
   },
   {
    "duration": 5,
    "start_time": "2024-04-21T14:36:28.699Z"
   },
   {
    "duration": 79,
    "start_time": "2024-04-21T14:36:28.706Z"
   },
   {
    "duration": 67,
    "start_time": "2024-04-21T14:36:28.787Z"
   },
   {
    "duration": 18,
    "start_time": "2024-04-21T14:36:28.855Z"
   },
   {
    "duration": 16,
    "start_time": "2024-04-21T14:36:28.875Z"
   },
   {
    "duration": 15,
    "start_time": "2024-04-21T14:36:28.892Z"
   },
   {
    "duration": 11,
    "start_time": "2024-04-21T14:36:28.908Z"
   },
   {
    "duration": 30,
    "start_time": "2024-04-21T14:36:28.920Z"
   },
   {
    "duration": 33,
    "start_time": "2024-04-21T14:36:28.951Z"
   },
   {
    "duration": 6,
    "start_time": "2024-04-21T14:36:28.986Z"
   },
   {
    "duration": 7,
    "start_time": "2024-04-21T14:36:37.842Z"
   },
   {
    "duration": 4,
    "start_time": "2024-04-21T14:36:58.635Z"
   },
   {
    "duration": 188,
    "start_time": "2024-04-21T14:36:58.641Z"
   },
   {
    "duration": 14,
    "start_time": "2024-04-21T14:36:58.831Z"
   },
   {
    "duration": 47,
    "start_time": "2024-04-21T14:36:58.847Z"
   },
   {
    "duration": 76,
    "start_time": "2024-04-21T14:36:58.895Z"
   },
   {
    "duration": 110,
    "start_time": "2024-04-21T14:36:58.973Z"
   },
   {
    "duration": 93,
    "start_time": "2024-04-21T14:36:59.085Z"
   },
   {
    "duration": 58,
    "start_time": "2024-04-21T14:36:59.181Z"
   },
   {
    "duration": 38,
    "start_time": "2024-04-21T14:36:59.241Z"
   },
   {
    "duration": 66,
    "start_time": "2024-04-21T14:36:59.282Z"
   },
   {
    "duration": 108,
    "start_time": "2024-04-21T14:36:59.350Z"
   },
   {
    "duration": 6,
    "start_time": "2024-04-21T14:36:59.461Z"
   },
   {
    "duration": 101,
    "start_time": "2024-04-21T14:36:59.469Z"
   },
   {
    "duration": 66,
    "start_time": "2024-04-21T14:36:59.572Z"
   },
   {
    "duration": 50,
    "start_time": "2024-04-21T14:36:59.639Z"
   },
   {
    "duration": 57,
    "start_time": "2024-04-21T14:36:59.691Z"
   },
   {
    "duration": 38,
    "start_time": "2024-04-21T14:36:59.750Z"
   },
   {
    "duration": 17,
    "start_time": "2024-04-21T14:36:59.789Z"
   },
   {
    "duration": 75,
    "start_time": "2024-04-21T14:36:59.808Z"
   },
   {
    "duration": 57,
    "start_time": "2024-04-21T14:36:59.885Z"
   },
   {
    "duration": 51,
    "start_time": "2024-04-21T14:36:59.943Z"
   },
   {
    "duration": 3,
    "start_time": "2024-04-21T14:37:16.381Z"
   },
   {
    "duration": 175,
    "start_time": "2024-04-21T14:37:16.386Z"
   },
   {
    "duration": 17,
    "start_time": "2024-04-21T14:37:16.563Z"
   },
   {
    "duration": 29,
    "start_time": "2024-04-21T14:37:16.581Z"
   },
   {
    "duration": 47,
    "start_time": "2024-04-21T14:37:16.613Z"
   },
   {
    "duration": 23,
    "start_time": "2024-04-21T14:37:16.662Z"
   },
   {
    "duration": 29,
    "start_time": "2024-04-21T14:37:16.686Z"
   },
   {
    "duration": 15,
    "start_time": "2024-04-21T14:37:16.717Z"
   },
   {
    "duration": 25,
    "start_time": "2024-04-21T14:37:16.734Z"
   },
   {
    "duration": 23,
    "start_time": "2024-04-21T14:37:16.773Z"
   },
   {
    "duration": 86,
    "start_time": "2024-04-21T14:37:16.799Z"
   },
   {
    "duration": 4,
    "start_time": "2024-04-21T14:37:16.887Z"
   },
   {
    "duration": 90,
    "start_time": "2024-04-21T14:37:16.892Z"
   },
   {
    "duration": 70,
    "start_time": "2024-04-21T14:37:16.984Z"
   },
   {
    "duration": 18,
    "start_time": "2024-04-21T14:37:17.056Z"
   },
   {
    "duration": 20,
    "start_time": "2024-04-21T14:37:17.076Z"
   },
   {
    "duration": 17,
    "start_time": "2024-04-21T14:37:17.098Z"
   },
   {
    "duration": 13,
    "start_time": "2024-04-21T14:37:17.117Z"
   },
   {
    "duration": 21,
    "start_time": "2024-04-21T14:37:17.132Z"
   },
   {
    "duration": 23,
    "start_time": "2024-04-21T14:37:17.154Z"
   },
   {
    "duration": 5,
    "start_time": "2024-04-21T14:37:17.179Z"
   },
   {
    "duration": 107,
    "start_time": "2024-04-21T14:40:13.926Z"
   },
   {
    "duration": 12,
    "start_time": "2024-04-21T14:41:47.853Z"
   },
   {
    "duration": 13,
    "start_time": "2024-04-21T14:42:16.170Z"
   },
   {
    "duration": 266,
    "start_time": "2024-04-21T14:43:24.018Z"
   },
   {
    "duration": 16,
    "start_time": "2024-04-21T14:49:19.919Z"
   },
   {
    "duration": 81,
    "start_time": "2024-04-21T14:50:13.069Z"
   },
   {
    "duration": 15,
    "start_time": "2024-04-21T14:50:16.339Z"
   },
   {
    "duration": 14,
    "start_time": "2024-04-21T14:50:40.179Z"
   },
   {
    "duration": 16,
    "start_time": "2024-04-21T14:51:34.070Z"
   },
   {
    "duration": 8,
    "start_time": "2024-04-21T14:57:45.185Z"
   },
   {
    "duration": 3,
    "start_time": "2024-04-21T14:57:47.798Z"
   },
   {
    "duration": 160,
    "start_time": "2024-04-21T14:57:47.802Z"
   },
   {
    "duration": 15,
    "start_time": "2024-04-21T14:57:47.964Z"
   },
   {
    "duration": 14,
    "start_time": "2024-04-21T14:57:47.981Z"
   },
   {
    "duration": 6,
    "start_time": "2024-04-21T14:57:47.997Z"
   },
   {
    "duration": 12,
    "start_time": "2024-04-21T14:57:48.004Z"
   },
   {
    "duration": 30,
    "start_time": "2024-04-21T14:57:48.017Z"
   },
   {
    "duration": 29,
    "start_time": "2024-04-21T14:57:48.049Z"
   },
   {
    "duration": 20,
    "start_time": "2024-04-21T14:57:48.080Z"
   },
   {
    "duration": 28,
    "start_time": "2024-04-21T14:57:48.102Z"
   },
   {
    "duration": 100,
    "start_time": "2024-04-21T14:57:48.132Z"
   },
   {
    "duration": 5,
    "start_time": "2024-04-21T14:57:48.234Z"
   },
   {
    "duration": 93,
    "start_time": "2024-04-21T14:57:48.240Z"
   },
   {
    "duration": 73,
    "start_time": "2024-04-21T14:57:48.335Z"
   },
   {
    "duration": 5,
    "start_time": "2024-04-21T14:57:48.409Z"
   },
   {
    "duration": 30,
    "start_time": "2024-04-21T14:57:48.415Z"
   },
   {
    "duration": 11,
    "start_time": "2024-04-21T14:57:48.447Z"
   },
   {
    "duration": 7,
    "start_time": "2024-04-21T14:57:48.459Z"
   },
   {
    "duration": 17,
    "start_time": "2024-04-21T14:57:48.467Z"
   },
   {
    "duration": 24,
    "start_time": "2024-04-21T14:57:48.486Z"
   },
   {
    "duration": 263,
    "start_time": "2024-04-21T14:57:48.512Z"
   },
   {
    "duration": 9,
    "start_time": "2024-04-21T14:57:48.776Z"
   },
   {
    "duration": 10,
    "start_time": "2024-04-21T14:57:48.786Z"
   },
   {
    "duration": 10,
    "start_time": "2024-04-21T14:58:19.230Z"
   },
   {
    "duration": 16,
    "start_time": "2024-04-21T14:58:33.216Z"
   },
   {
    "duration": 3,
    "start_time": "2024-04-21T14:59:21.687Z"
   },
   {
    "duration": 3,
    "start_time": "2024-04-21T14:59:26.197Z"
   },
   {
    "duration": 205,
    "start_time": "2024-04-21T14:59:26.201Z"
   },
   {
    "duration": 16,
    "start_time": "2024-04-21T14:59:26.407Z"
   },
   {
    "duration": 11,
    "start_time": "2024-04-21T14:59:26.426Z"
   },
   {
    "duration": 9,
    "start_time": "2024-04-21T14:59:26.439Z"
   },
   {
    "duration": 17,
    "start_time": "2024-04-21T14:59:26.450Z"
   },
   {
    "duration": 42,
    "start_time": "2024-04-21T14:59:26.469Z"
   },
   {
    "duration": 17,
    "start_time": "2024-04-21T14:59:26.513Z"
   },
   {
    "duration": 18,
    "start_time": "2024-04-21T14:59:26.533Z"
   },
   {
    "duration": 35,
    "start_time": "2024-04-21T14:59:26.553Z"
   },
   {
    "duration": 67,
    "start_time": "2024-04-21T14:59:26.590Z"
   },
   {
    "duration": 15,
    "start_time": "2024-04-21T14:59:26.659Z"
   },
   {
    "duration": 105,
    "start_time": "2024-04-21T14:59:26.676Z"
   },
   {
    "duration": 67,
    "start_time": "2024-04-21T14:59:26.783Z"
   },
   {
    "duration": 5,
    "start_time": "2024-04-21T14:59:26.852Z"
   },
   {
    "duration": 25,
    "start_time": "2024-04-21T14:59:26.858Z"
   },
   {
    "duration": 4,
    "start_time": "2024-04-21T14:59:26.885Z"
   },
   {
    "duration": 7,
    "start_time": "2024-04-21T14:59:26.891Z"
   },
   {
    "duration": 31,
    "start_time": "2024-04-21T14:59:26.899Z"
   },
   {
    "duration": 23,
    "start_time": "2024-04-21T14:59:26.931Z"
   },
   {
    "duration": 18,
    "start_time": "2024-04-21T14:59:26.956Z"
   },
   {
    "duration": 276,
    "start_time": "2024-04-21T14:59:26.976Z"
   },
   {
    "duration": 20,
    "start_time": "2024-04-21T14:59:27.254Z"
   },
   {
    "duration": 14,
    "start_time": "2024-04-21T14:59:27.277Z"
   },
   {
    "duration": 5,
    "start_time": "2024-04-21T14:59:41.914Z"
   },
   {
    "duration": 10,
    "start_time": "2024-04-21T15:01:31.691Z"
   },
   {
    "duration": 4,
    "start_time": "2024-04-21T15:02:19.467Z"
   },
   {
    "duration": 70,
    "start_time": "2024-04-21T15:02:32.181Z"
   },
   {
    "duration": 10,
    "start_time": "2024-04-21T15:02:39.553Z"
   },
   {
    "duration": 3,
    "start_time": "2024-04-21T18:40:30.293Z"
   },
   {
    "duration": 380,
    "start_time": "2024-04-21T18:40:30.298Z"
   },
   {
    "duration": 16,
    "start_time": "2024-04-21T18:40:30.680Z"
   },
   {
    "duration": 165,
    "start_time": "2024-04-21T18:40:30.698Z"
   },
   {
    "duration": 219,
    "start_time": "2024-04-21T18:40:30.865Z"
   },
   {
    "duration": 82,
    "start_time": "2024-04-21T18:40:31.086Z"
   },
   {
    "duration": 164,
    "start_time": "2024-04-21T18:40:31.169Z"
   },
   {
    "duration": 126,
    "start_time": "2024-04-21T18:40:31.335Z"
   },
   {
    "duration": 91,
    "start_time": "2024-04-21T18:40:31.463Z"
   },
   {
    "duration": 39,
    "start_time": "2024-04-21T18:40:31.557Z"
   },
   {
    "duration": 95,
    "start_time": "2024-04-21T18:40:31.598Z"
   },
   {
    "duration": 26,
    "start_time": "2024-04-21T18:40:31.695Z"
   },
   {
    "duration": 85,
    "start_time": "2024-04-21T18:40:31.723Z"
   },
   {
    "duration": 71,
    "start_time": "2024-04-21T18:40:31.810Z"
   },
   {
    "duration": 5,
    "start_time": "2024-04-21T18:40:31.882Z"
   },
   {
    "duration": 28,
    "start_time": "2024-04-21T18:40:31.888Z"
   },
   {
    "duration": 34,
    "start_time": "2024-04-21T18:40:31.918Z"
   },
   {
    "duration": 14,
    "start_time": "2024-04-21T18:40:31.954Z"
   },
   {
    "duration": 32,
    "start_time": "2024-04-21T18:40:31.970Z"
   },
   {
    "duration": 37,
    "start_time": "2024-04-21T18:40:32.004Z"
   },
   {
    "duration": 4,
    "start_time": "2024-04-21T18:40:32.042Z"
   },
   {
    "duration": 274,
    "start_time": "2024-04-21T18:40:32.047Z"
   },
   {
    "duration": 8,
    "start_time": "2024-04-21T18:40:32.323Z"
   },
   {
    "duration": 4,
    "start_time": "2024-04-21T18:40:32.333Z"
   },
   {
    "duration": 38,
    "start_time": "2024-04-21T18:40:32.339Z"
   },
   {
    "duration": 5,
    "start_time": "2024-04-21T18:43:03.589Z"
   },
   {
    "duration": 9,
    "start_time": "2024-04-21T18:43:30.057Z"
   },
   {
    "duration": 81,
    "start_time": "2024-04-21T18:43:33.992Z"
   },
   {
    "duration": 5,
    "start_time": "2024-04-21T18:43:50.861Z"
   },
   {
    "duration": 76,
    "start_time": "2024-04-21T18:43:57.196Z"
   },
   {
    "duration": 5,
    "start_time": "2024-04-21T18:43:58.475Z"
   },
   {
    "duration": 6,
    "start_time": "2024-04-21T18:44:21.245Z"
   },
   {
    "duration": 6,
    "start_time": "2024-04-21T18:44:25.222Z"
   },
   {
    "duration": 6,
    "start_time": "2024-04-21T18:44:25.629Z"
   },
   {
    "duration": 6,
    "start_time": "2024-04-21T18:44:32.027Z"
   },
   {
    "duration": 5,
    "start_time": "2024-04-21T18:44:32.493Z"
   },
   {
    "duration": 5,
    "start_time": "2024-04-21T18:44:36.406Z"
   },
   {
    "duration": 4,
    "start_time": "2024-04-21T18:44:36.747Z"
   },
   {
    "duration": 7,
    "start_time": "2024-04-21T18:45:52.887Z"
   },
   {
    "duration": 10,
    "start_time": "2024-04-21T18:46:57.463Z"
   },
   {
    "duration": 7,
    "start_time": "2024-04-21T18:48:10.611Z"
   },
   {
    "duration": 6,
    "start_time": "2024-04-21T18:48:22.336Z"
   },
   {
    "duration": 6,
    "start_time": "2024-04-21T18:49:07.199Z"
   },
   {
    "duration": 5,
    "start_time": "2024-04-21T18:49:21.843Z"
   },
   {
    "duration": 11,
    "start_time": "2024-04-21T18:49:37.880Z"
   },
   {
    "duration": 6,
    "start_time": "2024-04-21T18:57:21.536Z"
   },
   {
    "duration": 5,
    "start_time": "2024-04-21T18:57:34.398Z"
   },
   {
    "duration": 5,
    "start_time": "2024-04-21T18:57:51.185Z"
   },
   {
    "duration": 5,
    "start_time": "2024-04-21T18:57:56.546Z"
   },
   {
    "duration": 5,
    "start_time": "2024-04-21T18:58:09.136Z"
   },
   {
    "duration": 9,
    "start_time": "2024-04-21T19:02:26.481Z"
   },
   {
    "duration": 4,
    "start_time": "2024-04-21T19:03:27.806Z"
   },
   {
    "duration": 131,
    "start_time": "2024-04-21T19:06:13.706Z"
   },
   {
    "duration": 4,
    "start_time": "2024-04-21T19:06:22.299Z"
   },
   {
    "duration": 8,
    "start_time": "2024-04-21T19:06:34.587Z"
   },
   {
    "duration": 12,
    "start_time": "2024-04-21T19:10:04.172Z"
   },
   {
    "duration": 121,
    "start_time": "2024-04-21T19:10:04.744Z"
   },
   {
    "duration": 9,
    "start_time": "2024-04-21T19:10:05.399Z"
   },
   {
    "duration": 1436,
    "start_time": "2024-04-21T19:21:27.046Z"
   },
   {
    "duration": 0,
    "start_time": "2024-04-21T19:21:28.484Z"
   },
   {
    "duration": 184,
    "start_time": "2024-04-21T19:21:34.491Z"
   },
   {
    "duration": 179,
    "start_time": "2024-04-21T19:22:24.880Z"
   },
   {
    "duration": 170,
    "start_time": "2024-04-21T19:23:42.273Z"
   },
   {
    "duration": 8,
    "start_time": "2024-04-21T19:23:43.668Z"
   },
   {
    "duration": 4,
    "start_time": "2024-04-21T19:24:21.173Z"
   },
   {
    "duration": 4,
    "start_time": "2024-04-21T19:24:33.905Z"
   },
   {
    "duration": 4,
    "start_time": "2024-04-21T19:24:46.322Z"
   },
   {
    "duration": 192,
    "start_time": "2024-04-21T19:24:56.074Z"
   },
   {
    "duration": 4,
    "start_time": "2024-04-21T19:25:00.138Z"
   },
   {
    "duration": 258,
    "start_time": "2024-04-21T19:25:00.144Z"
   },
   {
    "duration": 17,
    "start_time": "2024-04-21T19:25:00.403Z"
   },
   {
    "duration": 113,
    "start_time": "2024-04-21T19:25:00.422Z"
   },
   {
    "duration": 134,
    "start_time": "2024-04-21T19:25:00.537Z"
   },
   {
    "duration": 185,
    "start_time": "2024-04-21T19:25:00.673Z"
   },
   {
    "duration": 80,
    "start_time": "2024-04-21T19:25:00.859Z"
   },
   {
    "duration": 46,
    "start_time": "2024-04-21T19:25:00.941Z"
   },
   {
    "duration": 126,
    "start_time": "2024-04-21T19:25:00.990Z"
   },
   {
    "duration": 127,
    "start_time": "2024-04-21T19:25:01.118Z"
   },
   {
    "duration": 121,
    "start_time": "2024-04-21T19:25:01.247Z"
   },
   {
    "duration": 41,
    "start_time": "2024-04-21T19:25:01.369Z"
   },
   {
    "duration": 135,
    "start_time": "2024-04-21T19:25:01.411Z"
   },
   {
    "duration": 138,
    "start_time": "2024-04-21T19:25:01.547Z"
   },
   {
    "duration": 22,
    "start_time": "2024-04-21T19:25:01.686Z"
   },
   {
    "duration": 64,
    "start_time": "2024-04-21T19:25:01.710Z"
   },
   {
    "duration": 30,
    "start_time": "2024-04-21T19:25:01.775Z"
   },
   {
    "duration": 31,
    "start_time": "2024-04-21T19:25:01.807Z"
   },
   {
    "duration": 72,
    "start_time": "2024-04-21T19:25:01.839Z"
   },
   {
    "duration": 24,
    "start_time": "2024-04-21T19:25:01.913Z"
   },
   {
    "duration": 6,
    "start_time": "2024-04-21T19:25:01.939Z"
   },
   {
    "duration": 263,
    "start_time": "2024-04-21T19:25:01.947Z"
   },
   {
    "duration": 9,
    "start_time": "2024-04-21T19:25:02.211Z"
   },
   {
    "duration": 14,
    "start_time": "2024-04-21T19:25:02.222Z"
   },
   {
    "duration": 41,
    "start_time": "2024-04-21T19:25:02.237Z"
   },
   {
    "duration": 5,
    "start_time": "2024-04-21T19:25:02.279Z"
   },
   {
    "duration": 9,
    "start_time": "2024-04-21T19:25:02.285Z"
   },
   {
    "duration": 33,
    "start_time": "2024-04-21T19:25:02.295Z"
   },
   {
    "duration": 13,
    "start_time": "2024-04-21T19:25:02.329Z"
   },
   {
    "duration": 188,
    "start_time": "2024-04-21T19:25:02.344Z"
   },
   {
    "duration": 9,
    "start_time": "2024-04-21T19:25:02.534Z"
   },
   {
    "duration": 9,
    "start_time": "2024-04-21T19:26:04.211Z"
   },
   {
    "duration": 167,
    "start_time": "2024-04-21T19:26:05.232Z"
   },
   {
    "duration": 15,
    "start_time": "2024-04-21T19:27:21.526Z"
   },
   {
    "duration": 559,
    "start_time": "2024-04-21T19:28:37.994Z"
   },
   {
    "duration": 753,
    "start_time": "2024-04-21T19:34:27.809Z"
   },
   {
    "duration": 8,
    "start_time": "2024-04-21T19:35:02.991Z"
   },
   {
    "duration": 10,
    "start_time": "2024-04-21T19:35:16.101Z"
   },
   {
    "duration": 8,
    "start_time": "2024-04-21T19:37:17.222Z"
   },
   {
    "duration": 11,
    "start_time": "2024-04-21T19:37:21.908Z"
   },
   {
    "duration": 150,
    "start_time": "2024-04-21T19:40:04.591Z"
   },
   {
    "duration": 185,
    "start_time": "2024-04-21T19:40:37.449Z"
   },
   {
    "duration": 152,
    "start_time": "2024-04-21T19:40:57.112Z"
   },
   {
    "duration": 144,
    "start_time": "2024-04-21T19:41:30.704Z"
   },
   {
    "duration": 140,
    "start_time": "2024-04-21T19:41:45.072Z"
   },
   {
    "duration": 154,
    "start_time": "2024-04-21T19:42:15.907Z"
   },
   {
    "duration": 226,
    "start_time": "2024-04-21T19:42:24.148Z"
   },
   {
    "duration": 138,
    "start_time": "2024-04-21T19:42:32.310Z"
   },
   {
    "duration": 169,
    "start_time": "2024-04-21T19:44:14.089Z"
   },
   {
    "duration": 140,
    "start_time": "2024-04-21T19:44:20.406Z"
   },
   {
    "duration": 160,
    "start_time": "2024-04-21T19:44:33.537Z"
   },
   {
    "duration": 148,
    "start_time": "2024-04-21T19:44:39.331Z"
   },
   {
    "duration": 160,
    "start_time": "2024-04-21T19:44:45.659Z"
   },
   {
    "duration": 157,
    "start_time": "2024-04-21T19:52:42.625Z"
   },
   {
    "duration": 154,
    "start_time": "2024-04-21T19:53:10.540Z"
   },
   {
    "duration": 161,
    "start_time": "2024-04-21T19:53:17.525Z"
   },
   {
    "duration": 171,
    "start_time": "2024-04-21T19:53:43.447Z"
   },
   {
    "duration": 273,
    "start_time": "2024-04-21T19:55:42.502Z"
   },
   {
    "duration": 191,
    "start_time": "2024-04-21T19:56:15.454Z"
   },
   {
    "duration": 184,
    "start_time": "2024-04-21T19:56:19.760Z"
   },
   {
    "duration": 206,
    "start_time": "2024-04-21T19:56:32.355Z"
   },
   {
    "duration": 204,
    "start_time": "2024-04-21T19:56:37.196Z"
   },
   {
    "duration": 194,
    "start_time": "2024-04-21T19:56:40.555Z"
   },
   {
    "duration": 154,
    "start_time": "2024-04-21T19:56:53.136Z"
   },
   {
    "duration": 192,
    "start_time": "2024-04-21T19:59:06.066Z"
   },
   {
    "duration": 206,
    "start_time": "2024-04-21T19:59:15.943Z"
   },
   {
    "duration": 273,
    "start_time": "2024-04-21T20:00:17.605Z"
   },
   {
    "duration": 183,
    "start_time": "2024-04-21T20:00:29.838Z"
   },
   {
    "duration": 195,
    "start_time": "2024-04-21T20:00:36.771Z"
   },
   {
    "duration": 187,
    "start_time": "2024-04-21T20:01:02.235Z"
   },
   {
    "duration": 175,
    "start_time": "2024-04-21T20:04:14.416Z"
   },
   {
    "duration": 183,
    "start_time": "2024-04-21T20:04:19.582Z"
   },
   {
    "duration": 173,
    "start_time": "2024-04-21T20:04:26.293Z"
   },
   {
    "duration": 170,
    "start_time": "2024-04-21T20:04:30.359Z"
   },
   {
    "duration": 189,
    "start_time": "2024-04-21T20:04:39.386Z"
   },
   {
    "duration": 181,
    "start_time": "2024-04-21T20:04:43.751Z"
   },
   {
    "duration": 216,
    "start_time": "2024-04-21T20:04:53.883Z"
   },
   {
    "duration": 301,
    "start_time": "2024-04-21T20:04:58.403Z"
   },
   {
    "duration": 181,
    "start_time": "2024-04-21T20:05:06.376Z"
   },
   {
    "duration": 179,
    "start_time": "2024-04-21T20:05:13.016Z"
   },
   {
    "duration": 22,
    "start_time": "2024-04-21T20:06:03.021Z"
   },
   {
    "duration": 142,
    "start_time": "2024-04-21T20:11:32.491Z"
   },
   {
    "duration": 239,
    "start_time": "2024-04-21T20:11:36.021Z"
   },
   {
    "duration": 226,
    "start_time": "2024-04-21T20:11:43.115Z"
   },
   {
    "duration": 192,
    "start_time": "2024-04-21T20:11:46.288Z"
   },
   {
    "duration": 200,
    "start_time": "2024-04-21T20:11:51.841Z"
   },
   {
    "duration": 188,
    "start_time": "2024-04-21T20:11:56.782Z"
   },
   {
    "duration": 501,
    "start_time": "2024-04-21T20:15:25.237Z"
   },
   {
    "duration": 4,
    "start_time": "2024-04-21T20:24:16.510Z"
   },
   {
    "duration": 16,
    "start_time": "2024-04-21T20:24:36.688Z"
   },
   {
    "duration": 17,
    "start_time": "2024-04-21T20:25:01.627Z"
   },
   {
    "duration": 9,
    "start_time": "2024-04-21T20:29:40.441Z"
   },
   {
    "duration": 318,
    "start_time": "2024-04-21T20:29:46.253Z"
   },
   {
    "duration": 370,
    "start_time": "2024-04-21T20:29:59.710Z"
   },
   {
    "duration": 19,
    "start_time": "2024-04-21T20:30:15.856Z"
   },
   {
    "duration": 18,
    "start_time": "2024-04-21T20:30:30.395Z"
   },
   {
    "duration": 21,
    "start_time": "2024-04-21T20:31:41.808Z"
   },
   {
    "duration": 26,
    "start_time": "2024-04-21T20:32:03.479Z"
   },
   {
    "duration": 1294,
    "start_time": "2024-04-21T20:34:22.118Z"
   },
   {
    "duration": 12,
    "start_time": "2024-04-21T20:34:29.875Z"
   },
   {
    "duration": 341,
    "start_time": "2024-04-21T20:34:46.814Z"
   },
   {
    "duration": 3,
    "start_time": "2024-04-21T20:34:56.383Z"
   },
   {
    "duration": 186,
    "start_time": "2024-04-21T20:34:56.388Z"
   },
   {
    "duration": 16,
    "start_time": "2024-04-21T20:34:56.575Z"
   },
   {
    "duration": 9,
    "start_time": "2024-04-21T20:34:56.593Z"
   },
   {
    "duration": 25,
    "start_time": "2024-04-21T20:34:56.603Z"
   },
   {
    "duration": 27,
    "start_time": "2024-04-21T20:34:56.630Z"
   },
   {
    "duration": 31,
    "start_time": "2024-04-21T20:34:56.658Z"
   },
   {
    "duration": 16,
    "start_time": "2024-04-21T20:34:56.691Z"
   },
   {
    "duration": 18,
    "start_time": "2024-04-21T20:34:56.711Z"
   },
   {
    "duration": 47,
    "start_time": "2024-04-21T20:34:56.731Z"
   },
   {
    "duration": 68,
    "start_time": "2024-04-21T20:34:56.779Z"
   },
   {
    "duration": 5,
    "start_time": "2024-04-21T20:34:56.848Z"
   },
   {
    "duration": 67,
    "start_time": "2024-04-21T20:34:56.874Z"
   },
   {
    "duration": 80,
    "start_time": "2024-04-21T20:34:56.943Z"
   },
   {
    "duration": 7,
    "start_time": "2024-04-21T20:34:57.025Z"
   },
   {
    "duration": 15,
    "start_time": "2024-04-21T20:34:57.033Z"
   },
   {
    "duration": 26,
    "start_time": "2024-04-21T20:34:57.050Z"
   },
   {
    "duration": 4,
    "start_time": "2024-04-21T20:34:57.078Z"
   },
   {
    "duration": 19,
    "start_time": "2024-04-21T20:34:57.084Z"
   },
   {
    "duration": 24,
    "start_time": "2024-04-21T20:34:57.104Z"
   },
   {
    "duration": 4,
    "start_time": "2024-04-21T20:34:57.129Z"
   },
   {
    "duration": 263,
    "start_time": "2024-04-21T20:34:57.135Z"
   },
   {
    "duration": 8,
    "start_time": "2024-04-21T20:34:57.400Z"
   },
   {
    "duration": 4,
    "start_time": "2024-04-21T20:34:57.412Z"
   },
   {
    "duration": 29,
    "start_time": "2024-04-21T20:34:57.418Z"
   },
   {
    "duration": 5,
    "start_time": "2024-04-21T20:34:57.473Z"
   },
   {
    "duration": 12,
    "start_time": "2024-04-21T20:34:57.479Z"
   },
   {
    "duration": 17,
    "start_time": "2024-04-21T20:34:57.492Z"
   },
   {
    "duration": 23,
    "start_time": "2024-04-21T20:34:57.511Z"
   },
   {
    "duration": 206,
    "start_time": "2024-04-21T20:34:57.536Z"
   },
   {
    "duration": 9,
    "start_time": "2024-04-21T20:34:57.744Z"
   },
   {
    "duration": 213,
    "start_time": "2024-04-21T20:34:57.754Z"
   },
   {
    "duration": 194,
    "start_time": "2024-04-21T20:34:57.969Z"
   },
   {
    "duration": 208,
    "start_time": "2024-04-21T20:34:58.165Z"
   },
   {
    "duration": 17,
    "start_time": "2024-04-21T20:34:58.374Z"
   },
   {
    "duration": 27,
    "start_time": "2024-04-21T20:34:58.393Z"
   },
   {
    "duration": 344,
    "start_time": "2024-04-21T20:34:58.422Z"
   },
   {
    "duration": 15,
    "start_time": "2024-04-21T20:35:31.628Z"
   },
   {
    "duration": 354,
    "start_time": "2024-04-21T20:35:59.748Z"
   },
   {
    "duration": 380,
    "start_time": "2024-04-21T20:36:03.142Z"
   },
   {
    "duration": 9,
    "start_time": "2024-04-21T20:37:06.605Z"
   },
   {
    "duration": 4,
    "start_time": "2024-04-21T20:37:10.085Z"
   },
   {
    "duration": 26,
    "start_time": "2024-04-21T20:37:43.898Z"
   },
   {
    "duration": 330,
    "start_time": "2024-04-21T20:38:52.714Z"
   },
   {
    "duration": 98,
    "start_time": "2024-04-21T20:39:38.001Z"
   },
   {
    "duration": 34,
    "start_time": "2024-04-21T20:40:11.309Z"
   },
   {
    "duration": 316,
    "start_time": "2024-04-21T20:40:12.284Z"
   },
   {
    "duration": 3,
    "start_time": "2024-04-21T20:40:26.043Z"
   },
   {
    "duration": 174,
    "start_time": "2024-04-21T20:40:26.048Z"
   },
   {
    "duration": 15,
    "start_time": "2024-04-21T20:40:26.224Z"
   },
   {
    "duration": 24,
    "start_time": "2024-04-21T20:40:26.240Z"
   },
   {
    "duration": 12,
    "start_time": "2024-04-21T20:40:26.266Z"
   },
   {
    "duration": 21,
    "start_time": "2024-04-21T20:40:26.279Z"
   },
   {
    "duration": 28,
    "start_time": "2024-04-21T20:40:26.302Z"
   },
   {
    "duration": 17,
    "start_time": "2024-04-21T20:40:26.332Z"
   },
   {
    "duration": 29,
    "start_time": "2024-04-21T20:40:26.350Z"
   },
   {
    "duration": 40,
    "start_time": "2024-04-21T20:40:26.381Z"
   },
   {
    "duration": 67,
    "start_time": "2024-04-21T20:40:26.424Z"
   },
   {
    "duration": 5,
    "start_time": "2024-04-21T20:40:26.492Z"
   },
   {
    "duration": 83,
    "start_time": "2024-04-21T20:40:26.498Z"
   },
   {
    "duration": 68,
    "start_time": "2024-04-21T20:40:26.583Z"
   },
   {
    "duration": 5,
    "start_time": "2024-04-21T20:40:26.653Z"
   },
   {
    "duration": 25,
    "start_time": "2024-04-21T20:40:26.659Z"
   },
   {
    "duration": 28,
    "start_time": "2024-04-21T20:40:26.686Z"
   },
   {
    "duration": 6,
    "start_time": "2024-04-21T20:40:26.716Z"
   },
   {
    "duration": 19,
    "start_time": "2024-04-21T20:40:26.723Z"
   },
   {
    "duration": 32,
    "start_time": "2024-04-21T20:40:26.744Z"
   },
   {
    "duration": 5,
    "start_time": "2024-04-21T20:40:26.778Z"
   },
   {
    "duration": 280,
    "start_time": "2024-04-21T20:40:26.785Z"
   },
   {
    "duration": 14,
    "start_time": "2024-04-21T20:40:27.067Z"
   },
   {
    "duration": 9,
    "start_time": "2024-04-21T20:40:27.083Z"
   },
   {
    "duration": 12,
    "start_time": "2024-04-21T20:40:27.094Z"
   },
   {
    "duration": 6,
    "start_time": "2024-04-21T20:40:27.108Z"
   },
   {
    "duration": 8,
    "start_time": "2024-04-21T20:40:27.116Z"
   },
   {
    "duration": 11,
    "start_time": "2024-04-21T20:40:27.125Z"
   },
   {
    "duration": 10,
    "start_time": "2024-04-21T20:40:27.175Z"
   },
   {
    "duration": 204,
    "start_time": "2024-04-21T20:40:27.186Z"
   },
   {
    "duration": 8,
    "start_time": "2024-04-21T20:40:27.392Z"
   },
   {
    "duration": 215,
    "start_time": "2024-04-21T20:40:27.401Z"
   },
   {
    "duration": 201,
    "start_time": "2024-04-21T20:40:27.618Z"
   },
   {
    "duration": 215,
    "start_time": "2024-04-21T20:40:27.821Z"
   },
   {
    "duration": 17,
    "start_time": "2024-04-21T20:40:28.072Z"
   },
   {
    "duration": 17,
    "start_time": "2024-04-21T20:40:28.091Z"
   },
   {
    "duration": 22,
    "start_time": "2024-04-21T20:40:28.110Z"
   },
   {
    "duration": 451,
    "start_time": "2024-04-21T20:40:28.174Z"
   },
   {
    "duration": 19,
    "start_time": "2024-04-21T20:40:39.765Z"
   },
   {
    "duration": 19,
    "start_time": "2024-04-21T20:41:54.734Z"
   },
   {
    "duration": 7,
    "start_time": "2024-04-21T20:41:58.825Z"
   },
   {
    "duration": 23,
    "start_time": "2024-04-21T20:42:10.655Z"
   },
   {
    "duration": 25,
    "start_time": "2024-04-21T20:42:25.181Z"
   },
   {
    "duration": 122,
    "start_time": "2024-04-21T21:06:15.101Z"
   },
   {
    "duration": 32,
    "start_time": "2024-04-21T21:06:37.236Z"
   },
   {
    "duration": 54,
    "start_time": "2024-04-21T21:07:01.362Z"
   },
   {
    "duration": 113,
    "start_time": "2024-04-21T21:08:04.571Z"
   },
   {
    "duration": 109,
    "start_time": "2024-04-21T21:08:13.183Z"
   },
   {
    "duration": 2556,
    "start_time": "2024-04-21T21:08:29.503Z"
   },
   {
    "duration": 2489,
    "start_time": "2024-04-21T21:08:34.394Z"
   },
   {
    "duration": 224,
    "start_time": "2024-04-21T21:08:58.820Z"
   },
   {
    "duration": 12,
    "start_time": "2024-04-21T21:15:36.250Z"
   },
   {
    "duration": 116,
    "start_time": "2024-04-21T21:16:18.932Z"
   },
   {
    "duration": 147,
    "start_time": "2024-04-21T21:16:48.727Z"
   },
   {
    "duration": 175,
    "start_time": "2024-04-21T21:17:04.348Z"
   },
   {
    "duration": 230,
    "start_time": "2024-04-21T21:18:47.533Z"
   },
   {
    "duration": 206,
    "start_time": "2024-04-21T21:19:12.067Z"
   },
   {
    "duration": 182,
    "start_time": "2024-04-21T21:20:12.106Z"
   },
   {
    "duration": 154,
    "start_time": "2024-04-21T21:20:59.925Z"
   },
   {
    "duration": 148,
    "start_time": "2024-04-21T21:23:29.304Z"
   },
   {
    "duration": 74,
    "start_time": "2024-04-21T21:29:25.984Z"
   },
   {
    "duration": 13,
    "start_time": "2024-04-21T21:29:35.922Z"
   },
   {
    "duration": 14,
    "start_time": "2024-04-21T21:29:54.494Z"
   },
   {
    "duration": 20,
    "start_time": "2024-04-21T21:31:04.873Z"
   },
   {
    "duration": 23,
    "start_time": "2024-04-21T21:32:44.369Z"
   },
   {
    "duration": 1033,
    "start_time": "2024-04-21T21:34:07.642Z"
   },
   {
    "duration": 947,
    "start_time": "2024-04-21T21:34:51.072Z"
   },
   {
    "duration": 1013,
    "start_time": "2024-04-21T21:35:14.661Z"
   },
   {
    "duration": 1047,
    "start_time": "2024-04-21T21:37:00.151Z"
   },
   {
    "duration": 2646,
    "start_time": "2024-04-21T21:37:10.131Z"
   },
   {
    "duration": 3,
    "start_time": "2024-04-21T21:37:28.328Z"
   },
   {
    "duration": 159,
    "start_time": "2024-04-21T21:37:28.333Z"
   },
   {
    "duration": 15,
    "start_time": "2024-04-21T21:37:28.494Z"
   },
   {
    "duration": 11,
    "start_time": "2024-04-21T21:37:28.510Z"
   },
   {
    "duration": 11,
    "start_time": "2024-04-21T21:37:28.524Z"
   },
   {
    "duration": 13,
    "start_time": "2024-04-21T21:37:28.537Z"
   },
   {
    "duration": 37,
    "start_time": "2024-04-21T21:37:28.551Z"
   },
   {
    "duration": 14,
    "start_time": "2024-04-21T21:37:28.590Z"
   },
   {
    "duration": 17,
    "start_time": "2024-04-21T21:37:28.606Z"
   },
   {
    "duration": 22,
    "start_time": "2024-04-21T21:37:28.624Z"
   },
   {
    "duration": 86,
    "start_time": "2024-04-21T21:37:28.649Z"
   },
   {
    "duration": 5,
    "start_time": "2024-04-21T21:37:28.737Z"
   },
   {
    "duration": 77,
    "start_time": "2024-04-21T21:37:28.743Z"
   },
   {
    "duration": 72,
    "start_time": "2024-04-21T21:37:28.822Z"
   },
   {
    "duration": 4,
    "start_time": "2024-04-21T21:37:28.895Z"
   },
   {
    "duration": 11,
    "start_time": "2024-04-21T21:37:28.901Z"
   },
   {
    "duration": 5,
    "start_time": "2024-04-21T21:37:28.913Z"
   },
   {
    "duration": 23,
    "start_time": "2024-04-21T21:37:28.919Z"
   },
   {
    "duration": 30,
    "start_time": "2024-04-21T21:37:28.944Z"
   },
   {
    "duration": 23,
    "start_time": "2024-04-21T21:37:28.976Z"
   },
   {
    "duration": 5,
    "start_time": "2024-04-21T21:37:29.001Z"
   },
   {
    "duration": 249,
    "start_time": "2024-04-21T21:37:29.007Z"
   },
   {
    "duration": 15,
    "start_time": "2024-04-21T21:37:29.258Z"
   },
   {
    "duration": 7,
    "start_time": "2024-04-21T21:37:29.274Z"
   },
   {
    "duration": 14,
    "start_time": "2024-04-21T21:37:29.282Z"
   },
   {
    "duration": 16,
    "start_time": "2024-04-21T21:37:29.298Z"
   },
   {
    "duration": 30,
    "start_time": "2024-04-21T21:37:29.316Z"
   },
   {
    "duration": 18,
    "start_time": "2024-04-21T21:37:29.347Z"
   },
   {
    "duration": 20,
    "start_time": "2024-04-21T21:37:29.368Z"
   },
   {
    "duration": 189,
    "start_time": "2024-04-21T21:37:29.389Z"
   },
   {
    "duration": 8,
    "start_time": "2024-04-21T21:37:29.580Z"
   },
   {
    "duration": 198,
    "start_time": "2024-04-21T21:37:29.589Z"
   },
   {
    "duration": 188,
    "start_time": "2024-04-21T21:37:29.789Z"
   },
   {
    "duration": 214,
    "start_time": "2024-04-21T21:37:29.978Z"
   },
   {
    "duration": 15,
    "start_time": "2024-04-21T21:37:30.194Z"
   },
   {
    "duration": 70,
    "start_time": "2024-04-21T21:37:30.211Z"
   },
   {
    "duration": 61,
    "start_time": "2024-04-21T21:37:30.283Z"
   },
   {
    "duration": 282,
    "start_time": "2024-04-21T21:37:30.346Z"
   },
   {
    "duration": 258,
    "start_time": "2024-04-21T21:37:30.630Z"
   },
   {
    "duration": 158,
    "start_time": "2024-04-21T21:37:30.889Z"
   },
   {
    "duration": 2229,
    "start_time": "2024-04-21T21:37:31.049Z"
   },
   {
    "duration": 37,
    "start_time": "2024-04-21T21:38:02.778Z"
   },
   {
    "duration": 53,
    "start_time": "2024-04-21T21:38:36.141Z"
   },
   {
    "duration": 39,
    "start_time": "2024-04-21T21:39:07.292Z"
   },
   {
    "duration": 14,
    "start_time": "2024-04-21T21:39:30.782Z"
   },
   {
    "duration": 13,
    "start_time": "2024-04-21T21:39:48.920Z"
   },
   {
    "duration": 17,
    "start_time": "2024-04-21T21:40:02.027Z"
   },
   {
    "duration": 988,
    "start_time": "2024-04-21T21:40:28.914Z"
   },
   {
    "duration": 16,
    "start_time": "2024-04-21T21:40:39.198Z"
   },
   {
    "duration": 17,
    "start_time": "2024-04-21T21:41:09.994Z"
   },
   {
    "duration": 17,
    "start_time": "2024-04-21T21:41:24.703Z"
   },
   {
    "duration": 17,
    "start_time": "2024-04-21T21:42:50.150Z"
   },
   {
    "duration": 17,
    "start_time": "2024-04-21T21:42:54.907Z"
   },
   {
    "duration": 20,
    "start_time": "2024-04-21T21:43:00.137Z"
   },
   {
    "duration": 17,
    "start_time": "2024-04-21T21:43:08.037Z"
   },
   {
    "duration": 16,
    "start_time": "2024-04-21T21:43:20.228Z"
   },
   {
    "duration": 26,
    "start_time": "2024-04-21T21:43:39.083Z"
   },
   {
    "duration": 17,
    "start_time": "2024-04-21T21:43:53.770Z"
   },
   {
    "duration": 12,
    "start_time": "2024-04-21T21:44:02.865Z"
   },
   {
    "duration": 13,
    "start_time": "2024-04-21T21:44:08.504Z"
   },
   {
    "duration": 13,
    "start_time": "2024-04-21T21:45:10.220Z"
   },
   {
    "duration": 14,
    "start_time": "2024-04-21T21:45:32.532Z"
   },
   {
    "duration": 13,
    "start_time": "2024-04-21T21:45:41.530Z"
   },
   {
    "duration": 14,
    "start_time": "2024-04-21T21:46:21.067Z"
   },
   {
    "duration": 14,
    "start_time": "2024-04-21T21:46:25.706Z"
   },
   {
    "duration": 14,
    "start_time": "2024-04-21T21:46:28.855Z"
   },
   {
    "duration": 21,
    "start_time": "2024-04-21T21:46:34.459Z"
   },
   {
    "duration": 15,
    "start_time": "2024-04-21T21:46:37.471Z"
   },
   {
    "duration": 13,
    "start_time": "2024-04-21T21:46:41.043Z"
   },
   {
    "duration": 21,
    "start_time": "2024-04-21T21:46:43.745Z"
   },
   {
    "duration": 20,
    "start_time": "2024-04-21T21:46:46.671Z"
   },
   {
    "duration": 14,
    "start_time": "2024-04-21T21:46:49.379Z"
   },
   {
    "duration": 19,
    "start_time": "2024-04-21T21:48:01.177Z"
   },
   {
    "duration": 1816,
    "start_time": "2024-04-21T21:50:14.003Z"
   },
   {
    "duration": 1860,
    "start_time": "2024-04-21T21:50:52.242Z"
   },
   {
    "duration": 3,
    "start_time": "2024-04-21T21:51:39.328Z"
   },
   {
    "duration": 151,
    "start_time": "2024-04-21T21:51:39.335Z"
   },
   {
    "duration": 16,
    "start_time": "2024-04-21T21:51:39.488Z"
   },
   {
    "duration": 11,
    "start_time": "2024-04-21T21:51:39.506Z"
   },
   {
    "duration": 17,
    "start_time": "2024-04-21T21:51:39.518Z"
   },
   {
    "duration": 17,
    "start_time": "2024-04-21T21:51:39.537Z"
   },
   {
    "duration": 23,
    "start_time": "2024-04-21T21:51:39.556Z"
   },
   {
    "duration": 16,
    "start_time": "2024-04-21T21:51:39.581Z"
   },
   {
    "duration": 19,
    "start_time": "2024-04-21T21:51:39.598Z"
   },
   {
    "duration": 22,
    "start_time": "2024-04-21T21:51:39.619Z"
   },
   {
    "duration": 88,
    "start_time": "2024-04-21T21:51:39.642Z"
   },
   {
    "duration": 4,
    "start_time": "2024-04-21T21:51:39.732Z"
   },
   {
    "duration": 94,
    "start_time": "2024-04-21T21:51:39.737Z"
   },
   {
    "duration": 88,
    "start_time": "2024-04-21T21:51:39.833Z"
   },
   {
    "duration": 4,
    "start_time": "2024-04-21T21:51:39.924Z"
   },
   {
    "duration": 12,
    "start_time": "2024-04-21T21:51:39.930Z"
   },
   {
    "duration": 5,
    "start_time": "2024-04-21T21:51:39.943Z"
   },
   {
    "duration": 25,
    "start_time": "2024-04-21T21:51:39.949Z"
   },
   {
    "duration": 26,
    "start_time": "2024-04-21T21:51:39.976Z"
   },
   {
    "duration": 25,
    "start_time": "2024-04-21T21:51:40.004Z"
   },
   {
    "duration": 8,
    "start_time": "2024-04-21T21:51:40.030Z"
   },
   {
    "duration": 281,
    "start_time": "2024-04-21T21:51:40.040Z"
   },
   {
    "duration": 9,
    "start_time": "2024-04-21T21:51:40.323Z"
   },
   {
    "duration": 3,
    "start_time": "2024-04-21T21:51:40.334Z"
   },
   {
    "duration": 38,
    "start_time": "2024-04-21T21:51:40.339Z"
   },
   {
    "duration": 10,
    "start_time": "2024-04-21T21:51:40.379Z"
   },
   {
    "duration": 7,
    "start_time": "2024-04-21T21:51:40.390Z"
   },
   {
    "duration": 9,
    "start_time": "2024-04-21T21:51:40.398Z"
   },
   {
    "duration": 8,
    "start_time": "2024-04-21T21:51:40.409Z"
   },
   {
    "duration": 208,
    "start_time": "2024-04-21T21:51:40.419Z"
   },
   {
    "duration": 8,
    "start_time": "2024-04-21T21:51:40.629Z"
   },
   {
    "duration": 204,
    "start_time": "2024-04-21T21:51:40.639Z"
   },
   {
    "duration": 194,
    "start_time": "2024-04-21T21:51:40.844Z"
   },
   {
    "duration": 206,
    "start_time": "2024-04-21T21:51:41.039Z"
   },
   {
    "duration": 26,
    "start_time": "2024-04-21T21:51:41.247Z"
   },
   {
    "duration": 16,
    "start_time": "2024-04-21T21:51:41.275Z"
   },
   {
    "duration": 26,
    "start_time": "2024-04-21T21:51:41.293Z"
   },
   {
    "duration": 273,
    "start_time": "2024-04-21T21:51:41.320Z"
   },
   {
    "duration": 182,
    "start_time": "2024-04-21T21:51:41.595Z"
   },
   {
    "duration": 240,
    "start_time": "2024-04-21T21:51:41.779Z"
   },
   {
    "duration": 2614,
    "start_time": "2024-04-21T21:51:42.021Z"
   },
   {
    "duration": 2578,
    "start_time": "2024-04-21T21:52:11.709Z"
   },
   {
    "duration": 17,
    "start_time": "2024-04-21T21:52:31.202Z"
   },
   {
    "duration": 18,
    "start_time": "2024-04-21T21:52:41.141Z"
   },
   {
    "duration": 24,
    "start_time": "2024-04-21T21:52:59.850Z"
   },
   {
    "duration": 2808,
    "start_time": "2024-04-21T21:53:29.280Z"
   },
   {
    "duration": 22,
    "start_time": "2024-04-21T21:54:32.733Z"
   },
   {
    "duration": 1643,
    "start_time": "2024-04-21T21:55:33.235Z"
   },
   {
    "duration": 24,
    "start_time": "2024-04-21T21:57:21.830Z"
   },
   {
    "duration": 23,
    "start_time": "2024-04-21T21:58:02.822Z"
   },
   {
    "duration": 24,
    "start_time": "2024-04-21T21:58:58.464Z"
   },
   {
    "duration": 18,
    "start_time": "2024-04-21T21:59:07.286Z"
   },
   {
    "duration": 18,
    "start_time": "2024-04-21T21:59:13.646Z"
   },
   {
    "duration": 20,
    "start_time": "2024-04-21T21:59:35.820Z"
   },
   {
    "duration": 23,
    "start_time": "2024-04-21T21:59:53.649Z"
   },
   {
    "duration": 24,
    "start_time": "2024-04-21T22:00:02.351Z"
   },
   {
    "duration": 17,
    "start_time": "2024-04-21T22:00:21.489Z"
   },
   {
    "duration": 17,
    "start_time": "2024-04-21T22:00:33.781Z"
   },
   {
    "duration": 24,
    "start_time": "2024-04-21T22:00:40.716Z"
   },
   {
    "duration": 3,
    "start_time": "2024-04-21T22:01:02.555Z"
   },
   {
    "duration": 161,
    "start_time": "2024-04-21T22:01:02.560Z"
   },
   {
    "duration": 15,
    "start_time": "2024-04-21T22:01:02.723Z"
   },
   {
    "duration": 19,
    "start_time": "2024-04-21T22:01:02.741Z"
   },
   {
    "duration": 6,
    "start_time": "2024-04-21T22:01:02.761Z"
   },
   {
    "duration": 14,
    "start_time": "2024-04-21T22:01:02.768Z"
   },
   {
    "duration": 59,
    "start_time": "2024-04-21T22:01:02.783Z"
   },
   {
    "duration": 22,
    "start_time": "2024-04-21T22:01:02.844Z"
   },
   {
    "duration": 20,
    "start_time": "2024-04-21T22:01:02.869Z"
   },
   {
    "duration": 32,
    "start_time": "2024-04-21T22:01:02.891Z"
   },
   {
    "duration": 70,
    "start_time": "2024-04-21T22:01:02.925Z"
   },
   {
    "duration": 4,
    "start_time": "2024-04-21T22:01:02.997Z"
   },
   {
    "duration": 86,
    "start_time": "2024-04-21T22:01:03.003Z"
   },
   {
    "duration": 65,
    "start_time": "2024-04-21T22:01:03.091Z"
   },
   {
    "duration": 5,
    "start_time": "2024-04-21T22:01:03.172Z"
   },
   {
    "duration": 38,
    "start_time": "2024-04-21T22:01:03.179Z"
   },
   {
    "duration": 13,
    "start_time": "2024-04-21T22:01:03.219Z"
   },
   {
    "duration": 17,
    "start_time": "2024-04-21T22:01:03.234Z"
   },
   {
    "duration": 35,
    "start_time": "2024-04-21T22:01:03.253Z"
   },
   {
    "duration": 23,
    "start_time": "2024-04-21T22:01:03.290Z"
   },
   {
    "duration": 3,
    "start_time": "2024-04-21T22:01:03.315Z"
   },
   {
    "duration": 261,
    "start_time": "2024-04-21T22:01:03.320Z"
   },
   {
    "duration": 8,
    "start_time": "2024-04-21T22:01:03.583Z"
   },
   {
    "duration": 26,
    "start_time": "2024-04-21T22:01:03.594Z"
   },
   {
    "duration": 52,
    "start_time": "2024-04-21T22:01:03.622Z"
   },
   {
    "duration": 12,
    "start_time": "2024-04-21T22:01:03.676Z"
   },
   {
    "duration": 11,
    "start_time": "2024-04-21T22:01:03.690Z"
   },
   {
    "duration": 11,
    "start_time": "2024-04-21T22:01:03.702Z"
   },
   {
    "duration": 20,
    "start_time": "2024-04-21T22:01:03.715Z"
   },
   {
    "duration": 248,
    "start_time": "2024-04-21T22:01:03.737Z"
   },
   {
    "duration": 9,
    "start_time": "2024-04-21T22:01:03.987Z"
   },
   {
    "duration": 218,
    "start_time": "2024-04-21T22:01:03.997Z"
   },
   {
    "duration": 196,
    "start_time": "2024-04-21T22:01:04.217Z"
   },
   {
    "duration": 217,
    "start_time": "2024-04-21T22:01:04.415Z"
   },
   {
    "duration": 19,
    "start_time": "2024-04-21T22:01:04.634Z"
   },
   {
    "duration": 33,
    "start_time": "2024-04-21T22:01:04.655Z"
   },
   {
    "duration": 22,
    "start_time": "2024-04-21T22:01:04.690Z"
   },
   {
    "duration": 246,
    "start_time": "2024-04-21T22:01:04.714Z"
   },
   {
    "duration": 183,
    "start_time": "2024-04-21T22:01:04.962Z"
   },
   {
    "duration": 168,
    "start_time": "2024-04-21T22:01:05.147Z"
   },
   {
    "duration": 18,
    "start_time": "2024-04-21T22:01:05.317Z"
   },
   {
    "duration": 168,
    "start_time": "2024-04-21T22:01:18.715Z"
   },
   {
    "duration": 177,
    "start_time": "2024-04-21T22:02:42.080Z"
   },
   {
    "duration": 246,
    "start_time": "2024-04-21T22:03:20.792Z"
   },
   {
    "duration": 158,
    "start_time": "2024-04-21T22:06:12.516Z"
   },
   {
    "duration": 160,
    "start_time": "2024-04-21T22:16:48.965Z"
   },
   {
    "duration": 161,
    "start_time": "2024-04-21T22:18:10.970Z"
   },
   {
    "duration": 155,
    "start_time": "2024-04-21T22:18:25.931Z"
   },
   {
    "duration": 158,
    "start_time": "2024-04-21T22:21:30.984Z"
   },
   {
    "duration": 8,
    "start_time": "2024-04-21T22:30:13.715Z"
   },
   {
    "duration": 19,
    "start_time": "2024-04-21T22:30:20.780Z"
   },
   {
    "duration": 3,
    "start_time": "2024-04-21T22:30:45.852Z"
   },
   {
    "duration": 156,
    "start_time": "2024-04-21T22:30:45.857Z"
   },
   {
    "duration": 15,
    "start_time": "2024-04-21T22:30:46.015Z"
   },
   {
    "duration": 13,
    "start_time": "2024-04-21T22:30:46.032Z"
   },
   {
    "duration": 8,
    "start_time": "2024-04-21T22:30:46.047Z"
   },
   {
    "duration": 12,
    "start_time": "2024-04-21T22:30:46.057Z"
   },
   {
    "duration": 29,
    "start_time": "2024-04-21T22:30:46.070Z"
   },
   {
    "duration": 16,
    "start_time": "2024-04-21T22:30:46.101Z"
   },
   {
    "duration": 23,
    "start_time": "2024-04-21T22:30:46.119Z"
   },
   {
    "duration": 39,
    "start_time": "2024-04-21T22:30:46.144Z"
   },
   {
    "duration": 68,
    "start_time": "2024-04-21T22:30:46.186Z"
   },
   {
    "duration": 19,
    "start_time": "2024-04-21T22:30:46.257Z"
   },
   {
    "duration": 78,
    "start_time": "2024-04-21T22:30:46.278Z"
   },
   {
    "duration": 79,
    "start_time": "2024-04-21T22:30:46.358Z"
   },
   {
    "duration": 14,
    "start_time": "2024-04-21T22:30:46.438Z"
   },
   {
    "duration": 74,
    "start_time": "2024-04-21T22:30:46.453Z"
   },
   {
    "duration": 26,
    "start_time": "2024-04-21T22:30:46.528Z"
   },
   {
    "duration": 30,
    "start_time": "2024-04-21T22:30:46.555Z"
   },
   {
    "duration": 35,
    "start_time": "2024-04-21T22:30:46.587Z"
   },
   {
    "duration": 53,
    "start_time": "2024-04-21T22:30:46.624Z"
   },
   {
    "duration": 14,
    "start_time": "2024-04-21T22:30:46.679Z"
   },
   {
    "duration": 236,
    "start_time": "2024-04-21T22:30:46.695Z"
   },
   {
    "duration": 8,
    "start_time": "2024-04-21T22:30:46.933Z"
   },
   {
    "duration": 6,
    "start_time": "2024-04-21T22:30:46.943Z"
   },
   {
    "duration": 29,
    "start_time": "2024-04-21T22:30:46.950Z"
   },
   {
    "duration": 16,
    "start_time": "2024-04-21T22:30:46.981Z"
   },
   {
    "duration": 20,
    "start_time": "2024-04-21T22:30:46.999Z"
   },
   {
    "duration": 20,
    "start_time": "2024-04-21T22:30:47.020Z"
   },
   {
    "duration": 19,
    "start_time": "2024-04-21T22:30:47.043Z"
   },
   {
    "duration": 196,
    "start_time": "2024-04-21T22:30:47.063Z"
   },
   {
    "duration": 12,
    "start_time": "2024-04-21T22:30:47.261Z"
   },
   {
    "duration": 210,
    "start_time": "2024-04-21T22:30:47.274Z"
   },
   {
    "duration": 187,
    "start_time": "2024-04-21T22:30:47.486Z"
   },
   {
    "duration": 189,
    "start_time": "2024-04-21T22:30:47.674Z"
   },
   {
    "duration": 20,
    "start_time": "2024-04-21T22:30:47.865Z"
   },
   {
    "duration": 31,
    "start_time": "2024-04-21T22:30:47.886Z"
   },
   {
    "duration": 106,
    "start_time": "2024-04-21T22:30:47.918Z"
   },
   {
    "duration": 262,
    "start_time": "2024-04-21T22:30:48.026Z"
   },
   {
    "duration": 172,
    "start_time": "2024-04-21T22:30:48.289Z"
   },
   {
    "duration": 163,
    "start_time": "2024-04-21T22:30:48.463Z"
   },
   {
    "duration": 169,
    "start_time": "2024-04-21T22:30:48.628Z"
   },
   {
    "duration": 185,
    "start_time": "2024-04-21T22:30:48.799Z"
   },
   {
    "duration": 19,
    "start_time": "2024-04-21T22:30:48.986Z"
   },
   {
    "duration": 152,
    "start_time": "2024-04-21T22:31:12.769Z"
   },
   {
    "duration": 242,
    "start_time": "2024-04-21T22:31:35.433Z"
   },
   {
    "duration": 18,
    "start_time": "2024-04-21T22:31:55.917Z"
   },
   {
    "duration": 190,
    "start_time": "2024-04-21T22:32:32.969Z"
   },
   {
    "duration": 167,
    "start_time": "2024-04-21T22:33:34.349Z"
   },
   {
    "duration": 163,
    "start_time": "2024-04-21T22:34:37.100Z"
   },
   {
    "duration": 126,
    "start_time": "2024-04-21T22:34:51.018Z"
   },
   {
    "duration": 241,
    "start_time": "2024-04-21T22:35:12.952Z"
   },
   {
    "duration": 177,
    "start_time": "2024-04-21T22:35:32.323Z"
   },
   {
    "duration": 195,
    "start_time": "2024-04-21T22:36:53.678Z"
   },
   {
    "duration": 190,
    "start_time": "2024-04-21T22:37:04.036Z"
   },
   {
    "duration": 14,
    "start_time": "2024-04-21T22:43:44.220Z"
   },
   {
    "duration": 12,
    "start_time": "2024-04-21T22:44:09.006Z"
   },
   {
    "duration": 16,
    "start_time": "2024-04-21T22:44:15.322Z"
   },
   {
    "duration": 286,
    "start_time": "2024-04-21T22:48:09.513Z"
   },
   {
    "duration": 17,
    "start_time": "2024-04-21T22:48:10.364Z"
   },
   {
    "duration": 332,
    "start_time": "2024-04-21T22:48:29.331Z"
   },
   {
    "duration": 330,
    "start_time": "2024-04-21T22:48:47.499Z"
   },
   {
    "duration": 17,
    "start_time": "2024-04-21T22:49:02.810Z"
   },
   {
    "duration": 3,
    "start_time": "2024-04-21T22:49:05.740Z"
   },
   {
    "duration": 168,
    "start_time": "2024-04-21T22:49:05.746Z"
   },
   {
    "duration": 15,
    "start_time": "2024-04-21T22:49:05.916Z"
   },
   {
    "duration": 9,
    "start_time": "2024-04-21T22:49:05.933Z"
   },
   {
    "duration": 6,
    "start_time": "2024-04-21T22:49:05.944Z"
   },
   {
    "duration": 11,
    "start_time": "2024-04-21T22:49:05.952Z"
   },
   {
    "duration": 26,
    "start_time": "2024-04-21T22:49:05.965Z"
   },
   {
    "duration": 15,
    "start_time": "2024-04-21T22:49:05.993Z"
   },
   {
    "duration": 17,
    "start_time": "2024-04-21T22:49:06.010Z"
   },
   {
    "duration": 23,
    "start_time": "2024-04-21T22:49:06.028Z"
   },
   {
    "duration": 91,
    "start_time": "2024-04-21T22:49:06.052Z"
   },
   {
    "duration": 4,
    "start_time": "2024-04-21T22:49:06.145Z"
   },
   {
    "duration": 83,
    "start_time": "2024-04-21T22:49:06.151Z"
   },
   {
    "duration": 77,
    "start_time": "2024-04-21T22:49:06.235Z"
   },
   {
    "duration": 4,
    "start_time": "2024-04-21T22:49:06.315Z"
   },
   {
    "duration": 12,
    "start_time": "2024-04-21T22:49:06.320Z"
   },
   {
    "duration": 4,
    "start_time": "2024-04-21T22:49:06.334Z"
   },
   {
    "duration": 33,
    "start_time": "2024-04-21T22:49:06.340Z"
   },
   {
    "duration": 16,
    "start_time": "2024-04-21T22:49:06.375Z"
   },
   {
    "duration": 23,
    "start_time": "2024-04-21T22:49:06.393Z"
   },
   {
    "duration": 3,
    "start_time": "2024-04-21T22:49:06.418Z"
   },
   {
    "duration": 263,
    "start_time": "2024-04-21T22:49:06.422Z"
   },
   {
    "duration": 8,
    "start_time": "2024-04-21T22:49:06.687Z"
   },
   {
    "duration": 4,
    "start_time": "2024-04-21T22:49:06.697Z"
   },
   {
    "duration": 33,
    "start_time": "2024-04-21T22:49:06.702Z"
   },
   {
    "duration": 12,
    "start_time": "2024-04-21T22:49:06.736Z"
   },
   {
    "duration": 28,
    "start_time": "2024-04-21T22:49:06.749Z"
   },
   {
    "duration": 6,
    "start_time": "2024-04-21T22:49:06.779Z"
   },
   {
    "duration": 18,
    "start_time": "2024-04-21T22:49:06.787Z"
   },
   {
    "duration": 206,
    "start_time": "2024-04-21T22:49:06.808Z"
   },
   {
    "duration": 11,
    "start_time": "2024-04-21T22:49:07.016Z"
   },
   {
    "duration": 219,
    "start_time": "2024-04-21T22:49:07.029Z"
   },
   {
    "duration": 185,
    "start_time": "2024-04-21T22:49:07.250Z"
   },
   {
    "duration": 192,
    "start_time": "2024-04-21T22:49:07.436Z"
   },
   {
    "duration": 15,
    "start_time": "2024-04-21T22:49:07.630Z"
   },
   {
    "duration": 28,
    "start_time": "2024-04-21T22:49:07.647Z"
   },
   {
    "duration": 23,
    "start_time": "2024-04-21T22:49:07.676Z"
   },
   {
    "duration": 236,
    "start_time": "2024-04-21T22:49:07.701Z"
   },
   {
    "duration": 181,
    "start_time": "2024-04-21T22:49:07.939Z"
   },
   {
    "duration": 255,
    "start_time": "2024-04-21T22:49:08.122Z"
   },
   {
    "duration": 194,
    "start_time": "2024-04-21T22:49:08.379Z"
   },
   {
    "duration": 171,
    "start_time": "2024-04-21T22:49:08.577Z"
   },
   {
    "duration": 192,
    "start_time": "2024-04-21T22:49:08.750Z"
   },
   {
    "duration": 306,
    "start_time": "2024-04-21T22:49:08.944Z"
   },
   {
    "duration": 24,
    "start_time": "2024-04-21T22:49:09.252Z"
   },
   {
    "duration": 4,
    "start_time": "2024-04-21T22:50:42.458Z"
   },
   {
    "duration": 43,
    "start_time": "2024-04-21T22:50:48.117Z"
   },
   {
    "duration": 55,
    "start_time": "2024-04-21T22:51:13.943Z"
   },
   {
    "duration": 37,
    "start_time": "2024-04-21T22:51:27.771Z"
   },
   {
    "duration": 3,
    "start_time": "2024-04-21T22:51:35.886Z"
   },
   {
    "duration": 179,
    "start_time": "2024-04-21T22:51:35.890Z"
   },
   {
    "duration": 18,
    "start_time": "2024-04-21T22:51:36.071Z"
   },
   {
    "duration": 16,
    "start_time": "2024-04-21T22:51:36.090Z"
   },
   {
    "duration": 20,
    "start_time": "2024-04-21T22:51:36.109Z"
   },
   {
    "duration": 13,
    "start_time": "2024-04-21T22:51:36.132Z"
   },
   {
    "duration": 36,
    "start_time": "2024-04-21T22:51:36.146Z"
   },
   {
    "duration": 16,
    "start_time": "2024-04-21T22:51:36.184Z"
   },
   {
    "duration": 24,
    "start_time": "2024-04-21T22:51:36.202Z"
   },
   {
    "duration": 34,
    "start_time": "2024-04-21T22:51:36.227Z"
   },
   {
    "duration": 72,
    "start_time": "2024-04-21T22:51:36.262Z"
   },
   {
    "duration": 5,
    "start_time": "2024-04-21T22:51:36.335Z"
   },
   {
    "duration": 81,
    "start_time": "2024-04-21T22:51:36.343Z"
   },
   {
    "duration": 75,
    "start_time": "2024-04-21T22:51:36.425Z"
   },
   {
    "duration": 5,
    "start_time": "2024-04-21T22:51:36.501Z"
   },
   {
    "duration": 15,
    "start_time": "2024-04-21T22:51:36.507Z"
   },
   {
    "duration": 7,
    "start_time": "2024-04-21T22:51:36.523Z"
   },
   {
    "duration": 7,
    "start_time": "2024-04-21T22:51:36.531Z"
   },
   {
    "duration": 42,
    "start_time": "2024-04-21T22:51:36.539Z"
   },
   {
    "duration": 22,
    "start_time": "2024-04-21T22:51:36.583Z"
   },
   {
    "duration": 4,
    "start_time": "2024-04-21T22:51:36.607Z"
   },
   {
    "duration": 267,
    "start_time": "2024-04-21T22:51:36.612Z"
   },
   {
    "duration": 12,
    "start_time": "2024-04-21T22:51:36.881Z"
   },
   {
    "duration": 5,
    "start_time": "2024-04-21T22:51:36.895Z"
   },
   {
    "duration": 14,
    "start_time": "2024-04-21T22:51:36.901Z"
   },
   {
    "duration": 58,
    "start_time": "2024-04-21T22:51:36.917Z"
   },
   {
    "duration": 8,
    "start_time": "2024-04-21T22:51:36.977Z"
   },
   {
    "duration": 11,
    "start_time": "2024-04-21T22:51:36.987Z"
   },
   {
    "duration": 11,
    "start_time": "2024-04-21T22:51:36.999Z"
   },
   {
    "duration": 240,
    "start_time": "2024-04-21T22:51:37.012Z"
   },
   {
    "duration": 8,
    "start_time": "2024-04-21T22:51:37.254Z"
   },
   {
    "duration": 201,
    "start_time": "2024-04-21T22:51:37.264Z"
   },
   {
    "duration": 186,
    "start_time": "2024-04-21T22:51:37.466Z"
   },
   {
    "duration": 184,
    "start_time": "2024-04-21T22:51:37.654Z"
   },
   {
    "duration": 16,
    "start_time": "2024-04-21T22:51:37.839Z"
   },
   {
    "duration": 25,
    "start_time": "2024-04-21T22:51:37.856Z"
   },
   {
    "duration": 22,
    "start_time": "2024-04-21T22:51:37.885Z"
   },
   {
    "duration": 239,
    "start_time": "2024-04-21T22:51:37.909Z"
   },
   {
    "duration": 179,
    "start_time": "2024-04-21T22:51:38.150Z"
   },
   {
    "duration": 247,
    "start_time": "2024-04-21T22:51:38.331Z"
   },
   {
    "duration": 172,
    "start_time": "2024-04-21T22:51:38.580Z"
   },
   {
    "duration": 167,
    "start_time": "2024-04-21T22:51:38.754Z"
   },
   {
    "duration": 198,
    "start_time": "2024-04-21T22:51:38.923Z"
   },
   {
    "duration": 52,
    "start_time": "2024-04-21T22:51:39.123Z"
   },
   {
    "duration": 17,
    "start_time": "2024-04-21T22:51:39.177Z"
   },
   {
    "duration": 304,
    "start_time": "2024-04-21T22:52:29.904Z"
   },
   {
    "duration": 313,
    "start_time": "2024-04-21T22:52:48.610Z"
   },
   {
    "duration": 297,
    "start_time": "2024-04-21T22:52:55.763Z"
   },
   {
    "duration": 291,
    "start_time": "2024-04-21T22:52:59.399Z"
   },
   {
    "duration": 3,
    "start_time": "2024-04-21T22:53:05.164Z"
   },
   {
    "duration": 161,
    "start_time": "2024-04-21T22:53:05.169Z"
   },
   {
    "duration": 15,
    "start_time": "2024-04-21T22:53:05.332Z"
   },
   {
    "duration": 9,
    "start_time": "2024-04-21T22:53:05.349Z"
   },
   {
    "duration": 24,
    "start_time": "2024-04-21T22:53:05.360Z"
   },
   {
    "duration": 13,
    "start_time": "2024-04-21T22:53:05.386Z"
   },
   {
    "duration": 30,
    "start_time": "2024-04-21T22:53:05.401Z"
   },
   {
    "duration": 15,
    "start_time": "2024-04-21T22:53:05.432Z"
   },
   {
    "duration": 35,
    "start_time": "2024-04-21T22:53:05.449Z"
   },
   {
    "duration": 22,
    "start_time": "2024-04-21T22:53:05.485Z"
   },
   {
    "duration": 76,
    "start_time": "2024-04-21T22:53:05.510Z"
   },
   {
    "duration": 6,
    "start_time": "2024-04-21T22:53:05.588Z"
   },
   {
    "duration": 85,
    "start_time": "2024-04-21T22:53:05.596Z"
   },
   {
    "duration": 66,
    "start_time": "2024-04-21T22:53:05.682Z"
   },
   {
    "duration": 4,
    "start_time": "2024-04-21T22:53:05.750Z"
   },
   {
    "duration": 27,
    "start_time": "2024-04-21T22:53:05.756Z"
   },
   {
    "duration": 16,
    "start_time": "2024-04-21T22:53:05.784Z"
   },
   {
    "duration": 25,
    "start_time": "2024-04-21T22:53:05.802Z"
   },
   {
    "duration": 17,
    "start_time": "2024-04-21T22:53:05.829Z"
   },
   {
    "duration": 25,
    "start_time": "2024-04-21T22:53:05.848Z"
   },
   {
    "duration": 3,
    "start_time": "2024-04-21T22:53:05.875Z"
   },
   {
    "duration": 268,
    "start_time": "2024-04-21T22:53:05.880Z"
   },
   {
    "duration": 11,
    "start_time": "2024-04-21T22:53:06.150Z"
   },
   {
    "duration": 4,
    "start_time": "2024-04-21T22:53:06.174Z"
   },
   {
    "duration": 35,
    "start_time": "2024-04-21T22:53:06.179Z"
   },
   {
    "duration": 7,
    "start_time": "2024-04-21T22:53:06.216Z"
   },
   {
    "duration": 10,
    "start_time": "2024-04-21T22:53:06.224Z"
   },
   {
    "duration": 29,
    "start_time": "2024-04-21T22:53:06.235Z"
   },
   {
    "duration": 8,
    "start_time": "2024-04-21T22:53:06.268Z"
   },
   {
    "duration": 195,
    "start_time": "2024-04-21T22:53:06.278Z"
   },
   {
    "duration": 8,
    "start_time": "2024-04-21T22:53:06.474Z"
   },
   {
    "duration": 210,
    "start_time": "2024-04-21T22:53:06.484Z"
   },
   {
    "duration": 191,
    "start_time": "2024-04-21T22:53:06.695Z"
   },
   {
    "duration": 218,
    "start_time": "2024-04-21T22:53:06.888Z"
   },
   {
    "duration": 16,
    "start_time": "2024-04-21T22:53:07.108Z"
   },
   {
    "duration": 19,
    "start_time": "2024-04-21T22:53:07.126Z"
   },
   {
    "duration": 44,
    "start_time": "2024-04-21T22:53:07.147Z"
   },
   {
    "duration": 243,
    "start_time": "2024-04-21T22:53:07.193Z"
   },
   {
    "duration": 174,
    "start_time": "2024-04-21T22:53:07.438Z"
   },
   {
    "duration": 257,
    "start_time": "2024-04-21T22:53:07.614Z"
   },
   {
    "duration": 177,
    "start_time": "2024-04-21T22:53:07.872Z"
   },
   {
    "duration": 177,
    "start_time": "2024-04-21T22:53:08.051Z"
   },
   {
    "duration": 200,
    "start_time": "2024-04-21T22:53:08.230Z"
   },
   {
    "duration": 341,
    "start_time": "2024-04-21T22:53:08.432Z"
   },
   {
    "duration": 16,
    "start_time": "2024-04-21T22:53:08.775Z"
   },
   {
    "duration": 296,
    "start_time": "2024-04-21T22:54:17.420Z"
   },
   {
    "duration": 37,
    "start_time": "2024-04-21T22:54:29.025Z"
   },
   {
    "duration": 9,
    "start_time": "2024-04-21T22:55:40.716Z"
   },
   {
    "duration": 16,
    "start_time": "2024-04-21T22:55:47.194Z"
   },
   {
    "duration": 18,
    "start_time": "2024-04-21T22:56:13.421Z"
   },
   {
    "duration": 18,
    "start_time": "2024-04-21T22:56:42.629Z"
   },
   {
    "duration": 21,
    "start_time": "2024-04-21T22:58:30.593Z"
   },
   {
    "duration": 20,
    "start_time": "2024-04-21T22:59:00.829Z"
   },
   {
    "duration": 1977,
    "start_time": "2024-04-21T23:04:57.073Z"
   },
   {
    "duration": 1376,
    "start_time": "2024-04-21T23:05:07.495Z"
   },
   {
    "duration": 163,
    "start_time": "2024-04-21T23:05:21.320Z"
   },
   {
    "duration": 173,
    "start_time": "2024-04-21T23:05:39.220Z"
   },
   {
    "duration": 185,
    "start_time": "2024-04-21T23:05:44.614Z"
   },
   {
    "duration": 168,
    "start_time": "2024-04-21T23:05:49.218Z"
   },
   {
    "duration": 201,
    "start_time": "2024-04-21T23:06:52.032Z"
   },
   {
    "duration": 285,
    "start_time": "2024-04-21T23:07:16.814Z"
   },
   {
    "duration": 224,
    "start_time": "2024-04-21T23:07:24.108Z"
   },
   {
    "duration": 333,
    "start_time": "2024-04-21T23:07:41.921Z"
   },
   {
    "duration": 117,
    "start_time": "2024-04-21T23:07:53.482Z"
   },
   {
    "duration": 134,
    "start_time": "2024-04-21T23:08:04.812Z"
   },
   {
    "duration": 115,
    "start_time": "2024-04-21T23:08:10.923Z"
   },
   {
    "duration": 89,
    "start_time": "2024-04-21T23:08:51.909Z"
   },
   {
    "duration": 83,
    "start_time": "2024-04-21T23:09:08.683Z"
   },
   {
    "duration": 97,
    "start_time": "2024-04-21T23:09:21.688Z"
   },
   {
    "duration": 251,
    "start_time": "2024-04-21T23:09:57.839Z"
   },
   {
    "duration": 252,
    "start_time": "2024-04-21T23:10:05.981Z"
   },
   {
    "duration": 263,
    "start_time": "2024-04-21T23:11:20.521Z"
   },
   {
    "duration": 23,
    "start_time": "2024-04-21T23:12:01.578Z"
   },
   {
    "duration": 279,
    "start_time": "2024-04-21T23:12:13.222Z"
   },
   {
    "duration": 280,
    "start_time": "2024-04-21T23:13:09.832Z"
   },
   {
    "duration": 260,
    "start_time": "2024-04-21T23:13:14.523Z"
   },
   {
    "duration": 283,
    "start_time": "2024-04-21T23:15:02.362Z"
   },
   {
    "duration": 3,
    "start_time": "2024-04-21T23:25:02.732Z"
   },
   {
    "duration": 163,
    "start_time": "2024-04-21T23:25:02.737Z"
   },
   {
    "duration": 15,
    "start_time": "2024-04-21T23:25:02.902Z"
   },
   {
    "duration": 10,
    "start_time": "2024-04-21T23:25:02.919Z"
   },
   {
    "duration": 27,
    "start_time": "2024-04-21T23:25:02.931Z"
   },
   {
    "duration": 16,
    "start_time": "2024-04-21T23:25:02.960Z"
   },
   {
    "duration": 41,
    "start_time": "2024-04-21T23:25:02.977Z"
   },
   {
    "duration": 33,
    "start_time": "2024-04-21T23:25:03.020Z"
   },
   {
    "duration": 28,
    "start_time": "2024-04-21T23:25:03.055Z"
   },
   {
    "duration": 37,
    "start_time": "2024-04-21T23:25:03.085Z"
   },
   {
    "duration": 67,
    "start_time": "2024-04-21T23:25:03.125Z"
   },
   {
    "duration": 4,
    "start_time": "2024-04-21T23:25:03.194Z"
   },
   {
    "duration": 112,
    "start_time": "2024-04-21T23:25:03.200Z"
   },
   {
    "duration": 77,
    "start_time": "2024-04-21T23:25:03.313Z"
   },
   {
    "duration": 4,
    "start_time": "2024-04-21T23:25:03.392Z"
   },
   {
    "duration": 20,
    "start_time": "2024-04-21T23:25:03.397Z"
   },
   {
    "duration": 44,
    "start_time": "2024-04-21T23:25:03.419Z"
   },
   {
    "duration": 16,
    "start_time": "2024-04-21T23:25:03.465Z"
   },
   {
    "duration": 36,
    "start_time": "2024-04-21T23:25:03.482Z"
   },
   {
    "duration": 23,
    "start_time": "2024-04-21T23:25:03.519Z"
   },
   {
    "duration": 4,
    "start_time": "2024-04-21T23:25:03.543Z"
   },
   {
    "duration": 248,
    "start_time": "2024-04-21T23:25:03.548Z"
   },
   {
    "duration": 8,
    "start_time": "2024-04-21T23:25:03.798Z"
   },
   {
    "duration": 4,
    "start_time": "2024-04-21T23:25:03.808Z"
   },
   {
    "duration": 19,
    "start_time": "2024-04-21T23:25:03.813Z"
   },
   {
    "duration": 42,
    "start_time": "2024-04-21T23:25:03.834Z"
   },
   {
    "duration": 16,
    "start_time": "2024-04-21T23:25:03.877Z"
   },
   {
    "duration": 13,
    "start_time": "2024-04-21T23:25:03.894Z"
   },
   {
    "duration": 13,
    "start_time": "2024-04-21T23:25:03.910Z"
   },
   {
    "duration": 218,
    "start_time": "2024-04-21T23:25:03.924Z"
   },
   {
    "duration": 8,
    "start_time": "2024-04-21T23:25:04.143Z"
   },
   {
    "duration": 207,
    "start_time": "2024-04-21T23:25:04.153Z"
   },
   {
    "duration": 295,
    "start_time": "2024-04-21T23:25:04.362Z"
   },
   {
    "duration": 198,
    "start_time": "2024-04-21T23:25:04.658Z"
   },
   {
    "duration": 26,
    "start_time": "2024-04-21T23:25:04.858Z"
   },
   {
    "duration": 45,
    "start_time": "2024-04-21T23:25:04.886Z"
   },
   {
    "duration": 61,
    "start_time": "2024-04-21T23:25:04.933Z"
   },
   {
    "duration": 290,
    "start_time": "2024-04-21T23:25:04.997Z"
   },
   {
    "duration": 193,
    "start_time": "2024-04-21T23:25:05.289Z"
   },
   {
    "duration": 161,
    "start_time": "2024-04-21T23:25:05.484Z"
   },
   {
    "duration": 181,
    "start_time": "2024-04-21T23:25:05.647Z"
   },
   {
    "duration": 173,
    "start_time": "2024-04-21T23:25:05.830Z"
   },
   {
    "duration": 217,
    "start_time": "2024-04-21T23:25:06.005Z"
   },
   {
    "duration": 10,
    "start_time": "2024-04-21T23:25:06.224Z"
   },
   {
    "duration": 292,
    "start_time": "2024-04-21T23:25:06.236Z"
   },
   {
    "duration": 819,
    "start_time": "2024-04-23T13:48:17.228Z"
   },
   {
    "duration": 419,
    "start_time": "2024-04-23T13:48:18.049Z"
   },
   {
    "duration": 17,
    "start_time": "2024-04-23T13:48:18.470Z"
   },
   {
    "duration": 16,
    "start_time": "2024-04-23T13:48:18.489Z"
   },
   {
    "duration": 14,
    "start_time": "2024-04-23T13:48:18.507Z"
   },
   {
    "duration": 17,
    "start_time": "2024-04-23T13:48:18.523Z"
   },
   {
    "duration": 29,
    "start_time": "2024-04-23T13:48:18.542Z"
   },
   {
    "duration": 16,
    "start_time": "2024-04-23T13:48:18.572Z"
   },
   {
    "duration": 65,
    "start_time": "2024-04-23T13:48:18.589Z"
   },
   {
    "duration": 23,
    "start_time": "2024-04-23T13:48:18.657Z"
   },
   {
    "duration": 35,
    "start_time": "2024-04-23T13:48:18.682Z"
   },
   {
    "duration": 5,
    "start_time": "2024-04-23T13:48:18.719Z"
   },
   {
    "duration": 32,
    "start_time": "2024-04-23T13:48:18.725Z"
   },
   {
    "duration": 25,
    "start_time": "2024-04-23T13:48:18.758Z"
   },
   {
    "duration": 5,
    "start_time": "2024-04-23T13:48:18.785Z"
   },
   {
    "duration": 30,
    "start_time": "2024-04-23T13:48:18.792Z"
   },
   {
    "duration": 5,
    "start_time": "2024-04-23T13:48:18.823Z"
   },
   {
    "duration": 7,
    "start_time": "2024-04-23T13:48:18.830Z"
   },
   {
    "duration": 17,
    "start_time": "2024-04-23T13:48:18.839Z"
   },
   {
    "duration": 26,
    "start_time": "2024-04-23T13:48:18.858Z"
   },
   {
    "duration": 31,
    "start_time": "2024-04-23T13:48:18.885Z"
   },
   {
    "duration": 26,
    "start_time": "2024-04-23T13:48:18.918Z"
   },
   {
    "duration": 8,
    "start_time": "2024-04-23T13:48:18.945Z"
   },
   {
    "duration": 3,
    "start_time": "2024-04-23T13:48:18.955Z"
   },
   {
    "duration": 10,
    "start_time": "2024-04-23T13:48:18.960Z"
   },
   {
    "duration": 5,
    "start_time": "2024-04-23T13:48:18.972Z"
   },
   {
    "duration": 37,
    "start_time": "2024-04-23T13:48:18.978Z"
   },
   {
    "duration": 5,
    "start_time": "2024-04-23T13:48:19.018Z"
   },
   {
    "duration": 10,
    "start_time": "2024-04-23T13:48:19.024Z"
   },
   {
    "duration": 189,
    "start_time": "2024-04-23T13:48:19.036Z"
   },
   {
    "duration": 8,
    "start_time": "2024-04-23T13:48:19.226Z"
   },
   {
    "duration": 200,
    "start_time": "2024-04-23T13:48:19.235Z"
   },
   {
    "duration": 172,
    "start_time": "2024-04-23T13:48:19.437Z"
   },
   {
    "duration": 243,
    "start_time": "2024-04-23T13:48:19.611Z"
   },
   {
    "duration": 17,
    "start_time": "2024-04-23T13:48:19.857Z"
   },
   {
    "duration": 18,
    "start_time": "2024-04-23T13:48:19.875Z"
   },
   {
    "duration": 39,
    "start_time": "2024-04-23T13:48:19.894Z"
   },
   {
    "duration": 123,
    "start_time": "2024-04-23T13:48:19.934Z"
   },
   {
    "duration": 157,
    "start_time": "2024-04-23T13:48:20.058Z"
   },
   {
    "duration": 156,
    "start_time": "2024-04-23T13:48:20.217Z"
   },
   {
    "duration": 168,
    "start_time": "2024-04-23T13:48:20.375Z"
   },
   {
    "duration": 158,
    "start_time": "2024-04-23T13:48:20.545Z"
   },
   {
    "duration": 194,
    "start_time": "2024-04-23T13:48:20.705Z"
   },
   {
    "duration": 20,
    "start_time": "2024-04-23T13:48:20.900Z"
   },
   {
    "duration": 295,
    "start_time": "2024-04-23T13:48:20.921Z"
   },
   {
    "duration": 31,
    "start_time": "2024-04-23T13:50:11.634Z"
   },
   {
    "duration": 21,
    "start_time": "2024-04-23T13:50:20.505Z"
   },
   {
    "duration": 8,
    "start_time": "2024-04-23T13:50:40.560Z"
   },
   {
    "duration": 19,
    "start_time": "2024-04-23T13:51:44.136Z"
   },
   {
    "duration": 122,
    "start_time": "2024-04-23T14:02:05.571Z"
   },
   {
    "duration": 115,
    "start_time": "2024-04-23T14:02:17.719Z"
   },
   {
    "duration": 124,
    "start_time": "2024-04-23T14:02:21.751Z"
   },
   {
    "duration": 189,
    "start_time": "2024-04-23T14:02:25.405Z"
   },
   {
    "duration": 150,
    "start_time": "2024-04-23T14:02:30.376Z"
   },
   {
    "duration": 165,
    "start_time": "2024-04-23T14:02:57.913Z"
   },
   {
    "duration": 113,
    "start_time": "2024-04-23T14:09:00.319Z"
   },
   {
    "duration": 118,
    "start_time": "2024-04-23T14:09:07.278Z"
   },
   {
    "duration": 128,
    "start_time": "2024-04-23T14:09:31.835Z"
   },
   {
    "duration": 90,
    "start_time": "2024-04-23T14:09:40.149Z"
   },
   {
    "duration": 160,
    "start_time": "2024-04-23T14:09:45.528Z"
   },
   {
    "duration": 178,
    "start_time": "2024-04-23T14:10:14.853Z"
   },
   {
    "duration": 164,
    "start_time": "2024-04-23T14:10:20.657Z"
   },
   {
    "duration": 169,
    "start_time": "2024-04-23T14:10:48.179Z"
   },
   {
    "duration": 251,
    "start_time": "2024-04-23T14:12:53.160Z"
   },
   {
    "duration": 259,
    "start_time": "2024-04-23T14:13:22.078Z"
   },
   {
    "duration": 1272,
    "start_time": "2024-04-23T14:37:42.310Z"
   },
   {
    "duration": 1127,
    "start_time": "2024-04-23T14:38:15.157Z"
   },
   {
    "duration": 25,
    "start_time": "2024-04-23T14:38:36.878Z"
   },
   {
    "duration": 1138,
    "start_time": "2024-04-23T14:41:15.099Z"
   },
   {
    "duration": 25,
    "start_time": "2024-04-23T14:41:51.058Z"
   },
   {
    "duration": 7,
    "start_time": "2024-04-23T14:44:29.161Z"
   },
   {
    "duration": 7,
    "start_time": "2024-04-23T14:45:55.940Z"
   },
   {
    "duration": 6,
    "start_time": "2024-04-23T14:46:00.146Z"
   },
   {
    "duration": 11,
    "start_time": "2024-04-24T05:13:47.519Z"
   },
   {
    "duration": 12,
    "start_time": "2024-04-24T05:13:51.743Z"
   },
   {
    "duration": 165,
    "start_time": "2024-04-24T05:14:54.818Z"
   },
   {
    "duration": 160,
    "start_time": "2024-04-24T05:17:16.021Z"
   },
   {
    "duration": 12,
    "start_time": "2024-04-24T05:24:46.350Z"
   },
   {
    "duration": 15,
    "start_time": "2024-04-24T05:25:40.532Z"
   },
   {
    "duration": 10,
    "start_time": "2024-04-24T05:25:56.617Z"
   },
   {
    "duration": 12,
    "start_time": "2024-04-24T05:26:05.982Z"
   },
   {
    "duration": 11,
    "start_time": "2024-04-24T05:28:38.909Z"
   },
   {
    "duration": 12,
    "start_time": "2024-04-24T05:29:21.547Z"
   },
   {
    "duration": 157,
    "start_time": "2024-04-24T05:30:32.199Z"
   },
   {
    "duration": 150,
    "start_time": "2024-04-24T05:30:41.175Z"
   },
   {
    "duration": 163,
    "start_time": "2024-04-24T05:32:57.691Z"
   },
   {
    "duration": 13,
    "start_time": "2024-04-24T05:46:19.450Z"
   },
   {
    "duration": 20,
    "start_time": "2024-04-24T05:47:30.940Z"
   },
   {
    "duration": 11,
    "start_time": "2024-04-24T05:49:09.569Z"
   },
   {
    "duration": 13,
    "start_time": "2024-04-24T05:52:30.918Z"
   },
   {
    "duration": 20,
    "start_time": "2024-04-24T05:52:43.217Z"
   },
   {
    "duration": 18,
    "start_time": "2024-04-24T05:53:15.638Z"
   },
   {
    "duration": 17,
    "start_time": "2024-04-24T05:55:06.783Z"
   },
   {
    "duration": 3,
    "start_time": "2024-04-24T06:22:50.989Z"
   },
   {
    "duration": 152,
    "start_time": "2024-04-24T06:22:50.993Z"
   },
   {
    "duration": 15,
    "start_time": "2024-04-24T06:22:51.146Z"
   },
   {
    "duration": 9,
    "start_time": "2024-04-24T06:22:51.162Z"
   },
   {
    "duration": 13,
    "start_time": "2024-04-24T06:22:51.173Z"
   },
   {
    "duration": 10,
    "start_time": "2024-04-24T06:22:51.187Z"
   },
   {
    "duration": 26,
    "start_time": "2024-04-24T06:22:51.198Z"
   },
   {
    "duration": 22,
    "start_time": "2024-04-24T06:22:51.226Z"
   },
   {
    "duration": 16,
    "start_time": "2024-04-24T06:22:51.250Z"
   },
   {
    "duration": 21,
    "start_time": "2024-04-24T06:22:51.268Z"
   },
   {
    "duration": 42,
    "start_time": "2024-04-24T06:22:51.290Z"
   },
   {
    "duration": 18,
    "start_time": "2024-04-24T06:22:51.334Z"
   },
   {
    "duration": 18,
    "start_time": "2024-04-24T06:22:51.355Z"
   },
   {
    "duration": 19,
    "start_time": "2024-04-24T06:22:51.374Z"
   },
   {
    "duration": 20,
    "start_time": "2024-04-24T06:22:51.395Z"
   },
   {
    "duration": 16,
    "start_time": "2024-04-24T06:22:51.417Z"
   },
   {
    "duration": 7,
    "start_time": "2024-04-24T06:22:51.434Z"
   },
   {
    "duration": 10,
    "start_time": "2024-04-24T06:22:51.443Z"
   },
   {
    "duration": 33,
    "start_time": "2024-04-24T06:22:51.454Z"
   },
   {
    "duration": 23,
    "start_time": "2024-04-24T06:22:51.488Z"
   },
   {
    "duration": 3,
    "start_time": "2024-04-24T06:22:51.513Z"
   },
   {
    "duration": 28,
    "start_time": "2024-04-24T06:22:51.518Z"
   },
   {
    "duration": 7,
    "start_time": "2024-04-24T06:22:51.548Z"
   },
   {
    "duration": 4,
    "start_time": "2024-04-24T06:22:51.556Z"
   },
   {
    "duration": 9,
    "start_time": "2024-04-24T06:22:51.561Z"
   },
   {
    "duration": 5,
    "start_time": "2024-04-24T06:22:51.571Z"
   },
   {
    "duration": 6,
    "start_time": "2024-04-24T06:22:51.578Z"
   },
   {
    "duration": 31,
    "start_time": "2024-04-24T06:22:51.585Z"
   },
   {
    "duration": 12,
    "start_time": "2024-04-24T06:22:51.618Z"
   },
   {
    "duration": 185,
    "start_time": "2024-04-24T06:22:51.631Z"
   },
   {
    "duration": 8,
    "start_time": "2024-04-24T06:22:51.817Z"
   },
   {
    "duration": 188,
    "start_time": "2024-04-24T06:22:51.826Z"
   },
   {
    "duration": 167,
    "start_time": "2024-04-24T06:22:52.015Z"
   },
   {
    "duration": 171,
    "start_time": "2024-04-24T06:22:52.184Z"
   },
   {
    "duration": 15,
    "start_time": "2024-04-24T06:22:52.357Z"
   },
   {
    "duration": 28,
    "start_time": "2024-04-24T06:22:52.374Z"
   },
   {
    "duration": 23,
    "start_time": "2024-04-24T06:22:52.414Z"
   },
   {
    "duration": 205,
    "start_time": "2024-04-24T06:22:52.439Z"
   },
   {
    "duration": 154,
    "start_time": "2024-04-24T06:22:52.646Z"
   },
   {
    "duration": 146,
    "start_time": "2024-04-24T06:22:52.802Z"
   },
   {
    "duration": 169,
    "start_time": "2024-04-24T06:22:52.949Z"
   },
   {
    "duration": 153,
    "start_time": "2024-04-24T06:22:53.119Z"
   },
   {
    "duration": 188,
    "start_time": "2024-04-24T06:22:53.273Z"
   },
   {
    "duration": 8,
    "start_time": "2024-04-24T06:22:53.463Z"
   },
   {
    "duration": 290,
    "start_time": "2024-04-24T06:22:53.472Z"
   },
   {
    "duration": 20,
    "start_time": "2024-04-24T06:22:53.764Z"
   },
   {
    "duration": 193,
    "start_time": "2024-04-24T06:22:53.786Z"
   },
   {
    "duration": 24,
    "start_time": "2024-04-24T06:22:53.980Z"
   },
   {
    "duration": 7,
    "start_time": "2024-04-24T06:22:54.015Z"
   },
   {
    "duration": 176,
    "start_time": "2024-04-24T06:22:54.023Z"
   },
   {
    "duration": 190,
    "start_time": "2024-04-24T06:22:54.201Z"
   },
   {
    "duration": 24,
    "start_time": "2024-04-24T06:22:54.392Z"
   },
   {
    "duration": 804,
    "start_time": "2024-04-25T06:02:32.687Z"
   },
   {
    "duration": 265,
    "start_time": "2024-04-25T06:02:33.493Z"
   },
   {
    "duration": 24,
    "start_time": "2024-04-25T06:02:33.760Z"
   },
   {
    "duration": 9,
    "start_time": "2024-04-25T06:02:33.787Z"
   },
   {
    "duration": 7,
    "start_time": "2024-04-25T06:02:33.798Z"
   },
   {
    "duration": 12,
    "start_time": "2024-04-25T06:02:33.806Z"
   },
   {
    "duration": 29,
    "start_time": "2024-04-25T06:02:33.820Z"
   },
   {
    "duration": 15,
    "start_time": "2024-04-25T06:02:33.851Z"
   },
   {
    "duration": 72,
    "start_time": "2024-04-25T06:02:33.868Z"
   },
   {
    "duration": 24,
    "start_time": "2024-04-25T06:02:33.942Z"
   },
   {
    "duration": 25,
    "start_time": "2024-04-25T06:02:33.967Z"
   },
   {
    "duration": 5,
    "start_time": "2024-04-25T06:02:33.994Z"
   },
   {
    "duration": 42,
    "start_time": "2024-04-25T06:02:34.000Z"
   },
   {
    "duration": 19,
    "start_time": "2024-04-25T06:02:34.043Z"
   },
   {
    "duration": 4,
    "start_time": "2024-04-25T06:02:34.064Z"
   },
   {
    "duration": 11,
    "start_time": "2024-04-25T06:02:34.070Z"
   },
   {
    "duration": 4,
    "start_time": "2024-04-25T06:02:34.083Z"
   },
   {
    "duration": 40,
    "start_time": "2024-04-25T06:02:34.089Z"
   },
   {
    "duration": 21,
    "start_time": "2024-04-25T06:02:34.131Z"
   },
   {
    "duration": 24,
    "start_time": "2024-04-25T06:02:34.154Z"
   },
   {
    "duration": 4,
    "start_time": "2024-04-25T06:02:34.179Z"
   },
   {
    "duration": 47,
    "start_time": "2024-04-25T06:02:34.185Z"
   },
   {
    "duration": 8,
    "start_time": "2024-04-25T06:02:34.234Z"
   },
   {
    "duration": 4,
    "start_time": "2024-04-25T06:02:34.243Z"
   },
   {
    "duration": 9,
    "start_time": "2024-04-25T06:02:34.249Z"
   },
   {
    "duration": 6,
    "start_time": "2024-04-25T06:02:34.259Z"
   },
   {
    "duration": 28,
    "start_time": "2024-04-25T06:02:34.266Z"
   },
   {
    "duration": 11,
    "start_time": "2024-04-25T06:02:34.298Z"
   },
   {
    "duration": 22,
    "start_time": "2024-04-25T06:02:34.311Z"
   },
   {
    "duration": 186,
    "start_time": "2024-04-25T06:02:34.335Z"
   },
   {
    "duration": 10,
    "start_time": "2024-04-25T06:02:34.523Z"
   },
   {
    "duration": 217,
    "start_time": "2024-04-25T06:02:34.534Z"
   },
   {
    "duration": 203,
    "start_time": "2024-04-25T06:02:34.753Z"
   },
   {
    "duration": 251,
    "start_time": "2024-04-25T06:02:34.958Z"
   },
   {
    "duration": 26,
    "start_time": "2024-04-25T06:02:35.211Z"
   },
   {
    "duration": 37,
    "start_time": "2024-04-25T06:02:35.239Z"
   },
   {
    "duration": 25,
    "start_time": "2024-04-25T06:02:35.278Z"
   },
   {
    "duration": 126,
    "start_time": "2024-04-25T06:02:35.304Z"
   },
   {
    "duration": 191,
    "start_time": "2024-04-25T06:02:35.431Z"
   },
   {
    "duration": 182,
    "start_time": "2024-04-25T06:02:35.624Z"
   },
   {
    "duration": 183,
    "start_time": "2024-04-25T06:02:35.808Z"
   },
   {
    "duration": 167,
    "start_time": "2024-04-25T06:02:35.993Z"
   },
   {
    "duration": 198,
    "start_time": "2024-04-25T06:02:36.161Z"
   },
   {
    "duration": 11,
    "start_time": "2024-04-25T06:02:36.361Z"
   },
   {
    "duration": 318,
    "start_time": "2024-04-25T06:02:36.373Z"
   },
   {
    "duration": 22,
    "start_time": "2024-04-25T06:02:36.693Z"
   },
   {
    "duration": 201,
    "start_time": "2024-04-25T06:02:36.730Z"
   },
   {
    "duration": 26,
    "start_time": "2024-04-25T06:02:36.934Z"
   },
   {
    "duration": 11,
    "start_time": "2024-04-25T06:02:36.961Z"
   },
   {
    "duration": 221,
    "start_time": "2024-04-25T06:02:36.974Z"
   },
   {
    "duration": 187,
    "start_time": "2024-04-25T06:02:37.197Z"
   },
   {
    "duration": 20,
    "start_time": "2024-04-25T06:02:37.385Z"
   },
   {
    "duration": 52,
    "start_time": "2024-04-25T09:01:08.637Z"
   },
   {
    "duration": 820,
    "start_time": "2024-04-25T09:01:12.054Z"
   },
   {
    "duration": 405,
    "start_time": "2024-04-25T09:01:12.876Z"
   },
   {
    "duration": 15,
    "start_time": "2024-04-25T09:01:13.282Z"
   },
   {
    "duration": 37,
    "start_time": "2024-04-25T09:01:13.299Z"
   },
   {
    "duration": 12,
    "start_time": "2024-04-25T09:01:13.338Z"
   },
   {
    "duration": 16,
    "start_time": "2024-04-25T09:01:13.351Z"
   },
   {
    "duration": 27,
    "start_time": "2024-04-25T09:01:13.369Z"
   },
   {
    "duration": 14,
    "start_time": "2024-04-25T09:01:13.398Z"
   },
   {
    "duration": 61,
    "start_time": "2024-04-25T09:01:13.414Z"
   },
   {
    "duration": 22,
    "start_time": "2024-04-25T09:01:13.477Z"
   },
   {
    "duration": 20,
    "start_time": "2024-04-25T09:01:13.500Z"
   },
   {
    "duration": 5,
    "start_time": "2024-04-25T09:01:13.521Z"
   },
   {
    "duration": 48,
    "start_time": "2024-04-25T09:01:13.528Z"
   },
   {
    "duration": 29,
    "start_time": "2024-04-25T09:01:13.579Z"
   },
   {
    "duration": 27,
    "start_time": "2024-04-25T09:01:13.609Z"
   },
   {
    "duration": 25,
    "start_time": "2024-04-25T09:01:13.638Z"
   },
   {
    "duration": 26,
    "start_time": "2024-04-25T09:01:13.665Z"
   },
   {
    "duration": 51,
    "start_time": "2024-04-25T09:01:13.692Z"
   },
   {
    "duration": 59,
    "start_time": "2024-04-25T09:01:13.744Z"
   },
   {
    "duration": 14,
    "start_time": "2024-04-25T09:01:13.805Z"
   },
   {
    "duration": 49,
    "start_time": "2024-04-25T09:01:13.820Z"
   },
   {
    "duration": 22,
    "start_time": "2024-04-25T09:01:13.871Z"
   },
   {
    "duration": 7,
    "start_time": "2024-04-25T09:01:13.895Z"
   },
   {
    "duration": 48,
    "start_time": "2024-04-25T09:01:13.903Z"
   },
   {
    "duration": 16,
    "start_time": "2024-04-25T09:01:13.952Z"
   },
   {
    "duration": 6,
    "start_time": "2024-04-25T09:01:13.970Z"
   },
   {
    "duration": 20,
    "start_time": "2024-04-25T09:01:13.978Z"
   },
   {
    "duration": 14,
    "start_time": "2024-04-25T09:01:14.000Z"
   },
   {
    "duration": 18,
    "start_time": "2024-04-25T09:01:14.016Z"
   },
   {
    "duration": 175,
    "start_time": "2024-04-25T09:01:14.036Z"
   },
   {
    "duration": 9,
    "start_time": "2024-04-25T09:01:14.213Z"
   },
   {
    "duration": 223,
    "start_time": "2024-04-25T09:01:14.223Z"
   },
   {
    "duration": 173,
    "start_time": "2024-04-25T09:01:14.448Z"
   },
   {
    "duration": 230,
    "start_time": "2024-04-25T09:01:14.623Z"
   },
   {
    "duration": 21,
    "start_time": "2024-04-25T09:01:14.854Z"
   },
   {
    "duration": 19,
    "start_time": "2024-04-25T09:01:14.877Z"
   },
   {
    "duration": 37,
    "start_time": "2024-04-25T09:01:14.898Z"
   },
   {
    "duration": 116,
    "start_time": "2024-04-25T09:01:14.937Z"
   },
   {
    "duration": 146,
    "start_time": "2024-04-25T09:01:15.055Z"
   },
   {
    "duration": 163,
    "start_time": "2024-04-25T09:01:15.202Z"
   },
   {
    "duration": 204,
    "start_time": "2024-04-25T09:01:15.373Z"
   },
   {
    "duration": 164,
    "start_time": "2024-04-25T09:01:15.579Z"
   },
   {
    "duration": 192,
    "start_time": "2024-04-25T09:01:15.745Z"
   },
   {
    "duration": 9,
    "start_time": "2024-04-25T09:01:15.938Z"
   },
   {
    "duration": 300,
    "start_time": "2024-04-25T09:01:15.949Z"
   },
   {
    "duration": 31,
    "start_time": "2024-04-25T09:01:16.251Z"
   },
   {
    "duration": 222,
    "start_time": "2024-04-25T09:01:16.283Z"
   },
   {
    "duration": 25,
    "start_time": "2024-04-25T09:01:16.507Z"
   },
   {
    "duration": 22,
    "start_time": "2024-04-25T09:01:16.533Z"
   },
   {
    "duration": 208,
    "start_time": "2024-04-25T09:01:16.557Z"
   },
   {
    "duration": 164,
    "start_time": "2024-04-25T09:01:16.766Z"
   },
   {
    "duration": 17,
    "start_time": "2024-04-25T09:01:16.931Z"
   },
   {
    "duration": 26,
    "start_time": "2024-04-25T09:02:44.529Z"
   },
   {
    "duration": 27,
    "start_time": "2024-04-25T09:02:51.444Z"
   },
   {
    "duration": 3,
    "start_time": "2024-04-25T09:02:57.088Z"
   },
   {
    "duration": 240,
    "start_time": "2024-04-25T09:02:57.093Z"
   },
   {
    "duration": 14,
    "start_time": "2024-04-25T09:02:57.334Z"
   },
   {
    "duration": 17,
    "start_time": "2024-04-25T09:02:57.349Z"
   },
   {
    "duration": 28,
    "start_time": "2024-04-25T09:02:57.368Z"
   },
   {
    "duration": 21,
    "start_time": "2024-04-25T09:02:57.397Z"
   },
   {
    "duration": 27,
    "start_time": "2024-04-25T09:02:57.420Z"
   },
   {
    "duration": 14,
    "start_time": "2024-04-25T09:02:57.448Z"
   },
   {
    "duration": 15,
    "start_time": "2024-04-25T09:02:57.464Z"
   },
   {
    "duration": 20,
    "start_time": "2024-04-25T09:02:57.481Z"
   },
   {
    "duration": 21,
    "start_time": "2024-04-25T09:02:57.502Z"
   },
   {
    "duration": 7,
    "start_time": "2024-04-25T09:02:57.525Z"
   },
   {
    "duration": 40,
    "start_time": "2024-04-25T09:02:57.535Z"
   },
   {
    "duration": 17,
    "start_time": "2024-04-25T09:02:57.577Z"
   },
   {
    "duration": 14,
    "start_time": "2024-04-25T09:02:57.595Z"
   },
   {
    "duration": 14,
    "start_time": "2024-04-25T09:02:57.610Z"
   },
   {
    "duration": 18,
    "start_time": "2024-04-25T09:02:57.626Z"
   },
   {
    "duration": 36,
    "start_time": "2024-04-25T09:02:57.646Z"
   },
   {
    "duration": 31,
    "start_time": "2024-04-25T09:02:57.683Z"
   },
   {
    "duration": 4,
    "start_time": "2024-04-25T09:02:57.715Z"
   },
   {
    "duration": 39,
    "start_time": "2024-04-25T09:02:57.720Z"
   },
   {
    "duration": 21,
    "start_time": "2024-04-25T09:02:57.761Z"
   },
   {
    "duration": 7,
    "start_time": "2024-04-25T09:02:57.783Z"
   },
   {
    "duration": 7,
    "start_time": "2024-04-25T09:02:57.791Z"
   },
   {
    "duration": 14,
    "start_time": "2024-04-25T09:02:57.799Z"
   },
   {
    "duration": 22,
    "start_time": "2024-04-25T09:02:57.814Z"
   },
   {
    "duration": 63,
    "start_time": "2024-04-25T09:02:57.837Z"
   },
   {
    "duration": 18,
    "start_time": "2024-04-25T09:02:57.902Z"
   },
   {
    "duration": 40,
    "start_time": "2024-04-25T09:02:57.921Z"
   },
   {
    "duration": 194,
    "start_time": "2024-04-25T09:02:57.962Z"
   },
   {
    "duration": 8,
    "start_time": "2024-04-25T09:02:58.157Z"
   },
   {
    "duration": 208,
    "start_time": "2024-04-25T09:02:58.167Z"
   },
   {
    "duration": 171,
    "start_time": "2024-04-25T09:02:58.376Z"
   },
   {
    "duration": 188,
    "start_time": "2024-04-25T09:02:58.548Z"
   },
   {
    "duration": 14,
    "start_time": "2024-04-25T09:02:58.737Z"
   },
   {
    "duration": 29,
    "start_time": "2024-04-25T09:02:58.752Z"
   },
   {
    "duration": 25,
    "start_time": "2024-04-25T09:02:58.785Z"
   },
   {
    "duration": 130,
    "start_time": "2024-04-25T09:02:58.811Z"
   },
   {
    "duration": 146,
    "start_time": "2024-04-25T09:02:58.942Z"
   },
   {
    "duration": 150,
    "start_time": "2024-04-25T09:02:59.089Z"
   },
   {
    "duration": 166,
    "start_time": "2024-04-25T09:02:59.241Z"
   },
   {
    "duration": 153,
    "start_time": "2024-04-25T09:02:59.408Z"
   },
   {
    "duration": 183,
    "start_time": "2024-04-25T09:02:59.562Z"
   },
   {
    "duration": 9,
    "start_time": "2024-04-25T09:02:59.747Z"
   },
   {
    "duration": 360,
    "start_time": "2024-04-25T09:02:59.758Z"
   },
   {
    "duration": 20,
    "start_time": "2024-04-25T09:03:00.120Z"
   },
   {
    "duration": 258,
    "start_time": "2024-04-25T09:03:00.142Z"
   },
   {
    "duration": 24,
    "start_time": "2024-04-25T09:03:00.401Z"
   },
   {
    "duration": 80,
    "start_time": "2024-04-25T09:03:00.426Z"
   },
   {
    "duration": 446,
    "start_time": "2024-04-25T09:03:00.508Z"
   },
   {
    "duration": 173,
    "start_time": "2024-04-25T09:03:00.955Z"
   },
   {
    "duration": 18,
    "start_time": "2024-04-25T09:03:01.130Z"
   },
   {
    "duration": 3,
    "start_time": "2024-04-25T09:03:27.355Z"
   },
   {
    "duration": 200,
    "start_time": "2024-04-25T09:03:27.359Z"
   },
   {
    "duration": 14,
    "start_time": "2024-04-25T09:03:27.561Z"
   },
   {
    "duration": 19,
    "start_time": "2024-04-25T09:03:27.576Z"
   },
   {
    "duration": 27,
    "start_time": "2024-04-25T09:03:27.597Z"
   },
   {
    "duration": 71,
    "start_time": "2024-04-25T09:03:27.626Z"
   },
   {
    "duration": 69,
    "start_time": "2024-04-25T09:03:27.699Z"
   },
   {
    "duration": 63,
    "start_time": "2024-04-25T09:03:27.770Z"
   },
   {
    "duration": 47,
    "start_time": "2024-04-25T09:03:27.834Z"
   },
   {
    "duration": 33,
    "start_time": "2024-04-25T09:03:27.883Z"
   },
   {
    "duration": 41,
    "start_time": "2024-04-25T09:03:27.918Z"
   },
   {
    "duration": 68,
    "start_time": "2024-04-25T09:03:27.960Z"
   },
   {
    "duration": 54,
    "start_time": "2024-04-25T09:03:28.030Z"
   },
   {
    "duration": 72,
    "start_time": "2024-04-25T09:03:28.085Z"
   },
   {
    "duration": 31,
    "start_time": "2024-04-25T09:03:28.159Z"
   },
   {
    "duration": 15,
    "start_time": "2024-04-25T09:03:28.192Z"
   },
   {
    "duration": 14,
    "start_time": "2024-04-25T09:03:28.209Z"
   },
   {
    "duration": 40,
    "start_time": "2024-04-25T09:03:28.225Z"
   },
   {
    "duration": 34,
    "start_time": "2024-04-25T09:03:28.267Z"
   },
   {
    "duration": 28,
    "start_time": "2024-04-25T09:03:28.303Z"
   },
   {
    "duration": 59,
    "start_time": "2024-04-25T09:03:28.333Z"
   },
   {
    "duration": 34,
    "start_time": "2024-04-25T09:03:33.367Z"
   },
   {
    "duration": 2,
    "start_time": "2024-04-25T09:03:48.066Z"
   },
   {
    "duration": 169,
    "start_time": "2024-04-25T09:03:48.070Z"
   },
   {
    "duration": 16,
    "start_time": "2024-04-25T09:03:48.240Z"
   },
   {
    "duration": 34,
    "start_time": "2024-04-25T09:03:48.257Z"
   },
   {
    "duration": 50,
    "start_time": "2024-04-25T09:03:48.292Z"
   },
   {
    "duration": 89,
    "start_time": "2024-04-25T09:03:48.343Z"
   },
   {
    "duration": 50,
    "start_time": "2024-04-25T09:03:48.434Z"
   },
   {
    "duration": 32,
    "start_time": "2024-04-25T09:03:48.485Z"
   },
   {
    "duration": 39,
    "start_time": "2024-04-25T09:03:48.519Z"
   },
   {
    "duration": 78,
    "start_time": "2024-04-25T09:03:48.559Z"
   },
   {
    "duration": 45,
    "start_time": "2024-04-25T09:03:48.638Z"
   },
   {
    "duration": 9,
    "start_time": "2024-04-25T09:03:48.685Z"
   },
   {
    "duration": 40,
    "start_time": "2024-04-25T09:03:48.695Z"
   },
   {
    "duration": 49,
    "start_time": "2024-04-25T09:03:48.737Z"
   },
   {
    "duration": 42,
    "start_time": "2024-04-25T09:03:48.787Z"
   },
   {
    "duration": 33,
    "start_time": "2024-04-25T09:03:48.830Z"
   },
   {
    "duration": 14,
    "start_time": "2024-04-25T09:03:48.865Z"
   },
   {
    "duration": 42,
    "start_time": "2024-04-25T09:03:48.880Z"
   },
   {
    "duration": 41,
    "start_time": "2024-04-25T09:03:48.924Z"
   },
   {
    "duration": 3,
    "start_time": "2024-04-25T09:03:48.967Z"
   },
   {
    "duration": 34,
    "start_time": "2024-04-25T09:03:48.971Z"
   },
   {
    "duration": 46,
    "start_time": "2024-04-25T09:03:49.007Z"
   },
   {
    "duration": 43,
    "start_time": "2024-04-25T09:03:49.055Z"
   },
   {
    "duration": 44,
    "start_time": "2024-04-25T09:03:49.102Z"
   },
   {
    "duration": 36,
    "start_time": "2024-04-25T09:03:49.147Z"
   },
   {
    "duration": 40,
    "start_time": "2024-04-25T09:03:49.184Z"
   },
   {
    "duration": 49,
    "start_time": "2024-04-25T09:03:49.226Z"
   },
   {
    "duration": 75,
    "start_time": "2024-04-25T09:03:49.277Z"
   },
   {
    "duration": 40,
    "start_time": "2024-04-25T09:03:49.353Z"
   },
   {
    "duration": 214,
    "start_time": "2024-04-25T09:03:49.394Z"
   },
   {
    "duration": 7,
    "start_time": "2024-04-25T09:03:49.610Z"
   },
   {
    "duration": 242,
    "start_time": "2024-04-25T09:03:49.618Z"
   },
   {
    "duration": 183,
    "start_time": "2024-04-25T09:03:49.862Z"
   },
   {
    "duration": 181,
    "start_time": "2024-04-25T09:03:50.047Z"
   },
   {
    "duration": 16,
    "start_time": "2024-04-25T09:03:50.229Z"
   },
   {
    "duration": 214,
    "start_time": "2024-04-25T09:03:50.247Z"
   },
   {
    "duration": 35,
    "start_time": "2024-04-25T09:03:50.463Z"
   },
   {
    "duration": 131,
    "start_time": "2024-04-25T09:03:50.500Z"
   },
   {
    "duration": 225,
    "start_time": "2024-04-25T09:03:50.633Z"
   },
   {
    "duration": 149,
    "start_time": "2024-04-25T09:03:50.860Z"
   },
   {
    "duration": 167,
    "start_time": "2024-04-25T09:03:51.010Z"
   },
   {
    "duration": 163,
    "start_time": "2024-04-25T09:03:51.179Z"
   },
   {
    "duration": 186,
    "start_time": "2024-04-25T09:03:51.343Z"
   },
   {
    "duration": 8,
    "start_time": "2024-04-25T09:03:51.531Z"
   },
   {
    "duration": 276,
    "start_time": "2024-04-25T09:03:51.540Z"
   },
   {
    "duration": 19,
    "start_time": "2024-04-25T09:03:51.818Z"
   },
   {
    "duration": 245,
    "start_time": "2024-04-25T09:03:51.839Z"
   },
   {
    "duration": 25,
    "start_time": "2024-04-25T09:03:52.085Z"
   },
   {
    "duration": 57,
    "start_time": "2024-04-25T09:03:52.111Z"
   },
   {
    "duration": 205,
    "start_time": "2024-04-25T09:03:52.169Z"
   },
   {
    "duration": 177,
    "start_time": "2024-04-25T09:03:52.376Z"
   },
   {
    "duration": 24,
    "start_time": "2024-04-25T09:03:52.555Z"
   },
   {
    "duration": 3,
    "start_time": "2024-04-25T09:09:04.892Z"
   },
   {
    "duration": 3,
    "start_time": "2024-04-25T09:09:09.716Z"
   },
   {
    "duration": 184,
    "start_time": "2024-04-25T09:09:09.722Z"
   },
   {
    "duration": 14,
    "start_time": "2024-04-25T09:09:09.908Z"
   },
   {
    "duration": 37,
    "start_time": "2024-04-25T09:09:09.923Z"
   },
   {
    "duration": 17,
    "start_time": "2024-04-25T09:09:09.961Z"
   },
   {
    "duration": 38,
    "start_time": "2024-04-25T09:09:09.980Z"
   },
   {
    "duration": 80,
    "start_time": "2024-04-25T09:09:10.019Z"
   },
   {
    "duration": 18,
    "start_time": "2024-04-25T09:09:10.101Z"
   },
   {
    "duration": 36,
    "start_time": "2024-04-25T09:09:10.121Z"
   },
   {
    "duration": 38,
    "start_time": "2024-04-25T09:09:10.159Z"
   },
   {
    "duration": 22,
    "start_time": "2024-04-25T09:09:10.199Z"
   },
   {
    "duration": 24,
    "start_time": "2024-04-25T09:09:10.222Z"
   },
   {
    "duration": 52,
    "start_time": "2024-04-25T09:09:10.248Z"
   },
   {
    "duration": 56,
    "start_time": "2024-04-25T09:09:10.302Z"
   },
   {
    "duration": 5,
    "start_time": "2024-04-25T09:09:10.362Z"
   },
   {
    "duration": 19,
    "start_time": "2024-04-25T09:09:10.369Z"
   },
   {
    "duration": 12,
    "start_time": "2024-04-25T09:09:10.389Z"
   },
   {
    "duration": 45,
    "start_time": "2024-04-25T09:09:10.402Z"
   },
   {
    "duration": 33,
    "start_time": "2024-04-25T09:09:10.448Z"
   },
   {
    "duration": 26,
    "start_time": "2024-04-25T09:09:10.483Z"
   },
   {
    "duration": 56,
    "start_time": "2024-04-25T09:09:10.510Z"
   },
   {
    "duration": 12,
    "start_time": "2024-04-25T09:09:10.567Z"
   },
   {
    "duration": 25,
    "start_time": "2024-04-25T09:09:10.581Z"
   },
   {
    "duration": 16,
    "start_time": "2024-04-25T09:09:10.607Z"
   },
   {
    "duration": 14,
    "start_time": "2024-04-25T09:09:10.625Z"
   },
   {
    "duration": 18,
    "start_time": "2024-04-25T09:09:10.640Z"
   },
   {
    "duration": 21,
    "start_time": "2024-04-25T09:09:10.660Z"
   },
   {
    "duration": 15,
    "start_time": "2024-04-25T09:09:10.682Z"
   },
   {
    "duration": 21,
    "start_time": "2024-04-25T09:09:10.699Z"
   },
   {
    "duration": 211,
    "start_time": "2024-04-25T09:09:10.721Z"
   },
   {
    "duration": 9,
    "start_time": "2024-04-25T09:09:10.933Z"
   },
   {
    "duration": 196,
    "start_time": "2024-04-25T09:09:10.943Z"
   },
   {
    "duration": 268,
    "start_time": "2024-04-25T09:09:11.141Z"
   },
   {
    "duration": 181,
    "start_time": "2024-04-25T09:09:11.410Z"
   },
   {
    "duration": 15,
    "start_time": "2024-04-25T09:09:11.592Z"
   },
   {
    "duration": 43,
    "start_time": "2024-04-25T09:09:11.609Z"
   },
   {
    "duration": 26,
    "start_time": "2024-04-25T09:09:11.653Z"
   },
   {
    "duration": 133,
    "start_time": "2024-04-25T09:09:11.680Z"
   },
   {
    "duration": 143,
    "start_time": "2024-04-25T09:09:11.814Z"
   },
   {
    "duration": 157,
    "start_time": "2024-04-25T09:09:11.958Z"
   },
   {
    "duration": 162,
    "start_time": "2024-04-25T09:09:12.117Z"
   },
   {
    "duration": 162,
    "start_time": "2024-04-25T09:09:12.283Z"
   },
   {
    "duration": 187,
    "start_time": "2024-04-25T09:09:12.447Z"
   },
   {
    "duration": 8,
    "start_time": "2024-04-25T09:09:12.635Z"
   },
   {
    "duration": 292,
    "start_time": "2024-04-25T09:09:12.644Z"
   },
   {
    "duration": 19,
    "start_time": "2024-04-25T09:09:12.938Z"
   },
   {
    "duration": 200,
    "start_time": "2024-04-25T09:09:12.958Z"
   },
   {
    "duration": 30,
    "start_time": "2024-04-25T09:09:13.160Z"
   },
   {
    "duration": 42,
    "start_time": "2024-04-25T09:09:13.191Z"
   },
   {
    "duration": 183,
    "start_time": "2024-04-25T09:09:13.234Z"
   },
   {
    "duration": 258,
    "start_time": "2024-04-25T09:09:13.419Z"
   },
   {
    "duration": 17,
    "start_time": "2024-04-25T09:09:13.678Z"
   },
   {
    "duration": 13,
    "start_time": "2024-04-25T09:13:48.233Z"
   },
   {
    "duration": 8,
    "start_time": "2024-04-25T09:14:30.463Z"
   },
   {
    "duration": 10,
    "start_time": "2024-04-25T09:14:46.602Z"
   },
   {
    "duration": 1808,
    "start_time": "2024-04-25T09:19:24.435Z"
   },
   {
    "duration": 1782,
    "start_time": "2024-04-25T09:19:55.202Z"
   },
   {
    "duration": 1782,
    "start_time": "2024-04-25T09:20:49.306Z"
   },
   {
    "duration": 8,
    "start_time": "2024-04-25T09:22:17.884Z"
   },
   {
    "duration": 3,
    "start_time": "2024-04-25T09:22:30.515Z"
   },
   {
    "duration": 221,
    "start_time": "2024-04-25T09:22:30.520Z"
   },
   {
    "duration": 14,
    "start_time": "2024-04-25T09:22:30.743Z"
   },
   {
    "duration": 65,
    "start_time": "2024-04-25T09:22:30.759Z"
   },
   {
    "duration": 141,
    "start_time": "2024-04-25T09:22:30.826Z"
   },
   {
    "duration": 117,
    "start_time": "2024-04-25T09:22:30.968Z"
   },
   {
    "duration": 201,
    "start_time": "2024-04-25T09:22:31.087Z"
   },
   {
    "duration": 79,
    "start_time": "2024-04-25T09:22:31.290Z"
   },
   {
    "duration": 123,
    "start_time": "2024-04-25T09:22:31.371Z"
   },
   {
    "duration": 184,
    "start_time": "2024-04-25T09:22:31.495Z"
   },
   {
    "duration": 194,
    "start_time": "2024-04-25T09:22:31.681Z"
   },
   {
    "duration": 260,
    "start_time": "2024-04-25T09:22:31.877Z"
   },
   {
    "duration": 100,
    "start_time": "2024-04-25T09:22:32.138Z"
   },
   {
    "duration": 165,
    "start_time": "2024-04-25T09:22:32.240Z"
   },
   {
    "duration": 21,
    "start_time": "2024-04-25T09:22:32.406Z"
   },
   {
    "duration": 47,
    "start_time": "2024-04-25T09:22:32.428Z"
   },
   {
    "duration": 45,
    "start_time": "2024-04-25T09:22:32.477Z"
   },
   {
    "duration": 76,
    "start_time": "2024-04-25T09:22:32.523Z"
   },
   {
    "duration": 57,
    "start_time": "2024-04-25T09:22:32.600Z"
   },
   {
    "duration": 68,
    "start_time": "2024-04-25T09:22:32.658Z"
   },
   {
    "duration": 70,
    "start_time": "2024-04-25T09:22:32.728Z"
   },
   {
    "duration": 2021,
    "start_time": "2024-04-25T09:22:32.799Z"
   },
   {
    "duration": 8,
    "start_time": "2024-04-25T09:22:34.822Z"
   },
   {
    "duration": 22,
    "start_time": "2024-04-25T09:22:34.833Z"
   },
   {
    "duration": 25,
    "start_time": "2024-04-25T09:22:34.856Z"
   },
   {
    "duration": 10,
    "start_time": "2024-04-25T09:22:34.883Z"
   },
   {
    "duration": 40,
    "start_time": "2024-04-25T09:22:34.894Z"
   },
   {
    "duration": 44,
    "start_time": "2024-04-25T09:22:34.935Z"
   },
   {
    "duration": 35,
    "start_time": "2024-04-25T09:22:34.980Z"
   },
   {
    "duration": 89,
    "start_time": "2024-04-25T09:22:35.016Z"
   },
   {
    "duration": 187,
    "start_time": "2024-04-25T09:22:35.106Z"
   },
   {
    "duration": 8,
    "start_time": "2024-04-25T09:22:35.294Z"
   },
   {
    "duration": 239,
    "start_time": "2024-04-25T09:22:35.303Z"
   },
   {
    "duration": 179,
    "start_time": "2024-04-25T09:22:35.544Z"
   },
   {
    "duration": 174,
    "start_time": "2024-04-25T09:22:35.725Z"
   },
   {
    "duration": 15,
    "start_time": "2024-04-25T09:22:35.900Z"
   },
   {
    "duration": 53,
    "start_time": "2024-04-25T09:22:35.917Z"
   },
   {
    "duration": 40,
    "start_time": "2024-04-25T09:22:35.972Z"
   },
   {
    "duration": 179,
    "start_time": "2024-04-25T09:22:36.014Z"
   },
   {
    "duration": 142,
    "start_time": "2024-04-25T09:22:36.195Z"
   },
   {
    "duration": 146,
    "start_time": "2024-04-25T09:22:36.339Z"
   },
   {
    "duration": 169,
    "start_time": "2024-04-25T09:22:36.486Z"
   },
   {
    "duration": 159,
    "start_time": "2024-04-25T09:22:36.657Z"
   },
   {
    "duration": 264,
    "start_time": "2024-04-25T09:22:36.817Z"
   },
   {
    "duration": 9,
    "start_time": "2024-04-25T09:22:37.082Z"
   },
   {
    "duration": 281,
    "start_time": "2024-04-25T09:22:37.093Z"
   },
   {
    "duration": 20,
    "start_time": "2024-04-25T09:22:37.376Z"
   },
   {
    "duration": 207,
    "start_time": "2024-04-25T09:22:37.397Z"
   },
   {
    "duration": 24,
    "start_time": "2024-04-25T09:22:37.605Z"
   },
   {
    "duration": 28,
    "start_time": "2024-04-25T09:22:37.630Z"
   },
   {
    "duration": 190,
    "start_time": "2024-04-25T09:22:37.659Z"
   },
   {
    "duration": 195,
    "start_time": "2024-04-25T09:22:37.851Z"
   },
   {
    "duration": 17,
    "start_time": "2024-04-25T09:22:38.047Z"
   },
   {
    "duration": 16,
    "start_time": "2024-04-25T09:24:55.223Z"
   },
   {
    "duration": 3,
    "start_time": "2024-04-25T09:24:58.874Z"
   },
   {
    "duration": 163,
    "start_time": "2024-04-25T09:24:58.879Z"
   },
   {
    "duration": 15,
    "start_time": "2024-04-25T09:24:59.043Z"
   },
   {
    "duration": 91,
    "start_time": "2024-04-25T09:24:59.059Z"
   },
   {
    "duration": 40,
    "start_time": "2024-04-25T09:24:59.152Z"
   },
   {
    "duration": 23,
    "start_time": "2024-04-25T09:24:59.194Z"
   },
   {
    "duration": 33,
    "start_time": "2024-04-25T09:24:59.218Z"
   },
   {
    "duration": 23,
    "start_time": "2024-04-25T09:24:59.252Z"
   },
   {
    "duration": 50,
    "start_time": "2024-04-25T09:24:59.277Z"
   },
   {
    "duration": 35,
    "start_time": "2024-04-25T09:24:59.328Z"
   },
   {
    "duration": 18,
    "start_time": "2024-04-25T09:24:59.365Z"
   },
   {
    "duration": 10,
    "start_time": "2024-04-25T09:24:59.384Z"
   },
   {
    "duration": 47,
    "start_time": "2024-04-25T09:24:59.396Z"
   },
   {
    "duration": 33,
    "start_time": "2024-04-25T09:24:59.444Z"
   },
   {
    "duration": 17,
    "start_time": "2024-04-25T09:24:59.478Z"
   },
   {
    "duration": 43,
    "start_time": "2024-04-25T09:24:59.496Z"
   },
   {
    "duration": 25,
    "start_time": "2024-04-25T09:24:59.540Z"
   },
   {
    "duration": 40,
    "start_time": "2024-04-25T09:24:59.566Z"
   },
   {
    "duration": 47,
    "start_time": "2024-04-25T09:24:59.607Z"
   },
   {
    "duration": 28,
    "start_time": "2024-04-25T09:24:59.656Z"
   },
   {
    "duration": 29,
    "start_time": "2024-04-25T09:24:59.686Z"
   },
   {
    "duration": 1981,
    "start_time": "2024-04-25T09:24:59.716Z"
   },
   {
    "duration": 16,
    "start_time": "2024-04-25T09:25:01.699Z"
   },
   {
    "duration": 158,
    "start_time": "2024-04-25T09:25:01.717Z"
   },
   {
    "duration": 52,
    "start_time": "2024-04-25T09:25:01.877Z"
   },
   {
    "duration": 125,
    "start_time": "2024-04-25T09:25:01.930Z"
   },
   {
    "duration": 37,
    "start_time": "2024-04-25T09:25:02.057Z"
   },
   {
    "duration": 100,
    "start_time": "2024-04-25T09:25:02.095Z"
   },
   {
    "duration": 49,
    "start_time": "2024-04-25T09:25:02.198Z"
   },
   {
    "duration": 82,
    "start_time": "2024-04-25T09:25:02.249Z"
   },
   {
    "duration": 55,
    "start_time": "2024-04-25T09:25:02.332Z"
   },
   {
    "duration": 220,
    "start_time": "2024-04-25T09:25:02.389Z"
   },
   {
    "duration": 23,
    "start_time": "2024-04-25T09:25:02.611Z"
   },
   {
    "duration": 336,
    "start_time": "2024-04-25T09:25:02.635Z"
   },
   {
    "duration": 231,
    "start_time": "2024-04-25T09:25:02.972Z"
   },
   {
    "duration": 186,
    "start_time": "2024-04-25T09:25:03.204Z"
   },
   {
    "duration": 16,
    "start_time": "2024-04-25T09:25:03.391Z"
   },
   {
    "duration": 91,
    "start_time": "2024-04-25T09:25:03.408Z"
   },
   {
    "duration": 300,
    "start_time": "2024-04-25T09:25:03.500Z"
   },
   {
    "duration": 178,
    "start_time": "2024-04-25T09:25:03.801Z"
   },
   {
    "duration": 258,
    "start_time": "2024-04-25T09:25:03.980Z"
   },
   {
    "duration": 171,
    "start_time": "2024-04-25T09:25:04.240Z"
   },
   {
    "duration": 175,
    "start_time": "2024-04-25T09:25:04.412Z"
   },
   {
    "duration": 161,
    "start_time": "2024-04-25T09:25:04.588Z"
   },
   {
    "duration": 187,
    "start_time": "2024-04-25T09:25:04.750Z"
   },
   {
    "duration": 8,
    "start_time": "2024-04-25T09:25:04.938Z"
   },
   {
    "duration": 314,
    "start_time": "2024-04-25T09:25:04.947Z"
   },
   {
    "duration": 25,
    "start_time": "2024-04-25T09:25:05.262Z"
   },
   {
    "duration": 242,
    "start_time": "2024-04-25T09:25:05.289Z"
   },
   {
    "duration": 24,
    "start_time": "2024-04-25T09:25:05.533Z"
   },
   {
    "duration": 38,
    "start_time": "2024-04-25T09:25:05.558Z"
   },
   {
    "duration": 200,
    "start_time": "2024-04-25T09:25:05.598Z"
   },
   {
    "duration": 186,
    "start_time": "2024-04-25T09:25:05.799Z"
   },
   {
    "duration": 17,
    "start_time": "2024-04-25T09:25:05.987Z"
   },
   {
    "duration": 1774,
    "start_time": "2024-04-25T09:29:25.925Z"
   },
   {
    "duration": 3,
    "start_time": "2024-04-25T09:29:32.985Z"
   },
   {
    "duration": 211,
    "start_time": "2024-04-25T09:29:32.989Z"
   },
   {
    "duration": 15,
    "start_time": "2024-04-25T09:29:33.202Z"
   },
   {
    "duration": 30,
    "start_time": "2024-04-25T09:29:33.219Z"
   },
   {
    "duration": 21,
    "start_time": "2024-04-25T09:29:33.251Z"
   },
   {
    "duration": 24,
    "start_time": "2024-04-25T09:29:33.274Z"
   },
   {
    "duration": 30,
    "start_time": "2024-04-25T09:29:33.299Z"
   },
   {
    "duration": 15,
    "start_time": "2024-04-25T09:29:33.330Z"
   },
   {
    "duration": 20,
    "start_time": "2024-04-25T09:29:33.346Z"
   },
   {
    "duration": 24,
    "start_time": "2024-04-25T09:29:33.368Z"
   },
   {
    "duration": 18,
    "start_time": "2024-04-25T09:29:33.394Z"
   },
   {
    "duration": 4,
    "start_time": "2024-04-25T09:29:33.414Z"
   },
   {
    "duration": 33,
    "start_time": "2024-04-25T09:29:33.420Z"
   },
   {
    "duration": 30,
    "start_time": "2024-04-25T09:29:33.455Z"
   },
   {
    "duration": 32,
    "start_time": "2024-04-25T09:29:33.486Z"
   },
   {
    "duration": 42,
    "start_time": "2024-04-25T09:29:33.519Z"
   },
   {
    "duration": 16,
    "start_time": "2024-04-25T09:29:33.563Z"
   },
   {
    "duration": 26,
    "start_time": "2024-04-25T09:29:33.580Z"
   },
   {
    "duration": 29,
    "start_time": "2024-04-25T09:29:33.607Z"
   },
   {
    "duration": 5,
    "start_time": "2024-04-25T09:29:33.638Z"
   },
   {
    "duration": 28,
    "start_time": "2024-04-25T09:29:33.645Z"
   },
   {
    "duration": 1929,
    "start_time": "2024-04-25T09:29:33.675Z"
   },
   {
    "duration": 9,
    "start_time": "2024-04-25T09:29:35.606Z"
   },
   {
    "duration": 15,
    "start_time": "2024-04-25T09:29:35.616Z"
   },
   {
    "duration": 20,
    "start_time": "2024-04-25T09:29:35.633Z"
   },
   {
    "duration": 35,
    "start_time": "2024-04-25T09:29:35.654Z"
   },
   {
    "duration": 17,
    "start_time": "2024-04-25T09:29:35.690Z"
   },
   {
    "duration": 19,
    "start_time": "2024-04-25T09:29:35.711Z"
   },
   {
    "duration": 28,
    "start_time": "2024-04-25T09:29:35.732Z"
   },
   {
    "duration": 23,
    "start_time": "2024-04-25T09:29:35.762Z"
   },
   {
    "duration": 222,
    "start_time": "2024-04-25T09:29:35.786Z"
   },
   {
    "duration": 8,
    "start_time": "2024-04-25T09:29:36.010Z"
   },
   {
    "duration": 294,
    "start_time": "2024-04-25T09:29:36.020Z"
   },
   {
    "duration": 176,
    "start_time": "2024-04-25T09:29:36.316Z"
   },
   {
    "duration": 177,
    "start_time": "2024-04-25T09:29:36.494Z"
   },
   {
    "duration": 14,
    "start_time": "2024-04-25T09:29:36.674Z"
   },
   {
    "duration": 21,
    "start_time": "2024-04-25T09:29:36.689Z"
   },
   {
    "duration": 23,
    "start_time": "2024-04-25T09:29:36.711Z"
   },
   {
    "duration": 129,
    "start_time": "2024-04-25T09:29:36.735Z"
   },
   {
    "duration": 157,
    "start_time": "2024-04-25T09:29:36.866Z"
   },
   {
    "duration": 155,
    "start_time": "2024-04-25T09:29:37.024Z"
   },
   {
    "duration": 182,
    "start_time": "2024-04-25T09:29:37.181Z"
   },
   {
    "duration": 158,
    "start_time": "2024-04-25T09:29:37.364Z"
   },
   {
    "duration": 199,
    "start_time": "2024-04-25T09:29:37.523Z"
   },
   {
    "duration": 8,
    "start_time": "2024-04-25T09:29:37.723Z"
   },
   {
    "duration": 318,
    "start_time": "2024-04-25T09:29:37.732Z"
   },
   {
    "duration": 26,
    "start_time": "2024-04-25T09:29:38.051Z"
   },
   {
    "duration": 222,
    "start_time": "2024-04-25T09:29:38.078Z"
   },
   {
    "duration": 24,
    "start_time": "2024-04-25T09:29:38.302Z"
   },
   {
    "duration": 25,
    "start_time": "2024-04-25T09:29:38.328Z"
   },
   {
    "duration": 266,
    "start_time": "2024-04-25T09:29:38.355Z"
   },
   {
    "duration": 188,
    "start_time": "2024-04-25T09:29:38.623Z"
   },
   {
    "duration": 16,
    "start_time": "2024-04-25T09:29:38.812Z"
   },
   {
    "duration": 3071,
    "start_time": "2024-04-25T09:31:53.510Z"
   },
   {
    "duration": 3,
    "start_time": "2024-04-25T09:31:57.409Z"
   },
   {
    "duration": 159,
    "start_time": "2024-04-25T09:31:57.414Z"
   },
   {
    "duration": 16,
    "start_time": "2024-04-25T09:31:57.575Z"
   },
   {
    "duration": 9,
    "start_time": "2024-04-25T09:31:57.593Z"
   },
   {
    "duration": 16,
    "start_time": "2024-04-25T09:31:57.605Z"
   },
   {
    "duration": 21,
    "start_time": "2024-04-25T09:31:57.622Z"
   },
   {
    "duration": 74,
    "start_time": "2024-04-25T09:31:57.645Z"
   },
   {
    "duration": 15,
    "start_time": "2024-04-25T09:31:57.720Z"
   },
   {
    "duration": 32,
    "start_time": "2024-04-25T09:31:57.737Z"
   },
   {
    "duration": 43,
    "start_time": "2024-04-25T09:31:57.770Z"
   },
   {
    "duration": 20,
    "start_time": "2024-04-25T09:31:57.816Z"
   },
   {
    "duration": 19,
    "start_time": "2024-04-25T09:31:57.837Z"
   },
   {
    "duration": 34,
    "start_time": "2024-04-25T09:31:57.857Z"
   },
   {
    "duration": 25,
    "start_time": "2024-04-25T09:31:57.893Z"
   },
   {
    "duration": 29,
    "start_time": "2024-04-25T09:31:57.919Z"
   },
   {
    "duration": 20,
    "start_time": "2024-04-25T09:31:57.949Z"
   },
   {
    "duration": 13,
    "start_time": "2024-04-25T09:31:57.970Z"
   },
   {
    "duration": 17,
    "start_time": "2024-04-25T09:31:57.984Z"
   },
   {
    "duration": 27,
    "start_time": "2024-04-25T09:31:58.003Z"
   },
   {
    "duration": 5,
    "start_time": "2024-04-25T09:31:58.032Z"
   },
   {
    "duration": 42,
    "start_time": "2024-04-25T09:31:58.039Z"
   },
   {
    "duration": 3566,
    "start_time": "2024-04-25T09:31:58.083Z"
   },
   {
    "duration": 8,
    "start_time": "2024-04-25T09:32:01.650Z"
   },
   {
    "duration": 100,
    "start_time": "2024-04-25T09:32:01.659Z"
   },
   {
    "duration": 160,
    "start_time": "2024-04-25T09:32:01.760Z"
   },
   {
    "duration": 111,
    "start_time": "2024-04-25T09:32:01.922Z"
   },
   {
    "duration": 65,
    "start_time": "2024-04-25T09:32:02.035Z"
   },
   {
    "duration": 99,
    "start_time": "2024-04-25T09:32:02.101Z"
   },
   {
    "duration": 309,
    "start_time": "2024-04-25T09:32:02.203Z"
   },
   {
    "duration": 9,
    "start_time": "2024-04-25T09:32:02.514Z"
   },
   {
    "duration": 271,
    "start_time": "2024-04-25T09:32:02.524Z"
   },
   {
    "duration": 173,
    "start_time": "2024-04-25T09:32:02.797Z"
   },
   {
    "duration": 182,
    "start_time": "2024-04-25T09:32:02.972Z"
   },
   {
    "duration": 23,
    "start_time": "2024-04-25T09:32:03.156Z"
   },
   {
    "duration": 50,
    "start_time": "2024-04-25T09:32:03.180Z"
   },
   {
    "duration": 28,
    "start_time": "2024-04-25T09:32:03.232Z"
   },
   {
    "duration": 186,
    "start_time": "2024-04-25T09:32:03.262Z"
   },
   {
    "duration": 158,
    "start_time": "2024-04-25T09:32:03.450Z"
   },
   {
    "duration": 158,
    "start_time": "2024-04-25T09:32:03.610Z"
   },
   {
    "duration": 179,
    "start_time": "2024-04-25T09:32:03.774Z"
   },
   {
    "duration": 243,
    "start_time": "2024-04-25T09:32:03.955Z"
   },
   {
    "duration": 186,
    "start_time": "2024-04-25T09:32:04.200Z"
   },
   {
    "duration": 9,
    "start_time": "2024-04-25T09:32:04.388Z"
   },
   {
    "duration": 309,
    "start_time": "2024-04-25T09:32:04.398Z"
   },
   {
    "duration": 21,
    "start_time": "2024-04-25T09:32:04.708Z"
   },
   {
    "duration": 201,
    "start_time": "2024-04-25T09:32:04.730Z"
   },
   {
    "duration": 23,
    "start_time": "2024-04-25T09:32:04.932Z"
   },
   {
    "duration": 18,
    "start_time": "2024-04-25T09:32:04.957Z"
   },
   {
    "duration": 175,
    "start_time": "2024-04-25T09:32:04.977Z"
   },
   {
    "duration": 183,
    "start_time": "2024-04-25T09:32:05.154Z"
   },
   {
    "duration": 17,
    "start_time": "2024-04-25T09:32:05.338Z"
   },
   {
    "duration": 3,
    "start_time": "2024-04-25T12:03:50.922Z"
   },
   {
    "duration": 188,
    "start_time": "2024-04-25T12:03:50.927Z"
   },
   {
    "duration": 14,
    "start_time": "2024-04-25T12:03:51.117Z"
   },
   {
    "duration": 26,
    "start_time": "2024-04-25T12:03:51.133Z"
   },
   {
    "duration": 45,
    "start_time": "2024-04-25T12:03:51.162Z"
   },
   {
    "duration": 22,
    "start_time": "2024-04-25T12:03:51.209Z"
   },
   {
    "duration": 35,
    "start_time": "2024-04-25T12:03:51.232Z"
   },
   {
    "duration": 53,
    "start_time": "2024-04-25T12:03:51.268Z"
   },
   {
    "duration": 67,
    "start_time": "2024-04-25T12:03:51.323Z"
   },
   {
    "duration": 26,
    "start_time": "2024-04-25T12:03:51.392Z"
   },
   {
    "duration": 31,
    "start_time": "2024-04-25T12:03:51.421Z"
   },
   {
    "duration": 8,
    "start_time": "2024-04-25T12:03:51.454Z"
   },
   {
    "duration": 37,
    "start_time": "2024-04-25T12:03:51.464Z"
   },
   {
    "duration": 40,
    "start_time": "2024-04-25T12:03:51.503Z"
   },
   {
    "duration": 5,
    "start_time": "2024-04-25T12:03:51.545Z"
   },
   {
    "duration": 29,
    "start_time": "2024-04-25T12:03:51.552Z"
   },
   {
    "duration": 5,
    "start_time": "2024-04-25T12:03:51.583Z"
   },
   {
    "duration": 16,
    "start_time": "2024-04-25T12:03:51.590Z"
   },
   {
    "duration": 31,
    "start_time": "2024-04-25T12:03:51.608Z"
   },
   {
    "duration": 5,
    "start_time": "2024-04-25T12:03:51.641Z"
   },
   {
    "duration": 41,
    "start_time": "2024-04-25T12:03:51.647Z"
   },
   {
    "duration": 3276,
    "start_time": "2024-04-25T12:03:51.689Z"
   },
   {
    "duration": 12,
    "start_time": "2024-04-25T12:03:54.967Z"
   },
   {
    "duration": 31,
    "start_time": "2024-04-25T12:03:54.981Z"
   },
   {
    "duration": 75,
    "start_time": "2024-04-25T12:03:55.014Z"
   },
   {
    "duration": 93,
    "start_time": "2024-04-25T12:03:55.091Z"
   },
   {
    "duration": 37,
    "start_time": "2024-04-25T12:03:55.185Z"
   },
   {
    "duration": 47,
    "start_time": "2024-04-25T12:03:55.223Z"
   },
   {
    "duration": 205,
    "start_time": "2024-04-25T12:03:55.273Z"
   },
   {
    "duration": 8,
    "start_time": "2024-04-25T12:03:55.480Z"
   },
   {
    "duration": 193,
    "start_time": "2024-04-25T12:03:55.489Z"
   },
   {
    "duration": 171,
    "start_time": "2024-04-25T12:03:55.684Z"
   },
   {
    "duration": 185,
    "start_time": "2024-04-25T12:03:55.856Z"
   },
   {
    "duration": 18,
    "start_time": "2024-04-25T12:03:56.043Z"
   },
   {
    "duration": 31,
    "start_time": "2024-04-25T12:03:56.075Z"
   },
   {
    "duration": 25,
    "start_time": "2024-04-25T12:03:56.108Z"
   },
   {
    "duration": 241,
    "start_time": "2024-04-25T12:03:56.134Z"
   },
   {
    "duration": 159,
    "start_time": "2024-04-25T12:03:56.376Z"
   },
   {
    "duration": 177,
    "start_time": "2024-04-25T12:03:56.536Z"
   },
   {
    "duration": 165,
    "start_time": "2024-04-25T12:03:56.715Z"
   },
   {
    "duration": 165,
    "start_time": "2024-04-25T12:03:56.882Z"
   },
   {
    "duration": 206,
    "start_time": "2024-04-25T12:03:57.049Z"
   },
   {
    "duration": 21,
    "start_time": "2024-04-25T12:03:57.257Z"
   },
   {
    "duration": 297,
    "start_time": "2024-04-25T12:03:57.280Z"
   },
   {
    "duration": 21,
    "start_time": "2024-04-25T12:03:57.578Z"
   },
   {
    "duration": 245,
    "start_time": "2024-04-25T12:03:57.600Z"
   },
   {
    "duration": 29,
    "start_time": "2024-04-25T12:03:57.847Z"
   },
   {
    "duration": 17,
    "start_time": "2024-04-25T12:03:57.877Z"
   },
   {
    "duration": 200,
    "start_time": "2024-04-25T12:03:57.895Z"
   },
   {
    "duration": 189,
    "start_time": "2024-04-25T12:03:58.097Z"
   },
   {
    "duration": 17,
    "start_time": "2024-04-25T12:03:58.287Z"
   },
   {
    "duration": 7,
    "start_time": "2024-04-25T12:06:08.351Z"
   },
   {
    "duration": 6,
    "start_time": "2024-04-25T12:06:17.338Z"
   },
   {
    "duration": 6,
    "start_time": "2024-04-25T12:06:26.570Z"
   },
   {
    "duration": 5,
    "start_time": "2024-04-25T12:07:42.942Z"
   },
   {
    "duration": 5,
    "start_time": "2024-04-25T12:08:28.490Z"
   },
   {
    "duration": 4,
    "start_time": "2024-04-25T12:08:42.354Z"
   },
   {
    "duration": 3,
    "start_time": "2024-04-25T12:08:48.323Z"
   },
   {
    "duration": 145,
    "start_time": "2024-04-25T12:08:48.328Z"
   },
   {
    "duration": 14,
    "start_time": "2024-04-25T12:08:48.475Z"
   },
   {
    "duration": 12,
    "start_time": "2024-04-25T12:08:48.490Z"
   },
   {
    "duration": 12,
    "start_time": "2024-04-25T12:08:48.504Z"
   },
   {
    "duration": 39,
    "start_time": "2024-04-25T12:08:48.517Z"
   },
   {
    "duration": 55,
    "start_time": "2024-04-25T12:08:48.557Z"
   },
   {
    "duration": 17,
    "start_time": "2024-04-25T12:08:48.613Z"
   },
   {
    "duration": 32,
    "start_time": "2024-04-25T12:08:48.632Z"
   },
   {
    "duration": 23,
    "start_time": "2024-04-25T12:08:48.666Z"
   },
   {
    "duration": 38,
    "start_time": "2024-04-25T12:08:48.691Z"
   },
   {
    "duration": 17,
    "start_time": "2024-04-25T12:08:48.731Z"
   },
   {
    "duration": 30,
    "start_time": "2024-04-25T12:08:48.749Z"
   },
   {
    "duration": 52,
    "start_time": "2024-04-25T12:08:48.781Z"
   },
   {
    "duration": 36,
    "start_time": "2024-04-25T12:08:48.834Z"
   },
   {
    "duration": 52,
    "start_time": "2024-04-25T12:08:48.871Z"
   },
   {
    "duration": 32,
    "start_time": "2024-04-25T12:08:48.925Z"
   },
   {
    "duration": 18,
    "start_time": "2024-04-25T12:08:48.958Z"
   },
   {
    "duration": 48,
    "start_time": "2024-04-25T12:08:48.977Z"
   },
   {
    "duration": 13,
    "start_time": "2024-04-25T12:08:49.026Z"
   },
   {
    "duration": 33,
    "start_time": "2024-04-25T12:08:49.040Z"
   },
   {
    "duration": 3460,
    "start_time": "2024-04-25T12:08:49.075Z"
   },
   {
    "duration": 8,
    "start_time": "2024-04-25T12:08:52.537Z"
   },
   {
    "duration": 58,
    "start_time": "2024-04-25T12:08:52.547Z"
   },
   {
    "duration": 48,
    "start_time": "2024-04-25T12:08:52.607Z"
   },
   {
    "duration": 32,
    "start_time": "2024-04-25T12:08:52.656Z"
   },
   {
    "duration": 69,
    "start_time": "2024-04-25T12:08:52.690Z"
   },
   {
    "duration": 71,
    "start_time": "2024-04-25T12:08:52.760Z"
   },
   {
    "duration": 230,
    "start_time": "2024-04-25T12:08:52.834Z"
   },
   {
    "duration": 10,
    "start_time": "2024-04-25T12:08:53.066Z"
   },
   {
    "duration": 37,
    "start_time": "2024-04-25T12:08:53.077Z"
   },
   {
    "duration": 245,
    "start_time": "2024-04-25T12:08:53.116Z"
   },
   {
    "duration": 190,
    "start_time": "2024-04-25T12:08:53.363Z"
   },
   {
    "duration": 187,
    "start_time": "2024-04-25T12:08:53.555Z"
   },
   {
    "duration": 16,
    "start_time": "2024-04-25T12:08:53.743Z"
   },
   {
    "duration": 44,
    "start_time": "2024-04-25T12:08:53.761Z"
   },
   {
    "duration": 65,
    "start_time": "2024-04-25T12:08:53.807Z"
   },
   {
    "duration": 171,
    "start_time": "2024-04-25T12:08:53.873Z"
   },
   {
    "duration": 151,
    "start_time": "2024-04-25T12:08:54.046Z"
   },
   {
    "duration": 164,
    "start_time": "2024-04-25T12:08:54.199Z"
   },
   {
    "duration": 177,
    "start_time": "2024-04-25T12:08:54.364Z"
   },
   {
    "duration": 154,
    "start_time": "2024-04-25T12:08:54.543Z"
   },
   {
    "duration": 189,
    "start_time": "2024-04-25T12:08:54.698Z"
   },
   {
    "duration": 10,
    "start_time": "2024-04-25T12:08:54.888Z"
   },
   {
    "duration": 290,
    "start_time": "2024-04-25T12:08:54.900Z"
   },
   {
    "duration": 21,
    "start_time": "2024-04-25T12:08:55.192Z"
   },
   {
    "duration": 301,
    "start_time": "2024-04-25T12:08:55.214Z"
   },
   {
    "duration": 24,
    "start_time": "2024-04-25T12:08:55.516Z"
   },
   {
    "duration": 29,
    "start_time": "2024-04-25T12:08:55.542Z"
   },
   {
    "duration": 186,
    "start_time": "2024-04-25T12:08:55.573Z"
   },
   {
    "duration": 179,
    "start_time": "2024-04-25T12:08:55.761Z"
   },
   {
    "duration": 16,
    "start_time": "2024-04-25T12:08:55.942Z"
   },
   {
    "duration": 5,
    "start_time": "2024-04-25T12:10:25.264Z"
   },
   {
    "duration": 9,
    "start_time": "2024-04-25T12:10:43.721Z"
   },
   {
    "duration": 115,
    "start_time": "2024-04-25T12:12:40.465Z"
   },
   {
    "duration": 1371,
    "start_time": "2024-04-25T12:15:38.416Z"
   },
   {
    "duration": 8,
    "start_time": "2024-04-25T12:15:48.579Z"
   },
   {
    "duration": 151,
    "start_time": "2024-04-25T12:19:04.352Z"
   },
   {
    "duration": 204,
    "start_time": "2024-04-25T12:19:15.799Z"
   },
   {
    "duration": 205,
    "start_time": "2024-04-25T12:19:29.387Z"
   },
   {
    "duration": 179,
    "start_time": "2024-04-25T12:19:53.656Z"
   },
   {
    "duration": 210,
    "start_time": "2024-04-25T12:19:58.413Z"
   },
   {
    "duration": 189,
    "start_time": "2024-04-25T12:20:04.484Z"
   },
   {
    "duration": 72,
    "start_time": "2024-04-25T12:23:00.674Z"
   },
   {
    "duration": 140,
    "start_time": "2024-04-25T12:23:05.799Z"
   },
   {
    "duration": 173,
    "start_time": "2024-04-25T12:23:18.950Z"
   },
   {
    "duration": 333,
    "start_time": "2024-04-25T12:23:39.035Z"
   },
   {
    "duration": 224,
    "start_time": "2024-04-25T12:24:08.575Z"
   },
   {
    "duration": 241,
    "start_time": "2024-04-25T12:24:21.478Z"
   },
   {
    "duration": 238,
    "start_time": "2024-04-25T12:24:34.858Z"
   },
   {
    "duration": 252,
    "start_time": "2024-04-25T12:26:14.707Z"
   },
   {
    "duration": 374,
    "start_time": "2024-04-25T12:26:59.801Z"
   },
   {
    "duration": 239,
    "start_time": "2024-04-25T12:27:06.247Z"
   },
   {
    "duration": 232,
    "start_time": "2024-04-25T12:27:19.695Z"
   },
   {
    "duration": 228,
    "start_time": "2024-04-25T12:28:10.839Z"
   },
   {
    "duration": 246,
    "start_time": "2024-04-25T12:48:32.108Z"
   },
   {
    "duration": 240,
    "start_time": "2024-04-25T12:49:07.804Z"
   },
   {
    "duration": 381,
    "start_time": "2024-04-25T12:49:10.896Z"
   },
   {
    "duration": 252,
    "start_time": "2024-04-25T12:57:03.828Z"
   },
   {
    "duration": 25,
    "start_time": "2024-04-25T12:58:10.893Z"
   },
   {
    "duration": 215,
    "start_time": "2024-04-25T12:58:42.207Z"
   },
   {
    "duration": 119,
    "start_time": "2024-04-25T12:59:12.386Z"
   },
   {
    "duration": 226,
    "start_time": "2024-04-25T12:59:19.328Z"
   },
   {
    "duration": 298,
    "start_time": "2024-04-25T12:59:33.756Z"
   },
   {
    "duration": 221,
    "start_time": "2024-04-25T12:59:41.498Z"
   },
   {
    "duration": 136,
    "start_time": "2024-04-25T13:00:17.440Z"
   },
   {
    "duration": 1197,
    "start_time": "2024-04-25T13:00:27.423Z"
   },
   {
    "duration": 1191,
    "start_time": "2024-04-25T13:00:32.822Z"
   },
   {
    "duration": 310,
    "start_time": "2024-04-25T13:00:38.114Z"
   },
   {
    "duration": 220,
    "start_time": "2024-04-25T13:00:48.259Z"
   },
   {
    "duration": 222,
    "start_time": "2024-04-25T13:00:52.498Z"
   },
   {
    "duration": 683,
    "start_time": "2024-04-26T09:27:40.431Z"
   },
   {
    "duration": 417,
    "start_time": "2024-04-26T09:27:41.116Z"
   },
   {
    "duration": 17,
    "start_time": "2024-04-26T09:27:41.535Z"
   },
   {
    "duration": 10,
    "start_time": "2024-04-26T09:27:41.554Z"
   },
   {
    "duration": 9,
    "start_time": "2024-04-26T09:27:41.566Z"
   },
   {
    "duration": 19,
    "start_time": "2024-04-26T09:27:41.576Z"
   },
   {
    "duration": 34,
    "start_time": "2024-04-26T09:27:41.596Z"
   },
   {
    "duration": 15,
    "start_time": "2024-04-26T09:27:41.632Z"
   },
   {
    "duration": 67,
    "start_time": "2024-04-26T09:27:41.649Z"
   },
   {
    "duration": 25,
    "start_time": "2024-04-26T09:27:41.719Z"
   },
   {
    "duration": 39,
    "start_time": "2024-04-26T09:27:41.746Z"
   },
   {
    "duration": 6,
    "start_time": "2024-04-26T09:27:41.787Z"
   },
   {
    "duration": 25,
    "start_time": "2024-04-26T09:27:41.794Z"
   },
   {
    "duration": 19,
    "start_time": "2024-04-26T09:27:41.822Z"
   },
   {
    "duration": 32,
    "start_time": "2024-04-26T09:27:41.843Z"
   },
   {
    "duration": 26,
    "start_time": "2024-04-26T09:27:41.877Z"
   },
   {
    "duration": 45,
    "start_time": "2024-04-26T09:27:41.905Z"
   },
   {
    "duration": 28,
    "start_time": "2024-04-26T09:27:41.951Z"
   },
   {
    "duration": 30,
    "start_time": "2024-04-26T09:27:41.981Z"
   },
   {
    "duration": 4,
    "start_time": "2024-04-26T09:27:42.013Z"
   },
   {
    "duration": 38,
    "start_time": "2024-04-26T09:27:42.018Z"
   },
   {
    "duration": 3648,
    "start_time": "2024-04-26T09:27:42.058Z"
   },
   {
    "duration": 9,
    "start_time": "2024-04-26T09:27:45.707Z"
   },
   {
    "duration": 27,
    "start_time": "2024-04-26T09:27:45.717Z"
   },
   {
    "duration": 32,
    "start_time": "2024-04-26T09:27:45.746Z"
   },
   {
    "duration": 33,
    "start_time": "2024-04-26T09:27:45.779Z"
   },
   {
    "duration": 16,
    "start_time": "2024-04-26T09:27:45.813Z"
   },
   {
    "duration": 16,
    "start_time": "2024-04-26T09:27:45.833Z"
   },
   {
    "duration": 237,
    "start_time": "2024-04-26T09:27:45.851Z"
   },
   {
    "duration": 10,
    "start_time": "2024-04-26T09:27:46.090Z"
   },
   {
    "duration": 13,
    "start_time": "2024-04-26T09:27:46.102Z"
   },
   {
    "duration": 150,
    "start_time": "2024-04-26T09:27:46.117Z"
   },
   {
    "duration": 220,
    "start_time": "2024-04-26T09:27:46.269Z"
   },
   {
    "duration": 208,
    "start_time": "2024-04-26T09:27:46.491Z"
   },
   {
    "duration": 252,
    "start_time": "2024-04-26T09:27:46.701Z"
   },
   {
    "duration": 21,
    "start_time": "2024-04-26T09:27:46.955Z"
   },
   {
    "duration": 20,
    "start_time": "2024-04-26T09:27:46.978Z"
   },
   {
    "duration": 29,
    "start_time": "2024-04-26T09:27:46.999Z"
   },
   {
    "duration": 169,
    "start_time": "2024-04-26T09:27:47.030Z"
   },
   {
    "duration": 180,
    "start_time": "2024-04-26T09:27:47.201Z"
   },
   {
    "duration": 179,
    "start_time": "2024-04-26T09:27:47.383Z"
   },
   {
    "duration": 184,
    "start_time": "2024-04-26T09:27:47.565Z"
   },
   {
    "duration": 192,
    "start_time": "2024-04-26T09:27:47.752Z"
   },
   {
    "duration": 239,
    "start_time": "2024-04-26T09:27:47.947Z"
   },
   {
    "duration": 271,
    "start_time": "2024-04-26T09:27:48.188Z"
   },
   {
    "duration": 253,
    "start_time": "2024-04-26T09:27:48.461Z"
   },
   {
    "duration": 363,
    "start_time": "2024-04-26T09:27:48.715Z"
   },
   {
    "duration": 10,
    "start_time": "2024-04-26T09:27:49.079Z"
   },
   {
    "duration": 297,
    "start_time": "2024-04-26T09:27:49.091Z"
   },
   {
    "duration": 0,
    "start_time": "2024-04-26T09:27:49.389Z"
   },
   {
    "duration": 0,
    "start_time": "2024-04-26T09:27:49.393Z"
   },
   {
    "duration": 0,
    "start_time": "2024-04-26T09:27:49.395Z"
   },
   {
    "duration": 0,
    "start_time": "2024-04-26T09:27:49.397Z"
   },
   {
    "duration": 0,
    "start_time": "2024-04-26T09:27:49.398Z"
   },
   {
    "duration": 0,
    "start_time": "2024-04-26T09:27:49.400Z"
   },
   {
    "duration": 0,
    "start_time": "2024-04-26T09:27:49.401Z"
   },
   {
    "duration": 8,
    "start_time": "2024-04-26T09:30:33.871Z"
   },
   {
    "duration": 655,
    "start_time": "2024-04-30T19:39:16.277Z"
   },
   {
    "duration": 294,
    "start_time": "2024-04-30T19:39:16.934Z"
   },
   {
    "duration": 15,
    "start_time": "2024-04-30T19:39:17.230Z"
   },
   {
    "duration": 10,
    "start_time": "2024-04-30T19:39:17.247Z"
   },
   {
    "duration": 13,
    "start_time": "2024-04-30T19:39:17.259Z"
   },
   {
    "duration": 14,
    "start_time": "2024-04-30T19:39:17.273Z"
   },
   {
    "duration": 32,
    "start_time": "2024-04-30T19:39:17.288Z"
   },
   {
    "duration": 14,
    "start_time": "2024-04-30T19:39:17.322Z"
   },
   {
    "duration": 76,
    "start_time": "2024-04-30T19:39:17.338Z"
   },
   {
    "duration": 24,
    "start_time": "2024-04-30T19:39:17.415Z"
   },
   {
    "duration": 40,
    "start_time": "2024-04-30T19:39:17.440Z"
   },
   {
    "duration": 5,
    "start_time": "2024-04-30T19:39:17.481Z"
   },
   {
    "duration": 22,
    "start_time": "2024-04-30T19:39:17.488Z"
   },
   {
    "duration": 51,
    "start_time": "2024-04-30T19:39:17.513Z"
   },
   {
    "duration": 4,
    "start_time": "2024-04-30T19:39:17.566Z"
   },
   {
    "duration": 12,
    "start_time": "2024-04-30T19:39:17.571Z"
   },
   {
    "duration": 15,
    "start_time": "2024-04-30T19:39:17.584Z"
   },
   {
    "duration": 22,
    "start_time": "2024-04-30T19:39:17.601Z"
   },
   {
    "duration": 48,
    "start_time": "2024-04-30T19:39:17.625Z"
   },
   {
    "duration": 4,
    "start_time": "2024-04-30T19:39:17.675Z"
   },
   {
    "duration": 34,
    "start_time": "2024-04-30T19:39:17.680Z"
   },
   {
    "duration": 3557,
    "start_time": "2024-04-30T19:39:17.716Z"
   },
   {
    "duration": 8,
    "start_time": "2024-04-30T19:39:21.275Z"
   },
   {
    "duration": 23,
    "start_time": "2024-04-30T19:39:21.285Z"
   },
   {
    "duration": 5,
    "start_time": "2024-04-30T19:39:21.310Z"
   },
   {
    "duration": 6,
    "start_time": "2024-04-30T19:39:21.316Z"
   },
   {
    "duration": 38,
    "start_time": "2024-04-30T19:39:21.324Z"
   },
   {
    "duration": 14,
    "start_time": "2024-04-30T19:39:21.363Z"
   },
   {
    "duration": 253,
    "start_time": "2024-04-30T19:39:21.379Z"
   },
   {
    "duration": 9,
    "start_time": "2024-04-30T19:39:21.634Z"
   },
   {
    "duration": 17,
    "start_time": "2024-04-30T19:39:21.645Z"
   },
   {
    "duration": 129,
    "start_time": "2024-04-30T19:39:21.664Z"
   },
   {
    "duration": 226,
    "start_time": "2024-04-30T19:39:21.794Z"
   },
   {
    "duration": 237,
    "start_time": "2024-04-30T19:39:22.021Z"
   },
   {
    "duration": 189,
    "start_time": "2024-04-30T19:39:22.261Z"
   },
   {
    "duration": 16,
    "start_time": "2024-04-30T19:39:22.451Z"
   },
   {
    "duration": 22,
    "start_time": "2024-04-30T19:39:22.468Z"
   },
   {
    "duration": 24,
    "start_time": "2024-04-30T19:39:22.491Z"
   },
   {
    "duration": 161,
    "start_time": "2024-04-30T19:39:22.516Z"
   },
   {
    "duration": 184,
    "start_time": "2024-04-30T19:39:22.679Z"
   },
   {
    "duration": 176,
    "start_time": "2024-04-30T19:39:22.868Z"
   },
   {
    "duration": 189,
    "start_time": "2024-04-30T19:39:23.046Z"
   },
   {
    "duration": 177,
    "start_time": "2024-04-30T19:39:23.236Z"
   },
   {
    "duration": 207,
    "start_time": "2024-04-30T19:39:23.415Z"
   },
   {
    "duration": 278,
    "start_time": "2024-04-30T19:39:23.623Z"
   },
   {
    "duration": 315,
    "start_time": "2024-04-30T19:39:23.903Z"
   },
   {
    "duration": 291,
    "start_time": "2024-04-30T19:39:24.220Z"
   },
   {
    "duration": 11,
    "start_time": "2024-04-30T19:39:24.513Z"
   },
   {
    "duration": 303,
    "start_time": "2024-04-30T19:39:24.527Z"
   },
   {
    "duration": 0,
    "start_time": "2024-04-30T19:39:24.831Z"
   },
   {
    "duration": 0,
    "start_time": "2024-04-30T19:39:24.833Z"
   },
   {
    "duration": 0,
    "start_time": "2024-04-30T19:39:24.834Z"
   },
   {
    "duration": 0,
    "start_time": "2024-04-30T19:39:24.835Z"
   },
   {
    "duration": 0,
    "start_time": "2024-04-30T19:39:24.836Z"
   },
   {
    "duration": 0,
    "start_time": "2024-04-30T19:39:24.837Z"
   },
   {
    "duration": 0,
    "start_time": "2024-04-30T19:39:24.839Z"
   }
  ],
  "colab": {
   "name": "DA+. Сборный проект 1. Шаблон (1).ipynb",
   "provenance": []
  },
  "kernelspec": {
   "display_name": "Python 3 (ipykernel)",
   "language": "python",
   "name": "python3"
  },
  "language_info": {
   "codemirror_mode": {
    "name": "ipython",
    "version": 3
   },
   "file_extension": ".py",
   "mimetype": "text/x-python",
   "name": "python",
   "nbconvert_exporter": "python",
   "pygments_lexer": "ipython3",
   "version": "3.9.5"
  },
  "toc": {
   "base_numbering": 1,
   "nav_menu": {},
   "number_sections": true,
   "sideBar": true,
   "skip_h1_title": true,
   "title_cell": "Table of Contents",
   "title_sidebar": "Contents",
   "toc_cell": false,
   "toc_position": {
    "height": "calc(100% - 180px)",
    "left": "10px",
    "top": "150px",
    "width": "375.391px"
   },
   "toc_section_display": true,
   "toc_window_display": false
  }
 },
 "nbformat": 4,
 "nbformat_minor": 1
}
